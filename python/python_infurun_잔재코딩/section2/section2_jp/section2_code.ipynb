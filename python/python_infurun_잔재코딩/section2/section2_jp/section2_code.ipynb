{
 "cells": [
  {
   "cell_type": "code",
   "execution_count": 1,
   "id": "ecbeed43-71bd-4294-a62a-0b115c60ce1e",
   "metadata": {},
   "outputs": [
    {
     "name": "stdout",
     "output_type": "stream",
     "text": [
      "computer\n"
     ]
    }
   ],
   "source": [
    "# section2\n",
    "\n",
    "\n",
    "some_string = \"   computer \"\n",
    "\n",
    "# 両サイドの空白を除去\n",
    "\n",
    "print(some_string.strip())"
   ]
  },
  {
   "cell_type": "code",
   "execution_count": 3,
   "id": "e13c3db5-4c98-43e1-b917-0d10d21ec2d1",
   "metadata": {},
   "outputs": [
    {
     "name": "stdout",
     "output_type": "stream",
     "text": [
      "<class 'int'>\n",
      "<class 'str'>\n"
     ]
    }
   ],
   "source": [
    "# タイプ変換\n",
    "\n",
    "string = \"720\"\n",
    "\n",
    "num = 720\n",
    "\n",
    "print(type(int(string)))\n",
    "\n",
    "print(type(str(num)))"
   ]
  },
  {
   "cell_type": "code",
   "execution_count": 5,
   "id": "764e6bb6-ebe6-4297-93d4-37fb2354d55f",
   "metadata": {},
   "outputs": [
    {
     "name": "stdout",
     "output_type": "stream",
     "text": [
      "Requirement already satisfied: numpy in c:\\users\\zxcc9\\appdata\\local\\programs\\python\\python310\\lib\\site-packages (2.1.0)\n",
      "Note: you may need to restart the kernel to use updated packages.\n"
     ]
    }
   ],
   "source": [
    "pip install numpy"
   ]
  },
  {
   "cell_type": "code",
   "execution_count": 27,
   "id": "c7cb944e-1dde-439e-9803-b7d7fdf0b980",
   "metadata": {},
   "outputs": [
    {
     "name": "stdout",
     "output_type": "stream",
     "text": [
      "[3 7 9]\n",
      "[[ 0  1  2]\n",
      " [ 3  4  5]\n",
      " [ 6  7  8]\n",
      " [ 9 10 11]]\n",
      "[[0. 0. 0. 0.]\n",
      " [0. 0. 0. 0.]\n",
      " [0. 0. 0. 0.]]\n",
      "30\n"
     ]
    }
   ],
   "source": [
    "import numpy as np\n",
    "\n",
    "arr = np.array([1,2,3])\n",
    "\n",
    "arr2 = np.array([2,5,6])\n",
    "\n",
    "print(arr+arr2)\n",
    "\n",
    "arr3 = np.arange(12).reshape(4,3)\n",
    "\n",
    "print(arr3)\n",
    "\n",
    "print(np.zeros([3, 4]))  # 2次元形態のゼロ配列生成\n",
    "\n",
    "# 行列積\n",
    "\n",
    "print(arr@arr2) "
   ]
  },
  {
   "cell_type": "markdown",
   "id": "d3b84b32-a43b-44ee-bbc8-5d3ffcd5d878",
   "metadata": {},
   "source": [
    "## リスト\n",
    "\n",
    "### リスト宣言方法\n",
    "\n",
    "- リスト 変数 = [ ]\n",
    "- リスト 変数 = list()\n",
    "- リスト変数 = [データ1、データ2 ]\n",
    "\n",
    "# リスト追加\n",
    "\n",
    "- リスト変数.append(データ)\n",
    "- リスト変数。insert（インデックス番号、データ）\n",
    "\n",
    "### リスト削除\n",
    "\n",
    "- リスト変数.remove(データ)\n",
    "- del リスト変数[インデックス番号]\n",
    "\n",
    "### リストデータ修正\n",
    "\n",
    "- リスト変数[インデックス番号]=修正するデータ"
   ]
  },
  {
   "cell_type": "code",
   "execution_count": 26,
   "id": "4668441c-9475-41ba-8f1c-acb719da65b6",
   "metadata": {},
   "outputs": [
    {
     "name": "stdout",
     "output_type": "stream",
     "text": [
      "[3, 4, 1, 2]\n",
      "[1, 2, 3, 4]\n"
     ]
    }
   ],
   "source": [
    "# リスト逆順整列\n",
    "\n",
    "numbers = [2,1,4,3]\n",
    "\n",
    "numbers.reverse()  # 本来の関数値を変える。\n",
    "\n",
    "print(numbers)\n",
    "\n",
    "# 変数整列\n",
    "\n",
    "numbers.sort()  # 元の関数値を変えるので、別に変数に代入する必要がない\n",
    "\n",
    "print(numbers)"
   ]
  },
  {
   "cell_type": "code",
   "execution_count": 21,
   "id": "a2af9738-9fcb-4e98-9a19-d84db5d58e0d",
   "metadata": {},
   "outputs": [
    {
     "name": "stdout",
     "output_type": "stream",
     "text": [
      "['python', ' is easy']\n"
     ]
    }
   ],
   "source": [
    "# スプリット関数\n",
    "\n",
    "str = \"python, is easy\"\n",
    "\n",
    "print(str.split(\",\"))  # ,を基準に文字列を分けるという意味"
   ]
  },
  {
   "cell_type": "markdown",
   "id": "bdcf47cb-cfd7-41de-ae71-71a4ed0854ec",
   "metadata": {},
   "source": [
    "## IF statement\n",
    "\n",
    "if - elif - else\n",
    "\n",
    "- if condition 1 and condition 2 :\n",
    "- if condition 1 or condition 2 :\n",
    "- if not condtion\n",
    "\n",
    "\n"
   ]
  },
  {
   "cell_type": "code",
   "execution_count": 30,
   "id": "1e90d2b9-d235-4540-ab39-b7f4b6a8e7de",
   "metadata": {},
   "outputs": [
    {
     "name": "stdout",
     "output_type": "stream",
     "text": [
      "00000\t12345\n"
     ]
    }
   ],
   "source": [
    "string1 = '00000\\t12345'\n",
    "\n",
    "# \\t -> tab \n",
    "\n",
    "print(string1)"
   ]
  },
  {
   "cell_type": "code",
   "execution_count": 39,
   "id": "fbd303d4-f78a-4fdb-be15-229b012a9107",
   "metadata": {},
   "outputs": [
    {
     "name": "stdout",
     "output_type": "stream",
     "text": [
      "숫자를 입력하세요. :  20\n",
      "숫자를 입력하세요. :  30\n"
     ]
    },
    {
     "name": "stdout",
     "output_type": "stream",
     "text": [
      "max number 30\n",
      "sum number 50\n",
      "max number 30\n"
     ]
    }
   ],
   "source": [
    "# ユーザーからデータを入力されたときに大きな数字を出力\n",
    "\n",
    "\"\"\"\n",
    "1. if 문 \n",
    "2. 리스트로 만든다. \n",
    "\"\"\"\n",
    "import numpy as np\n",
    "\n",
    "list_d = []\n",
    "input_data1 = int(input(\"숫자를 입력하세요. : \"))\n",
    "input_data2 = int(input(\"숫자를 입력하세요. : \"))\n",
    "list_d.extend([input_data1,input_data2]) # append values ! \n",
    "\n",
    "# arr_numpy = np.array([])\n",
    "\n",
    "\n",
    "empty_arr = np.empty_like(list_d)\n",
    "empty_arr =  np.append(input_data1,input_data2)\n",
    "\n",
    "print(f\"max number {max(list_d)}\")\n",
    "print(f\"sum number {sum(list_d)}\")\n",
    "\n",
    "print(f\"max number {max(empty_arr)}\")"
   ]
  },
  {
   "cell_type": "markdown",
   "id": "8a46cdb8-77dd-48a9-b0aa-32842dafc48e",
   "metadata": {},
   "source": [
    "### Exercise 19. データ構造(リスト)\n",
    "* ユーザーから住民登録番号を入力してもらい、後ろの数字の一番前の数字を出力してください。\n",
    "- 住民登録番号の後ろの数字の一番前の数字は性別を示す\n",
    "- 例)8001-1231231 住民番号を入力されたら1を出力すれば良い\n",
    "- 1は男性を意味、2は女性を意味、最近の子供たちは3と4を使う"
   ]
  },
  {
   "cell_type": "code",
   "execution_count": 46,
   "id": "49bedaf8-80dd-4b63-9c76-0e2eb5166e21",
   "metadata": {},
   "outputs": [
    {
     "name": "stdout",
     "output_type": "stream",
     "text": [
      "주민 번호를 입력하세요. 800001-1231231\n"
     ]
    },
    {
     "name": "stdout",
     "output_type": "stream",
     "text": [
      "1\n",
      "남자입니다.\n"
     ]
    }
   ],
   "source": [
    "\n",
    "\n",
    "num = input(\"주민 번호를 입력하세요.\").split(\"-\") # transform list \n",
    "\n",
    "# num = input(\"주민 번호를 입력하세요.\").split(\"-\")[1][0] # transform list \n",
    "\n",
    "if num[1][0] == \"1\":\n",
    "          print(num[1][0])\n",
    "          print(\"남자입니다.\")\n",
    "    \n",
    "else :\n",
    "    print(\"여자입니다.\")"
   ]
  },
  {
   "cell_type": "code",
   "execution_count": 47,
   "id": "6b6c333b-e3e5-4cff-84db-3b1a0e2280b1",
   "metadata": {},
   "outputs": [
    {
     "name": "stdout",
     "output_type": "stream",
     "text": [
      "a man goes into the room\n"
     ]
    }
   ],
   "source": [
    "# delete  \" . \"  \n",
    "\n",
    "mystr = \"a man goes into the room...\"\n",
    "\n",
    "print(mystr.strip(\".\"))"
   ]
  },
  {
   "cell_type": "markdown",
   "id": "407bb7b8-459d-4140-bb4d-4404a5f2e525",
   "metadata": {},
   "source": [
    "### Exercise 22.文字列扱い(strip)\n",
    "* 株式銘柄を表す銘柄コードに空白と改行記号が含まれている。 空白と改行記号を除去し、種目コードだけを抽出せよ。\n",
    "```python\n",
    "code = ' 000660\\n '\n",
    "```\n",
    "出力: '000660'"
   ]
  },
  {
   "cell_type": "code",
   "execution_count": 63,
   "id": "10354f8a-8d23-433a-a000-3dbfdc460da9",
   "metadata": {},
   "outputs": [
    {
     "name": "stdout",
     "output_type": "stream",
     "text": [
      "000660\n"
     ]
    }
   ],
   "source": [
    "code = '         000660\\n #  '  \n",
    "\n",
    "print(code.strip(\" \\n #\"))  # 空白と#文字除去"
   ]
  },
  {
   "cell_type": "markdown",
   "id": "dc5cfafa-dc63-4f1d-935f-e50202f8a045",
   "metadata": {},
   "source": [
    "### Exercise 23.文字列の扱い (count)\n",
    "* 次の文字列で「Python」文字列の頻度数を出力せよ。\n",
    "```python\n",
    "python_desc = \"Python is an interpreted high-level programming language for general-purpose programming. Created by Guido van Rossum and first released in 1991, Python has a design philosophy that emphasizes code readability, notably using significant whitespace.\"\n",
    "```\n",
    "出力 例 : 2"
   ]
  },
  {
   "cell_type": "code",
   "execution_count": 66,
   "id": "3a4dbdb7-418d-4ef0-b3d9-e3a01c2daa71",
   "metadata": {},
   "outputs": [
    {
     "name": "stdout",
     "output_type": "stream",
     "text": [
      "2\n"
     ]
    }
   ],
   "source": [
    "# Pythonの文字列の頻度を出力\n",
    "\n",
    "python_desc = \"Python is an interpreted high-level programming language for general-purpose programming. Created by Guido van Rossum and first released in 1991, Python has a design philosophy that emphasizes code readability, notably using significant whitespace.\"\n",
    "\n",
    "print(python_desc.count(\"Python\"))  # 大文字と小文字を区別する。"
   ]
  },
  {
   "cell_type": "code",
   "execution_count": 69,
   "id": "e158dce8-0372-45c2-9f1a-afdb679ee4b2",
   "metadata": {},
   "outputs": [
    {
     "name": "stdout",
     "output_type": "stream",
     "text": [
      "0\n"
     ]
    }
   ],
   "source": [
    "# 文字列検索\n",
    "\n",
    "python_desc = \"Python is an interpreted high-level programming language for general-purpose programming. Created by Guido van Rossum and first released in 1991, Python has a design philosophy that emphasizes code readability, notably using significant whitespace.\"\n",
    "\n",
    "print(python_desc.find(\"Python\"))\n",
    "\n",
    "# \"If 'Python' is in python_desc, it should print 0, but if not, it should print 1.\""
   ]
  }
 ],
 "metadata": {
  "kernelspec": {
   "display_name": "Python 3 (ipykernel)",
   "language": "python",
   "name": "python3"
  },
  "language_info": {
   "codemirror_mode": {
    "name": "ipython",
    "version": 3
   },
   "file_extension": ".py",
   "mimetype": "text/x-python",
   "name": "python",
   "nbconvert_exporter": "python",
   "pygments_lexer": "ipython3",
   "version": "3.10.9"
  }
 },
 "nbformat": 4,
 "nbformat_minor": 5
}
