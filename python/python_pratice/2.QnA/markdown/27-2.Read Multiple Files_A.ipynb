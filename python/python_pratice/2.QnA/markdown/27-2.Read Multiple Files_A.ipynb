{
 "cells": [
  {
   "cell_type": "markdown",
   "id": "46e3d990",
   "metadata": {},
   "source": [
    "---\n",
    "# 파이썬 입문 : 도전! 45가지 기초 문법 실습하기 🙋🏻‍♂️\n",
    "---"
   ]
  },
  {
   "cell_type": "markdown",
   "id": "28f413a5",
   "metadata": {},
   "source": [
    "### 꼭 기억하세요 😊\n",
    "+ **시간이 다소 소요되더라도** 스스로 생각해서 프로그래밍을 해야**`실력이 향상 됩니다.`** \n",
    "+ 다양한 문제를 통해서 **`문제 해결`**능력을 향상 시켜봐요.\n",
    "+ 여러 방식으로 **`같은 결과 값`**이 나오도록 프로그래밍 해보세요.\n",
    "+ **문제 해결**에 너무 시간이 오래 걸리면 **`검색(구글링 등)`**을 통해서 해결해보세요.\n",
    "+ **`온라인 Python IDE :`** https://www.programiz.com/python-programming/online-compiler/"
   ]
  },
  {
   "cell_type": "markdown",
   "id": "c3a88b92",
   "metadata": {},
   "source": [
    "***\n",
    "## 27. Read Multiple Files💻\n",
    "***\n",
    "#### **`연습예제`** 💻"
   ]
  },
  {
   "cell_type": "markdown",
   "id": "49b428ae",
   "metadata": {},
   "source": [
    "**`/source/27-1/`** `경로에` **`모든 텍스트 파일(txt)`** `을` **`읽은 후`** **`리스트`** `로 출력하세요.` **`*아래 조건 참조*`**\n",
    "\n",
    "\n",
    "```python\n",
    "# 아래 조건 참조\n",
    "\n",
    "파일명 & 경로 = \"../source/27-1/*.txt\"\n",
    "\n",
    "출력 = ['Python', 'JavaScript', 'PHP', 'Rust', 'elite', 'Solidity', 'Assembly', 'hamster', 'india', 'january', 'kibana', 'lamada', 'monster', 'notion', 'orange', 'pokemon', 'query', 'range', 'sonic', 'telegram', 'urban', 'village', 'world', 'x-ray', 'yellow', 'zigzag']\n",
    "```"
   ]
  },
  {
   "cell_type": "markdown",
   "id": "44d53430",
   "metadata": {},
   "source": [
    "#### **`코딩영역`**"
   ]
  },
  {
   "cell_type": "code",
   "execution_count": null,
   "id": "ca1e5a1b",
   "metadata": {},
   "outputs": [],
   "source": [
    "# 코딩 영역\n",
    "import this"
   ]
  },
  {
   "cell_type": "markdown",
   "id": "e48cce26",
   "metadata": {},
   "source": [
    "#### **`Hint`**"
   ]
  },
  {
   "cell_type": "markdown",
   "id": "fc2ea9eb",
   "metadata": {},
   "source": [
    "<details>\n",
    "    <summary>▶<b>여기</b>를 눌러주세요</summary>\n",
    "<div markdown=\"1\">       \n",
    "\n",
    "```python\n",
    "# 다양한 확장자 형식 파일 읽기는 중요해요.\n",
    "# Python OS 패키지 사용은 능숙해야 해요.\n",
    "    \n",
    "# 참조 : https://docs.python.org/3/library/os.html\n",
    "# getcwd() : 현재 작업 경로를 반환\n",
    "# listdir() : 지정한 경로의 파일 & 디렉토리 전부 반환\n",
    "\n",
    "# glob 패키지도 사용 가능해요.\n",
    "# 참조 : https://docs.python.org/3/library/glob.html\n",
    "```\n",
    "</div>\n",
    "</details>"
   ]
  },
  {
   "cell_type": "markdown",
   "id": "866ce5b7",
   "metadata": {},
   "source": [
    "***"
   ]
  },
  {
   "cell_type": "markdown",
   "id": "45217c6a",
   "metadata": {},
   "source": [
    "![bottom_arrow](../../img/bottom_arrow.jpg)\n",
    "![bottom_arrow](../../img/bottom_arrow.jpg)\n",
    "![bottom_arrow](../../img/bottom_arrow.jpg)"
   ]
  },
  {
   "cell_type": "markdown",
   "id": "fc473095",
   "metadata": {},
   "source": [
    "***"
   ]
  },
  {
   "cell_type": "markdown",
   "id": "d316af80",
   "metadata": {},
   "source": [
    "#### **`결과 & 보충설명`**"
   ]
  },
  {
   "cell_type": "code",
   "execution_count": 1,
   "id": "8f8ac30f",
   "metadata": {},
   "outputs": [
    {
     "name": "stdout",
     "output_type": "stream",
     "text": [
      "['Python', 'JavaScript', 'PHP', 'Rust', 'elite', 'Solidity', 'Assembly', 'hamster', 'india', 'january', 'kibana', 'lamada', 'monster', 'notion', 'orange', 'pokemon', 'query', 'range', 'sonic', 'telegram', 'urban', 'village', 'world', 'x-ray', 'yellow', 'zigzag']\n",
      "\n",
      "['Python', 'JavaScript', 'PHP', 'Rust', 'elite', 'Solidity', 'Assembly', 'hamster', 'india', 'january', 'kibana', 'lamada', 'monster', 'notion', 'orange', 'pokemon', 'query', 'range', 'sonic', 'telegram', 'urban', 'village', 'world', 'x-ray', 'yellow', 'zigzag']\n"
     ]
    }
   ],
   "source": [
    "# 27.Read Multiple Files\n",
    "\n",
    "import os\n",
    "\n",
    "# 방법1\n",
    "def read_text_file1(file_path):\n",
    "    # 결과 리스트\n",
    "    outputs = []\n",
    "    \n",
    "    # iterate through all file\n",
    "    for file in os.listdir(file_path):\n",
    "        \n",
    "        # 파일 리스트 확인\n",
    "        # print(file)\n",
    "        \n",
    "        if file.endswith(\".txt\"):\n",
    "            \n",
    "            target_path = f\"{file_path}\\{file}\"\n",
    "\n",
    "        with open(target_path, 'r') as f:\n",
    "            # 내용 확인\n",
    "            # print(f.read())\n",
    "            \n",
    "            outputs.append(f.read().strip('\\n')) # .strip('\\n')\n",
    "    \n",
    "    return outputs\n",
    "\n",
    "# 실행1\n",
    "print(read_text_file1(\"../source/27-1/\"))\n",
    "print()\n",
    "\n",
    "\n",
    "# 방법2\n",
    "import glob\n",
    "\n",
    "def read_text_file2(file_path):\n",
    "    # 결과 리스트\n",
    "    outputs = []\n",
    "    \n",
    "    for file in glob.glob(file_path + '\\*.txt'):\n",
    "    \n",
    "        with open(file, 'r') as f:\n",
    "            # 내용 확인\n",
    "            # print(f.read())\n",
    "            \n",
    "            outputs.append(f.read().strip('\\n')) # .strip('\\n')\n",
    "    \n",
    "    return outputs\n",
    "            \n",
    "# 실행2\n",
    "print(read_text_file2(\"../source/27-1/\"))\n",
    "\n",
    "\n",
    "# 방법3\n",
    "# ...."
   ]
  }
 ],
 "metadata": {
  "kernelspec": {
   "display_name": "Python 3 (ipykernel)",
   "language": "python",
   "name": "python3"
  },
  "language_info": {
   "codemirror_mode": {
    "name": "ipython",
    "version": 3
   },
   "file_extension": ".py",
   "mimetype": "text/x-python",
   "name": "python",
   "nbconvert_exporter": "python",
   "pygments_lexer": "ipython3",
   "version": "3.10.5"
  },
  "toc": {
   "base_numbering": 1,
   "nav_menu": {},
   "number_sections": false,
   "sideBar": true,
   "skip_h1_title": false,
   "title_cell": "Table of Contents",
   "title_sidebar": "Contents",
   "toc_cell": false,
   "toc_position": {
    "height": "calc(100% - 180px)",
    "left": "10px",
    "top": "150px",
    "width": "318px"
   },
   "toc_section_display": true,
   "toc_window_display": false
  }
 },
 "nbformat": 4,
 "nbformat_minor": 5
}
