{
 "cells": [
  {
   "cell_type": "markdown",
   "id": "46e3d990",
   "metadata": {},
   "source": [
    "---\n",
    "# 파이썬 입문 : 도전! 45가지 기초 문법 실습하기 🙋🏻‍♂️\n",
    "---"
   ]
  },
  {
   "cell_type": "markdown",
   "id": "28f413a5",
   "metadata": {},
   "source": [
    "### 꼭 기억하세요 😊\n",
    "+ **시간이 다소 소요되더라도** 스스로 생각해서 프로그래밍을 해야**`실력이 향상 됩니다.`** \n",
    "+ 다양한 문제를 통해서 **`문제 해결`**능력을 향상 시켜봐요.\n",
    "+ 여러 방식으로 **`같은 결과 값`**이 나오도록 프로그래밍 해보세요.\n",
    "+ **문제 해결**에 너무 시간이 오래 걸리면 **`검색(구글링 등)`**을 통해서 해결해보세요.\n",
    "+ **`온라인 Python IDE :`** https://www.programiz.com/python-programming/online-compiler/"
   ]
  },
  {
   "cell_type": "markdown",
   "id": "c3a88b92",
   "metadata": {},
   "source": [
    "***\n",
    "## 2. Assigning & Comparison💻\n",
    "***\n",
    "#### **`연습예제1`** 💻"
   ]
  },
  {
   "cell_type": "markdown",
   "id": "49b428ae",
   "metadata": {},
   "source": [
    "`아래 파이썬 코드의 결과 값을` **`True or False`**  `값을 예상하고 아래 코딩영역에 작성하세요.`\n",
    "\n",
    "```python\n",
    "x = 15\n",
    "y = 25\n",
    "\n",
    "print(f'x == y : {x == y}')\n",
    "print(f'x is y : {x is y}')\n",
    "\n",
    "# print(f'x value, id : {x}, {hex(id(x))}')\n",
    "# print(f'y value, id : {y}, {hex(id(y))}')\n",
    "```"
   ]
  },
  {
   "cell_type": "markdown",
   "id": "44d53430",
   "metadata": {},
   "source": [
    "#### **`코딩영역1`**"
   ]
  },
  {
   "cell_type": "code",
   "execution_count": 3,
   "id": "ca1e5a1b",
   "metadata": {},
   "outputs": [
    {
     "name": "stdout",
     "output_type": "stream",
     "text": [
      "x == y : False\n",
      "x is y : False\n"
     ]
    }
   ],
   "source": [
    "# 코딩 영역\n",
    "import this\n",
    "\n",
    "x = 15 \n",
    "y = 25\n",
    "\n",
    "print(f'x == y : {x == y}')\n",
    "print(f'x is y : {x is y}')"
   ]
  },
  {
   "cell_type": "markdown",
   "id": "10a973a4",
   "metadata": {},
   "source": [
    "***\n",
    "#### **`연습예제2`**"
   ]
  },
  {
   "cell_type": "markdown",
   "id": "fd63e590",
   "metadata": {},
   "source": [
    "`아래 파이썬 코드의 결과 값을` **`True or False`**  `값을 예상하고 아래 코딩영역에 작성하세요.`\n",
    "\n",
    "```python\n",
    "x = ['orange', 'banana', 'apple']\n",
    "y = x\n",
    "\n",
    "print(f'x == y : {x == y}')\n",
    "print(f'x is y : {x is y}')\n",
    "\n",
    "# print(f'x value, id : {x}, {hex(id(x))}')\n",
    "# print(f'y value, id : {y}, {hex(id(y))}')\n",
    "```"
   ]
  },
  {
   "cell_type": "markdown",
   "id": "9c75ec30",
   "metadata": {},
   "source": [
    "#### **`코딩영역2`**"
   ]
  },
  {
   "cell_type": "code",
   "execution_count": 4,
   "id": "4b01f68a",
   "metadata": {},
   "outputs": [
    {
     "name": "stdout",
     "output_type": "stream",
     "text": [
      "x == y : False\n",
      "x is y : False\n"
     ]
    }
   ],
   "source": [
    "# 코딩 영역\n",
    "import this\n",
    "\n",
    "print(f'x == y : {x == y}')\n",
    "print(f'x is y : {x is y}')\n"
   ]
  },
  {
   "cell_type": "markdown",
   "id": "137c671e",
   "metadata": {},
   "source": [
    "***\n",
    "#### **`연습예제3`**"
   ]
  },
  {
   "cell_type": "markdown",
   "id": "88c9272e",
   "metadata": {},
   "source": [
    "`아래 파이썬 코드의 결과 값을` **`True or False`**  `값을 예상하고 아래 코딩영역에 작성하세요.`\n",
    "\n",
    "```python\n",
    "x = ['orange', 'banana', 'apple']\n",
    "y = ['orange', 'banana', 'apple']\n",
    "\n",
    "print(f'x == y : {x == y}')\n",
    "print(f'x is y : {x is y}')\n",
    "\n",
    "# print(f'x value, id : {x}, {hex(id(x))}')\n",
    "# print(f'y value, id : {y}, {hex(id(y))}')\n",
    "```"
   ]
  },
  {
   "cell_type": "markdown",
   "id": "3396ebce",
   "metadata": {},
   "source": [
    "#### **`코딩영역3`**"
   ]
  },
  {
   "cell_type": "code",
   "execution_count": null,
   "id": "a17d2330",
   "metadata": {},
   "outputs": [
    {
     "name": "stdout",
     "output_type": "stream",
     "text": [
      "x == y : True\n",
      "x is y : False\n"
     ]
    }
   ],
   "source": [
    "# 코딩 영역\n",
    "import this\n",
    "\n",
    "x = [\"orange\", \"banana\", \"apple\"]\n",
    "y = [\"orange\", \"banana\", \"apple\"]\n",
    "\n",
    "# == 값 자체를 비교하는 연산자 \n",
    "# is 객체의 메모리 주소 ( id )를 비교하는 연산자 \n",
    "\n",
    "print(f\"x == y : {x == y}\")\n",
    "print(f\"x is y : {x is y}\")"
   ]
  },
  {
   "cell_type": "markdown",
   "id": "e48cce26",
   "metadata": {},
   "source": [
    "#### **`Hint`**"
   ]
  },
  {
   "cell_type": "markdown",
   "id": "fc2ea9eb",
   "metadata": {},
   "source": [
    "<details>\n",
    "    <summary>▶<b>여기</b>를 눌러주세요</summary>\n",
    "<div markdown=\"1\">       \n",
    "\n",
    "```python\n",
    "# is , not is -> 참조, 객체(same object, 오브젝트)비교 \n",
    "# == , != -> 값 비교\n",
    "# 값, 참조가 같은 비교는 is 사용(중요)\n",
    "\n",
    "```\n",
    "</div>\n",
    "</details>"
   ]
  },
  {
   "cell_type": "markdown",
   "id": "866ce5b7",
   "metadata": {},
   "source": [
    "***"
   ]
  },
  {
   "cell_type": "markdown",
   "id": "45217c6a",
   "metadata": {},
   "source": [
    "![bottom_arrow](../../img/bottom_arrow.jpg)\n",
    "![bottom_arrow](../../img/bottom_arrow.jpg)\n",
    "![bottom_arrow](../../img/bottom_arrow.jpg)"
   ]
  },
  {
   "cell_type": "markdown",
   "id": "fc473095",
   "metadata": {},
   "source": [
    "***"
   ]
  },
  {
   "cell_type": "markdown",
   "id": "d316af80",
   "metadata": {},
   "source": [
    "#### **`결과 & 보충설명`**"
   ]
  },
  {
   "cell_type": "code",
   "execution_count": 13,
   "id": "7fcea4bb",
   "metadata": {},
   "outputs": [
    {
     "name": "stdout",
     "output_type": "stream",
     "text": [
      "결과1 > a == b : False\n",
      "결과1 > a is b : False\n",
      "\n",
      "결과2 > c == d : True\n",
      "결과2 > c is d : True\n",
      "결과2 > c == e : True\n",
      "결과2 > c is e : False\n",
      "\n",
      "c value, id : [], 0x213e88380c0\n",
      "d value, id : [], 0x213e88380c0\n",
      "c value, id : [], 0x213e886e900\n"
     ]
    }
   ],
   "source": [
    "# 2.Assigning & Comparison\n",
    "\n",
    "a = 15\n",
    "b = 25\n",
    "\n",
    "print(f'결과1 > a == b : {a == b}')\n",
    "print(f'결과1 > a is b : {a is b}')\n",
    "\n",
    "print()\n",
    "\n",
    "c = []\n",
    "d = c\n",
    "e = c + d\n",
    "\n",
    "print(f'결과2 > c == d : {c == d}')\n",
    "print(f'결과2 > c is d : {c is d}')\n",
    "print(f'결과2 > c == e : {c == e}')\n",
    "print(f'결과2 > c is e : {c is e}') # 중요\n",
    "\n",
    "print()\n",
    "\n",
    "print(f'c value, id : {c}, {hex(id(c))}')\n",
    "print(f'd value, id : {d}, {hex(id(d))}')\n",
    "print(f'c value, id : {e}, {hex(id(e))}')"
   ]
  }
 ],
 "metadata": {
  "kernelspec": {
   "display_name": "Python 3",
   "language": "python",
   "name": "python3"
  },
  "language_info": {
   "codemirror_mode": {
    "name": "ipython",
    "version": 3
   },
   "file_extension": ".py",
   "mimetype": "text/x-python",
   "name": "python",
   "nbconvert_exporter": "python",
   "pygments_lexer": "ipython3",
   "version": "3.12.6"
  },
  "toc": {
   "base_numbering": 1,
   "nav_menu": {},
   "number_sections": false,
   "sideBar": true,
   "skip_h1_title": false,
   "title_cell": "Table of Contents",
   "title_sidebar": "Contents",
   "toc_cell": false,
   "toc_position": {
    "height": "calc(100% - 180px)",
    "left": "10px",
    "top": "150px",
    "width": "318px"
   },
   "toc_section_display": true,
   "toc_window_display": false
  }
 },
 "nbformat": 4,
 "nbformat_minor": 5
}
