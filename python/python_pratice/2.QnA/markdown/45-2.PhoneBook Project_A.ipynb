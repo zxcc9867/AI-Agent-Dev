{
 "cells": [
  {
   "cell_type": "markdown",
   "id": "46e3d990",
   "metadata": {},
   "source": [
    "---\n",
    "# 파이썬 입문 : 도전! 45가지 기초 문법 실습하기 🙋🏻‍♂️\n",
    "---"
   ]
  },
  {
   "cell_type": "markdown",
   "id": "28f413a5",
   "metadata": {},
   "source": [
    "### 꼭 기억하세요 😊\n",
    "+ **시간이 다소 소요되더라도** 스스로 생각해서 프로그래밍을 해야**`실력이 향상 됩니다.`** \n",
    "+ 다양한 문제를 통해서 **`문제 해결`**능력을 향상 시켜봐요.\n",
    "+ 여러 방식으로 **`같은 결과 값`**이 나오도록 프로그래밍 해보세요.\n",
    "+ **문제 해결**에 너무 시간이 오래 걸리면 **`검색(구글링 등)`**을 통해서 해결해보세요.\n",
    "+ **`온라인 Python IDE :`** https://www.programiz.com/python-programming/online-compiler/"
   ]
  },
  {
   "cell_type": "markdown",
   "id": "c3a88b92",
   "metadata": {},
   "source": [
    "***\n",
    "## 45. PhoneBook Project💻\n",
    "***\n",
    "#### **`연습예제`** 💻"
   ]
  },
  {
   "cell_type": "markdown",
   "id": "49b428ae",
   "metadata": {},
   "source": [
    "**`지금 까지 배운 내용을 기반으로`** `아래 조건과 같이` **`전화번호부`** `를` **`while`** `문을 사용후 구현하세요.` **`44번 예제를 참고하세요.`**\n",
    "```python\n",
    "\n",
    "# 구현내용\n",
    "# 조건1 : 전화번호부 확인\n",
    "# 조건2 : 전화번호부 멤버 추가\n",
    "# 조건3 : 전화번호부 멤버 삭제\n",
    "# 조건4 : 프로그램 종료\n",
    "# 조건5 : 전화번호 전체 데이터는 아래와 같이 json 형식으로 가정\n",
    "# 조건6 : (가능한경우) 파일 쓰기, 읽기 기능 추가\n",
    "\n",
    "\n",
    "# 프로그램 구현 화면\n",
    "# 강의 영상 참조\n",
    "\n",
    "# 기본 제공 데이터\n",
    "phonebook = {\n",
    "                0: {'Name': 'Kim', 'Phone': '45648733'},\n",
    "                1: {'Name': 'Lee', 'Phone': '89376333'},\n",
    "                2: {'Name': 'Park', 'Phone': '36457818'},\n",
    "                3: {'Name': 'Chung', 'Phone': '76891234'},\n",
    "                4: {'Name': 'Choi', 'Phone': '67451237'}\n",
    "            }\n",
    "```"
   ]
  },
  {
   "cell_type": "markdown",
   "id": "44d53430",
   "metadata": {},
   "source": [
    "#### **`코딩영역`**"
   ]
  },
  {
   "cell_type": "code",
   "execution_count": null,
   "id": "ca1e5a1b",
   "metadata": {},
   "outputs": [],
   "source": [
    "# 코딩 영역\n",
    "import this"
   ]
  },
  {
   "cell_type": "markdown",
   "id": "e48cce26",
   "metadata": {},
   "source": [
    "#### **`Hint`**"
   ]
  },
  {
   "cell_type": "markdown",
   "id": "fc2ea9eb",
   "metadata": {},
   "source": [
    "<details>\n",
    "    <summary>▶<b>여기</b>를 눌러주세요</summary>\n",
    "<div markdown=\"1\">       \n",
    "\n",
    "```python\n",
    "# 지금 까지 배운 내용을 활용해 보세요.\n",
    "    \n",
    "# 코드는 정답과 같지 않아도 중요해요. 직접 생각해서 프로그래밍 해보세요.\n",
    "\n",
    "# 작성한 로직에서 예외를 예상 후 구분 및 처리하는 것은 정말 중요해요.(Exception)\n",
    "```\n",
    "</div>\n",
    "</details>"
   ]
  },
  {
   "cell_type": "markdown",
   "id": "866ce5b7",
   "metadata": {},
   "source": [
    "***"
   ]
  },
  {
   "cell_type": "markdown",
   "id": "45217c6a",
   "metadata": {},
   "source": [
    "![bottom_arrow](../../img/bottom_arrow.jpg)\n",
    "![bottom_arrow](../../img/bottom_arrow.jpg)\n",
    "![bottom_arrow](../../img/bottom_arrow.jpg)"
   ]
  },
  {
   "cell_type": "markdown",
   "id": "fc473095",
   "metadata": {},
   "source": [
    "***"
   ]
  },
  {
   "cell_type": "markdown",
   "id": "d316af80",
   "metadata": {},
   "source": [
    "#### **`결과 & 보충설명`**"
   ]
  },
  {
   "cell_type": "code",
   "execution_count": 4,
   "id": "9427f511",
   "metadata": {},
   "outputs": [
    {
     "name": "stdout",
     "output_type": "stream",
     "text": [
      "\n",
      "----MAIN MENU----\n",
      "1: List phonebook\n",
      "2: Add a new member\n",
      "3: Delete a member\n",
      "4: Program exit \n",
      "Please enter your choice: 4\n",
      "# Exit!\n"
     ]
    },
    {
     "data": {
      "text/plain": [
       "False"
      ]
     },
     "execution_count": 4,
     "metadata": {},
     "output_type": "execute_result"
    }
   ],
   "source": [
    "### 45.PhoneBook Project\n",
    "\n",
    "# 파일 읽기 쓰기 기능이 추가 된 소스코드는 별도의 파일로 제공해요.\n",
    "\n",
    "\"\"\" phone book with example members. \"\"\"\n",
    "phonebook = {\n",
    "                0: {'Name': 'Kim', 'Phone': '45648733'},\n",
    "                1: {'Name': 'Lee', 'Phone': '89376333'},\n",
    "                2: {'Name': 'Park', 'Phone': '36457818'},\n",
    "                3: {'Name': 'Chung', 'Phone': '76891234'},\n",
    "                4: {'Name': 'Choi', 'Phone': '67451237'}\n",
    "            }\n",
    "\n",
    "\n",
    "def list_phonebook(d):\n",
    "    \"\"\" List member in phone book. \"\"\"\n",
    "\n",
    "    for pid in d:\n",
    "        print('\\nPID:', pid + 1)\n",
    "        for p_info in d[pid]:\n",
    "            print(p_info + ':', d[pid][p_info])\n",
    "\n",
    "\n",
    "def add_member(d):\n",
    "    \"\"\" Add a new member to the phone book.\"\"\"\n",
    "\n",
    "    print(\"\\nEnter the information of the member\")\n",
    "    \n",
    "    name = input('Name: ')\n",
    "    phone = input('Phone: ')\n",
    "\n",
    "    name_check = False\n",
    "\n",
    "    for pid in d:\n",
    "        if name == d[pid].get('Name'):\n",
    "            name_check = True\n",
    "\n",
    "    if name_check is True:\n",
    "        print('\\n# The member is already in the phone book')\n",
    "    else:\n",
    "        d[len(d)] = {'Name': name, 'Phone': phone}\n",
    "        \n",
    "        print('\\n# The phone number has been added to the phone book')\n",
    "\n",
    "    return d\n",
    "\n",
    "\n",
    "def delete_member(d):\n",
    "    \"\"\" Delete a member from the phone book. \"\"\"\n",
    "\n",
    "    print(\"\\nEnter the name\")\n",
    "    \n",
    "    name = input('name: ')\n",
    "\n",
    "    for pid in d:\n",
    "        if name == d[pid].get('Name'):\n",
    "            del d[pid]\n",
    "            print('\\n# The member has been deleted')\n",
    "            return d\n",
    "        \n",
    "    print('\\n# The member is not in the phone book')\n",
    "\n",
    "\n",
    "def mainmenu():\n",
    "    \"\"\" Main function\"\"\"\n",
    "\n",
    "    while True:\n",
    "        menu = input(\"\"\"\n",
    "----MAIN MENU----\n",
    "1: List phonebook\n",
    "2: Add a new member\n",
    "3: Delete a member\n",
    "4: Program exit \n",
    "Please enter your choice: \"\"\")\n",
    "\n",
    "        if menu == '1':\n",
    "            list_phonebook(phonebook)\n",
    "        elif menu == '2':\n",
    "            add_member(phonebook)\n",
    "        elif menu == '3':\n",
    "            delete_member(phonebook)\n",
    "        elif menu == '4':\n",
    "            print('# Exit!')\n",
    "            return False # break\n",
    "        else:\n",
    "            print('\\n Menu cannot be found')\n",
    "\n",
    "mainmenu()"
   ]
  }
 ],
 "metadata": {
  "kernelspec": {
   "display_name": "Python 3 (ipykernel)",
   "language": "python",
   "name": "python3"
  },
  "language_info": {
   "codemirror_mode": {
    "name": "ipython",
    "version": 3
   },
   "file_extension": ".py",
   "mimetype": "text/x-python",
   "name": "python",
   "nbconvert_exporter": "python",
   "pygments_lexer": "ipython3",
   "version": "3.10.5"
  },
  "toc": {
   "base_numbering": 1,
   "nav_menu": {},
   "number_sections": false,
   "sideBar": true,
   "skip_h1_title": false,
   "title_cell": "Table of Contents",
   "title_sidebar": "Contents",
   "toc_cell": false,
   "toc_position": {
    "height": "calc(100% - 180px)",
    "left": "10px",
    "top": "150px",
    "width": "318px"
   },
   "toc_section_display": true,
   "toc_window_display": false
  }
 },
 "nbformat": 4,
 "nbformat_minor": 5
}
