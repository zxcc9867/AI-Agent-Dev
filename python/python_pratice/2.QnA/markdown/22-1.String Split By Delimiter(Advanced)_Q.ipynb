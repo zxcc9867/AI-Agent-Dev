{
 "cells": [
  {
   "cell_type": "markdown",
   "id": "46e3d990",
   "metadata": {},
   "source": [
    "---\n",
    "# 파이썬 입문 : 도전! 45가지 기초 문법 실습하기 🙋🏻‍♂️\n",
    "---"
   ]
  },
  {
   "cell_type": "markdown",
   "id": "28f413a5",
   "metadata": {},
   "source": [
    "### 꼭 기억하세요 😊\n",
    "+ **시간이 다소 소요되더라도** 스스로 생각해서 프로그래밍을 해야**`실력이 향상 됩니다.`** \n",
    "+ 다양한 문제를 통해서 **`문제 해결`**능력을 향상 시켜봐요.\n",
    "+ 여러 방식으로 **`같은 결과 값`**이 나오도록 프로그래밍 해보세요.\n",
    "+ **문제 해결**에 너무 시간이 오래 걸리면 **`검색(구글링 등)`**을 통해서 해결해보세요.\n",
    "+ **`온라인 Python IDE :`** https://www.programiz.com/python-programming/online-compiler/"
   ]
  },
  {
   "cell_type": "markdown",
   "id": "c3a88b92",
   "metadata": {},
   "source": [
    "***\n",
    "## 22. String Split By Delimiter(Advanced)💻\n",
    "***\n",
    "#### **`연습예제`** 💻"
   ]
  },
  {
   "cell_type": "markdown",
   "id": "49b428ae",
   "metadata": {},
   "source": [
    "**`/source`** **`폴더의 22-2.txt`** `파일을` **`공백 구분 후`** `단어 개수를 출력하는` **`함수`** `를 작성 후 실행하세요.` **`*콤마의 경우 두 단어로 취급*`**\n",
    "\n",
    "\n",
    "```python\n",
    "# Hi! Kim,Eun 의 경우 -> 3개\n",
    "\n",
    "in_str = \"../source/22-1.txt\"\n",
    "\n",
    "출력 결과 : 72\n",
    "```"
   ]
  },
  {
   "cell_type": "markdown",
   "id": "44d53430",
   "metadata": {},
   "source": [
    "#### **`코딩영역`**"
   ]
  },
  {
   "cell_type": "code",
   "execution_count": null,
   "id": "ca1e5a1b",
   "metadata": {},
   "outputs": [
    {
     "name": "stdout",
     "output_type": "stream",
     "text": [
      "72\n"
     ]
    }
   ],
   "source": [
    "# # # 코딩 영역\n",
    "# # import this\n",
    "# from pprint import pprint\n",
    "file_path = \"../source/22-1.txt\"\n",
    "\n",
    "# # file = open(file_path,mode='r')\n",
    "\n",
    "# # text = file.read().replace(',',' ').split(' ')\n",
    "# # print(text)\n",
    "# # print(len(text))\n",
    "# # file.close()\n",
    "\n",
    "# # # 방법 2 정규 표현식 사용\n",
    "\n",
    "import re\n",
    "\n",
    "file = open(file_path, mode=\"r\")\n",
    "text = file.read()\n",
    "\n",
    "# 파이프라인인 | 를 기준으로, 공백과 콤마를 패턴으로 split함.\n",
    "# txt_list = re.split(' |,',text) # 공백과 콤마를 기준으로 스플릿\n",
    "\n",
    "# print((txt_list))\n",
    "re.findall(r\"\\s*\\w+,?\\s*\", text)\n",
    "\n",
    "print((re.findall(r\"\\s*\\w+,?\\s*\", text))) # 정규표현식에서는 \n",
    "\n",
    "# \\s와 같이 공백문자는 공백 스페이스, 탭, 줄바꿈 \\n도 모두 공백으로 인식\n",
    "file.close()\n"
   ]
  },
  {
   "cell_type": "markdown",
   "id": "e48cce26",
   "metadata": {},
   "source": [
    "#### **`Hint`**"
   ]
  },
  {
   "cell_type": "markdown",
   "id": "fc2ea9eb",
   "metadata": {},
   "source": [
    "<details>\n",
    "    <summary>▶<b>여기</b>를 눌러주세요</summary>\n",
    "<div markdown=\"1\">       \n",
    "\n",
    "```python\n",
    "# string.split(separator, maxsplit) : 구분자, 분할 수\n",
    "# string.replace(oldvalue, newvalue, count) : 타겟, 변환 값, 개수\n",
    "# 콤마를 공백으로 치환 -> 문자열을 구분 후 리스트로 변환\n",
    "# python re(Regular Expression) 사용가능(정규표현식)\n",
    "```\n",
    "</div>\n",
    "</details>"
   ]
  },
  {
   "cell_type": "markdown",
   "id": "866ce5b7",
   "metadata": {},
   "source": [
    "***"
   ]
  }
 ],
 "metadata": {
  "kernelspec": {
   "display_name": "venv",
   "language": "python",
   "name": "python3"
  },
  "language_info": {
   "codemirror_mode": {
    "name": "ipython",
    "version": 3
   },
   "file_extension": ".py",
   "mimetype": "text/x-python",
   "name": "python",
   "nbconvert_exporter": "python",
   "pygments_lexer": "ipython3",
   "version": "3.12.6"
  },
  "toc": {
   "base_numbering": 1,
   "nav_menu": {},
   "number_sections": false,
   "sideBar": true,
   "skip_h1_title": false,
   "title_cell": "Table of Contents",
   "title_sidebar": "Contents",
   "toc_cell": false,
   "toc_position": {
    "height": "calc(100% - 180px)",
    "left": "10px",
    "top": "150px",
    "width": "318px"
   },
   "toc_section_display": true,
   "toc_window_display": false
  }
 },
 "nbformat": 4,
 "nbformat_minor": 5
}
