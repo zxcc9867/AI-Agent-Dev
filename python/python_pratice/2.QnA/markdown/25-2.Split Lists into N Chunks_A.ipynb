{
 "cells": [
  {
   "cell_type": "markdown",
   "id": "46e3d990",
   "metadata": {},
   "source": [
    "---\n",
    "# 파이썬 입문 : 도전! 45가지 기초 문법 실습하기 🙋🏻‍♂️\n",
    "---"
   ]
  },
  {
   "cell_type": "markdown",
   "id": "28f413a5",
   "metadata": {},
   "source": [
    "### 꼭 기억하세요 😊\n",
    "+ **시간이 다소 소요되더라도** 스스로 생각해서 프로그래밍을 해야**`실력이 향상 됩니다.`** \n",
    "+ 다양한 문제를 통해서 **`문제 해결`**능력을 향상 시켜봐요.\n",
    "+ 여러 방식으로 **`같은 결과 값`**이 나오도록 프로그래밍 해보세요.\n",
    "+ **문제 해결**에 너무 시간이 오래 걸리면 **`검색(구글링 등)`**을 통해서 해결해보세요.\n",
    "+ **`온라인 Python IDE :`** https://www.programiz.com/python-programming/online-compiler/"
   ]
  },
  {
   "cell_type": "markdown",
   "id": "c3a88b92",
   "metadata": {},
   "source": [
    "***\n",
    "## 25. Split Lists into N Chunks💻\n",
    "***\n",
    "#### **`연습예제`** 💻"
   ]
  },
  {
   "cell_type": "markdown",
   "id": "49b428ae",
   "metadata": {},
   "source": [
    "`아래와 같이` **`주어진 리스트`** `를` **`N개 단위로`** **`출력 결과`** `와 같이` **`리스트`** `로 생성 & 출력 하세요.` **`*함수 가능*`**\n",
    "\n",
    "\n",
    "```python\n",
    "# 기본 리스트\n",
    "x = ['A','B','C','D','E','F','G','H','I','J','K','L','M','N','O','P','Q','R','S','T','U','V','W','X','Y','Z']\n",
    "\n",
    "# N -> 3\n",
    "출력 결과 : [['A','B','C'],['D','E','F'],['G','H','I'],['J','K','L'],['M','N','O'],['P','Q','R'],['S','T','U'],['V','W','X'],['Y','Z']]\n",
    "    \n",
    "# N -> 5\n",
    "출력 결과 : [['A','B','C','D','E'],['F','G','H','I','J'],['K','L','M','N','O'],['P','Q','R','S','T'],['U','V','W','X','Y'],['Z']]\n",
    "```"
   ]
  },
  {
   "cell_type": "markdown",
   "id": "44d53430",
   "metadata": {},
   "source": [
    "#### **`코딩영역`**"
   ]
  },
  {
   "cell_type": "code",
   "execution_count": null,
   "id": "ca1e5a1b",
   "metadata": {},
   "outputs": [],
   "source": [
    "# 코딩 영역\n",
    "import this"
   ]
  },
  {
   "cell_type": "markdown",
   "id": "e48cce26",
   "metadata": {},
   "source": [
    "#### **`Hint`**"
   ]
  },
  {
   "cell_type": "markdown",
   "id": "fc2ea9eb",
   "metadata": {},
   "source": [
    "<details>\n",
    "    <summary>▶<b>여기</b>를 눌러주세요</summary>\n",
    "<div markdown=\"1\">       \n",
    "\n",
    "```python\n",
    "# List slicing : https://www.geeksforgeeks.org/python-list-slicing/\n",
    "# List Comprehension : https://www.w3schools.com/python/python_lists_comprehension.asp\n",
    "# 추천1 : for loop \n",
    "# 추천2 : List Comprehension\n",
    "```\n",
    "</div>\n",
    "</details>"
   ]
  },
  {
   "cell_type": "markdown",
   "id": "866ce5b7",
   "metadata": {},
   "source": [
    "***"
   ]
  },
  {
   "cell_type": "markdown",
   "id": "45217c6a",
   "metadata": {},
   "source": [
    "![bottom_arrow](../../img/bottom_arrow.jpg)\n",
    "![bottom_arrow](../../img/bottom_arrow.jpg)\n",
    "![bottom_arrow](../../img/bottom_arrow.jpg)"
   ]
  },
  {
   "cell_type": "markdown",
   "id": "fc473095",
   "metadata": {},
   "source": [
    "***"
   ]
  },
  {
   "cell_type": "markdown",
   "id": "d316af80",
   "metadata": {},
   "source": [
    "#### **`결과 & 보충설명`**"
   ]
  },
  {
   "cell_type": "code",
   "execution_count": 7,
   "id": "8f8ac30f",
   "metadata": {},
   "outputs": [
    {
     "name": "stdout",
     "output_type": "stream",
     "text": [
      "ex1 결과 :  [['A', 'B', 'C'], ['D', 'E', 'F'], ['G', 'H', 'I'], ['J', 'K', 'L'], ['M', 'N', 'O'], ['P', 'Q', 'R'], ['S', 'T', 'U'], ['V', 'W', 'X'], ['Y', 'Z']]\n",
      "\n",
      "ex2 결과 :  [['A', 'B', 'C'], ['D', 'E', 'F'], ['G', 'H', 'I'], ['J', 'K', 'L'], ['M', 'N', 'O'], ['P', 'Q', 'R'], ['S', 'T', 'U'], ['V', 'W', 'X'], ['Y', 'Z']]\n"
     ]
    }
   ],
   "source": [
    "# 25.Split Lists into N Chunks\n",
    "\n",
    "our_list = ['A','B','C','D','E','F','G','H','I','J','K','L','M','N','O','P','Q','R','S','T','U','V','W','X','Y','Z']\n",
    "\n",
    "# 방법1\n",
    "def split_n_list(split_size=3):\n",
    "    split_list = list()\n",
    "    \n",
    "    for i in range(0, len(our_list), split_size):\n",
    "        # 인덱스 확인\n",
    "        # print(i, i+split_size)\n",
    "        \n",
    "        split_list.append(our_list[i:i+split_size])\n",
    "        \n",
    "    return split_list\n",
    "\n",
    "print('ex1 결과 : ', split_n_list(3))\n",
    "print()\n",
    "\n",
    "# 방법2\n",
    "\n",
    "split_size = 3\n",
    "\n",
    "output = [our_list[i:i+split_size] for i in range(0, len(our_list), split_size)]\n",
    "\n",
    "print('ex2 결과 : ', output)\n",
    "\n",
    "# 방법3\n",
    "# ...."
   ]
  }
 ],
 "metadata": {
  "kernelspec": {
   "display_name": "Python 3 (ipykernel)",
   "language": "python",
   "name": "python3"
  },
  "language_info": {
   "codemirror_mode": {
    "name": "ipython",
    "version": 3
   },
   "file_extension": ".py",
   "mimetype": "text/x-python",
   "name": "python",
   "nbconvert_exporter": "python",
   "pygments_lexer": "ipython3",
   "version": "3.10.5"
  },
  "toc": {
   "base_numbering": 1,
   "nav_menu": {},
   "number_sections": false,
   "sideBar": true,
   "skip_h1_title": false,
   "title_cell": "Table of Contents",
   "title_sidebar": "Contents",
   "toc_cell": false,
   "toc_position": {
    "height": "calc(100% - 180px)",
    "left": "10px",
    "top": "150px",
    "width": "318px"
   },
   "toc_section_display": true,
   "toc_window_display": false
  }
 },
 "nbformat": 4,
 "nbformat_minor": 5
}
