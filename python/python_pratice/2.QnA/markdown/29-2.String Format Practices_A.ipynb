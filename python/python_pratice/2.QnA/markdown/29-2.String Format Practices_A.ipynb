{
 "cells": [
  {
   "cell_type": "markdown",
   "id": "46e3d990",
   "metadata": {},
   "source": [
    "---\n",
    "# 파이썬 입문 : 도전! 45가지 기초 문법 실습하기 🙋🏻‍♂️\n",
    "---"
   ]
  },
  {
   "cell_type": "markdown",
   "id": "28f413a5",
   "metadata": {},
   "source": [
    "### 꼭 기억하세요 😊\n",
    "+ **시간이 다소 소요되더라도** 스스로 생각해서 프로그래밍을 해야**`실력이 향상 됩니다.`** \n",
    "+ 다양한 문제를 통해서 **`문제 해결`**능력을 향상 시켜봐요.\n",
    "+ 여러 방식으로 **`같은 결과 값`**이 나오도록 프로그래밍 해보세요.\n",
    "+ **문제 해결**에 너무 시간이 오래 걸리면 **`검색(구글링 등)`**을 통해서 해결해보세요.\n",
    "+ **`온라인 Python IDE :`** https://www.programiz.com/python-programming/online-compiler/"
   ]
  },
  {
   "cell_type": "markdown",
   "id": "c3a88b92",
   "metadata": {},
   "source": [
    "***\n",
    "## 29. String Format Practices💻\n",
    "***\n",
    "#### **`연습예제`** 💻"
   ]
  },
  {
   "cell_type": "markdown",
   "id": "49b428ae",
   "metadata": {},
   "source": [
    "`아래` **`String 포멧`** **`출력문`** `에서` **`결과 값`**  `이` **`다른 것`** `은 무엇일까요?` **`*꼭 코딩 후 확인하세요`**\n",
    "\n",
    "```python\n",
    "\n",
    "# 공통 변수 선언\n",
    "x = 10\n",
    "y = 20\n",
    "serialno = 308276567\n",
    "n = 'Kim'\n",
    "\n",
    "\n",
    "# 출력1\n",
    "ex1 = 'n = %s, s = %x, sum=%d' % (n, serialno, (x + y))\n",
    "print(ex1)\n",
    "\n",
    "\n",
    "# 출력2\n",
    "ex2 = 'n = {n}, s = {serialno}, sum={sum}'.format(n=n, serialno=serialno, sum=x + y)\n",
    "print(ex2)\n",
    "\n",
    "\n",
    "# 출력3\n",
    "ex3 = f'n = {n}, s = {serialno}, sum={x + y}'\n",
    "print(ex3)\n",
    "```"
   ]
  },
  {
   "cell_type": "markdown",
   "id": "44d53430",
   "metadata": {},
   "source": [
    "#### **`코딩영역`**"
   ]
  },
  {
   "cell_type": "code",
   "execution_count": null,
   "id": "ca1e5a1b",
   "metadata": {},
   "outputs": [],
   "source": [
    "# 코딩 영역\n",
    "import this"
   ]
  },
  {
   "cell_type": "markdown",
   "id": "e48cce26",
   "metadata": {},
   "source": [
    "#### **`Hint`**"
   ]
  },
  {
   "cell_type": "markdown",
   "id": "fc2ea9eb",
   "metadata": {},
   "source": [
    "<details>\n",
    "    <summary>▶<b>여기</b>를 눌러주세요</summary>\n",
    "<div markdown=\"1\">       \n",
    "\n",
    "```python\n",
    "# 파이썬 문자 출력(서식)은 여러가지 방법이 있어요.\n",
    "    \n",
    "# 1. % Operator(Old Style)\n",
    "# 2. str.format(New Style)\n",
    "# 3. f-Strings (Python 3.6+)\n",
    "# 4. Template String(from string import Template)\n",
    "# 참고 : https://docs.python.org/3/library/string.html#template-strings\n",
    "# 참고 : https://realpython.com/python-f-strings/\n",
    "```\n",
    "</div>\n",
    "</details>"
   ]
  },
  {
   "cell_type": "markdown",
   "id": "866ce5b7",
   "metadata": {},
   "source": [
    "***"
   ]
  },
  {
   "cell_type": "markdown",
   "id": "45217c6a",
   "metadata": {},
   "source": [
    "![bottom_arrow](../../img/bottom_arrow.jpg)\n",
    "![bottom_arrow](../../img/bottom_arrow.jpg)\n",
    "![bottom_arrow](../../img/bottom_arrow.jpg)"
   ]
  },
  {
   "cell_type": "markdown",
   "id": "fc473095",
   "metadata": {},
   "source": [
    "***"
   ]
  },
  {
   "cell_type": "markdown",
   "id": "d316af80",
   "metadata": {},
   "source": [
    "#### **`결과 & 보충설명`**"
   ]
  },
  {
   "cell_type": "code",
   "execution_count": 11,
   "id": "9427f511",
   "metadata": {},
   "outputs": [
    {
     "name": "stdout",
     "output_type": "stream",
     "text": [
      "n = Kim, s = 308276567, sum=30\n",
      "n = Kim, s = 308276567, sum=30\n",
      "n = Kim, s = 308276567, sum=30\n",
      "\n",
      "k 2: 1001101, k 8: 115\n",
      "k 16 - l:4d, U:4D\n",
      "\n",
      "m: 10,000,000,000\n",
      "\n",
      "g:        20\n",
      "g center:     20    .\n",
      "g left: 20        .\n",
      "g right:         20.\n",
      "\n",
      "g:----20----.\n",
      "g:####20####.\n"
     ]
    }
   ],
   "source": [
    "### 29.String Format Practices\n",
    "\n",
    "x = 10\n",
    "y = 20\n",
    "serialno = 308276567\n",
    "n = 'Kim'\n",
    "\n",
    "\n",
    "# 출력1\n",
    "ex1 = 'n = %s, s = %s, sum=%d' % (n, serialno, (x + y)) # %d\n",
    "print(ex1)\n",
    "\n",
    "\n",
    "# 출력2\n",
    "ex2 = 'n = {n}, s = {serialno}, sum={sum}'.format(n=n, serialno=serialno, sum=x + y)\n",
    "print(ex2)\n",
    "\n",
    "\n",
    "# 출력3\n",
    "ex3 = f'n = {n}, s = {serialno}, sum={x + y}'\n",
    "print(ex3)\n",
    "\n",
    "\n",
    "# 출력4\n",
    "# 보안 취약성 유발 방지\n",
    "# 출력문을 보다 템플릿 형식으로 정리 및 관리 하고 싶은 경우\n",
    "from string import Template\n",
    "ex4 = 'n = $n, s = $serialno, sum=$sum'\n",
    "\n",
    "t = Template(ex4)\n",
    "\n",
    "t.substitute(n=n, serialno=serialno, sum=x + y)\n",
    "\n",
    "print()\n",
    "\n",
    "# 출력5(다양한 f-string 연습)\n",
    "\n",
    "# 진수\n",
    "# (2진수 : b, 8진수 : o, 16진수 : x|X)\n",
    "k = 77\n",
    "\n",
    "print(f\"k 2: {k:b}, k 8: {k:o}\")\n",
    "print(f\"k 16 - l:{k:x}, U:{k:X}\")\n",
    "print()\n",
    "\n",
    "\n",
    "# 구분기호\n",
    "m = 10000000000\n",
    "\n",
    "print(f\"m: {m:,}\")\n",
    "print()\n",
    "\n",
    "\n",
    "# 정렬\n",
    "# ^ : 가운데 , < : 왼쪽 , > : 오른쪽\n",
    "g = 20\n",
    "\n",
    "print(f\"g:{g:10}\")\n",
    "print(f\"g center: {g:^10}.\")\n",
    "print(f\"g left: {g:<10}.\")\n",
    "print(f\"g right: {g:>10}.\")\n",
    "print()\n",
    "\n",
    "\n",
    "# 채우기\n",
    "print(f\"g:{g:-^10}.\")\n",
    "print(f\"g:{g:#^10}.\")"
   ]
  }
 ],
 "metadata": {
  "kernelspec": {
   "display_name": "Python 3 (ipykernel)",
   "language": "python",
   "name": "python3"
  },
  "language_info": {
   "codemirror_mode": {
    "name": "ipython",
    "version": 3
   },
   "file_extension": ".py",
   "mimetype": "text/x-python",
   "name": "python",
   "nbconvert_exporter": "python",
   "pygments_lexer": "ipython3",
   "version": "3.9.12"
  },
  "toc": {
   "base_numbering": 1,
   "nav_menu": {},
   "number_sections": false,
   "sideBar": true,
   "skip_h1_title": false,
   "title_cell": "Table of Contents",
   "title_sidebar": "Contents",
   "toc_cell": false,
   "toc_position": {
    "height": "calc(100% - 180px)",
    "left": "10px",
    "top": "150px",
    "width": "318px"
   },
   "toc_section_display": true,
   "toc_window_display": false
  }
 },
 "nbformat": 4,
 "nbformat_minor": 5
}
