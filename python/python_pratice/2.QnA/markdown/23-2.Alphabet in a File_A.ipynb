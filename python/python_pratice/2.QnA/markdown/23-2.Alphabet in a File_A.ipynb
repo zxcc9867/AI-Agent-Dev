{
 "cells": [
  {
   "cell_type": "markdown",
   "id": "46e3d990",
   "metadata": {},
   "source": [
    "---\n",
    "# 파이썬 입문 : 도전! 45가지 기초 문법 실습하기 🙋🏻‍♂️\n",
    "---"
   ]
  },
  {
   "cell_type": "markdown",
   "id": "28f413a5",
   "metadata": {},
   "source": [
    "### 꼭 기억하세요 😊\n",
    "+ **시간이 다소 소요되더라도** 스스로 생각해서 프로그래밍을 해야**`실력이 향상 됩니다.`** \n",
    "+ 다양한 문제를 통해서 **`문제 해결`**능력을 향상 시켜봐요.\n",
    "+ 여러 방식으로 **`같은 결과 값`**이 나오도록 프로그래밍 해보세요.\n",
    "+ **문제 해결**에 너무 시간이 오래 걸리면 **`검색(구글링 등)`**을 통해서 해결해보세요.\n",
    "+ **`온라인 Python IDE :`** https://www.programiz.com/python-programming/online-compiler/"
   ]
  },
  {
   "cell_type": "markdown",
   "id": "c3a88b92",
   "metadata": {},
   "source": [
    "***\n",
    "## 23. Alphabet in a File💻\n",
    "***\n",
    "#### **`연습예제`** 💻"
   ]
  },
  {
   "cell_type": "markdown",
   "id": "49b428ae",
   "metadata": {},
   "source": [
    "**`/source`** **`폴더에 23-1.txt`** `파일이름으로` **`대문자 알파벳(A-Z)을`**  **`공백`** `으로 구분 후 파일로 쓰세요.` **`*아래 조건을 참고하세요*`**\n",
    "\n",
    "\n",
    "```python\n",
    "# 아래 조건 참조\n",
    "\n",
    "파일명 & 경로 = \"../source/23-1.txt\"\n",
    "파일 출력 결과 : \"A B C D E F G H I J K L M N O P Q R S T U V W X Y Z\"\n",
    "```"
   ]
  },
  {
   "cell_type": "markdown",
   "id": "44d53430",
   "metadata": {},
   "source": [
    "#### **`코딩영역`**"
   ]
  },
  {
   "cell_type": "code",
   "execution_count": null,
   "id": "ca1e5a1b",
   "metadata": {},
   "outputs": [],
   "source": [
    "# 코딩 영역\n",
    "import this"
   ]
  },
  {
   "cell_type": "markdown",
   "id": "e48cce26",
   "metadata": {},
   "source": [
    "#### **`Hint`**"
   ]
  },
  {
   "cell_type": "markdown",
   "id": "fc2ea9eb",
   "metadata": {},
   "source": [
    "<details>\n",
    "    <summary>▶<b>여기</b>를 눌러주세요</summary>\n",
    "<div markdown=\"1\">       \n",
    "\n",
    "```python\n",
    "# 방법1 : 알파벳 리스트를 선언 후 파일로 쓰기\n",
    "# 방법2 : string 패키지를 사용 후 쉽게 파일로 쓰기\n",
    "# 파이썬 *유니코드*의 이해는 정말 중요해요.\n",
    "# 유니코드(Unicode) : 전세계에 존재하는 문자의 출력을 위한 인코딩 표준 -> 유니코드 코드값의 테이블 형태 \n",
    "# ord(), chr() 함수 사용법 중요해요.\n",
    "# python string package : https://docs.python.org/3/library/string.html\n",
    "```\n",
    "</div>\n",
    "</details>"
   ]
  },
  {
   "cell_type": "markdown",
   "id": "866ce5b7",
   "metadata": {},
   "source": [
    "***"
   ]
  },
  {
   "cell_type": "markdown",
   "id": "45217c6a",
   "metadata": {},
   "source": [
    "![bottom_arrow](../../img/bottom_arrow.jpg)\n",
    "![bottom_arrow](../../img/bottom_arrow.jpg)\n",
    "![bottom_arrow](../../img/bottom_arrow.jpg)"
   ]
  },
  {
   "cell_type": "markdown",
   "id": "fc473095",
   "metadata": {},
   "source": [
    "***"
   ]
  },
  {
   "cell_type": "markdown",
   "id": "d316af80",
   "metadata": {},
   "source": [
    "#### **`결과 & 보충설명`**"
   ]
  },
  {
   "cell_type": "code",
   "execution_count": 8,
   "id": "8f8ac30f",
   "metadata": {},
   "outputs": [
    {
     "name": "stdout",
     "output_type": "stream",
     "text": [
      "ex1 결과 : None\n",
      "ex2 결과 : None\n"
     ]
    }
   ],
   "source": [
    "# 23.Alphabet in a File\n",
    "\n",
    "# 방법1\n",
    "def write_alphabet1(filepath):\n",
    "    # 예외 처리 생략\n",
    "    with open(filepath, \"w\") as file:\n",
    "        for letter in 'ABCDEFGHIJKLMNOPQRSTUVWXYZ': # str은 시퀀스형\n",
    "            file.write(letter + \" \")\n",
    "\n",
    "print(f'ex1 결과 : {write_alphabet1(\"../source/23-1.txt\")}')\n",
    "\n",
    "\n",
    "# 방법2\n",
    "import string\n",
    "\n",
    "def write_alphabet2(filepath):\n",
    "    # 예외 처리 생략\n",
    "    with open(filepath, \"w\") as file:\n",
    "        for letter in string.ascii_uppercase: # string.ascii_lowercase 실습\n",
    "            file.write(letter + \"\\n\") # 줄바꿈\n",
    "\n",
    "print(f'ex2 결과 : {write_alphabet2(\"../source/23-2.txt\")}') "
   ]
  }
 ],
 "metadata": {
  "kernelspec": {
   "display_name": "Python 3 (ipykernel)",
   "language": "python",
   "name": "python3"
  },
  "language_info": {
   "codemirror_mode": {
    "name": "ipython",
    "version": 3
   },
   "file_extension": ".py",
   "mimetype": "text/x-python",
   "name": "python",
   "nbconvert_exporter": "python",
   "pygments_lexer": "ipython3",
   "version": "3.10.5"
  },
  "toc": {
   "base_numbering": 1,
   "nav_menu": {},
   "number_sections": false,
   "sideBar": true,
   "skip_h1_title": false,
   "title_cell": "Table of Contents",
   "title_sidebar": "Contents",
   "toc_cell": false,
   "toc_position": {
    "height": "calc(100% - 180px)",
    "left": "10px",
    "top": "150px",
    "width": "318px"
   },
   "toc_section_display": true,
   "toc_window_display": false
  }
 },
 "nbformat": 4,
 "nbformat_minor": 5
}
