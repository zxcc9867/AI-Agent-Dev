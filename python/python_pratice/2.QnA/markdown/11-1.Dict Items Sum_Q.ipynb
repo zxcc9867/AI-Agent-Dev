{
 "cells": [
  {
   "cell_type": "markdown",
   "id": "46e3d990",
   "metadata": {},
   "source": [
    "---\n",
    "# 파이썬 입문 : 도전! 45가지 기초 문법 실습하기 🙋🏻‍♂️\n",
    "---"
   ]
  },
  {
   "cell_type": "markdown",
   "id": "28f413a5",
   "metadata": {},
   "source": [
    "### 꼭 기억하세요 😊\n",
    "+ **시간이 다소 소요되더라도** 스스로 생각해서 프로그래밍을 해야**`실력이 향상 됩니다.`** \n",
    "+ 다양한 문제를 통해서 **`문제 해결`**능력을 향상 시켜봐요.\n",
    "+ 여러 방식으로 **`같은 결과 값`**이 나오도록 프로그래밍 해보세요.\n",
    "+ **문제 해결**에 너무 시간이 오래 걸리면 **`검색(구글링 등)`**을 통해서 해결해보세요.\n",
    "+ **`온라인 Python IDE :`** https://www.programiz.com/python-programming/online-compiler/"
   ]
  },
  {
   "cell_type": "markdown",
   "id": "c3a88b92",
   "metadata": {},
   "source": [
    "***\n",
    "## 11. Dict Items Sum💻\n",
    "***\n",
    "#### **`연습예제`** 💻"
   ]
  },
  {
   "cell_type": "markdown",
   "id": "49b428ae",
   "metadata": {},
   "source": [
    "`아래와 같은 Dict 구조에서` **`모든 value`** `값의` **`합(Sum)`** `을 구하세요.` **`*가능한 모든 방법*`** `으로 코딩하세요.` \n",
    "\n",
    "\n",
    "\n",
    "```python\n",
    "d = {'a': 17,'b': 114,'c': 247, 'd': 362, 'e': 220, 'f': 728, 'g': -283, 'h': 922}\n",
    "\n",
    "출력결과 : 2327\n",
    "```"
   ]
  },
  {
   "cell_type": "markdown",
   "id": "44d53430",
   "metadata": {},
   "source": [
    "#### **`코딩영역`**"
   ]
  },
  {
   "cell_type": "code",
   "execution_count": null,
   "id": "ca1e5a1b",
   "metadata": {},
   "outputs": [
    {
     "name": "stdout",
     "output_type": "stream",
     "text": [
      "리스트 더한 값 2327\n",
      "2327\n",
      "reduce를 사용해서 리스트의 값 모두 더하기 2327\n",
      "방법 4 : 2327\n"
     ]
    }
   ],
   "source": [
    "# 코딩 영역\n",
    "import this\n",
    "\n",
    "d = {\"a\": 17, \"b\": 114, \"c\": 247, \"d\": 362, \"e\": 220, \"f\": 728, \"g\": -283, \"h\": 922}\n",
    "\n",
    "# 리스트에 존재하는 모든 숫자값의 합을 구하는 것\n",
    "# sum은 반복가능한 객체인 리스트, 튜플에 사용해야한다.\n",
    "\n",
    "# 방법 1\n",
    "num_list = []\n",
    "for x in d:\n",
    "    num_list.append(d[x])\n",
    "\n",
    "print(f\"리스트 더한 값 {sum(num_list)}\")\n",
    "\n",
    "# 방법 2\n",
    "\n",
    "# map이나 filter등에서 반복가능한 객체로 딕셔너리 자체를 넣으면, 키 단위에서 순회한다.\n",
    "num = 0\n",
    "print(f\"{sum(list(map(lambda x : x, filter(lambda x : isinstance(x,int),d.values() ))))}\")\n",
    "\n",
    "# 방법 3 reduce를 사용 \n",
    "\n",
    "from functools import reduce\n",
    "\n",
    "print(f\"reduce를 사용해서 리스트의 값 모두 더하기 {reduce(lambda x,y : x+y, d.values())}\")\n",
    "\n",
    "# 방법 4 \n",
    "\n",
    "print(f'방법 4 : {sum([d[x] for x in d])}') # sum은 반복가능한 객체에 사용할 수 있고, \n",
    "# [for] 형식을 사용하여, 딕셔너리에 있는 모든 키에 대한 값을 출력하고 sum으로 더한다. "
   ]
  },
  {
   "cell_type": "markdown",
   "id": "e48cce26",
   "metadata": {},
   "source": [
    "#### **`Hint`**"
   ]
  },
  {
   "cell_type": "markdown",
   "id": "fc2ea9eb",
   "metadata": {},
   "source": [
    "<details>\n",
    "    <summary>▶<b>여기</b>를 눌러주세요</summary>\n",
    "<div markdown=\"1\">       \n",
    "\n",
    "```python\n",
    "    \n",
    "# Dict : Key와 value의 대응관계를 갖는 자료형(해시테이블, 가변적-수정가능)\n",
    "\n",
    "# 자주 사용하는 함수 : get(), values(), keys() \n",
    "\n",
    "# 다양한 Dict 선언 방법에 대해서 알아둬야 해요!\n",
    "# 빈 딕셔너리\n",
    "d = {}\n",
    "\n",
    "# 자주 사용\n",
    "d = {1: 'banana', 2: 'apple'}\n",
    "\n",
    "# 다양한 키 조합\n",
    "d = {'name': 'Lee', 1: [5, 6, 7]}\n",
    "\n",
    "# 직접 선언\n",
    "d = dict({1:'banana', 2:'apple'})\n",
    "\n",
    "# 시퀀스형 페어로 선언\n",
    "d = dict([(1,'banana'), (2,'apple')])\n",
    "```\n",
    "</div>\n",
    "</details>"
   ]
  },
  {
   "cell_type": "markdown",
   "id": "866ce5b7",
   "metadata": {},
   "source": [
    "***"
   ]
  }
 ],
 "metadata": {
  "kernelspec": {
   "display_name": "venv",
   "language": "python",
   "name": "python3"
  },
  "language_info": {
   "codemirror_mode": {
    "name": "ipython",
    "version": 3
   },
   "file_extension": ".py",
   "mimetype": "text/x-python",
   "name": "python",
   "nbconvert_exporter": "python",
   "pygments_lexer": "ipython3",
   "version": "3.12.6"
  },
  "toc": {
   "base_numbering": 1,
   "nav_menu": {},
   "number_sections": false,
   "sideBar": true,
   "skip_h1_title": false,
   "title_cell": "Table of Contents",
   "title_sidebar": "Contents",
   "toc_cell": false,
   "toc_position": {
    "height": "calc(100% - 180px)",
    "left": "10px",
    "top": "150px",
    "width": "318px"
   },
   "toc_section_display": true,
   "toc_window_display": false
  }
 },
 "nbformat": 4,
 "nbformat_minor": 5
}
