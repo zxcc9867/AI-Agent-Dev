{
 "cells": [
  {
   "cell_type": "code",
   "execution_count": 1,
   "id": "ecbeed43-71bd-4294-a62a-0b115c60ce1e",
   "metadata": {},
   "outputs": [
    {
     "name": "stdout",
     "output_type": "stream",
     "text": [
      "computer\n"
     ]
    }
   ],
   "source": [
    "# section2 \n",
    "\n",
    "\n",
    "some_string = \"   computer \"\n",
    "\n",
    "# 양옆 공백제거 \n",
    "\n",
    "print(some_string.strip())"
   ]
  },
  {
   "cell_type": "code",
   "execution_count": 3,
   "id": "e13c3db5-4c98-43e1-b917-0d10d21ec2d1",
   "metadata": {},
   "outputs": [
    {
     "name": "stdout",
     "output_type": "stream",
     "text": [
      "<class 'int'>\n",
      "<class 'str'>\n"
     ]
    }
   ],
   "source": [
    "\n",
    "# 타입 변환 \n",
    "\n",
    "string = \"720\"\n",
    "\n",
    "num = 720\n",
    "\n",
    "print(type(int(string)))\n",
    "\n",
    "print(type(str(num)))\n",
    "\n"
   ]
  },
  {
   "cell_type": "code",
   "execution_count": 5,
   "id": "764e6bb6-ebe6-4297-93d4-37fb2354d55f",
   "metadata": {},
   "outputs": [
    {
     "name": "stdout",
     "output_type": "stream",
     "text": [
      "Requirement already satisfied: numpy in c:\\users\\zxcc9\\appdata\\local\\programs\\python\\python310\\lib\\site-packages (2.1.0)\n",
      "Note: you may need to restart the kernel to use updated packages.\n"
     ]
    }
   ],
   "source": [
    "pip install numpy"
   ]
  },
  {
   "cell_type": "code",
   "execution_count": 27,
   "id": "c7cb944e-1dde-439e-9803-b7d7fdf0b980",
   "metadata": {},
   "outputs": [
    {
     "name": "stdout",
     "output_type": "stream",
     "text": [
      "[3 7 9]\n",
      "[[ 0  1  2]\n",
      " [ 3  4  5]\n",
      " [ 6  7  8]\n",
      " [ 9 10 11]]\n",
      "[[0. 0. 0. 0.]\n",
      " [0. 0. 0. 0.]\n",
      " [0. 0. 0. 0.]]\n",
      "30\n"
     ]
    }
   ],
   "source": [
    "import numpy as np\n",
    "\n",
    "arr = np.array([1,2,3])\n",
    "\n",
    "arr2 = np.array([2,5,6])\n",
    "\n",
    "print(arr+arr2)\n",
    "\n",
    "arr3 = np.arange(12).reshape(4,3)\n",
    "\n",
    "print(arr3)\n",
    "\n",
    "print(np.zeros([3,4])) # 2차원 형태의 zero 배열 생성\n",
    "\n",
    "# 행렬곱 \n",
    "\n",
    "print(arr@arr2) "
   ]
  },
  {
   "cell_type": "markdown",
   "id": "d3b84b32-a43b-44ee-bbc8-5d3ffcd5d878",
   "metadata": {},
   "source": [
    "## 리스트\n",
    "\n",
    "### 리스트 선언 방법 \n",
    "\n",
    "- 리스트 변수 = [ ]\n",
    "- 리스트 변수 = list()\n",
    "- 리스트 변수 = [ 데이터1, 데이터2 ]\n",
    "\n",
    "# 리스트 추가 \n",
    "\n",
    "- 리스트변수.append(데이터)\n",
    "- 리스트변수.insert(인덱스 번호, 데이터)\n",
    "\n",
    "### 리스트 삭제 \n",
    "\n",
    "- 리스트 변수.remove(데이터)\n",
    "- del 리스트변수[인덱스 번호]\n",
    "\n",
    "### 리스트 데이터 수정 \n",
    "\n",
    "- 리스트 변수[인덱스 번호] = 수정할 데이터\n"
   ]
  },
  {
   "cell_type": "code",
   "execution_count": 26,
   "id": "4668441c-9475-41ba-8f1c-acb719da65b6",
   "metadata": {},
   "outputs": [
    {
     "name": "stdout",
     "output_type": "stream",
     "text": [
      "[3, 4, 1, 2]\n",
      "[1, 2, 3, 4]\n"
     ]
    }
   ],
   "source": [
    "# 리스트 역순 정렬 \n",
    "\n",
    "numbers = [2,1,4,3]\n",
    "\n",
    "numbers.reverse() # 본래의 함수값을 바꾼다. \n",
    "\n",
    "print(numbers)\n",
    "\n",
    "# 변수 정렬 \n",
    "\n",
    "numbers.sort() # 본래의 함수 값을 바꾸기 때문에, 따로 변수에 대입해줄 필요가 없다 \n",
    "\n",
    "print(numbers)"
   ]
  },
  {
   "cell_type": "code",
   "execution_count": 21,
   "id": "a2af9738-9fcb-4e98-9a19-d84db5d58e0d",
   "metadata": {},
   "outputs": [
    {
     "name": "stdout",
     "output_type": "stream",
     "text": [
      "['python', ' is easy']\n"
     ]
    }
   ],
   "source": [
    "# 스플릿 함수 \n",
    "\n",
    "str = \"python, is easy\"\n",
    "\n",
    "print(str.split(\",\")) # ,를 기준으로 문자열을 나누겠다라는 의미 "
   ]
  },
  {
   "cell_type": "markdown",
   "id": "bdcf47cb-cfd7-41de-ae71-71a4ed0854ec",
   "metadata": {},
   "source": [
    "## IF statement\n",
    "\n",
    "if - elif - else\n",
    "\n",
    "- if condition 1 and condition 2 :\n",
    "- if condition 1 or condition 2 :\n",
    "- if not condtion\n",
    "\n",
    "\n"
   ]
  },
  {
   "cell_type": "code",
   "execution_count": 30,
   "id": "1e90d2b9-d235-4540-ab39-b7f4b6a8e7de",
   "metadata": {},
   "outputs": [
    {
     "name": "stdout",
     "output_type": "stream",
     "text": [
      "00000\t12345\n"
     ]
    }
   ],
   "source": [
    "string1 = '00000\\t12345'\n",
    "\n",
    "# \\t -> tab \n",
    "\n",
    "print(string1)"
   ]
  },
  {
   "cell_type": "code",
   "execution_count": 39,
   "id": "fbd303d4-f78a-4fdb-be15-229b012a9107",
   "metadata": {},
   "outputs": [
    {
     "name": "stdin",
     "output_type": "stream",
     "text": [
      "숫자를 입력하세요. :  20\n",
      "숫자를 입력하세요. :  30\n"
     ]
    },
    {
     "name": "stdout",
     "output_type": "stream",
     "text": [
      "max number 30\n",
      "sum number 50\n",
      "max number 30\n"
     ]
    }
   ],
   "source": [
    "# 사용자에게 데이터를 입력받았을 때 큰 숫자를 출력 \n",
    "\n",
    "\"\"\"\n",
    "1. if 문 \n",
    "2. 리스트로 만든다. \n",
    "\"\"\"\n",
    "import numpy as np\n",
    "\n",
    "list_d = []\n",
    "input_data1 = int(input(\"숫자를 입력하세요. : \"))\n",
    "input_data2 = int(input(\"숫자를 입력하세요. : \"))\n",
    "list_d.extend([input_data1,input_data2]) # append values ! \n",
    "\n",
    "# arr_numpy = np.array([])\n",
    "\n",
    "\n",
    "\n",
    "empty_arr = np.empty_like(list_d)\n",
    "empty_arr =  np.append(input_data1,input_data2)\n",
    "\n",
    "print(f\"max number {max(list_d)}\")\n",
    "print(f\"sum number {sum(list_d)}\")\n",
    "\n",
    "print(f\"max number {max(empty_arr)}\")\n"
   ]
  },
  {
   "cell_type": "markdown",
   "id": "8a46cdb8-77dd-48a9-b0aa-32842dafc48e",
   "metadata": {},
   "source": [
    "### Exercise 19. 데이터 구조 (리스트)\n",
    "* 사용자로부터 주민등록번호를 입력받아 뒷자리 맨 앞의 숫자를 출력하세요.\n",
    "  - 주민등록번호 뒷자리 맨 앞자리는 성별을 나타냄\n",
    "  - 예) 800001-1231231 주민번호를 입력받으면 1을 출력하면 됨\n",
    "  - 1은 남성을 의미, 2는 여성을 의미, 최근 아이들은 3과 4를 사용함 "
   ]
  },
  {
   "cell_type": "code",
   "execution_count": 46,
   "id": "49bedaf8-80dd-4b63-9c76-0e2eb5166e21",
   "metadata": {},
   "outputs": [
    {
     "name": "stdin",
     "output_type": "stream",
     "text": [
      "주민 번호를 입력하세요. 800001-1231231\n"
     ]
    },
    {
     "name": "stdout",
     "output_type": "stream",
     "text": [
      "1\n",
      "남자입니다.\n"
     ]
    }
   ],
   "source": [
    "\n",
    "\n",
    "num = input(\"주민 번호를 입력하세요.\").split(\"-\") # transform list \n",
    "\n",
    "# num = input(\"주민 번호를 입력하세요.\").split(\"-\")[1][0] # transform list \n",
    "\n",
    "if num[1][0] == \"1\":\n",
    "          print(num[1][0])\n",
    "          print(\"남자입니다.\")\n",
    "    \n",
    "else :\n",
    "    print(\"여자입니다.\")"
   ]
  },
  {
   "cell_type": "code",
   "execution_count": 47,
   "id": "6b6c333b-e3e5-4cff-84db-3b1a0e2280b1",
   "metadata": {},
   "outputs": [
    {
     "name": "stdout",
     "output_type": "stream",
     "text": [
      "a man goes into the room\n"
     ]
    }
   ],
   "source": [
    "# delete  \" . \"  \n",
    "\n",
    "mystr = \"a man goes into the room...\"\n",
    "\n",
    "print(mystr.strip(\".\"))"
   ]
  },
  {
   "cell_type": "markdown",
   "id": "407bb7b8-459d-4140-bb4d-4404a5f2e525",
   "metadata": {},
   "source": [
    "### Exercise 22. 문자열 다루기 (strip)\n",
    "* 주식 종목을 나타내는 종목코드에 공백과 줄바꿈 기호가 포함되어 있다. 공백과 줄바꿈 기호를 제거하고 종목코드만을 추출하라.\n",
    "```python\n",
    "code = '         000660\\n            '\n",
    "```\n",
    "출력: '000660'"
   ]
  },
  {
   "cell_type": "code",
   "execution_count": 63,
   "id": "10354f8a-8d23-433a-a000-3dbfdc460da9",
   "metadata": {},
   "outputs": [
    {
     "name": "stdout",
     "output_type": "stream",
     "text": [
      "000660\n"
     ]
    }
   ],
   "source": [
    "code = '         000660\\n #  '  \n",
    "\n",
    "print(code.strip(' \\n #')) # 공백과 # 문자 제거 "
   ]
  },
  {
   "cell_type": "markdown",
   "id": "dc5cfafa-dc63-4f1d-935f-e50202f8a045",
   "metadata": {},
   "source": [
    "### Exercise 23. 문자열 다루기 (count)\n",
    "* 다음 문자열에서 'Python' 문자열의 빈도수를 출력하라.\n",
    "```python\n",
    "python_desc = \"Python is an interpreted high-level programming language for general-purpose programming. Created by Guido van Rossum and first released in 1991, Python has a design philosophy that emphasizes code readability, notably using significant whitespace.\"\n",
    "```\n",
    "출력 예: 2"
   ]
  },
  {
   "cell_type": "code",
   "execution_count": 66,
   "id": "3a4dbdb7-418d-4ef0-b3d9-e3a01c2daa71",
   "metadata": {},
   "outputs": [
    {
     "name": "stdout",
     "output_type": "stream",
     "text": [
      "2\n"
     ]
    }
   ],
   "source": [
    "\n",
    "# Python의 문자열의 빈도를 출력 \n",
    "\n",
    "python_desc = \"Python is an interpreted high-level programming language for general-purpose programming. Created by Guido van Rossum and first released in 1991, Python has a design philosophy that emphasizes code readability, notably using significant whitespace.\"\n",
    "\n",
    "print(python_desc.count(\"Python\")) # 대소문자를 구분한다. \n",
    "\n"
   ]
  },
  {
   "cell_type": "code",
   "execution_count": 69,
   "id": "e158dce8-0372-45c2-9f1a-afdb679ee4b2",
   "metadata": {},
   "outputs": [
    {
     "name": "stdout",
     "output_type": "stream",
     "text": [
      "0\n"
     ]
    }
   ],
   "source": [
    "# 문자열 찾기 \n",
    "\n",
    "python_desc = \"Python is an interpreted high-level programming language for general-purpose programming. Created by Guido van Rossum and first released in 1991, Python has a design philosophy that emphasizes code readability, notably using significant whitespace.\"\n",
    "\n",
    "print(python_desc.find(\"Python\"))\n",
    "\n",
    "# \"If 'Python' is in python_desc, it should print 0, but if not, it should print 1.\"\n",
    "\n",
    "\n",
    "# 예제 문자열\n",
    "text = \"Hello, world!\"\n",
    "\n",
    "# 'world'라는 서브스트링을 찾기\n",
    "index = text.find(\"world\")\n",
    "print(index)  # 출력: 7 ('world'의 'w'가 문자열의 7번째 인덱스에 위치)\n",
    "\n",
    "# 존재하지 않는 서브스트링을 찾기\n",
    "index = text.find(\"Python\")\n",
    "print(index)  # 출력: -1 ('Python'은 문자열에 존재하지 않음)\n",
    "\n",
    "# 'o'를 찾기\n",
    "index = text.find(\"o\")\n",
    "print(index)  # 출력: 4 ('o'가 처음 나타나는 위치)\n",
    "\n",
    "# 특정 위치 이후에서 찾기\n",
    "index = text.find(\"o\", 5)\n",
    "print(index)  # 출력: 8 ('o'가 5번째 인덱스 이후에 나타나는 위치)\n",
    "\n",
    "# 특정 범위 내에서 찾기\n",
    "index = text.find(\"o\", 5, 7)\n",
    "print(index)  # 출력: -1 (5번째부터 7번째 인덱스 사이에 'o'가 없음)\n"
   ]
  },
  {
   "cell_type": "code",
   "execution_count": 3,
   "id": "5bc9be83-706d-44b8-b88f-a17809147500",
   "metadata": {},
   "outputs": [
    {
     "name": "stdout",
     "output_type": "stream",
     "text": [
      "['Dave', 'Kevin']\n"
     ]
    }
   ],
   "source": [
    "# split \n",
    "\n",
    "list_data = '[Dave],[Kevin]'\n",
    "\n",
    "print ( [ x[1:-1] for x in list_data.split(',')] )"
   ]
  },
  {
   "cell_type": "code",
   "execution_count": 5,
   "id": "7eebb45c-02ba-4fd2-aef5-17ed80e54c33",
   "metadata": {},
   "outputs": [
    {
     "name": "stdin",
     "output_type": "stream",
     "text": [
      "pw :  123\n"
     ]
    },
    {
     "name": "stdout",
     "output_type": "stream",
     "text": [
      "not same\n"
     ]
    },
    {
     "name": "stdin",
     "output_type": "stream",
     "text": [
      "pw :  22\n"
     ]
    },
    {
     "name": "stdout",
     "output_type": "stream",
     "text": [
      "not same\n"
     ]
    },
    {
     "name": "stdin",
     "output_type": "stream",
     "text": [
      "pw :  22\n"
     ]
    },
    {
     "name": "stdout",
     "output_type": "stream",
     "text": [
      "not same\n"
     ]
    },
    {
     "name": "stdin",
     "output_type": "stream",
     "text": [
      "pw :  33\n"
     ]
    },
    {
     "name": "stdout",
     "output_type": "stream",
     "text": [
      "not same\n"
     ]
    },
    {
     "name": "stdin",
     "output_type": "stream",
     "text": [
      "pw :  44\n"
     ]
    },
    {
     "name": "stdout",
     "output_type": "stream",
     "text": [
      "not same\n"
     ]
    },
    {
     "name": "stdin",
     "output_type": "stream",
     "text": [
      "pw :  55\n"
     ]
    },
    {
     "name": "stdout",
     "output_type": "stream",
     "text": [
      "not same\n"
     ]
    },
    {
     "name": "stdin",
     "output_type": "stream",
     "text": [
      "pw :  1234\n"
     ]
    },
    {
     "name": "stdout",
     "output_type": "stream",
     "text": [
      "okay\n"
     ]
    }
   ],
   "source": [
    "# password \n",
    "\n",
    "while 1:\n",
    "    n = int(input('pw : '))\n",
    "    if n == 1234:\n",
    "        print(\"okay\") \n",
    "        break \n",
    "    print(\"not same\")"
   ]
  },
  {
   "cell_type": "code",
   "execution_count": 8,
   "id": "a2d538e4-3cea-4151-be65-04ee91f64293",
   "metadata": {},
   "outputs": [
    {
     "name": "stdin",
     "output_type": "stream",
     "text": [
      "id :  park\n"
     ]
    },
    {
     "name": "stdout",
     "output_type": "stream",
     "text": [
      "park is god\n"
     ]
    }
   ],
   "source": [
    "# find method \n",
    "\n",
    "string = input(\"id : \")\n",
    "\n",
    "if string.find('park') == 0:\n",
    "    print(\"park is god\")\n",
    "else:\n",
    "    print(\"guess him\")"
   ]
  },
  {
   "cell_type": "code",
   "execution_count": 24,
   "id": "be261012-af35-4f47-b23c-ca13da8fff6a",
   "metadata": {},
   "outputs": [
    {
     "name": "stdout",
     "output_type": "stream",
     "text": [
      "excel2.csv\n",
      "excel3.csv\n"
     ]
    }
   ],
   "source": [
    "# 확장자 제거 \n",
    "\n",
    "list_a = ['excel.txt', 'excel2.csv', 'excel3.csv']\n",
    "\n",
    "# [print(x.split('.')[0]) for x in list_a]\n",
    "\n",
    "# print( [ x for x in list_a if x.split('.')[1] == 'csv'])\n",
    "\n",
    "for x in ( x  for x in list_a if x.split('.')[1] == 'csv') : # 제네레이터 표현식은 리턴값이 없으므로 \n",
    "\n",
    "    print(x)\n"
   ]
  },
  {
   "cell_type": "code",
   "execution_count": 2,
   "id": "e3887e2a-0122-497e-aa79-fa951b07c11d",
   "metadata": {},
   "outputs": [
    {
     "name": "stdin",
     "output_type": "stream",
     "text": [
      "숫자를 입력하세요. :  60\n"
     ]
    },
    {
     "name": "stdout",
     "output_type": "stream",
     "text": [
      "숫자 60 에서 [2, 2, 3, 5] 로 소인수분해가 됩니다.\n"
     ]
    }
   ],
   "source": [
    "### 8 / 31 \n",
    "\n",
    "def factor_divider(num: int) -> list:\n",
    "    factors = []\n",
    "    input_num = num  # num to be divided\n",
    "    divder = 2\n",
    "    while num > 1:\n",
    "\n",
    "        if num % divder == 0:\n",
    "            factors.append(divder)\n",
    "            num //= divder\n",
    "        else:\n",
    "            divder += 1\n",
    "    return (\n",
    "        f\"숫자 {input_num} 에서 {factors} 로 소인수분해가 됩니다.\"\n",
    "        if factors\n",
    "        else f\"{input_num} 에서 소인수분해할 수 없습니다\"\n",
    "    )\n",
    "\n",
    "\n",
    "print(factor_divider(int(input(\"숫자를 입력하세요. : \"))))"
   ]
  },
  {
   "cell_type": "code",
   "execution_count": null,
   "id": "7d7d0824-97db-4438-b493-04d195775008",
   "metadata": {},
   "outputs": [],
   "source": [
    "def id_check(id):\n",
    "    if id == \"admin\" : \n",
    "        print(\"invaild id : admin\")\n",
    "        return # 뒤의 코드를 실행하지 않고 종료한다. \n",
    "    print( \" valid id : \", id ) "
   ]
  },
  {
   "cell_type": "code",
   "execution_count": 5,
   "id": "28e9d91f-fc63-4555-98ae-b2cd6b8dd29b",
   "metadata": {},
   "outputs": [
    {
     "name": "stdout",
     "output_type": "stream",
     "text": [
      "2\n",
      "(1, 2, 3, 4, 3, 4, 5, 2, 3, 4, 5)\n"
     ]
    }
   ],
   "source": [
    "\"\"\"\n",
    "\n",
    "tuple \n",
    "\n",
    "\"\"\"\n",
    "\n",
    "tuple1 = ( 1,2,3,4,3,4,5 ) # can not add , delete in tuple but , it include index for each factors \n",
    "\n",
    "tuple2 = ( 2,3,4,5)\n",
    "print(tuple1[1]) # can read factors in tuple \n",
    "\n",
    "print(tuple1 + tuple2 ) # but can add with \" + \" \n",
    "\n",
    "# if you want to add value in each tuple , you can use 'numpy' module \n",
    "\n"
   ]
  },
  {
   "cell_type": "code",
   "execution_count": 9,
   "id": "b884b51f-154d-41e2-bf2a-0159db846c43",
   "metadata": {},
   "outputs": [
    {
     "name": "stdout",
     "output_type": "stream",
     "text": [
      "<class 'tuple'>\n",
      "<class 'list'>\n"
     ]
    }
   ],
   "source": [
    "# tuple transform list \n",
    "\n",
    "tuple1 = (1,2,3) \n",
    "\n",
    "print(type(tuple1))\n",
    "\n",
    "list1 = list(tuple1)\n",
    "\n",
    "print(type(list1))"
   ]
  },
  {
   "cell_type": "code",
   "execution_count": 11,
   "id": "d4ec2f2e-530f-4276-86b1-32047f4784da",
   "metadata": {},
   "outputs": [
    {
     "name": "stdout",
     "output_type": "stream",
     "text": [
      "<class 'list'>\n"
     ]
    }
   ],
   "source": [
    "# declear \n",
    "\n",
    "data_list = list()\n",
    "data_tuple = tuple()\n",
    "data_dict = dict()\n"
   ]
  },
  {
   "cell_type": "code",
   "execution_count": 15,
   "id": "6fdf5a55-c4da-465c-b335-39fd94583db7",
   "metadata": {},
   "outputs": [
    {
     "name": "stdout",
     "output_type": "stream",
     "text": [
      "{'Korea': 'KR_SS', 'Japan': 'JP', 'Tiwan': 'TW'}\n"
     ]
    }
   ],
   "source": [
    "# dictionary \n",
    "\n",
    "# del dict['key'] \n",
    "\n",
    "dict = {}\n",
    "\n",
    "dict['Korea'] = 'KR' # add key and value to dict \n",
    "dict['Japan'] = 'JP'\n",
    "dict['Tiwan'] = 'TW'\n",
    "\n",
    "dict['Korea'] = 'KR_SS' # revise value in dict \n",
    "\n",
    "# if you want to revise key not value , you can delete key with del keyword and, recreate key and value you want to revise it \n",
    "\n",
    "print(dict)"
   ]
  },
  {
   "cell_type": "code",
   "execution_count": 21,
   "id": "afa75911-2231-4c62-a715-9d12c254d0f9",
   "metadata": {},
   "outputs": [
    {
     "name": "stdout",
     "output_type": "stream",
     "text": [
      "Korea\n",
      "Japan\n",
      "Tiwan\n",
      "tuple ('Korea', 'KR_SS') \n",
      "tuple ('Japan', 'JP') \n",
      "tuple ('Tiwan', 'TW') \n"
     ]
    }
   ],
   "source": [
    "# dict method \n",
    "\n",
    "dict.keys() # print keys \n",
    "\n",
    "for key in dict.keys():\n",
    "    print(key)\n",
    "\n",
    "dict.values() # print values \n",
    "\n",
    "dict.items() # print key and valuse to list \n",
    "\n",
    "for data in dict.items():\n",
    "    print(f\"tuple { data } \")"
   ]
  },
  {
   "cell_type": "code",
   "execution_count": 24,
   "id": "b5fdd9d3-7ee5-40e7-865e-704530611b24",
   "metadata": {},
   "outputs": [
    {
     "name": "stdout",
     "output_type": "stream",
     "text": [
      "{'l', 'g', 'n', 'a', 'o'} {'golang'} {'t', 'n', 'p', 'o', 'h', 'y'} {'golang', 'pyhton'}\n"
     ]
    }
   ],
   "source": [
    "# let's start study for set ! \n",
    "\n",
    "# 집합에 대해서 \n",
    "\n",
    "# 중복이 허용되지 않는다. \n",
    "\n",
    "# 순서가 없다. -> 인덱스를 지원하지 않는다 ! no support index ! \n",
    "\n",
    "a = set('golang') # 개별적으로 집합을 생성 \n",
    "\n",
    "a1 = {'golang'}\n",
    "\n",
    "b = set('python') \n",
    "\n",
    "c = {'pyhton','golang'}\n",
    "\n",
    "print(a,a1,b,c)\n"
   ]
  },
  {
   "cell_type": "code",
   "execution_count": 33,
   "id": "0d2a6c0f-8fdb-467f-9dd5-ecf44292ce6f",
   "metadata": {},
   "outputs": [
    {
     "name": "stdout",
     "output_type": "stream",
     "text": [
      "{'LG'}\n"
     ]
    },
    {
     "data": {
      "text/plain": [
       "{'Samsung', 'asus', 'hitachi'}"
      ]
     },
     "execution_count": 33,
     "metadata": {},
     "output_type": "execute_result"
    }
   ],
   "source": [
    "\n",
    "# intersection ( 교집합 ) \n",
    "\n",
    "# set인 집합 형태는 집합 연산자를 사용할 수 있다. \n",
    "\n",
    "data1 = {'LG','Samsung','hitachi'}\n",
    "\n",
    "data2 = {'LG','asus'}\n",
    "\n",
    "print(data1 & data2) # 교집합 \n",
    "\n",
    "data1 | data2 # 합집합 \n",
    "\n",
    "data1 - data2 # 차집합 -> 순서는 다를 수 있다. \n",
    "\n",
    "data1^data2 # data1에만 있는 데이터와 데이터 2에만 있는 데이터를 출력한다. \n",
    "\n"
   ]
  },
  {
   "cell_type": "code",
   "execution_count": 41,
   "id": "c38ba656-3b84-44b4-99ef-361786f3be1d",
   "metadata": {},
   "outputs": [
    {
     "name": "stdin",
     "output_type": "stream",
     "text": [
      "환전할 금액을 입력해주세요. : 500 달러\n"
     ]
    },
    {
     "name": "stdout",
     "output_type": "stream",
     "text": [
      "675000원 입니다.\n"
     ]
    }
   ],
   "source": [
    "string = input(\"환전할 금액을 입력해주세요. :\" )\n",
    "\n",
    "if string[4:] == '달러':\n",
    "    print(f\"{int(string[:4])*1350}원 입니다.\")"
   ]
  },
  {
   "cell_type": "code",
   "execution_count": 53,
   "id": "a0ef03db-ad57-4f48-9a1c-cbacbd2161d7",
   "metadata": {},
   "outputs": [
    {
     "name": "stdin",
     "output_type": "stream",
     "text": [
      "환전하고자 하는 금액을 입력하시오 . : 1500 위안\n"
     ]
    },
    {
     "name": "stdout",
     "output_type": "stream",
     "text": [
      " 환전된 금액은282000 원 입니다.\n"
     ]
    }
   ],
   "source": [
    "# exercise 45 \n",
    "\n",
    "\"\"\"\n",
    "\n",
    "다음 통화별 환율을 통화단위와 원화 환율을 가진 딕셔너리로 만들고 사용자로부터 달러, 엔 , 또는 위안 금액을 입력 받은 후 이를 원으로 \n",
    "바꾸어서 계산하시오. \n",
    "\n",
    "사용자는 100 달러, 100 엔과 같이 금액과 통화명 사이에 공백을 넣어 입력한다. \n",
    "\n",
    "\"\"\"\n",
    "\n",
    "dict = { '달러' : 1350 , '엔' : 0.92 , '위안' : 188 } \n",
    "\n",
    "money = input(\"환전하고자 하는 금액을 입력하시오 . :\" ).split()\n",
    "\n",
    "\n",
    "\n",
    "print(f\" 환전된 금액은{ int(money[0]) * dict[money[1]] } 원 입니다.\") \n"
   ]
  },
  {
   "cell_type": "code",
   "execution_count": 63,
   "id": "458b4603-d89a-4181-9ddb-0f4d0936b6f3",
   "metadata": {},
   "outputs": [
    {
     "name": "stdout",
     "output_type": "stream",
     "text": [
      "6207동 101호\n",
      "6207동 102호\n",
      "6207동 103호\n",
      "\n",
      "\n",
      "6208동 101호\n",
      "6208동 102호\n",
      "6208동 103호\n",
      "\n",
      "\n",
      "6209동 101호\n",
      "6209동 102호\n",
      "6209동 103호\n",
      "\n",
      "\n"
     ]
    }
   ],
   "source": [
    "# 아파트 동 호수를 출력하기 \n",
    "\n",
    "\"\"\"\n",
    "EX. \n",
    "\n",
    "110동 110호 \n",
    "110동 111호 \n",
    "\n",
    "111동 110호 \n",
    "111동 111호 \n",
    "\n",
    "\"\"\"\n",
    "\n",
    "dongs = ['6209동', '6208동' , '6207동']\n",
    "\n",
    "dongs.sort()\n",
    "\n",
    "hos = [ '101호' , '102호', '103호'] \n",
    "\n",
    "for dong in dongs: \n",
    "    for ho in hos:\n",
    "        print(f\"{dong} {ho}\")\n",
    "    print(\"\\n\")\n"
   ]
  },
  {
   "cell_type": "code",
   "execution_count": 64,
   "id": "1ffd2b67-5ba8-44e3-9b87-de9ae0b47eca",
   "metadata": {},
   "outputs": [
    {
     "name": "stdout",
     "output_type": "stream",
     "text": [
      "6 7\n"
     ]
    }
   ],
   "source": [
    "# \n",
    "\n",
    "v1 , v2 = 6,7 \n",
    "\n",
    "print(v1,v2)"
   ]
  },
  {
   "cell_type": "markdown",
   "id": "eb53f9a5-f334-4475-8dc0-8bb1e8dc7209",
   "metadata": {},
   "source": [
    "# 9 / 1 \n",
    "\n",
    "Exercise 60. 데이터 구조 (딕셔너리)¶\n",
    "다음 actor_info 딕셔너리 변수를 만들고, 홈페이지, 배우 이름, 최근 출연 영화 갯수를 다음과 같이 출력하세요\n",
    "actor_info = {'actor_details': {'생년월일': '1971-03-01',\n",
    "                   '성별': '남',\n",
    "                   '직업': '배우',\n",
    "                   '홈페이지': 'https://www.instagram.com/madongseok'},\n",
    " 'actor_name': '마동석',\n",
    " 'actor_rate': 59361,\n",
    " 'date': '2017-10',\n",
    " 'movie_list': ['범죄도시', '부라더', '부산행']}\n",
    "출력 예:\n",
    "배우 이름: 마동석\n",
    "홈페이지: https://www.instagram.com/madongseok\n",
    "출연 영화 갯수: 3\n"
   ]
  },
  {
   "cell_type": "code",
   "execution_count": 8,
   "id": "550a428d-dabe-4eec-8a7a-c0a2d445ab61",
   "metadata": {},
   "outputs": [
    {
     "name": "stdout",
     "output_type": "stream",
     "text": [
      " 배우 이름 : 마동석\n",
      " 홈페이지 : https://www.instagram.com/madongseok\n",
      " 출연 영화 갯수 : 3 \n"
     ]
    }
   ],
   "source": [
    "actor_info = {'actor_details': {'생년월일': '1971-03-01',\n",
    "                   '성별': '남',\n",
    "                   '직업': '배우',\n",
    "                   '홈페이지': 'https://www.instagram.com/madongseok'},\n",
    " 'actor_name': '마동석',\n",
    " 'actor_rate': 59361,\n",
    " 'date': '2017-10',\n",
    " 'movie_list': ['범죄도시', '부라더', '부산행']}\n",
    "\n",
    "\n",
    "\n",
    "print(f\" 배우 이름 : {actor_info['actor_name']}\\n 홈페이지 : {actor_info['actor_details']['홈페이지']}\\n 출연 영화 갯수 : {len(actor_info['movie_list'])} \")\n"
   ]
  },
  {
   "cell_type": "markdown",
   "id": "4bb85eaf-8b7a-422a-91fa-df83d927e446",
   "metadata": {},
   "source": [
    "\n",
    "### Exercise 62.  데이터 구조 (집합)\n",
    "number_list2에 다음과 같은 데이터를 순서대로 추가하고, 제거하세요\n",
    "```python\n",
    "선언: [1, 2, 3]\n",
    "추가: 4\n",
    "추가(업데이트): [5, 6]\n",
    "제거: 2\n",
    "```"
   ]
  },
  {
   "cell_type": "code",
   "execution_count": 10,
   "id": "9ff2d4d0-7b16-476e-8ed6-752097b1b3f1",
   "metadata": {},
   "outputs": [
    {
     "name": "stdout",
     "output_type": "stream",
     "text": [
      "[1, 3, 4, 5, 6]\n"
     ]
    }
   ],
   "source": [
    "\n",
    "list_data = [1,2,3] \n",
    "\n",
    "list_data.append(4)\n",
    "\n",
    "list_data.extend([5,6])\n",
    "\n",
    "list_data.remove(2) # 특정 데이터 삭제할 때 \n",
    "\n",
    "# pop()은 특정인덱스의 값을 제거하고 , 그 값을 반환한다.\n",
    "# pop()은 인덱스를 지정하지 않으면, 마지막 값을 삭제 \n",
    "\n",
    "print(list_data)"
   ]
  },
  {
   "cell_type": "code",
   "execution_count": 16,
   "id": "165e33fc-fa8f-4fe6-8ecb-df518e90498c",
   "metadata": {},
   "outputs": [
    {
     "data": {
      "text/plain": [
       "{1, 2, 3, 5, 6, 7}"
      ]
     },
     "execution_count": 16,
     "metadata": {},
     "output_type": "execute_result"
    }
   ],
   "source": [
    "\n",
    "# review \n",
    "\n",
    "# 집합 연산자 \n",
    "\n",
    "set1 = { 1, 2, 3 }\n",
    "\n",
    "set2 = { 5,6,7, } \n",
    "\n",
    "set1 & set2  # 공통된 원소가 없으므로 빈 집합이 반환 \n",
    "\n",
    "set1 | set2 # 합집합 \n",
    "\n",
    "set1 - set2 # 공통된 원소로 뺄 것이 없으므로, set1이 그대로 출력\n",
    "\n",
    "set1 ^ set2 # 각 원소가 공통된 것이 아닌 그외의 값을 출력하므로, 모든 원소 출력ㅁ\n"
   ]
  },
  {
   "cell_type": "markdown",
   "id": "8aaad051-5cfc-416a-87be-d692b125c9e4",
   "metadata": {},
   "source": [
    "\n",
    "# let's start fuction review ! \n",
    "\n",
    "사칙연산을 지원하는 함수를 다음과 같이 만들고, 특정 변수에 해당 리턴값을 넣고, 호출해보세요.\n",
    "\n",
    "첫번째 인자: 숫자\n",
    "두번째 인자: 숫자\n",
    "세번째 인자: \"*\" 또는 \"+\"\n",
    "\n",
    "세번째 인자에 따라 첫번째 인자와 두번째 인자를 곱하거나, 더한 값을 리턴\n",
    "만약, 세번째 인자가 \"*\" 또는 \"+\" 가 아니라면, 0을 리턴\n",
    "출력 예1:\n",
    "data = cal(2, 3, \"*\")\n",
    "print (data)\n",
    "\n",
    "6\n",
    "\n",
    "출력 예2:\n",
    "data = cal(2, 3, \"+\")\n",
    "print (data)\n",
    "\n",
    "5\n",
    "\n",
    "출력 예3:\n",
    "data = cal(2, 3, \"-\")\n",
    "print (data)\n",
    "\n",
    "0\n"
   ]
  },
  {
   "cell_type": "code",
   "execution_count": 20,
   "id": "3ac76d04-4c19-47ff-ad31-4b357fbf5272",
   "metadata": {},
   "outputs": [
    {
     "name": "stdin",
     "output_type": "stream",
     "text": [
      "계산하고자 하는 숫자와 연산자를 입력해주세요. 공백으로 구분해주세요. 2 3 +\n"
     ]
    },
    {
     "data": {
      "text/plain": [
       "5"
      ]
     },
     "execution_count": 20,
     "metadata": {},
     "output_type": "execute_result"
    }
   ],
   "source": [
    "\n",
    "def caculator(num1 : int , num2: int , cal : str ):\n",
    "    if cal == \"*\":\n",
    "        return num1 * num2\n",
    "    elif cal == \"+\":\n",
    "        return num1 + num2\n",
    "    else : \n",
    "        print(\"it can't caculate\")\n",
    "\n",
    "pro = input(\"계산하고자 하는 숫자와 연산자를 입력해주세요. 공백으로 구분해주세요.\").split()\n",
    "\n",
    "caculator(int(pro[0]),int(pro[1]),pro[2])"
   ]
  },
  {
   "cell_type": "markdown",
   "id": "2fbc60ec-de91-4bc2-a3cc-ecad8822d7ef",
   "metadata": {},
   "source": [
    "다음과 같은 기능을 하는 함수를 작성하고, 호출해보세요.\n",
    "\n",
    "첫번째 인자: 문자열\n",
    "두번째 인자: 숫자\n",
    "리턴값: 문자열을 숫자만큼 넣은 리스트\n",
    "출력 예1:\n",
    "print_string(\"Fun\", 3)\n",
    "\n",
    "[\"Fun\", \"Fun\", \"Fun\"]"
   ]
  },
  {
   "cell_type": "code",
   "execution_count": 24,
   "id": "4b648f33-a506-44af-8974-c7ccd8c2f522",
   "metadata": {},
   "outputs": [
    {
     "data": {
      "text/plain": [
       "['Fun', 'Fun', 'Fun']"
      ]
     },
     "execution_count": 24,
     "metadata": {},
     "output_type": "execute_result"
    }
   ],
   "source": [
    "def return_setence(setence:str, num:int) -> list[str]: # type hint\n",
    "    list_1 = []\n",
    "    for i in range(num):\n",
    "        list_1.append(setence)\n",
    "    return list_1\n",
    "return_setence(\"Fun\",3)"
   ]
  },
  {
   "cell_type": "markdown",
   "id": "4a9b7002-b4a4-401d-8102-8e7cd826d6a4",
   "metadata": {},
   "source": [
    "## Object Oriented Programming \n",
    "\n",
    "ex. split() -> 객체지향으로 구성됨 \n",
    "\n"
   ]
  },
  {
   "cell_type": "code",
   "execution_count": 27,
   "id": "32cdab8b-a317-49c2-8dc6-60108e990561",
   "metadata": {},
   "outputs": [
    {
     "name": "stdout",
     "output_type": "stream",
     "text": [
      "Requirement already satisfied: matplotlib in c:\\users\\zxcc9\\appdata\\local\\programs\\python\\python310\\lib\\site-packages (3.9.2)Note: you may need to restart the kernel to use updated packages.\n",
      "\n",
      "Requirement already satisfied: contourpy>=1.0.1 in c:\\users\\zxcc9\\appdata\\local\\programs\\python\\python310\\lib\\site-packages (from matplotlib) (1.3.0)\n",
      "Requirement already satisfied: cycler>=0.10 in c:\\users\\zxcc9\\appdata\\local\\programs\\python\\python310\\lib\\site-packages (from matplotlib) (0.12.1)\n",
      "Requirement already satisfied: fonttools>=4.22.0 in c:\\users\\zxcc9\\appdata\\local\\programs\\python\\python310\\lib\\site-packages (from matplotlib) (4.53.1)\n",
      "Requirement already satisfied: kiwisolver>=1.3.1 in c:\\users\\zxcc9\\appdata\\local\\programs\\python\\python310\\lib\\site-packages (from matplotlib) (1.4.5)\n",
      "Requirement already satisfied: numpy>=1.23 in c:\\users\\zxcc9\\appdata\\local\\programs\\python\\python310\\lib\\site-packages (from matplotlib) (2.1.0)\n",
      "Requirement already satisfied: packaging>=20.0 in c:\\users\\zxcc9\\appdata\\local\\programs\\python\\python310\\lib\\site-packages (from matplotlib) (24.1)\n",
      "Requirement already satisfied: pillow>=8 in c:\\users\\zxcc9\\appdata\\local\\programs\\python\\python310\\lib\\site-packages (from matplotlib) (10.4.0)\n",
      "Requirement already satisfied: pyparsing>=2.3.1 in c:\\users\\zxcc9\\appdata\\local\\programs\\python\\python310\\lib\\site-packages (from matplotlib) (3.1.4)\n",
      "Requirement already satisfied: python-dateutil>=2.7 in c:\\users\\zxcc9\\appdata\\local\\programs\\python\\python310\\lib\\site-packages (from matplotlib) (2.9.0.post0)\n",
      "Requirement already satisfied: six>=1.5 in c:\\users\\zxcc9\\appdata\\local\\programs\\python\\python310\\lib\\site-packages (from python-dateutil>=2.7->matplotlib) (1.16.0)\n"
     ]
    }
   ],
   "source": [
    "pip install matplotlib"
   ]
  },
  {
   "cell_type": "code",
   "execution_count": 29,
   "id": "7a44da48-9be0-4f2a-afaf-ce051579caab",
   "metadata": {},
   "outputs": [
    {
     "data": {
      "image/png": "[encoded data removed]",
      "text/plain": [
       "<Figure size 640x480 with 1 Axes>"
      ]
     },
     "metadata": {},
     "output_type": "display_data"
    }
   ],
   "source": [
    "import matplotlib.pyplot as plt\n",
    "\n",
    "class Quad:\n",
    "    def __init__(self, height=0, width=0, color=\"\"):\n",
    "        self.height = height # 인스턴스를 호출할 때 사용된 인자값을 클래스의 height에 넣음 ㅇ\n",
    "        self.width = width\n",
    "        self.color = color\n",
    "    \n",
    "    def get_area(self): # 항상 self를 인자로 넣어야 한다 \n",
    "        return self.height * self.width\n",
    "    \n",
    "    def draw(self):\n",
    "        # 사각형을 그리기 위한 Rectangle 객체 생성\n",
    "        rectangle = plt.Rectangle((0, 0), self.width, self.height, color=self.color)\n",
    "        \n",
    "        # 현재의 플롯에 사각형 추가\n",
    "        plt.gca().add_patch(rectangle)\n",
    "        \n",
    "        # 플롯 설정 (축의 비율을 사각형이 왜곡되지 않게 함)\n",
    "        plt.xlim(0, self.width + 1)\n",
    "        plt.ylim(0, self.height + 1)\n",
    "        plt.gca().set_aspect('equal', adjustable='box')\n",
    "        plt.show()\n",
    "\n",
    "# 사각형 객체 생성 및 그리기\n",
    "quad = Quad(height=4, width=6, color='blue')\n",
    "quad.draw()\n"
   ]
  },
  {
   "cell_type": "code",
   "execution_count": 49,
   "id": "ac0c0832-5946-439c-add5-aaea0258df4d",
   "metadata": {},
   "outputs": [
    {
     "name": "stdout",
     "output_type": "stream",
     "text": [
      "lee 25\n",
      "park 20\n"
     ]
    }
   ],
   "source": [
    "class tes():\n",
    "    def __init__(self,name,age): # __init__은 None을 반환하므로, return으로 안된다.므\n",
    "        self.name = name\n",
    "        self.age = age \n",
    "\n",
    "    def get_info(self):\n",
    "        \n",
    "        return self.name.upper() , self.age \n",
    "    def test_print(self,name,age): \n",
    "\n",
    "         print(name,age)\n",
    "         print(self.name, self.age)\n",
    "test1 = tes(\"park\",20) # 인스턴스를 생성할 때 , self.name과 self.age가 결정 \n",
    "\n",
    "test1.test_print(\"lee\", 25)"
   ]
  },
  {
   "cell_type": "code",
   "execution_count": null,
   "id": "c86a2585-23d6-4fb0-a9fe-18f3ba85215c",
   "metadata": {},
   "outputs": [],
   "source": []
  }
 ],
 "metadata": {
  "kernelspec": {
   "display_name": "Python 3 (ipykernel)",
   "language": "python",
   "name": "python3"
  },
  "language_info": {
   "codemirror_mode": {
    "name": "ipython",
    "version": 3
   },
   "file_extension": ".py",
   "mimetype": "text/x-python",
   "name": "python",
   "nbconvert_exporter": "python",
   "pygments_lexer": "ipython3",
   "version": "3.10.9"
  }
 },
 "nbformat": 4,
 "nbformat_minor": 5
}
