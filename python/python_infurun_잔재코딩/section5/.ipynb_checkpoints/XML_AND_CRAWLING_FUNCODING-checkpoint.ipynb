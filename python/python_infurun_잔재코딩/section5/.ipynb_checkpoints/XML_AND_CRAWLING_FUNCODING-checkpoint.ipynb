{
 "cells": [
  {
   "cell_type": "markdown",
   "metadata": {},
   "source": [
    "<div class=\"alert alert-block\" style=\"border: 2px solid #1976D2;background-color:#E3F2FD;padding:5px;font-size:0.9em;\">\n",
    "본 자료는 저작권법 제25조 2항에 의해 보호를 받습니다. 본 자료를 외부에 공개하지 말아주세요.<br>\n",
    "본 강의만 잘 정리하면, 데이터 분석, 데이터 과학, 풀스택(백엔드, 프론트엔드) 개발 모두 가능합니다!<br>\n",
    "<b><a href=\"https://school.fun-coding.org/\">잔재미코딩</a> 에서 본 강의 기반 최적화된 로드맵도 확인하실 수 있습니다</b></div>"
   ]
  },
  {
   "cell_type": "markdown",
   "metadata": {
    "pycharm": {
     "name": "#%% md\n"
    }
   },
   "source": [
    "### 다양한 데이터 포멧 - XML"
   ]
  },
  {
   "cell_type": "markdown",
   "metadata": {
    "pycharm": {
     "name": "#%% md\n"
    }
   },
   "source": [
    "* XML(Extensible Markup Language)\n",
    "  - 특정 목적에 따라 데이터를 태그로 감싸서 마크업하는 범용적인 포멧\n",
    "  - 마크업 언어는 태그 등을 이용하여 데이터의 구조를 기술하는 언어의 한 가지\n",
    "  - 가장 친숙한 마크업 언어가 HTML\n",
    "  - XML은 HTML과 마찬가지로 데이터를 계층 구조로 표현\n",
    "  - XML 기본 구조\n",
    "\n",
    "```html\n",
    "  <태그 속성=\"속성값\">내용</태그>\n",
    "```\n",
    "\n",
    "> OPEN API 에서도 XML 포멧을 제공하는 경우가 많고, <br>\n",
    "> 데이터 분석을 위한 기존 데이터에서도 XML 포멧으로 되어 있는 경우가 있으며, <br>\n",
    "> IT 기본 배경 지식차원에서도 정리할 필요가 있음"
   ]
  },
  {
   "cell_type": "markdown",
   "metadata": {
    "pycharm": {
     "name": "#%% md\n"
    }
   },
   "source": [
    "    - 태그와 속성은 특정 목적에 따라 임의로 이름을 정해서 사용"
   ]
  },
  {
   "cell_type": "raw",
   "metadata": {
    "pycharm": {
     "name": "#%% raw\n"
    }
   },
   "source": [
    "  <product id=\"M001\" price=\"300000\">32인치 LCD 모니터</product>"
   ]
  },
  {
   "cell_type": "markdown",
   "metadata": {
    "pycharm": {
     "name": "#%% md\n"
    }
   },
   "source": [
    "    - 다른 요소와 그룹으로 묶을 수도 있음"
   ]
  },
  {
   "cell_type": "raw",
   "metadata": {
    "pycharm": {
     "name": "#%% raw\n"
    }
   },
   "source": [
    "  <products type=\"전자제품\">\n",
    "      <product id=\"M001\" price=\"300000\">32인치 LCD 모니터</product>\n",
    "      <product id=\"M002\" price=\"210000\">24인치 LCD 모니터</product>\n",
    "  </products>"
   ]
  },
  {
   "cell_type": "markdown",
   "metadata": {},
   "source": [
    "### XML 데이터에서 원하는 데이터 추출하기\n",
    "- 기존에 익힌 크롤링 기법으로 XML 데이터에서 원하는 데이터 추출도 가능합니다."
   ]
  },
  {
   "cell_type": "code",
   "execution_count": 52,
   "metadata": {},
   "outputs": [],
   "source": [
    "xmldata = '''\n",
    "<?xml version=\"1.0\" encoding=\"UTF-8\"?>\n",
    "<response>\n",
    "  <header>\n",
    "    <resultCode>00</resultCode>\n",
    "    <resultMsg>NORMAL_CODE</resultMsg>\n",
    "  </header>\n",
    "  <body>\n",
    "    <items>\n",
    "      <item>\n",
    "        <imageUrl4>https://www.airkorea.or.kr/file/proxyImage?fileName=2024/03/22/AQF.20240321.NIER_09_01.PM2P5.1hsp.2024032203.png</imageUrl4>\n",
    "        <informCode>PM10</informCode>\n",
    "        <imageUrl5>https://www.airkorea.or.kr/file/proxyImage?fileName=2024/03/22/AQF.20240321.NIER_09_01.PM2P5.1hsp.2024032209.png</imageUrl5>\n",
    "        <imageUrl6>https://www.airkorea.or.kr/file/proxyImage?fileName=2024/03/22/AQF.20240321.NIER_09_01.PM2P5.1hsp.2024032215.png</imageUrl6>\n",
    "        <actionKnack/>\n",
    "        <informCause>○ [미세먼지] 대기질이 대체로 &apos;보통&apos; 수준이겠으나, 일부 중서부지역은 황사가 유입되어 밤에 농도가 다소 높을 것으로 예상됩니다.&#xd;\n",
    "※ 어제(21일) 오후 고비사막과 내몽골 고원 부근에서 황사가 발원했으며, 이 황사는 오늘(22일) 오후부터 내일(23일) 새벽 사이 우리나라에 유입되어 영향을 미칠 가능성이 있습니다. 다만, 황사의 국내 영향 범위와 농도 수준, 그리고 지속시간은 기류에 따라 변동 가능성이 있으므로 추후 발표되는 예보를 참고하시기 바랍니다.</informCause>\n",
    "        <informOverall>○ [미세먼지] 전 권역이 &apos;좋음&apos;∼&apos;보통&apos;으로 예상됩니다. 다만, 인천은 밤에 일시적으로 &apos;나쁨&apos; 수준일 것으로 예상됩니다.</informOverall>\n",
    "        <informData>2024-03-22</informData>\n",
    "        <informGrade>서울 : 보통,제주 : 좋음,전남 : 좋음,전북 : 보통,광주 : 좋음,경남 : 좋음,경북 : 보통,울산 : 보통,대구 : 보통,부산 : 좋음,충남 : 보통,충북 : 보통,세종 : 좋음,대전 : 좋음,영동 : 좋음,영서 : 보통,경기남부 : 보통,경기북부 : 보통,인천 : 보통</informGrade>\n",
    "        <dataTime>2024-03-22 11시 발표</dataTime>\n",
    "        <imageUrl3>https://www.airkorea.or.kr/file/proxyImage?fileName=2024/03/22/AQF.20240321.NIER_09_01.PM10.1hsp.2024032215.png</imageUrl3>\n",
    "        <imageUrl2>https://www.airkorea.or.kr/file/proxyImage?fileName=2024/03/22/AQF.20240321.NIER_09_01.PM10.1hsp.2024032209.png</imageUrl2>\n",
    "        <imageUrl1>https://www.airkorea.or.kr/file/proxyImage?fileName=2024/03/22/AQF.20240321.NIER_09_01.PM10.1hsp.2024032203.png</imageUrl1>\n",
    "      </item>\n",
    "      <item>\n",
    "        <imageUrl4/>\n",
    "        <informCode>PM10</informCode>\n",
    "        <imageUrl5/>\n",
    "        <imageUrl6/>\n",
    "        <actionKnack/>\n",
    "        <informCause>○ [미세먼지] 대기질이 대체로 &apos;보통&apos; 수준이겠으나, 대부분 서쪽지역은 국외 미세먼지와 잔류 황사의 영향으로 농도가 다소 높을 것으로 예상됩니다.</informCause>\n",
    "        <informOverall>○ [미세먼지] 전 권역이 &apos;좋음&apos;∼&apos;보통&apos;으로 예상됩니다. 다만, 수도권·충남·전북은 오전에 &apos;나쁨&apos; 수준일 것으로 예상됩니다.</informOverall>\n",
    "        <informData>2024-03-23</informData>\n",
    "        <informGrade>서울 : 보통,제주 : 좋음,전남 : 보통,전북 : 보통,광주 : 보통,경남 : 보통,경북 : 보통,울산 : 보통,대구 : 보통,부산 : 보통,충남 : 보통,충북 : 보통,세종 : 보통,대전 : 보통,영동 : 좋음,영서 : 보통,경기남부 : 보통,경기북부 : 보통,인천 : 보통</informGrade>\n",
    "        <dataTime>2024-03-22 11시 발표</dataTime>\n",
    "        <imageUrl3/>\n",
    "        <imageUrl2/>\n",
    "        <imageUrl1/>\n",
    "      </item>\n",
    "      <item>\n",
    "        <imageUrl4>https://www.airkorea.or.kr/file/proxyImage?fileName=2024/03/22/AQF.20240321.NIER_09_01.PM2P5.1hsp.2024032203.png</imageUrl4>\n",
    "        <informCode>PM25</informCode>\n",
    "        <imageUrl5>https://www.airkorea.or.kr/file/proxyImage?fileName=2024/03/22/AQF.20240321.NIER_09_01.PM2P5.1hsp.2024032209.png</imageUrl5>\n",
    "        <imageUrl6>https://www.airkorea.or.kr/file/proxyImage?fileName=2024/03/22/AQF.20240321.NIER_09_01.PM2P5.1hsp.2024032215.png</imageUrl6>\n",
    "        <actionKnack/>\n",
    "        <informCause>○ [미세먼지] 대기질이 대체로 &apos;보통&apos; 수준이겠으나, 일부 중서부지역은 황사가 유입되어 밤에 농도가 다소 높을 것으로 예상됩니다.&#xd;\n",
    "※ 어제(21일) 오후 고비사막과 내몽골 고원 부근에서 황사가 발원했으며, 이 황사는 오늘(22일) 오후부터 내일(23일) 새벽 사이 우리나라에 유입되어 영향을 미칠 가능성이 있습니다. 다만, 황사의 국내 영향 범위와 농도 수준, 그리고 지속시간은 기류에 따라 변동 가능성이 있으므로 추후 발표되는 예보를 참고하시기 바랍니다.</informCause>\n",
    "        <informOverall>○ [미세먼지] 전 권역이 &apos;좋음&apos;∼&apos;보통&apos;으로 예상됩니다. 다만, 인천은 밤에 일시적으로 &apos;나쁨&apos; 수준일 것으로 예상됩니다.</informOverall>\n",
    "        <informData>2024-03-22</informData>\n",
    "        <informGrade>서울 : 보통,제주 : 좋음,전남 : 좋음,전북 : 좋음,광주 : 좋음,경남 : 보통,경북 : 보통,울산 : 보통,대구 : 보통,부산 : 보통,충남 : 보통,충북 : 보통,세종 : 보통,대전 : 보통,영동 : 보통,영서 : 보통,경기남부 : 보통,경기북부 : 보통,인천 : 보통</informGrade>\n",
    "        <dataTime>2024-03-22 11시 발표</dataTime>\n",
    "        <imageUrl3>https://www.airkorea.or.kr/file/proxyImage?fileName=2024/03/22/AQF.20240321.NIER_09_01.PM10.1hsp.2024032215.png</imageUrl3>\n",
    "        <imageUrl2>https://www.airkorea.or.kr/file/proxyImage?fileName=2024/03/22/AQF.20240321.NIER_09_01.PM10.1hsp.2024032209.png</imageUrl2>\n",
    "        <imageUrl1>https://www.airkorea.or.kr/file/proxyImage?fileName=2024/03/22/AQF.20240321.NIER_09_01.PM10.1hsp.2024032203.png</imageUrl1>\n",
    "      </item>\n",
    "      <item>\n",
    "        <imageUrl4/>\n",
    "        <informCode>PM25</informCode>\n",
    "        <imageUrl5/>\n",
    "        <imageUrl6/>\n",
    "        <actionKnack/>\n",
    "        <informCause>○ [미세먼지] 대기질이 대체로 &apos;보통&apos; 수준이겠으나, 대부분 서쪽지역은 국외 미세먼지와 잔류 황사의 영향으로 농도가 다소 높을 것으로 예상됩니다.</informCause>\n",
    "        <informOverall>○ [미세먼지] 전 권역이 &apos;좋음&apos;∼&apos;보통&apos;으로 예상됩니다. 다만, 수도권·충남·전북은 오전에 &apos;나쁨&apos; 수준일 것으로 예상됩니다.</informOverall>\n",
    "        <informData>2024-03-23</informData>\n",
    "        <informGrade>서울 : 보통,제주 : 좋음,전남 : 보통,전북 : 보통,광주 : 보통,경남 : 보통,경북 : 보통,울산 : 보통,대구 : 보통,부산 : 보통,충남 : 보통,충북 : 보통,세종 : 보통,대전 : 보통,영동 : 좋음,영서 : 보통,경기남부 : 보통,경기북부 : 보통,인천 : 보통</informGrade>\n",
    "        <dataTime>2024-03-22 11시 발표</dataTime>\n",
    "        <imageUrl3/>\n",
    "        <imageUrl2/>\n",
    "        <imageUrl1/>\n",
    "      </item>\n",
    "      <item>\n",
    "        <imageUrl4>https://www.airkorea.or.kr/file/proxyImage?fileName=2024/03/22/AQF.20240321.NIER_09_01.PM2P5.1hsp.2024032200.png</imageUrl4>\n",
    "        <informCode>PM10</informCode>\n",
    "        <imageUrl5>https://www.airkorea.or.kr/file/proxyImage?fileName=2024/03/22/AQF.20240321.NIER_09_01.PM2P5.1hsp.2024032206.png</imageUrl5>\n",
    "        <imageUrl6>https://www.airkorea.or.kr/file/proxyImage?fileName=2024/03/22/AQF.20240321.NIER_09_01.PM2P5.1hsp.2024032212.png</imageUrl6>\n",
    "        <actionKnack/>\n",
    "        <informCause>○ [미세먼지] 원활한 대기 확산과 강수의 영향으로 대기질이 대체로 청정하겠으나, 일부 서쪽지역은 황사가 유입되어 밤에 농도가 다소 높을 것으로 예상됩니다.&#xd;\n",
    "※ 어제(21일) 오후 고비사막과 내몽골 고원 부근에서 황사가 발원했고, 발원한 황사는 오늘(22일) 오후부터 내일(23일) 새벽 사이 우리나라에 유입되어 영향을 미칠 가능성이 있습니다. 다만, 이 황사의 국내 영향 범위와 농도 수준, 그리고 지속시간은 기류에 따라 변동 가능성이 있으므로 추후 발표되는 예보를 참고하시기 바랍니다.</informCause>\n",
    "        <informOverall>○ [미세먼지] 전 권역이 &apos;좋음&apos;∼&apos;보통&apos;으로 예상됩니다. 다만, 인천·경기남부·충남·전북은 밤에 일시적으로 &apos;나쁨&apos; 수준일 것으로 예상됩니다.</informOverall>\n",
    "        <informData>2024-03-22</informData>\n",
    "        <informGrade>서울 : 보통,제주 : 좋음,전남 : 좋음,전북 : 보통,광주 : 좋음,경남 : 좋음,경북 : 좋음,울산 : 좋음,대구 : 좋음,부산 : 좋음,충남 : 보통,충북 : 보통,세종 : 좋음,대전 : 좋음,영동 : 좋음,영서 : 보통,경기남부 : 보통,경기북부 : 보통,인천 : 보통</informGrade>\n",
    "        <dataTime>2024-03-22 05시 발표</dataTime>\n",
    "        <imageUrl3>https://www.airkorea.or.kr/file/proxyImage?fileName=2024/03/22/AQF.20240321.NIER_09_01.PM10.1hsp.2024032212.png</imageUrl3>\n",
    "        <imageUrl2>https://www.airkorea.or.kr/file/proxyImage?fileName=2024/03/22/AQF.20240321.NIER_09_01.PM10.1hsp.2024032206.png</imageUrl2>\n",
    "        <imageUrl1>https://www.airkorea.or.kr/file/proxyImage?fileName=2024/03/22/AQF.20240321.NIER_09_01.PM10.1hsp.2024032200.png</imageUrl1>\n",
    "      </item>\n",
    "      <item>\n",
    "        <imageUrl4/>\n",
    "        <informCode>PM10</informCode>\n",
    "        <imageUrl5/>\n",
    "        <imageUrl6/>\n",
    "        <actionKnack/>\n",
    "        <informCause>○ [미세먼지] 대기질이 대체로 &apos;보통&apos; 수준이겠으나, 일부 서쪽지역은 국외 미세먼지와 잔류 황사의 영향으로 농도가 다소 높을 것으로 예상됩니다.</informCause>\n",
    "        <informOverall>○ [미세먼지] 전 권역이 &apos;좋음&apos;∼&apos;보통&apos;으로 예상됩니다. 다만, 인천·경기남부·충남·전북은 오전에 일시적으로 &apos;나쁨&apos; 수준일 것으로 예상됩니다.</informOverall>\n",
    "        <informData>2024-03-23</informData>\n",
    "        <informGrade>서울 : 보통,제주 : 좋음,전남 : 보통,전북 : 보통,광주 : 보통,경남 : 보통,경북 : 보통,울산 : 보통,대구 : 보통,부산 : 보통,충남 : 보통,충북 : 보통,세종 : 보통,대전 : 보통,영동 : 좋음,영서 : 보통,경기남부 : 보통,경기북부 : 보통,인천 : 보통</informGrade>\n",
    "        <dataTime>2024-03-22 05시 발표</dataTime>\n",
    "        <imageUrl3/>\n",
    "        <imageUrl2/>\n",
    "        <imageUrl1/>\n",
    "      </item>\n",
    "      <item>\n",
    "        <imageUrl4>https://www.airkorea.or.kr/file/proxyImage?fileName=2024/03/22/AQF.20240321.NIER_09_01.PM2P5.1hsp.2024032200.png</imageUrl4>\n",
    "        <informCode>PM25</informCode>\n",
    "        <imageUrl5>https://www.airkorea.or.kr/file/proxyImage?fileName=2024/03/22/AQF.20240321.NIER_09_01.PM2P5.1hsp.2024032206.png</imageUrl5>\n",
    "        <imageUrl6>https://www.airkorea.or.kr/file/proxyImage?fileName=2024/03/22/AQF.20240321.NIER_09_01.PM2P5.1hsp.2024032212.png</imageUrl6>\n",
    "        <actionKnack/>\n",
    "        <informCause>○ [미세먼지] 원활한 대기 확산과 강수의 영향으로 대기질이 대체로 청정하겠으나, 일부 서쪽지역은 황사가 유입되어 밤에 농도가 다소 높을 것으로 예상됩니다.&#xd;\n",
    "※ 어제(21일) 오후 고비사막과 내몽골 고원 부근에서 황사가 발원했고, 발원한 황사는 오늘(22일) 오후부터 내일(23일) 새벽 사이 우리나라에 유입되어 영향을 미칠 가능성이 있습니다. 다만, 이 황사의 국내 영향 범위와 농도 수준, 그리고 지속시간은 기류에 따라 변동 가능성이 있으므로 추후 발표되는 예보를 참고하시기 바랍니다.</informCause>\n",
    "        <informOverall>○ [미세먼지] 전 권역이 &apos;좋음&apos;∼&apos;보통&apos;으로 예상됩니다. 다만, 인천·경기남부·충남·전북은 밤에 일시적으로 &apos;나쁨&apos; 수준일 것으로 예상됩니다.</informOverall>\n",
    "        <informData>2024-03-22</informData>\n",
    "        <informGrade>서울 : 보통,제주 : 좋음,전남 : 좋음,전북 : 보통,광주 : 좋음,경남 : 좋음,경북 : 보통,울산 : 보통,대구 : 좋음,부산 : 좋음,충남 : 보통,충북 : 보통,세종 : 좋음,대전 : 좋음,영동 : 좋음,영서 : 보통,경기남부 : 보통,경기북부 : 보통,인천 : 보통</informGrade>\n",
    "        <dataTime>2024-03-22 05시 발표</dataTime>\n",
    "        <imageUrl3>https://www.airkorea.or.kr/file/proxyImage?fileName=2024/03/22/AQF.20240321.NIER_09_01.PM10.1hsp.2024032212.png</imageUrl3>\n",
    "        <imageUrl2>https://www.airkorea.or.kr/file/proxyImage?fileName=2024/03/22/AQF.20240321.NIER_09_01.PM10.1hsp.2024032206.png</imageUrl2>\n",
    "        <imageUrl1>https://www.airkorea.or.kr/file/proxyImage?fileName=2024/03/22/AQF.20240321.NIER_09_01.PM10.1hsp.2024032200.png</imageUrl1>\n",
    "      </item>\n",
    "      <item>\n",
    "        <imageUrl4/>\n",
    "        <informCode>PM25</informCode>\n",
    "        <imageUrl5/>\n",
    "        <imageUrl6/>\n",
    "        <actionKnack/>\n",
    "        <informCause>○ [미세먼지] 대기질이 대체로 &apos;보통&apos; 수준이겠으나, 일부 서쪽지역은 국외 미세먼지와 잔류 황사의 영향으로 농도가 다소 높을 것으로 예상됩니다.</informCause>\n",
    "        <informOverall>○ [미세먼지] 전 권역이 &apos;좋음&apos;∼&apos;보통&apos;으로 예상됩니다. 다만, 인천·경기남부·충남·전북은 오전에 일시적으로 &apos;나쁨&apos; 수준일 것으로 예상됩니다.</informOverall>\n",
    "        <informData>2024-03-23</informData>\n",
    "        <informGrade>서울 : 보통,제주 : 좋음,전남 : 보통,전북 : 보통,광주 : 보통,경남 : 보통,경북 : 보통,울산 : 보통,대구 : 보통,부산 : 보통,충남 : 보통,충북 : 보통,세종 : 보통,대전 : 보통,영동 : 좋음,영서 : 보통,경기남부 : 보통,경기북부 : 보통,인천 : 보통</informGrade>\n",
    "        <dataTime>2024-03-22 05시 발표</dataTime>\n",
    "        <imageUrl3/>\n",
    "        <imageUrl2/>\n",
    "        <imageUrl1/>\n",
    "      </item>\n",
    "    </items>\n",
    "    <numOfRows>100</numOfRows>\n",
    "    <pageNo>1</pageNo>\n",
    "    <totalCount>8</totalCount>\n",
    "  </body>\n",
    "</response>\n",
    "'''"
   ]
  },
  {
   "cell_type": "markdown",
   "metadata": {},
   "source": [
    "- parser 도 선택가능합니다. \n",
    "  - 문서작성 프로그램 종류: 한글, MS WORD 처럼 파서도 여러가지가 있습니다.\n",
    "  - html.parser 파서도 있고 lxml 파서도 있습니다. (내부 구현이 다르므로, 데이터에 따라 조금씩 결과가 다를 수 있음)"
   ]
  },
  {
   "cell_type": "code",
   "execution_count": 59,
   "metadata": {},
   "outputs": [
    {
     "name": "stdout",
     "output_type": "stream",
     "text": [
      "2024-03-22 11시 발표 PM10\n",
      "2024-03-22 11시 발표 PM10\n",
      "2024-03-22 11시 발표 PM25\n",
      "2024-03-22 11시 발표 PM25\n",
      "2024-03-22 05시 발표 PM10\n",
      "2024-03-22 05시 발표 PM10\n",
      "2024-03-22 05시 발표 PM25\n",
      "2024-03-22 05시 발표 PM25\n"
     ]
    }
   ],
   "source": [
    "from bs4 import BeautifulSoup\n",
    "\n",
    "soup = BeautifulSoup(xmldata, 'lxml')\n",
    "\n",
    "data = soup.find_all('item')\n",
    "for item in data:\n",
    "    datatime = item.find('datatime')\n",
    "    informcode = item.find('informcode') # informCode 와 같이 대문자로 쓰면 추출하지 못하는 현상이 있음\n",
    "    print (datatime.get_text(), informcode.get_text())"
   ]
  },
  {
   "cell_type": "markdown",
   "metadata": {},
   "source": [
    "### OPEN API 와 XML\n",
    "- 다양한 OPEN API 가 있고 (예: 네이버, 공공데이터포털등) 데이터를 XML 형식으로 받을 수 있음\n",
    "\n",
    "> 기존에는 정부 공공데이터포털 OPEN API 를 예로 들었으나, 사용률이 떨어져서 정상 운영이 안되는 경우가 많았음 (예 1개월동안 동작안함) <br>\n",
    "> 따라서 자체적으로 OPEN API 를 구현하여 테스트 가능하도록 함 (테스트용도로만 사용 바람)"
   ]
  },
  {
   "cell_type": "markdown",
   "metadata": {},
   "source": [
    "```python\n",
    "# OPEN API 예 (보통 OPEN API 는 각 OPEN API 를 호출하는 파이썬 샘플 코드와 사용법을 설명하는 경우가 많음)\n",
    "import requests\n",
    "\n",
    "url = 'http://apis.data.go.kr/B552584/ArpltnInforInqireSvc/getMinuDustFrcstDspth'\n",
    "request_params = {\n",
    "    'serviceKey' : '여러분들의 서비스키', # 서비스키를 발급 받아서, 넣어줘야 하는 케이스가 많음\n",
    "    'returnType' : 'xml', # 데이터를 xml 형식으로 받으려면, returnType 에 xml 값을 넣어주라고 가이드함\n",
    "    'numOfRows' : '100', # 몇 개의 데이터를 받아올지를 numOfRows 에 값을 넣어주라고 가이드함\n",
    "    'pageNo' : '1', # 수천개의 데이터이면 이를 페이지로 잘라서, 그중 몇번째 페이지의 데이터를 받아올지를, pageNo 에 넣어주라고 가이드함\n",
    "    'searchDate' : '2024-03-22', # 어느 날짜에 해당하는 데이터를 가져올지를, searchDate 에 넣어주라고 가이드함\n",
    "    'InformCode' : 'PM10' # 어떤 타입의 데이터를 가져올지를, InformCode 에 넣어주라고 가이드함\n",
    "}\n",
    "\n",
    "response = requests.get(url, params=request_params) # requests.get() 으로 주소와 요청 데이터를 넣어줄 수 있음\n",
    "\n",
    "# 응답 데이터를 'utf-8'로 디코딩 (가져온 데이터가 깨져보이면, 인코딩 방식을 설정하여, 해당 인코딩 방식으로 변환하도록 할 수 있음)\n",
    "xml_data = response.content.decode('utf-8')\n",
    "\n",
    "print(xml_data)\n",
    "```"
   ]
  },
  {
   "cell_type": "markdown",
   "metadata": {},
   "source": [
    "<div class=\"alert alert-block\" style=\"border: 2px solid #E65100;background-color:#FFF3E0;padding:10px\">\n",
    "    <font size=\"3em\" style=\"font-weight:bold;color:#BF360C;\">주의: 공공데이터 Open API</font><br>\n",
    "<font size=\"2em\" style=\"color:#BF360C;\">\n",
    "코드 실행시마다, 서버에 요청을 하게 되므로, 과도한 실행은 결국 서버를 공격하는 것이 됨(예: DDos 공격) <br>\n",
    "    <b>따라서, 한번만 실행 부탁드립니다. 일정 시간동안 다양한 수강자별 요청이 많으면, 다음에 요청을 하라는 메세지만 리턴하도록 만들었습니다.</b> <br>\n",
    "    <b>다음 고정된 파라미터값에 대한 결과만 리턴하며, 파라미터값을 변경하면 정상동작하지 않습니다.</b><br>    \n",
    "</font>    \n",
    "</div>"
   ]
  },
  {
   "cell_type": "code",
   "execution_count": 5,
   "metadata": {},
   "outputs": [
    {
     "name": "stdout",
     "output_type": "stream",
     "text": [
      "2024-03-22 11시 발표 PM10\n",
      "2024-03-22 11시 발표 PM10\n",
      "2024-03-22 11시 발표 PM25\n",
      "2024-03-22 11시 발표 PM25\n",
      "2024-03-22 05시 발표 PM10\n",
      "2024-03-22 05시 발표 PM10\n",
      "2024-03-22 05시 발표 PM25\n",
      "2024-03-22 05시 발표 PM25\n"
     ]
    }
   ],
   "source": [
    "from bs4 import BeautifulSoup\n",
    "import requests\n",
    "\n",
    "url = 'https://www.fun-coding.org/posts/dust-forecast'\n",
    "request_params = {\n",
    "    'serviceKey' : 'Bx2fQ8Kp7Ld1Rz5Mj9Nh3Gt6Ws4Uc0Vk1Ea8Hb7Jc3Xt9Fy6Dg0Sj2Zw7Ar4Li5Kq1Pv', \n",
    "    'returnType' : 'xml', \n",
    "    'numOfRows' : '100', \n",
    "    'pageNo' : '1', \n",
    "    'searchDate' : '2024-03-22', \n",
    "    'InformCode' : 'PM10' \n",
    "}\n",
    "\n",
    "response = requests.get(url, params=request_params)\n",
    "\n",
    "# 응답 데이터를 'utf-8'로 디코딩\n",
    "xml_data = response.content.decode('utf-8')\n",
    "\n",
    "# 가져온 데이터를 파싱하고, 원하는 데이터를 추출하는 코드를 추가하여, 원하는 데이터만 가져올 수 있음\n",
    "soup = BeautifulSoup(xml_data, 'lxml')\n",
    "\n",
    "data = soup.find_all('item')\n",
    "for item in data:\n",
    "    datatime = item.find('datatime')\n",
    "    informcode = item.find('informcode') # informCode 와 같이 대문자로 쓰면 추출하지 못하는 현상이 있음\n",
    "    print (datatime.get_text(), informcode.get_text())"
   ]
  },
  {
   "cell_type": "markdown",
   "metadata": {},
   "source": [
    "<div class=\"alert alert-block\" style=\"border: 2px solid #1976D2;background-color:#E3F2FD;padding:5px;font-size:0.9em;\">\n",
    "본 자료는 저작권법 제25조 2항에 의해 보호를 받습니다. 본 자료를 외부에 공개하지 말아주세요.<br>\n",
    "본 강의만 잘 정리하면, 데이터 분석, 데이터 과학, 풀스택(백엔드, 프론트엔드) 개발 모두 가능합니다!<br>\n",
    "<b><a href=\"https://school.fun-coding.org/\">잔재미코딩</a> 에서 본 강의 기반 최적화된 로드맵도 확인하실 수 있습니다</b></div>"
   ]
  }
 ],
 "metadata": {
  "kernelspec": {
   "display_name": "Python 3 (ipykernel)",
   "language": "python",
   "name": "python3"
  },
  "language_info": {
   "codemirror_mode": {
    "name": "ipython",
    "version": 3
   },
   "file_extension": ".py",
   "mimetype": "text/x-python",
   "name": "python",
   "nbconvert_exporter": "python",
   "pygments_lexer": "ipython3",
   "version": "3.11.5"
  },
  "nbTranslate": {
   "displayLangs": [
    "*"
   ],
   "hotkey": "alt-t",
   "langInMainMenu": true,
   "sourceLang": "en",
   "targetLang": "fr",
   "useGoogleTranslate": true
  }
 },
 "nbformat": 4,
 "nbformat_minor": 4
}
