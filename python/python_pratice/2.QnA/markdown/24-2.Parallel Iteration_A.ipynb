{
 "cells": [
  {
   "cell_type": "markdown",
   "id": "46e3d990",
   "metadata": {},
   "source": [
    "---\n",
    "# 파이썬 입문 : 도전! 45가지 기초 문법 실습하기 🙋🏻‍♂️\n",
    "---"
   ]
  },
  {
   "cell_type": "markdown",
   "id": "28f413a5",
   "metadata": {},
   "source": [
    "### 꼭 기억하세요 😊\n",
    "+ **시간이 다소 소요되더라도** 스스로 생각해서 프로그래밍을 해야**`실력이 향상 됩니다.`** \n",
    "+ 다양한 문제를 통해서 **`문제 해결`**능력을 향상 시켜봐요.\n",
    "+ 여러 방식으로 **`같은 결과 값`**이 나오도록 프로그래밍 해보세요.\n",
    "+ **문제 해결**에 너무 시간이 오래 걸리면 **`검색(구글링 등)`**을 통해서 해결해보세요.\n",
    "+ **`온라인 Python IDE :`** https://www.programiz.com/python-programming/online-compiler/"
   ]
  },
  {
   "cell_type": "markdown",
   "id": "c3a88b92",
   "metadata": {},
   "source": [
    "***\n",
    "## 24. Parallel Iteration💻\n",
    "***\n",
    "#### **`연습예제`** 💻"
   ]
  },
  {
   "cell_type": "markdown",
   "id": "49b428ae",
   "metadata": {},
   "source": [
    "아래 **`3개의 리스트`** 를 **`{key : a , value : b * c}`** `형태의 ` **`Dict(딕셔너리)`**  **`구조`** `로 변경하세요.` **`*다양한 방법 활용*`**\n",
    "\n",
    "\n",
    "```python\n",
    "# 아래 조건 참조\n",
    "\n",
    "a = [\"one\", \"two\", \"three\", \"four\"]\n",
    "b = [30, 20, 15, 75]\n",
    "c = [5.2, 7.4, 3.6, 4.2]\n",
    "\n",
    "출력 결과 : \"{'one': 156.0, 'two': 148.0, 'three': 54.0, 'four': 315.0}\"\n",
    "```"
   ]
  },
  {
   "cell_type": "markdown",
   "id": "44d53430",
   "metadata": {},
   "source": [
    "#### **`코딩영역`**"
   ]
  },
  {
   "cell_type": "code",
   "execution_count": null,
   "id": "ca1e5a1b",
   "metadata": {},
   "outputs": [],
   "source": [
    "# 코딩 영역\n",
    "import this"
   ]
  },
  {
   "cell_type": "markdown",
   "id": "e48cce26",
   "metadata": {},
   "source": [
    "#### **`Hint`**"
   ]
  },
  {
   "cell_type": "markdown",
   "id": "fc2ea9eb",
   "metadata": {},
   "source": [
    "<details>\n",
    "    <summary>▶<b>여기</b>를 눌러주세요</summary>\n",
    "<div markdown=\"1\">       \n",
    "\n",
    "```python\n",
    "# 다양한 Iterable 그룹을 묶어 연산하는 과정은 중요해요.\n",
    "# zip : 다중 그룹의 반복가능한 자료형을 묶는 기능\n",
    "# usage : zip(*iterables, strict=False) # Changed in version 3.10: Added the strict argument.\n",
    "# python string package : https://www.oulub.com/en-US/Python/library.functions-zip\n",
    "```\n",
    "</div>\n",
    "</details>"
   ]
  },
  {
   "cell_type": "markdown",
   "id": "866ce5b7",
   "metadata": {},
   "source": [
    "***"
   ]
  },
  {
   "cell_type": "markdown",
   "id": "45217c6a",
   "metadata": {},
   "source": [
    "![bottom_arrow](../../img/bottom_arrow.jpg)\n",
    "![bottom_arrow](../../img/bottom_arrow.jpg)\n",
    "![bottom_arrow](../../img/bottom_arrow.jpg)"
   ]
  },
  {
   "cell_type": "markdown",
   "id": "fc473095",
   "metadata": {},
   "source": [
    "***"
   ]
  },
  {
   "cell_type": "markdown",
   "id": "d316af80",
   "metadata": {},
   "source": [
    "#### **`결과 & 보충설명`**"
   ]
  },
  {
   "cell_type": "code",
   "execution_count": 2,
   "id": "8f8ac30f",
   "metadata": {},
   "outputs": [
    {
     "name": "stdout",
     "output_type": "stream",
     "text": [
      "ex1 결과 :  {'one': 156.0, 'two': 148.0, 'three': 54.0, 'four': 315.0}\n",
      "ex2 결과 :  {'one': 156.0, 'two': 148.0, 'three': 54.0, 'four': 315.0}\n",
      "ex2 결과 :  {'one': 156.0, 'two': 148.0, 'three': 54.0, 'four': 315.0}\n"
     ]
    }
   ],
   "source": [
    "# 24.Parallel Iteration\n",
    "\n",
    "# 리스트 선언\n",
    "a = [\"one\", \"two\", \"three\", \"four\"]\n",
    "b = [30, 20, 15, 75]\n",
    "c = [5.2, 7.4, 3.6, 4.2]\n",
    "\n",
    "\n",
    "# 방법1\n",
    "result1 = {}\n",
    "for x, y, z in zip(a,b,c):\n",
    "    result1[x] = y * z\n",
    "    \n",
    "print('ex1 결과 : ', result1)\n",
    "\n",
    "\n",
    "# 방법2\n",
    "print('ex2 결과 : ', {x : y * z for x, y, z in zip(a,b,c)})\n",
    "\n",
    "\n",
    "# 방법3\n",
    "print('ex3 결과 : ', dict(((x, y * z) for x, y, z in zip(a,b,c))))\n",
    "\n",
    "\n",
    "# 방법4\n",
    "# ...\n",
    "\n",
    "\n",
    "# 참고(strict args >= python 3.10)\n",
    "\n",
    "# print('참고1 : ', list(zip(range(5), range(100)))) # 길이가 다를 경우 짧은 길이에 맞게 선언\n",
    "# print('참고2 : ', list(zip(range(5), range(100), strict=True))) # 예외 발생\n"
   ]
  }
 ],
 "metadata": {
  "kernelspec": {
   "display_name": "Python 3 (ipykernel)",
   "language": "python",
   "name": "python3"
  },
  "language_info": {
   "codemirror_mode": {
    "name": "ipython",
    "version": 3
   },
   "file_extension": ".py",
   "mimetype": "text/x-python",
   "name": "python",
   "nbconvert_exporter": "python",
   "pygments_lexer": "ipython3",
   "version": "3.9.12"
  },
  "toc": {
   "base_numbering": 1,
   "nav_menu": {},
   "number_sections": false,
   "sideBar": true,
   "skip_h1_title": false,
   "title_cell": "Table of Contents",
   "title_sidebar": "Contents",
   "toc_cell": false,
   "toc_position": {
    "height": "calc(100% - 180px)",
    "left": "10px",
    "top": "150px",
    "width": "318px"
   },
   "toc_section_display": true,
   "toc_window_display": false
  }
 },
 "nbformat": 4,
 "nbformat_minor": 5
}
