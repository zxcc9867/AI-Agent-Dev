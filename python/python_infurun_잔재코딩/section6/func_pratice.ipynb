{
 "cells": [
  {
   "cell_type": "markdown",
   "metadata": {},
   "source": [
    "### 문자열 관련 함수알아보기 "
   ]
  },
  {
   "cell_type": "code",
   "execution_count": 1,
   "metadata": {},
   "outputs": [
    {
     "data": {
      "text/plain": [
       "1"
      ]
     },
     "execution_count": 1,
     "metadata": {},
     "output_type": "execute_result"
    }
   ],
   "source": [
    "data = \"Dave David\"\n",
    "data.count('Dave') # 문자열에 Dave가 몇번 나오는지 확인하기 "
   ]
  },
  {
   "cell_type": "markdown",
   "metadata": {},
   "source": [
    "### 문자열에 있는 특정 문자의 위치 알려주기 "
   ]
  },
  {
   "cell_type": "code",
   "execution_count": 2,
   "metadata": {},
   "outputs": [
    {
     "data": {
      "text/plain": [
       "8"
      ]
     },
     "execution_count": 2,
     "metadata": {},
     "output_type": "execute_result"
    }
   ],
   "source": [
    "string = \"Dave ID is dave\"\n",
    "string.index('i') # 문자열도 다 인덱스로 취급한다. \n"
   ]
  },
  {
   "cell_type": "markdown",
   "metadata": {},
   "source": [
    "### 문자열 찾기 "
   ]
  },
  {
   "cell_type": "code",
   "execution_count": 8,
   "metadata": {},
   "outputs": [
    {
     "name": "stdout",
     "output_type": "stream",
     "text": [
      "-1\n"
     ]
    },
    {
     "data": {
      "text/plain": [
       "'\\n1. 문자열이 존재하면 0을 출력하고, \\n2. 문자열이 존재하지 않으면 -1을 출력한다. \\n'"
      ]
     },
     "execution_count": 8,
     "metadata": {},
     "output_type": "execute_result"
    }
   ],
   "source": [
    "string = \"dave is david\"\n",
    "print(string.find(\"dave1\"))# dave라는 문자열이 있으면, 0을 출력한다. \n",
    "\n",
    "\"\"\"\n",
    "1. 문자열이 존재하면 0을 출력하고, \n",
    "2. 문자열이 존재하지 않으면 -1을 출력한다. \n",
    "\"\"\""
   ]
  },
  {
   "cell_type": "markdown",
   "metadata": {},
   "source": [
    "### 문자열 사이에 다른 문자 넣기"
   ]
  },
  {
   "cell_type": "code",
   "execution_count": 11,
   "metadata": {},
   "outputs": [
    {
     "name": "stdout",
     "output_type": "stream",
     "text": [
      "1,2,3,4,5\n"
     ]
    },
    {
     "data": {
      "text/plain": [
       "'\\n껴넣을 문자.문자열\\n'"
      ]
     },
     "execution_count": 11,
     "metadata": {},
     "output_type": "execute_result"
    }
   ],
   "source": [
    "string = \"12345\"\n",
    "comma = ','\n",
    "\n",
    "print(comma.join(string)) # 문자열안에 넣을 문자를 사용\n",
    "\n",
    "\"\"\"\n",
    "껴넣을 문자.문자열\n",
    "\"\"\""
   ]
  },
  {
   "cell_type": "markdown",
   "metadata": {},
   "source": [
    "### 공백을 삭제 "
   ]
  },
  {
   "cell_type": "code",
   "execution_count": 15,
   "metadata": {},
   "outputs": [
    {
     "name": "stdout",
     "output_type": "stream",
     "text": [
      "999999(Dave)8888888\n",
      "      999999(Dave)8888888\n",
      "999999(Dave)8888888         \n",
      "Dave\n"
     ]
    }
   ],
   "source": [
    "string = '      999999(Dave)8888888         '\n",
    "print(string.strip())\n",
    "\n",
    "print(string.rstrip()) # 오른쪽 공백만 제거\n",
    "\n",
    "print(string.lstrip())\n",
    "\n",
    "print(string.strip(\" 98() \"))\n",
    "\n",
    "\"\"\"\n",
    "string.strip(\" 98() \") 실행 결과 분석:\n",
    "strip 메서드는 문자열 양 끝에서 \" \", \"9\", \"8\", \"(\", \")\"을 제거합니다.\n",
    "문자열 앞부분에서 \" \", \"9\", \"(\"까지 제거되고, 끝부분에서도 \"8\", \")\", \" \"가 제거됩니다.\n",
    "\n",
    "\"\"\""
   ]
  },
  {
   "cell_type": "markdown",
   "metadata": {},
   "source": [
    "### 문자열 나누기 "
   ]
  },
  {
   "cell_type": "code",
   "execution_count": 16,
   "metadata": {},
   "outputs": [
    {
     "data": {
      "text/plain": [
       "['Dave', 'goes', 'to', 'korea']"
      ]
     },
     "execution_count": 16,
     "metadata": {},
     "output_type": "execute_result"
    }
   ],
   "source": [
    "string = \"Dave goes to korea\"\n",
    "string.split()"
   ]
  },
  {
   "cell_type": "markdown",
   "metadata": {},
   "source": [
    "### 문자열 중 일부를 다른 문자로 바꾸거나 삭제하기 "
   ]
  },
  {
   "cell_type": "code",
   "execution_count": 17,
   "metadata": {},
   "outputs": [
    {
     "data": {
      "text/plain": [
       "'Dave is goes to Korea !'"
      ]
     },
     "execution_count": 17,
     "metadata": {},
     "output_type": "execute_result"
    }
   ],
   "source": [
    "string = \"Dave is goes to Korea ?\"\n",
    "string.replace('?','!')"
   ]
  }
 ],
 "metadata": {
  "kernelspec": {
   "display_name": "Python 3",
   "language": "python",
   "name": "python3"
  },
  "language_info": {
   "codemirror_mode": {
    "name": "ipython",
    "version": 3
   },
   "file_extension": ".py",
   "mimetype": "text/x-python",
   "name": "python",
   "nbconvert_exporter": "python",
   "pygments_lexer": "ipython3",
   "version": "3.10.9"
  }
 },
 "nbformat": 4,
 "nbformat_minor": 2
}
