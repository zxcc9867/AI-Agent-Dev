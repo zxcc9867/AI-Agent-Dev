{
 "cells": [
  {
   "cell_type": "markdown",
   "id": "46e3d990",
   "metadata": {},
   "source": [
    "---\n",
    "# 파이썬 입문 : 도전! 45가지 기초 문법 실습하기 🙋🏻‍♂️\n",
    "---"
   ]
  },
  {
   "cell_type": "markdown",
   "id": "28f413a5",
   "metadata": {},
   "source": [
    "### 꼭 기억하세요 😊\n",
    "+ **시간이 다소 소요되더라도** 스스로 생각해서 프로그래밍을 해야**`실력이 향상 됩니다.`** \n",
    "+ 다양한 문제를 통해서 **`문제 해결`**능력을 향상 시켜봐요.\n",
    "+ 여러 방식으로 **`같은 결과 값`**이 나오도록 프로그래밍 해보세요.\n",
    "+ **문제 해결**에 너무 시간이 오래 걸리면 **`검색(구글링 등)`**을 통해서 해결해보세요.\n",
    "+ **`온라인 Python IDE :`** https://www.programiz.com/python-programming/online-compiler/"
   ]
  },
  {
   "cell_type": "markdown",
   "id": "c3a88b92",
   "metadata": {},
   "source": [
    "***\n",
    "## 37. Dictionary Search By Value💻\n",
    "***\n",
    "#### **`연습예제`** 💻"
   ]
  },
  {
   "cell_type": "markdown",
   "id": "49b428ae",
   "metadata": {},
   "source": [
    "`아래` **`Dict 데이터`** `에서` **`사용자 입력`** `으로` **`키(Key)`** `로` **`검색`** `후` **`값`** `을 반환하세요.` `아래와 같이 출력하세요.`\n",
    "\n",
    "```python\n",
    "\n",
    "# Dict 선언\n",
    "d = {'USA': 36, 'Germany': 17,'France':32, 'Australia': 77, 'South Africa': 99, 'India': 108, 'South Korea': 200}\n",
    "\n",
    "# 사용자 입력1(정상 값)\n",
    "France\n",
    "\n",
    "# 출력1\n",
    "'32'\n",
    "\n",
    "# 사용자 입력2(잘못된 값)\n",
    "Canada\n",
    "\n",
    "# 출력2\n",
    "'No results were found for your search.'\n",
    "\n",
    "```"
   ]
  },
  {
   "cell_type": "markdown",
   "id": "44d53430",
   "metadata": {},
   "source": [
    "#### **`코딩영역`**"
   ]
  },
  {
   "cell_type": "code",
   "execution_count": null,
   "id": "ca1e5a1b",
   "metadata": {},
   "outputs": [],
   "source": [
    "# 코딩 영역\n",
    "import this"
   ]
  },
  {
   "cell_type": "markdown",
   "id": "e48cce26",
   "metadata": {},
   "source": [
    "#### **`Hint`**"
   ]
  },
  {
   "cell_type": "markdown",
   "id": "fc2ea9eb",
   "metadata": {},
   "source": [
    "<details>\n",
    "    <summary>▶<b>여기</b>를 눌러주세요</summary>\n",
    "<div markdown=\"1\">       \n",
    "\n",
    "```python\n",
    "# input 함수 기억하시죠?\n",
    "# 사용자 입력 기능을 구현 할 경우에는 다양한 입력 변수를 고려해야해요.(대소문자, 특수문자 등)\n",
    "\n",
    "# 함수 형태로도 구현해 보세요.\n",
    "    \n",
    "# 예외 처리 기능을 사용하시면 기능적으로 견고하게 동작할 수 있어요.\n",
    "    \n",
    "# 참고\n",
    "# https://docs.python.org/3/tutorial/errors.html#errors-and-exceptions\n",
    "```\n",
    "</div>\n",
    "</details>"
   ]
  },
  {
   "cell_type": "markdown",
   "id": "866ce5b7",
   "metadata": {},
   "source": [
    "***"
   ]
  },
  {
   "cell_type": "markdown",
   "id": "45217c6a",
   "metadata": {},
   "source": [
    "![bottom_arrow](../../img/bottom_arrow.jpg)\n",
    "![bottom_arrow](../../img/bottom_arrow.jpg)\n",
    "![bottom_arrow](../../img/bottom_arrow.jpg)"
   ]
  },
  {
   "cell_type": "markdown",
   "id": "fc473095",
   "metadata": {},
   "source": [
    "***"
   ]
  },
  {
   "cell_type": "markdown",
   "id": "d316af80",
   "metadata": {},
   "source": [
    "#### **`결과 & 보충설명`**"
   ]
  },
  {
   "cell_type": "code",
   "execution_count": 23,
   "id": "9427f511",
   "metadata": {},
   "outputs": [
    {
     "name": "stdout",
     "output_type": "stream",
     "text": [
      "Enter key: USa\n",
      "36\n"
     ]
    }
   ],
   "source": [
    "### 37.Dictionary Search By Value\n",
    "\n",
    "import time\n",
    "\n",
    "d = {'USA': 36, 'Germany': 17,'France':32, 'Australia': 77, 'South Africa': 99, 'India': 108, 'South Korea': 200}\n",
    "\n",
    "# 방법1\n",
    "def search_dict(word):\n",
    "    try:\n",
    "        c = dict((new_k.lower(),new_val) for new_k,new_val in d.items())\n",
    "        return c[word] # get 이라면?\n",
    "    except KeyError:\n",
    "        return \"No results were found for your search.\"\n",
    " \n",
    "txt = input(\"Enter key: \").lower()\n",
    "\n",
    "print(search_dict(txt))\n",
    "    \n",
    "\n",
    "# # 방법2\n",
    "# def search_dict(word):\n",
    "#     c = dict((new_k.lower(),new_val) for new_k,new_val in d.items())\n",
    "\n",
    "#     return c.get(word, \"No results were found for your search.\")\n",
    " \n",
    "# txt = input(\"Enter key: \").lower()\n",
    "\n",
    "# search_dict(txt)\n",
    "\n",
    "\n",
    "# 방법3\n",
    "# ...."
   ]
  }
 ],
 "metadata": {
  "kernelspec": {
   "display_name": "Python 3 (ipykernel)",
   "language": "python",
   "name": "python3"
  },
  "language_info": {
   "codemirror_mode": {
    "name": "ipython",
    "version": 3
   },
   "file_extension": ".py",
   "mimetype": "text/x-python",
   "name": "python",
   "nbconvert_exporter": "python",
   "pygments_lexer": "ipython3",
   "version": "3.10.5"
  },
  "toc": {
   "base_numbering": 1,
   "nav_menu": {},
   "number_sections": false,
   "sideBar": true,
   "skip_h1_title": false,
   "title_cell": "Table of Contents",
   "title_sidebar": "Contents",
   "toc_cell": false,
   "toc_position": {
    "height": "calc(100% - 180px)",
    "left": "10px",
    "top": "150px",
    "width": "318px"
   },
   "toc_section_display": true,
   "toc_window_display": false
  }
 },
 "nbformat": 4,
 "nbformat_minor": 5
}
