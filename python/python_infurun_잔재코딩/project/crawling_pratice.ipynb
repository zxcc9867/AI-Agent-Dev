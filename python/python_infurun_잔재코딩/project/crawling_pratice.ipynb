{
 "cells": [
  {
   "cell_type": "markdown",
   "metadata": {},
   "source": [
    "### 크롤링 연습 \n",
    "\n",
    "- 10/31부터 다시 시작"
   ]
  },
  {
   "cell_type": "code",
   "execution_count": 7,
   "metadata": {},
   "outputs": [],
   "source": [
    "import requests\n",
    "from bs4 import BeautifulSoup\n",
    "import openpyxl\n",
    "\n",
    "excel_file = openpyxl.Workbook()\n",
    "excel_sheet = excel_file.active\n",
    "excel_sheet.title = \"게시글\"\n",
    "\n",
    "header = [\"No\", \"게시글제목\", \"댓글\"]\n",
    "excel_sheet.append(header)\n",
    "excel_sheet.column_dimensions[\"A\"].width = 20\n",
    "excel_sheet.column_dimensions[\"B\"].width = 80\n",
    "excel_sheet.column_dimensions[\"C\"].width = 80\n",
    "\n",
    "res = requests.get('https://davelee-fun.github.io/trial/board/news.html')\n",
    "soup = BeautifulSoup(res.content, 'html.parser')\n",
    "items = soup.select('div.list_item')\n",
    "index = 0\n",
    "for item in items[:8]:\n",
    "    title = item.select_one('span.subject_fixed')\n",
    "    reply_count = item.select_one('span.rSymph05')\n",
    "    link = item.select_one('a.list_subject')\n",
    "    if title != None:\n",
    "        index += 1\n",
    "        data1 = [index, title.get_text().strip(),'['+ reply_count.get_text() + ']']    \n",
    "        excel_sheet.append(data1)\n",
    "        res_title = requests.get('https://davelee-fun.github.io/trial/board/' + link['href'])\n",
    "        soup_title = BeautifulSoup(res_title.content, 'html.parser')\n",
    "        replies = soup_title.select('div.comment_content')\n",
    "        for reply in replies:\n",
    "            data2 = [\"\",\"\",reply.get_text().strip().replace(\"\\n\", \"\").replace(\"\\t\", \"\")]\n",
    "            excel_sheet.append(data2)\n",
    "    excel_file.save('mysite.xlsx')\n",
    "    excel_file.close()"
   ]
  },
  {
   "cell_type": "code",
   "execution_count": null,
   "metadata": {},
   "outputs": [],
   "source": []
  }
 ],
 "metadata": {
  "kernelspec": {
   "display_name": ".venv",
   "language": "python",
   "name": "python3"
  },
  "language_info": {
   "codemirror_mode": {
    "name": "ipython",
    "version": 3
   },
   "file_extension": ".py",
   "mimetype": "text/x-python",
   "name": "python",
   "nbconvert_exporter": "python",
   "pygments_lexer": "ipython3",
   "version": "3.11.4"
  }
 },
 "nbformat": 4,
 "nbformat_minor": 2
}
