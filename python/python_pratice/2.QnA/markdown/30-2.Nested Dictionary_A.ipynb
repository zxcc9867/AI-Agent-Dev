{
 "cells": [
  {
   "cell_type": "markdown",
   "id": "46e3d990",
   "metadata": {},
   "source": [
    "---\n",
    "# 파이썬 입문 : 도전! 45가지 기초 문법 실습하기 🙋🏻‍♂️\n",
    "---"
   ]
  },
  {
   "cell_type": "markdown",
   "id": "28f413a5",
   "metadata": {},
   "source": [
    "### 꼭 기억하세요 😊\n",
    "+ **시간이 다소 소요되더라도** 스스로 생각해서 프로그래밍을 해야**`실력이 향상 됩니다.`** \n",
    "+ 다양한 문제를 통해서 **`문제 해결`**능력을 향상 시켜봐요.\n",
    "+ 여러 방식으로 **`같은 결과 값`**이 나오도록 프로그래밍 해보세요.\n",
    "+ **문제 해결**에 너무 시간이 오래 걸리면 **`검색(구글링 등)`**을 통해서 해결해보세요.\n",
    "+ **`온라인 Python IDE :`** https://www.programiz.com/python-programming/online-compiler/"
   ]
  },
  {
   "cell_type": "markdown",
   "id": "c3a88b92",
   "metadata": {},
   "source": [
    "***\n",
    "## 30. Nested Dictionary💻\n",
    "***\n",
    "#### **`연습예제`** 💻"
   ]
  },
  {
   "cell_type": "markdown",
   "id": "49b428ae",
   "metadata": {},
   "source": [
    "`아래` **`딕셔너리(Dict)`** `에서` **`출력결과`** `와 같이` **`값을`** `추출하세요.` **`*가능한 방법 모두 코딩해보세요.*`**\n",
    "\n",
    "```python\n",
    "\n",
    "# 중첩 Dict 선언\n",
    "d = {\"group1\":[\n",
    "                {'name': 'Park', 'age': '32', 'sex': 'Male'},\n",
    "                {'name': 'Cho', 'age': '44', 'sex': 'Female'},\n",
    "                {'name': 'Kang', 'age': '39', 'sex': 'Female', 'married': 'No'}\n",
    "              ],\n",
    "     \"group2\":[\n",
    "                {'name': 'Kim', 'age': '23', 'sex': 'Male', 'married': 'Yes'},\n",
    "                {'name': 'Lee', 'age': '37', 'sex': 'Male', 'married': 'No'}\n",
    "              ],\n",
    "     \"type\" : {\"a\": \"employee\", \"b\": \"officer\", \"c\": \"director\", \"d\": \"manager\", \"e\": \"service provider\"}\n",
    "    }\n",
    "\n",
    "\n",
    "# 출력결과\n",
    "Name : Kim, Age : 23, Type : officer\n",
    "```"
   ]
  },
  {
   "cell_type": "markdown",
   "id": "44d53430",
   "metadata": {},
   "source": [
    "#### **`코딩영역`**"
   ]
  },
  {
   "cell_type": "code",
   "execution_count": null,
   "id": "ca1e5a1b",
   "metadata": {},
   "outputs": [],
   "source": [
    "# 코딩 영역\n",
    "import this"
   ]
  },
  {
   "cell_type": "markdown",
   "id": "e48cce26",
   "metadata": {},
   "source": [
    "#### **`Hint`**"
   ]
  },
  {
   "cell_type": "markdown",
   "id": "fc2ea9eb",
   "metadata": {},
   "source": [
    "<details>\n",
    "    <summary>▶<b>여기</b>를 눌러주세요</summary>\n",
    "<div markdown=\"1\">       \n",
    "\n",
    "```python\n",
    "# Dict 구조 기억나시죠?\n",
    "# List는 Index를 사용해서 요소에 접근해요.\n",
    "# keys(), items(), get() 등 자주 사용하는 메소드는 꼭 기억하세요!\n",
    "# 참고 : https://docs.python.org/3/tutorial/datastructures.html#dictionaries\n",
    "```\n",
    "</div>\n",
    "</details>"
   ]
  },
  {
   "cell_type": "markdown",
   "id": "866ce5b7",
   "metadata": {},
   "source": [
    "***"
   ]
  },
  {
   "cell_type": "markdown",
   "id": "45217c6a",
   "metadata": {},
   "source": [
    "![bottom_arrow](../../img/bottom_arrow.jpg)\n",
    "![bottom_arrow](../../img/bottom_arrow.jpg)\n",
    "![bottom_arrow](../../img/bottom_arrow.jpg)"
   ]
  },
  {
   "cell_type": "markdown",
   "id": "fc473095",
   "metadata": {},
   "source": [
    "***"
   ]
  },
  {
   "cell_type": "markdown",
   "id": "d316af80",
   "metadata": {},
   "source": [
    "#### **`결과 & 보충설명`**"
   ]
  },
  {
   "cell_type": "code",
   "execution_count": 12,
   "id": "9427f511",
   "metadata": {},
   "outputs": [
    {
     "name": "stdout",
     "output_type": "stream",
     "text": [
      "Name : Kim Age : 23, Type : officer\n",
      "Name : Kim Age : 23, Type : officer\n"
     ]
    }
   ],
   "source": [
    "### 30.Nested Dictionary\n",
    "\n",
    "d = {\"group1\":[\n",
    "                {'name': 'Park', 'age': '32', 'sex': 'Male'},\n",
    "                {'name': 'Cho', 'age': '44', 'sex': 'Female'},\n",
    "                {'name': 'Kang', 'age': '39', 'sex': 'Female', 'married': 'No'}\n",
    "              ],\n",
    "     \"group2\":[\n",
    "                {'name': 'Kim', 'age': '23', 'sex': 'Male', 'married': 'Yes'},\n",
    "                {'name': 'Lee', 'age': '37', 'sex': 'Male', 'married': 'No'}\n",
    "              ],\n",
    "     \"type\" : {\"a\": \"employee\", \"b\": \"officer\", \"c\": \"director\", \"d\": \"manager\", \"e\": \"service provider\"}\n",
    "    }\n",
    "\n",
    "\n",
    "# 방법1\n",
    "ex1 = 'Name : {0} Age : {1}, Type : {2}'.format(d['group2'][0]['name'], d['group2'][0]['age'], d['type']['b'])\n",
    "\n",
    "print(ex1)\n",
    "\n",
    "\n",
    "# 방법2\n",
    "ex2 = 'Name : {0} Age : {1}, Type : {2}'.format(d.get('group2')[0].get('name'), d.get('group2')[0].get('age'), d.get('type').get('b'))\n",
    "\n",
    "print(ex2)\n",
    "\n",
    "\n",
    "# 방법3\n",
    "# ...."
   ]
  }
 ],
 "metadata": {
  "kernelspec": {
   "display_name": "Python 3 (ipykernel)",
   "language": "python",
   "name": "python3"
  },
  "language_info": {
   "codemirror_mode": {
    "name": "ipython",
    "version": 3
   },
   "file_extension": ".py",
   "mimetype": "text/x-python",
   "name": "python",
   "nbconvert_exporter": "python",
   "pygments_lexer": "ipython3",
   "version": "3.9.12"
  },
  "toc": {
   "base_numbering": 1,
   "nav_menu": {},
   "number_sections": false,
   "sideBar": true,
   "skip_h1_title": false,
   "title_cell": "Table of Contents",
   "title_sidebar": "Contents",
   "toc_cell": false,
   "toc_position": {
    "height": "calc(100% - 180px)",
    "left": "10px",
    "top": "150px",
    "width": "318px"
   },
   "toc_section_display": true,
   "toc_window_display": false
  }
 },
 "nbformat": 4,
 "nbformat_minor": 5
}
