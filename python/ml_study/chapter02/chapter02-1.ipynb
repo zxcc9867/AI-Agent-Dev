{
 "cells": [
  {
   "cell_type": "markdown",
   "metadata": {},
   "source": [
    "## 선형 회귀 실습"
   ]
  },
  {
   "cell_type": "code",
   "execution_count": 1,
   "metadata": {},
   "outputs": [
    {
     "name": "stdout",
     "output_type": "stream",
     "text": [
      "Defaulting to user installation because normal site-packages is not writeable\n",
      "Requirement already satisfied: scikit-learn in c:\\users\\zxcc9\\appdata\\roaming\\python\\python312\\site-packages (1.6.1)\n",
      "Requirement already satisfied: numpy>=1.19.5 in c:\\users\\zxcc9\\appdata\\roaming\\python\\python312\\site-packages (from scikit-learn) (2.2.2)\n",
      "Requirement already satisfied: scipy>=1.6.0 in c:\\users\\zxcc9\\appdata\\roaming\\python\\python312\\site-packages (from scikit-learn) (1.15.1)\n",
      "Requirement already satisfied: joblib>=1.2.0 in c:\\users\\zxcc9\\appdata\\roaming\\python\\python312\\site-packages (from scikit-learn) (1.4.2)\n",
      "Requirement already satisfied: threadpoolctl>=3.1.0 in c:\\users\\zxcc9\\appdata\\roaming\\python\\python312\\site-packages (from scikit-learn) (3.5.0)\n"
     ]
    },
    {
     "data": {
      "text/plain": [
       "'1.6.1'"
      ]
     },
     "execution_count": 1,
     "metadata": {},
     "output_type": "execute_result"
    }
   ],
   "source": [
    "!pip install scikit-learn\n",
    "import sklearn\n",
    "\n",
    "sklearn.__version__"
   ]
  },
  {
   "cell_type": "markdown",
   "metadata": {},
   "source": [
    "### 방어 데이터 \n"
   ]
  },
  {
   "cell_type": "code",
   "execution_count": 2,
   "metadata": {},
   "outputs": [],
   "source": [
    "bream_length = [\n",
    "    25.4,\n",
    "    26.3,\n",
    "    26.5,\n",
    "    29.0,\n",
    "    29.0,\n",
    "    29.7,\n",
    "    29.7,\n",
    "    30.0,\n",
    "    30.0,\n",
    "    30.7,\n",
    "    31.0,\n",
    "    31.0,\n",
    "    31.5,\n",
    "    32.0,\n",
    "    32.0,\n",
    "    32.0,\n",
    "    33.0,\n",
    "    33.0,\n",
    "    33.5,\n",
    "    33.5,\n",
    "    34.0,\n",
    "    34.0,\n",
    "    34.5,\n",
    "    35.0,\n",
    "    35.0,\n",
    "    35.0,\n",
    "    35.0,\n",
    "    36.0,\n",
    "    36.0,\n",
    "    37.0,\n",
    "    38.5,\n",
    "    38.5,\n",
    "    39.5,\n",
    "    41.0,\n",
    "    41.0,\n",
    "]\n",
    "bream_weight = [\n",
    "    242.0,\n",
    "    290.0,\n",
    "    340.0,\n",
    "    363.0,\n",
    "    430.0,\n",
    "    450.0,\n",
    "    500.0,\n",
    "    390.0,\n",
    "    450.0,\n",
    "    500.0,\n",
    "    475.0,\n",
    "    500.0,\n",
    "    500.0,\n",
    "    340.0,\n",
    "    600.0,\n",
    "    600.0,\n",
    "    700.0,\n",
    "    700.0,\n",
    "    610.0,\n",
    "    650.0,\n",
    "    575.0,\n",
    "    685.0,\n",
    "    620.0,\n",
    "    680.0,\n",
    "    700.0,\n",
    "    725.0,\n",
    "    720.0,\n",
    "    714.0,\n",
    "    850.0,\n",
    "    1000.0,\n",
    "    920.0,\n",
    "    955.0,\n",
    "    925.0,\n",
    "    975.0,\n",
    "    950.0,\n",
    "]"
   ]
  },
  {
   "cell_type": "code",
   "execution_count": 3,
   "metadata": {},
   "outputs": [
    {
     "name": "stdout",
     "output_type": "stream",
     "text": [
      "35\n"
     ]
    }
   ],
   "source": [
    "print(len(bream_length))"
   ]
  },
  {
   "cell_type": "markdown",
   "metadata": {},
   "source": [
    "### 패키지 다운 로드 matplotlib\n",
    "\n",
    "matpolotlib은 그래프를 그리는 패키지 "
   ]
  },
  {
   "cell_type": "code",
   "execution_count": 4,
   "metadata": {},
   "outputs": [
    {
     "name": "stdout",
     "output_type": "stream",
     "text": [
      "Defaulting to user installation because normal site-packages is not writeable\n",
      "Requirement already satisfied: matplotlib in c:\\users\\zxcc9\\appdata\\roaming\\python\\python312\\site-packages (3.10.0)\n",
      "Requirement already satisfied: contourpy>=1.0.1 in c:\\users\\zxcc9\\appdata\\roaming\\python\\python312\\site-packages (from matplotlib) (1.3.1)\n",
      "Requirement already satisfied: cycler>=0.10 in c:\\users\\zxcc9\\appdata\\roaming\\python\\python312\\site-packages (from matplotlib) (0.12.1)\n",
      "Requirement already satisfied: fonttools>=4.22.0 in c:\\users\\zxcc9\\appdata\\roaming\\python\\python312\\site-packages (from matplotlib) (4.56.0)\n",
      "Requirement already satisfied: kiwisolver>=1.3.1 in c:\\users\\zxcc9\\appdata\\roaming\\python\\python312\\site-packages (from matplotlib) (1.4.8)\n",
      "Requirement already satisfied: numpy>=1.23 in c:\\users\\zxcc9\\appdata\\roaming\\python\\python312\\site-packages (from matplotlib) (2.2.2)\n",
      "Requirement already satisfied: packaging>=20.0 in c:\\users\\zxcc9\\appdata\\roaming\\python\\python312\\site-packages (from matplotlib) (24.2)\n",
      "Requirement already satisfied: pillow>=8 in c:\\users\\zxcc9\\appdata\\roaming\\python\\python312\\site-packages (from matplotlib) (11.1.0)\n",
      "Requirement already satisfied: pyparsing>=2.3.1 in c:\\users\\zxcc9\\appdata\\roaming\\python\\python312\\site-packages (from matplotlib) (3.2.1)\n",
      "Requirement already satisfied: python-dateutil>=2.7 in c:\\users\\zxcc9\\appdata\\roaming\\python\\python312\\site-packages (from matplotlib) (2.9.0.post0)\n",
      "Requirement already satisfied: six>=1.5 in c:\\users\\zxcc9\\appdata\\roaming\\python\\python312\\site-packages (from python-dateutil>=2.7->matplotlib) (1.17.0)\n"
     ]
    }
   ],
   "source": [
    "!pip install matplotlib"
   ]
  },
  {
   "cell_type": "code",
   "execution_count": 5,
   "metadata": {},
   "outputs": [
    {
     "data": {
      "image/png": "[encoded data removed]",
      "text/plain": [
       "<Figure size 640x480 with 1 Axes>"
      ]
     },
     "metadata": {},
     "output_type": "display_data"
    }
   ],
   "source": [
    "\"\"\"\n",
    "도미 데이터\n",
    "\"\"\"\n",
    "import matplotlib.pyplot as plt\n",
    "plt.scatter(\n",
    "    bream_length, bream_weight, color=\"blue\", marker=\"o\"\n",
    ")  # scatter는 산점도를 그리는 함수\n",
    "plt.xlabel('length')\n",
    "plt.ylabel('weight')\n",
    "plt.show()"
   ]
  },
  {
   "cell_type": "code",
   "execution_count": 6,
   "metadata": {},
   "outputs": [],
   "source": [
    "\"\"\"\n",
    "방어 데이터\n",
    "\"\"\"\n",
    "smelt_length = [\n",
    "    9.8,\n",
    "    10.5,\n",
    "    10.6,\n",
    "    11.0,\n",
    "    11.2,\n",
    "    11.3,\n",
    "    11.8,\n",
    "    11.8,\n",
    "    12.0,\n",
    "    12.2,\n",
    "    12.4,\n",
    "    13.0,\n",
    "    14.3,\n",
    "    15.0,\n",
    "]\n",
    "smelt_weight = [\n",
    "    6.7,\n",
    "    7.5,\n",
    "    7.0,\n",
    "    9.7,\n",
    "    9.8,\n",
    "    8.7,\n",
    "    10.0,\n",
    "    9.9,\n",
    "    9.8,\n",
    "    12.2,\n",
    "    13.4,\n",
    "    12.2,\n",
    "    19.7,\n",
    "    19.9,\n",
    "]"
   ]
  },
  {
   "cell_type": "code",
   "execution_count": 7,
   "metadata": {},
   "outputs": [
    {
     "name": "stderr",
     "output_type": "stream",
     "text": [
      "C:\\Users\\zxcc9\\AppData\\Roaming\\Python\\Python312\\site-packages\\IPython\\core\\pylabtools.py:170: UserWarning: Glyph 48169 (\\N{HANGUL SYLLABLE BANG}) missing from font(s) DejaVu Sans.\n",
      "  fig.canvas.print_figure(bytes_io, **kw)\n",
      "C:\\Users\\zxcc9\\AppData\\Roaming\\Python\\Python312\\site-packages\\IPython\\core\\pylabtools.py:170: UserWarning: Glyph 50612 (\\N{HANGUL SYLLABLE EO}) missing from font(s) DejaVu Sans.\n",
      "  fig.canvas.print_figure(bytes_io, **kw)\n",
      "C:\\Users\\zxcc9\\AppData\\Roaming\\Python\\Python312\\site-packages\\IPython\\core\\pylabtools.py:170: UserWarning: Glyph 47924 (\\N{HANGUL SYLLABLE MU}) missing from font(s) DejaVu Sans.\n",
      "  fig.canvas.print_figure(bytes_io, **kw)\n",
      "C:\\Users\\zxcc9\\AppData\\Roaming\\Python\\Python312\\site-packages\\IPython\\core\\pylabtools.py:170: UserWarning: Glyph 44172 (\\N{HANGUL SYLLABLE GE}) missing from font(s) DejaVu Sans.\n",
      "  fig.canvas.print_figure(bytes_io, **kw)\n",
      "C:\\Users\\zxcc9\\AppData\\Roaming\\Python\\Python312\\site-packages\\IPython\\core\\pylabtools.py:170: UserWarning: Glyph 45936 (\\N{HANGUL SYLLABLE DE}) missing from font(s) DejaVu Sans.\n",
      "  fig.canvas.print_figure(bytes_io, **kw)\n",
      "C:\\Users\\zxcc9\\AppData\\Roaming\\Python\\Python312\\site-packages\\IPython\\core\\pylabtools.py:170: UserWarning: Glyph 51060 (\\N{HANGUL SYLLABLE I}) missing from font(s) DejaVu Sans.\n",
      "  fig.canvas.print_figure(bytes_io, **kw)\n",
      "C:\\Users\\zxcc9\\AppData\\Roaming\\Python\\Python312\\site-packages\\IPython\\core\\pylabtools.py:170: UserWarning: Glyph 53552 (\\N{HANGUL SYLLABLE TEO}) missing from font(s) DejaVu Sans.\n",
      "  fig.canvas.print_figure(bytes_io, **kw)\n",
      "C:\\Users\\zxcc9\\AppData\\Roaming\\Python\\Python312\\site-packages\\IPython\\core\\pylabtools.py:170: UserWarning: Glyph 44600 (\\N{HANGUL SYLLABLE GIL}) missing from font(s) DejaVu Sans.\n",
      "  fig.canvas.print_figure(bytes_io, **kw)\n"
     ]
    },
    {
     "data": {
      "image/png": "[encoded data removed]",
      "text/plain": [
       "<Figure size 640x480 with 1 Axes>"
      ]
     },
     "metadata": {},
     "output_type": "display_data"
    }
   ],
   "source": [
    "plt.scatter(smelt_length, smelt_weight,color='red',marker='o')\n",
    "plt.xlabel('방어 길이')\n",
    "plt.ylabel('방어 무게')\n",
    "plt.title('방어 데이터')\n",
    "plt.show()"
   ]
  },
  {
   "cell_type": "markdown",
   "metadata": {},
   "source": [
    "### 도미와 방어 데이터를 합쳐서 보자. "
   ]
  },
  {
   "cell_type": "code",
   "execution_count": 8,
   "metadata": {},
   "outputs": [
    {
     "data": {
      "image/png": "[encoded data removed]",
      "text/plain": [
       "<Figure size 640x480 with 1 Axes>"
      ]
     },
     "metadata": {},
     "output_type": "display_data"
    }
   ],
   "source": [
    "import matplotlib.font_manager as fm\n",
    "\n",
    "\n",
    "plt.rc(\"font\", family=\"Malgun Gothic\") ## 한글 폰트 적용\n",
    "plt.rcParams[\"axes.unicode_minus\"] = False\n",
    "plt.scatter(bream_length,bream_weight,color='blue')\n",
    "plt.scatter(smelt_length,smelt_weight,color='red')\n",
    "plt.xlabel('길이')\n",
    "plt.ylabel('무게')\n",
    "plt.title('방어와 도미의 데이터')\n",
    "plt.show()"
   ]
  },
  {
   "cell_type": "markdown",
   "metadata": {},
   "source": [
    "### k-최근접 이웃 알고리즘 \n",
    "\n",
    "- 가장 가까운 K개의 데이터를 찾아 다수결 또는 평균을 통해 분류 또는 회귀를 수행하는 알고리즘 \n",
    "- 지도 학습 알고리즘 \n",
    "- 학습 과정이 거의 없고, 예측 시 계산이 많음 ( lazy learning )\n",
    "- k값 ( 이웃 개수 )에 따라 결과가 달라짐. "
   ]
  },
  {
   "cell_type": "code",
   "execution_count": 9,
   "metadata": {},
   "outputs": [
    {
     "name": "stdout",
     "output_type": "stream",
     "text": [
      "35\n"
     ]
    }
   ],
   "source": [
    "print(len(bream_length))\n",
    "length=bream_length+smelt_length\n",
    "weight=bream_weight+smelt_weight"
   ]
  },
  {
   "cell_type": "markdown",
   "metadata": {},
   "source": [
    "### 사이킷 런 패키지 \n",
    "\n",
    "- 지도 학습, 비지도 학습, 데이터 전처리, 모델 평가 등 다양한 기능을 지원 \n",
    "- 선형회귀, knn, 랜덤 포레스트 등 여러 알고리즘 사용 가능 "
   ]
  },
  {
   "cell_type": "code",
   "execution_count": 10,
   "metadata": {},
   "outputs": [
    {
     "name": "stdout",
     "output_type": "stream",
     "text": [
      "[[25.4, 242.0], [26.3, 290.0], [26.5, 340.0], [29.0, 363.0], [29.0, 430.0], [29.7, 450.0], [29.7, 500.0], [30.0, 390.0], [30.0, 450.0], [30.7, 500.0], [31.0, 475.0], [31.0, 500.0], [31.5, 500.0], [32.0, 340.0], [32.0, 600.0], [32.0, 600.0], [33.0, 700.0], [33.0, 700.0], [33.5, 610.0], [33.5, 650.0], [34.0, 575.0], [34.0, 685.0], [34.5, 620.0], [35.0, 680.0], [35.0, 700.0], [35.0, 725.0], [35.0, 720.0], [36.0, 714.0], [36.0, 850.0], [37.0, 1000.0], [38.5, 920.0], [38.5, 955.0], [39.5, 925.0], [41.0, 975.0], [41.0, 950.0], [9.8, 6.7], [10.5, 7.5], [10.6, 7.0], [11.0, 9.7], [11.2, 9.8], [11.3, 8.7], [11.8, 10.0], [11.8, 9.9], [12.0, 9.8], [12.2, 12.2], [12.4, 13.4], [13.0, 12.2], [14.3, 19.7], [15.0, 19.9]]\n"
     ]
    }
   ],
   "source": [
    "fish_data = [[l,w] for l , w in zip(length,weight)]\n",
    "print(fish_data)"
   ]
  },
  {
   "cell_type": "markdown",
   "metadata": {},
   "source": [
    "### zip 함수 \n",
    "\n",
    "여러개의 리스트를 묶어서 튜플의 형태로 반환하는 내장 함수 \n",
    "\n",
    "- 같은 인덱스의 요소끼리 묶어서 튜플을 생성 \n",
    "- for 루프와 함께 자주 사용됨\n",
    "- 결과는 zip 객체이므로 list()나 tuple()로 변환 가능 "
   ]
  },
  {
   "cell_type": "code",
   "execution_count": 11,
   "metadata": {},
   "outputs": [
    {
     "name": "stdout",
     "output_type": "stream",
     "text": [
      "[[1, '하나'], [2, '둘'], [3, '셋']]\n"
     ]
    }
   ],
   "source": [
    "\"\"\"zip 함수 간단 예제\"\"\"\n",
    "\n",
    "list1=[1,2,3]\n",
    "list2=['하나','둘','셋']\n",
    "\n",
    "\n",
    "zipped_data = [[x,y] for x,y in zip(list1,list2)]\n",
    "print(zipped_data)"
   ]
  },
  {
   "cell_type": "markdown",
   "metadata": {},
   "source": [
    "### 방어와 도미의 계산식 만들기 \n",
    "\n",
    "다시 예제로 돌아가서, 현재, 도미와 방어의 데이터는 2차원 배열로 되어 있고, 각 원소마다, \n",
    "도미, 방어 순으로 데이터가 표시된다. \n",
    "또한, 도미를 1로, 방어를 0으로 생각한다. \n",
    "그럼, 도미와 방어의 데이터를 1과0으로 나타내려면, 도미는 35개의 데이터, 방어는 14개의 데이터가 있으므로, "
   ]
  },
  {
   "cell_type": "code",
   "execution_count": 12,
   "metadata": {},
   "outputs": [
    {
     "name": "stdout",
     "output_type": "stream",
     "text": [
      "[1, 1, 1, 1, 1, 1, 1, 1, 1, 1, 1, 1, 1, 1, 1, 1, 1, 1, 1, 1, 1, 1, 1, 1, 1, 1, 1, 1, 1, 1, 1, 1, 1, 1, 1, 0, 0, 0, 0, 0, 0, 0, 0, 0, 0, 0, 0, 0, 0]\n"
     ]
    }
   ],
   "source": [
    "# 어떤 것이 도미이고, 어떠한 것이 도미인지 알려주는 정답은 아래와 같이 만들 수 있다. \n",
    "fish_target = [1] * 35 + [0] * 14 \n",
    "print(fish_target)"
   ]
  },
  {
   "cell_type": "markdown",
   "metadata": {},
   "source": [
    "이제 사이킷런 패키지에서 k-최근접 이웃 알고리즘을 구현한 KneighborsClassifier를 임포트 해보자.\n",
    "\n"
   ]
  },
  {
   "cell_type": "code",
   "execution_count": 13,
   "metadata": {},
   "outputs": [
    {
     "name": "stdout",
     "output_type": "stream",
     "text": [
      "[1 0]\n",
      "[[  25.4  242. ]\n",
      " [  26.3  290. ]\n",
      " [  26.5  340. ]\n",
      " [  29.   363. ]\n",
      " [  29.   430. ]\n",
      " [  29.7  450. ]\n",
      " [  29.7  500. ]\n",
      " [  30.   390. ]\n",
      " [  30.   450. ]\n",
      " [  30.7  500. ]\n",
      " [  31.   475. ]\n",
      " [  31.   500. ]\n",
      " [  31.5  500. ]\n",
      " [  32.   340. ]\n",
      " [  32.   600. ]\n",
      " [  32.   600. ]\n",
      " [  33.   700. ]\n",
      " [  33.   700. ]\n",
      " [  33.5  610. ]\n",
      " [  33.5  650. ]\n",
      " [  34.   575. ]\n",
      " [  34.   685. ]\n",
      " [  34.5  620. ]\n",
      " [  35.   680. ]\n",
      " [  35.   700. ]\n",
      " [  35.   725. ]\n",
      " [  35.   720. ]\n",
      " [  36.   714. ]\n",
      " [  36.   850. ]\n",
      " [  37.  1000. ]\n",
      " [  38.5  920. ]\n",
      " [  38.5  955. ]\n",
      " [  39.5  925. ]\n",
      " [  41.   975. ]\n",
      " [  41.   950. ]\n",
      " [   9.8    6.7]\n",
      " [  10.5    7.5]\n",
      " [  10.6    7. ]\n",
      " [  11.     9.7]\n",
      " [  11.2    9.8]\n",
      " [  11.3    8.7]\n",
      " [  11.8   10. ]\n",
      " [  11.8    9.9]\n",
      " [  12.     9.8]\n",
      " [  12.2   12.2]\n",
      " [  12.4   13.4]\n",
      " [  13.    12.2]\n",
      " [  14.3   19.7]\n",
      " [  15.    19.9]]\n",
      "[1 1 1 1 1 1 1 1 1 1 1 1 1 1 1 1 1 1 1 1 1 1 1 1 1 1 1 1 1 1 1 1 1 1 1 0 0\n",
      " 0 0 0 0 0 0 0 0 0 0 0 0]\n"
     ]
    }
   ],
   "source": [
    "import sklearn\n",
    "from sklearn import neighbors\n",
    "\n",
    "\n",
    "## 임포트한 KneighborsClassifier 객체를 만들자. \n",
    "\n",
    "kn = neighbors.KNeighborsClassifier()\n",
    "kn.fit(fish_data,fish_target) # 모델 학습 \n",
    "kn.score(fish_data,fish_target) # 훈련데이터로 평가를 하면, 정확도가 100이 나옴\n",
    "\n",
    "### 새로운 데이터 예측 \n",
    "\n",
    "print(kn.predict([[30,600],[15,20]])) ## 1이라고 출력되었으므로, 도미라고 판단 \n",
    "\n",
    "## 분류모델이기 때문에, 예측을 수행하면, 정수값으로 나온다. \n",
    "\n",
    "\n",
    "## kn 인스턴스에는 도미와 방어 데이터가 모두 들어가 있다. \n",
    "\n",
    "print(kn._fit_X)\n",
    "print(kn._y)\n"
   ]
  },
  {
   "cell_type": "markdown",
   "metadata": {},
   "source": [
    "최근접 이웃 알고리즘은, 새로운 데이터에 대해 예측할 때는 가장 가까운 직선거리에 어떤 데이터가 있는지를 살피기만 하면된다. 단점은, k-최근접 이웃 알고리즘의 이러한 특성 때문에, 데이터가 아주 많은 경우, 사용하기 어렵다. \n",
    "\n",
    "-> 즉, fir() 메서드에 도미와 방어 데이터를 모두 들고 있다가, 새로운 데이터가 등장하면 가장 가까운 데이터를 참고하여, 도미인지 방어인지 구분한다. "
   ]
  },
  {
   "cell_type": "code",
   "execution_count": 14,
   "metadata": {},
   "outputs": [
    {
     "name": "stdout",
     "output_type": "stream",
     "text": [
      "18 0.9795918367346939\n"
     ]
    }
   ],
   "source": [
    "\"\"\"정확도가 내려가는 구간을 찾아보자.\n",
    "    k 근접 이웃 알고리즘을 사용할 때, 49로 설정하면, 점수가 1.0보다 작았다. \n",
    "    때문에, 기본값인 5부터 49까지 바꾸어가면서 점수가 1.0 아래로 내려가기 시작하는 이웃의 개수를 찾아보자. \n",
    "    \n",
    "\"\"\"\n",
    "\n",
    "kn = neighbors.KNeighborsClassifier()\n",
    "kn.fit(fish_data, fish_target)  \n",
    "\n",
    "for n in range(5,50):\n",
    "    \n",
    "    # k-최근접 이웃 개수 설정 \n",
    "    kn.n_neighbors = n\n",
    "    # 점수 꼐산 \n",
    "\n",
    "    score = kn.score(fish_data, fish_target)\n",
    "    if score < 1:\n",
    "        print(n,score)\n",
    "        break"
   ]
  },
  {
   "cell_type": "markdown",
   "metadata": {},
   "source": [
    "### 위의 모델에 대한 문제 \n",
    "\n",
    "- 현재, 도미와 방어에 대한 데이터와 타깃을 주고, 훈련한 다음, 같은 데이터를 테스트한다면,\n",
    "모두 맞히는 것이 당연한다. 때문에, 모델의 정확도를 판별하기 위해서는\n",
    "\n",
    "1. 또 다른 데이터를 준비하여 테스트 한다. \n",
    "2. 이미 준비된 훈련 데이터에서 일부를 떼어서 테스트 한다. \n",
    "\n",
    "일반적으로, 2번의 경우가 많다. 지금부터 2번의 방법을 통해 다시 테스트 해보고자 한다. \n"
   ]
  },
  {
   "cell_type": "code",
   "execution_count": 15,
   "metadata": {},
   "outputs": [],
   "source": [
    "fish_length = [\n",
    "    25.4,\n",
    "    26.3,\n",
    "    26.5,\n",
    "    29.0,\n",
    "    29.0,\n",
    "    29.7,\n",
    "    29.7,\n",
    "    30.0,\n",
    "    30.0,\n",
    "    30.7,\n",
    "    31.0,\n",
    "    31.0,\n",
    "    31.5,\n",
    "    32.0,\n",
    "    32.0,\n",
    "    32.0,\n",
    "    33.0,\n",
    "    33.0,\n",
    "    33.5,\n",
    "    33.5,\n",
    "    34.0,\n",
    "    34.0,\n",
    "    34.5,\n",
    "    35.0,\n",
    "    35.0,\n",
    "    35.0,\n",
    "    35.0,\n",
    "    36.0,\n",
    "    36.0,\n",
    "    37.0,\n",
    "    38.5,\n",
    "    38.5,\n",
    "    39.5,\n",
    "    41.0,\n",
    "    41.0,\n",
    "    9.8,\n",
    "    10.5,\n",
    "    10.6,\n",
    "    11.0,\n",
    "    11.2,\n",
    "    11.3,\n",
    "    11.8,\n",
    "    11.8,\n",
    "    12.0,\n",
    "    12.2,\n",
    "    12.4,\n",
    "    13.0,\n",
    "    14.3,\n",
    "    15.0,\n",
    "]\n",
    "fish_weight = [\n",
    "    242.0,\n",
    "    290.0,\n",
    "    340.0,\n",
    "    363.0,\n",
    "    430.0,\n",
    "    450.0,\n",
    "    500.0,\n",
    "    390.0,\n",
    "    450.0,\n",
    "    500.0,\n",
    "    475.0,\n",
    "    500.0,\n",
    "    500.0,\n",
    "    340.0,\n",
    "    600.0,\n",
    "    600.0,\n",
    "    700.0,\n",
    "    700.0,\n",
    "    610.0,\n",
    "    650.0,\n",
    "    575.0,\n",
    "    685.0,\n",
    "    620.0,\n",
    "    680.0,\n",
    "    700.0,\n",
    "    725.0,\n",
    "    720.0,\n",
    "    714.0,\n",
    "    850.0,\n",
    "    1000.0,\n",
    "    920.0,\n",
    "    955.0,\n",
    "    925.0,\n",
    "    975.0,\n",
    "    950.0,\n",
    "    6.7,\n",
    "    7.5,\n",
    "    7.0,\n",
    "    9.7,\n",
    "    9.8,\n",
    "    8.7,\n",
    "    10.0,\n",
    "    9.9,\n",
    "    9.8,\n",
    "    12.2,\n",
    "    13.4,\n",
    "    12.2,\n",
    "    19.7,\n",
    "    19.9,\n",
    "]"
   ]
  },
  {
   "cell_type": "code",
   "execution_count": null,
   "metadata": {},
   "outputs": [],
   "source": []
  },
  {
   "cell_type": "code",
   "execution_count": 16,
   "metadata": {},
   "outputs": [],
   "source": [
    "fish_data = [[l,w] for l,w in zip(fish_length,fish_weight)] # 리스트 형태 \n",
    "\n",
    "# fish_data2 = list(zip(fish_length,fish_weight)) ## 튜플 형태 \n",
    "\n",
    "\"\"\"\n",
    "용어 정리 \n",
    "\n",
    "훈련 데이터 = 입력 + 타깃 ( 정답 )\n",
    "\"\"\"\n",
    "\n",
    "# 타겟 데이터 = 정답 데이터 \n",
    "# 현재 도미 35개 , 방어 14개의 데이터가 있으므로, 49개의 샘플이 있다고 할 수 있다.\n",
    "fish_target = [1]*35 + [0]*14 \n",
    "\n",
    "\n"
   ]
  },
  {
   "cell_type": "code",
   "execution_count": 17,
   "metadata": {},
   "outputs": [
    {
     "name": "stdout",
     "output_type": "stream",
     "text": [
      "[[25.4, 242.0], [26.3, 290.0], [26.5, 340.0], [29.0, 363.0], [29.0, 430.0]]\n"
     ]
    }
   ],
   "source": [
    "from sklearn.neighbors import KNeighborsClassifier\n",
    "kn = KNeighborsClassifier()\n",
    "\n",
    "# 5개의 샘플을 보자. 0 ~ 4까지 출력된다. \n",
    "\n",
    "print(fish_data[:5])"
   ]
  },
  {
   "cell_type": "code",
   "execution_count": 18,
   "metadata": {},
   "outputs": [
    {
     "data": {
      "text/plain": [
       "0.0"
      ]
     },
     "execution_count": 18,
     "metadata": {},
     "output_type": "execute_result"
    }
   ],
   "source": [
    "# 49개의 샘플중에서 35개를 훈련 데이터로, 14개를 샘플 데이터로 활용해보자 .\n",
    "\n",
    "train_input = fish_data[:35] \n",
    "train_target = fish_target[:35]\n",
    "\n",
    "test_input = fish_data[35:]\n",
    "test_target = fish_target[35:]\n",
    "\n",
    "kn.fit(train_input,train_target)\n",
    "kn.score(test_input,test_target)"
   ]
  },
  {
   "cell_type": "markdown",
   "metadata": {},
   "source": [
    "위의 결과가 0.0이 나오는 이유가 뭘까 ? 0.0이라면, 정확도가 0이라는 이야기이다. \n",
    "\n",
    "이유는, 현재, fit모델에서 , train_input 즉 35개의 데이터를 넣고, 이에 대한 정답데이터로 \n",
    "train_target을 넣었다. 35개의 데이터는 도미에 대한 내용이지만, score를 계산할 때, \n",
    "test_input은 14개의 방어 데이터를 기준으로 훈련과 정답 데이터를 넣기 때문에, 도미에 대해 생성된 모델에 대해서 정확도가 0이 되는 것이다. \n",
    "일반적으로, 훈련 세트와 테스트 세트에 샘플이 골고루 섞여있지 않으면, 샘플링이 한쪽으로 치우쳤다는 의미로, 샘플링 편향이라고 부른다. "
   ]
  },
  {
   "cell_type": "markdown",
   "metadata": {},
   "source": [
    "### 넘파이 \n",
    "\n",
    "- 배열 라이브러리"
   ]
  },
  {
   "cell_type": "code",
   "execution_count": 19,
   "metadata": {},
   "outputs": [
    {
     "name": "stdout",
     "output_type": "stream",
     "text": [
      "[[  25.4  242. ]\n",
      " [  26.3  290. ]\n",
      " [  26.5  340. ]\n",
      " [  29.   363. ]\n",
      " [  29.   430. ]\n",
      " [  29.7  450. ]\n",
      " [  29.7  500. ]\n",
      " [  30.   390. ]\n",
      " [  30.   450. ]\n",
      " [  30.7  500. ]\n",
      " [  31.   475. ]\n",
      " [  31.   500. ]\n",
      " [  31.5  500. ]\n",
      " [  32.   340. ]\n",
      " [  32.   600. ]\n",
      " [  32.   600. ]\n",
      " [  33.   700. ]\n",
      " [  33.   700. ]\n",
      " [  33.5  610. ]\n",
      " [  33.5  650. ]\n",
      " [  34.   575. ]\n",
      " [  34.   685. ]\n",
      " [  34.5  620. ]\n",
      " [  35.   680. ]\n",
      " [  35.   700. ]\n",
      " [  35.   725. ]\n",
      " [  35.   720. ]\n",
      " [  36.   714. ]\n",
      " [  36.   850. ]\n",
      " [  37.  1000. ]\n",
      " [  38.5  920. ]\n",
      " [  38.5  955. ]\n",
      " [  39.5  925. ]\n",
      " [  41.   975. ]\n",
      " [  41.   950. ]\n",
      " [   9.8    6.7]\n",
      " [  10.5    7.5]\n",
      " [  10.6    7. ]\n",
      " [  11.     9.7]\n",
      " [  11.2    9.8]\n",
      " [  11.3    8.7]\n",
      " [  11.8   10. ]\n",
      " [  11.8    9.9]\n",
      " [  12.     9.8]\n",
      " [  12.2   12.2]\n",
      " [  12.4   13.4]\n",
      " [  13.    12.2]\n",
      " [  14.3   19.7]\n",
      " [  15.    19.9]]\n",
      "(49, 2)\n"
     ]
    }
   ],
   "source": [
    "import numpy as np\n",
    "\n",
    "input_arr = np.array(fish_data)\n",
    "target_arr = np.array(fish_target)\n",
    "print(input_arr)\n",
    "print(input_arr.shape) # 배열의 형태가 출력된다. "
   ]
  },
  {
   "cell_type": "code",
   "execution_count": 20,
   "metadata": {},
   "outputs": [],
   "source": [
    "# 훈련데이터의 인덱스와 타겟 데이터의 인덱스를 일치시키면서, 무작위로 테스트 데이터와 타겟 데이터를 나누는 것이 필요하다.\n",
    "\n",
    "# ex. ) (26.3,290.0 )은 도미 데이터, 그리고 이에 대한 답으로 target데이터의 값인 1이 와야 한다. \n",
    "\n",
    "# 즉, (26.3,290.0)과 1 이 한 세트로 있어야 한다. "
   ]
  },
  {
   "cell_type": "markdown",
   "metadata": {},
   "source": [
    "넘파이 배열 만들기 "
   ]
  },
  {
   "cell_type": "code",
   "execution_count": 21,
   "metadata": {},
   "outputs": [
    {
     "name": "stdout",
     "output_type": "stream",
     "text": [
      "[5 6 7 8 9]\n"
     ]
    }
   ],
   "source": [
    "test1 = np.arange(5)\n",
    "test2 = np.arange(5,10) # 5부터 9까지의 배열을 만들어라. \n",
    "test3 = np.arange(5,10,dtype=float) # 5부터 9까지 실수형 배열을 만들어라. \n",
    "print(test2)"
   ]
  },
  {
   "cell_type": "markdown",
   "metadata": {},
   "source": [
    "### 2차원 배열 만들기"
   ]
  },
  {
   "cell_type": "code",
   "execution_count": 22,
   "metadata": {},
   "outputs": [
    {
     "name": "stdout",
     "output_type": "stream",
     "text": [
      "[[ 0  1  2  3]\n",
      " [ 4  5  6  7]\n",
      " [ 8  9 10 11]]\n"
     ]
    }
   ],
   "source": [
    "array_2d = np.arange(12).reshape(3,4)\n",
    "print(array_2d)"
   ]
  },
  {
   "cell_type": "code",
   "execution_count": 23,
   "metadata": {},
   "outputs": [
    {
     "name": "stdout",
     "output_type": "stream",
     "text": [
      "[13 45 47 44 17 27 26 25 31 19 12  4 34  8  3  6 40 41 46 15  9 16 24 33\n",
      " 30  0 43 32  5 29 11 36  1 21  2 37 35 23 39 10 22 18 48 20  7 42 14 28\n",
      " 38]\n",
      "[13 38]\n"
     ]
    }
   ],
   "source": [
    "# 다시 책의 실습 \n",
    "\n",
    "np.random.seed(42) # 시드를 고정 -> 넘파이에서 무작위 결과를 만드는 함수를 실행할 때마다, \n",
    "# 다른 결과를 만든다. 일정한 결과를 얻으려며느 시드를 지정하면 된다. \n",
    "\n",
    "index = np.arange(49) # 0 ~ 48을 가지는 배열을 생성 \n",
    "\n",
    "np.random.shuffle(index) # index 배열을 무작위로 가져온다. \n",
    "\n",
    "print(index)\n",
    "\n",
    "# 배열 인덱싱 \n",
    "# 배열 인덱싱은 1개의 인덱스가 아닌 여러개의 인덱스로 한번에 여러 개의 원소를 선택할 수 있다. \n",
    "\n",
    "print(index[[0,-1]]) # 인덱싱을 할때, 리스트를 사용하면, 1차원 배열에서 여러개의 인덱스에 대한 값을 가져올 수 있다. "
   ]
  },
  {
   "cell_type": "code",
   "execution_count": 24,
   "metadata": {},
   "outputs": [
    {
     "name": "stdout",
     "output_type": "stream",
     "text": [
      "[2 3 4]\n",
      "[ 7  8  9  2  3 90 80]\n",
      "[9 2 3]\n"
     ]
    }
   ],
   "source": [
    "\"\"\"\n",
    "배열 인덱싱에 대한 연습 \n",
    "\"\"\"\n",
    "\n",
    "arr1 = np.arange(5)\n",
    "arr2 = np.array([7,8,9,2,3,90,80])\n",
    "\n",
    "\n",
    "\n",
    "np.random.shuffle(arr1)\n",
    "\n",
    "\n",
    "print(arr1[:3])\n",
    "print(arr2)\n",
    "res = arr2[arr1[:3]]\n",
    "print(res)\n"
   ]
  },
  {
   "cell_type": "code",
   "execution_count": 25,
   "metadata": {},
   "outputs": [
    {
     "data": {
      "image/png": "[encoded data removed]",
      "text/plain": [
       "<Figure size 640x480 with 1 Axes>"
      ]
     },
     "metadata": {},
     "output_type": "display_data"
    }
   ],
   "source": [
    "# 앞서만든 index 배열의 처음 35개를 input_arr와 target_arr에 전달하여, 랜덤하게 35개의 샘플을 훈련 세트로 만든다. \n",
    "\n",
    "train_input = input_arr[index[:35]]\n",
    "train_target = target_arr[index[:35]]\n",
    "\n",
    "test_input = input_arr[index[35:]]\n",
    "test_target = target_arr[index[35:]]\n",
    "\n",
    "import matplotlib.pyplot as plt\n",
    "plt.scatter(train_input[:,0],train_input[:,1]) # : ,0 의 의미는 모든행에서 첫번째 열만 선택\n",
    "# 2차원 배열은 행과 열 인덱스를 콤마로 나누어 지정한다. \n",
    "plt.scatter(test_input[:,0],test_input[:,1])\n",
    "plt.xlabel('length')\n",
    "plt.ylabel('weight')\n",
    "plt.show()\n",
    "\n"
   ]
  },
  {
   "cell_type": "code",
   "execution_count": 26,
   "metadata": {},
   "outputs": [
    {
     "data": {
      "text/plain": [
       "array([0, 0, 1, 0, 1, 1, 1, 0, 1, 1, 0, 1, 1, 0])"
      ]
     },
     "execution_count": 26,
     "metadata": {},
     "output_type": "execute_result"
    }
   ],
   "source": [
    "# 앞서 만든 훈련 세트와 테스트 세트로 k-최근접 이웃 모델을 훈련시켜보자. \n",
    "\n",
    "kn.fit(train_input,train_target)\n",
    "kn.score(test_input,test_target)\n",
    "\n",
    "kn.predict(test_input)\n",
    "\n",
    "test_target                                                 "
   ]
  },
  {
   "cell_type": "code",
   "execution_count": 28,
   "metadata": {},
   "outputs": [
    {
     "data": {
      "text/plain": [
       "array([0, 1, 2, 3, 4])"
      ]
     },
     "execution_count": 28,
     "metadata": {},
     "output_type": "execute_result"
    }
   ],
   "source": [
    "import numpy as np\n",
    "np.array(np.arange(5))"
   ]
  },
  {
   "cell_type": "markdown",
   "metadata": {},
   "source": [
    "## 데이터 전처리 "
   ]
  },
  {
   "cell_type": "code",
   "execution_count": 31,
   "metadata": {},
   "outputs": [
    {
     "name": "stdout",
     "output_type": "stream",
     "text": [
      "[[ 25.4 242. ]\n",
      " [ 26.3 290. ]\n",
      " [ 26.5 340. ]\n",
      " [ 29.  363. ]\n",
      " [ 29.  430. ]]\n",
      "[25.4 26.3 26.5 29.  29. ]\n"
     ]
    }
   ],
   "source": [
    "# column_stack은 리스트를 행으로 겹겹히 쌓고, \n",
    "fish_data = np.column_stack((fish_length,fish_weight))\n",
    "\n",
    "# np.concatenate()함수는 옆 ( 열방향 )으로 리스트를 연결한다. \n",
    "\n",
    "print(fish_data[:5])\n",
    "\n",
    "fish_data2 = np.concatenate((fish_length,fish_weight))\n",
    "\n",
    "print(fish_data2[:5])"
   ]
  },
  {
   "cell_type": "code",
   "execution_count": 32,
   "metadata": {},
   "outputs": [
    {
     "name": "stdout",
     "output_type": "stream",
     "text": [
      "[1. 1. 1. 1. 1. 1. 1. 1. 1. 1. 1. 1. 1. 1. 1. 1. 1. 1. 1. 1. 1. 1. 1. 1.\n",
      " 1. 1. 1. 1. 1. 1. 1. 1. 1. 1. 1. 0. 0. 0. 0. 0. 0. 0. 0. 0. 0. 0. 0. 0.\n",
      " 0.]\n"
     ]
    }
   ],
   "source": [
    "## 0로 만들어주는 배열인 zeros와 1으로 만들어주는 ones 배열 \n",
    "\n",
    "fish_target = np.concatenate((np.ones(35),np.zeros(14)))\n",
    "\n",
    "print(fish_target)"
   ]
  }
 ],
 "metadata": {
  "kernelspec": {
   "display_name": "Python 3",
   "language": "python",
   "name": "python3"
  },
  "language_info": {
   "codemirror_mode": {
    "name": "ipython",
    "version": 3
   },
   "file_extension": ".py",
   "mimetype": "text/x-python",
   "name": "python",
   "nbconvert_exporter": "python",
   "pygments_lexer": "ipython3",
   "version": "3.12.6"
  }
 },
 "nbformat": 4,
 "nbformat_minor": 2
}
