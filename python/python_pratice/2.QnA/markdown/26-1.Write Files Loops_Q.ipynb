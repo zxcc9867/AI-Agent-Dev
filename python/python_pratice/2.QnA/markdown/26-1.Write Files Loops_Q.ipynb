{
 "cells": [
  {
   "cell_type": "markdown",
   "id": "46e3d990",
   "metadata": {},
   "source": [
    "---\n",
    "# 파이썬 입문 : 도전! 45가지 기초 문법 실습하기 🙋🏻‍♂️\n",
    "---"
   ]
  },
  {
   "cell_type": "markdown",
   "id": "28f413a5",
   "metadata": {},
   "source": [
    "### 꼭 기억하세요 😊\n",
    "+ **시간이 다소 소요되더라도** 스스로 생각해서 프로그래밍을 해야**`실력이 향상 됩니다.`** \n",
    "+ 다양한 문제를 통해서 **`문제 해결`**능력을 향상 시켜봐요.\n",
    "+ 여러 방식으로 **`같은 결과 값`**이 나오도록 프로그래밍 해보세요.\n",
    "+ **문제 해결**에 너무 시간이 오래 걸리면 **`검색(구글링 등)`**을 통해서 해결해보세요.\n",
    "+ **`온라인 Python IDE :`** https://www.programiz.com/python-programming/online-compiler/"
   ]
  },
  {
   "cell_type": "markdown",
   "id": "c3a88b92",
   "metadata": {},
   "source": [
    "***\n",
    "## 26. Write Files Loops💻\n",
    "***\n",
    "#### **`연습예제`** 💻"
   ]
  },
  {
   "cell_type": "markdown",
   "id": "49b428ae",
   "metadata": {},
   "source": [
    "**`/source/26-1/`** `경로에서` **`아래 조건`** `으로` **`name = 파일명`**  **`contents = 내용`** `으로 파일로 쓰세요.`\n",
    "\n",
    "\n",
    "```python\n",
    "# 아래 조건 참조\n",
    "\n",
    "파일명 & 경로 = \"../source/26-1/파일명.txt\"\n",
    "파일명 리스트 = [\"A\", \"B\", \"C\", \"D\", \"F\", \"G\"]\n",
    "컨텐츠 리스트 = [\"Python\", \"JavaScript\", \"PHP\", \"Rust\", \"Solidity\", \"Assembly\"]\n",
    "```"
   ]
  },
  {
   "cell_type": "markdown",
   "id": "44d53430",
   "metadata": {},
   "source": [
    "#### **`코딩영역`**"
   ]
  },
  {
   "cell_type": "code",
   "execution_count": null,
   "id": "ca1e5a1b",
   "metadata": {},
   "outputs": [
    {
     "name": "stdout",
     "output_type": "stream",
     "text": [
      "[('A', 'Python'), ('B', 'JavaScript'), ('C', 'PHP'), ('D', 'Rust'), ('F', 'Solidity'), ('G', 'Assembly')]\n",
      "[('A', 'Python'), ('B', 'JavaScript'), ('C', 'PHP'), ('D', 'Rust'), ('F', 'Solidity'), ('G', 'Assembly')]\n"
     ]
    }
   ],
   "source": [
    "# 코딩 영역\n",
    "import this\n",
    "import os\n",
    "# 파일 쓰기\n",
    "\n",
    "# 다시하기 ##############\n",
    "\n",
    "dir = \"../source/26-1/\"\n",
    "os.makedirs(dir,exist_ok=True) # exist_ok=True는 파일이 있으면 해당 파일을 사용한다는 의미 즉, 충돌 발생하지 않음 \n",
    "\n",
    "file_list = [\"A\", \"B\", \"C\", \"D\", \"F\", \"G\"]\n",
    "content_list = [\"Python\", \"JavaScript\", \"PHP\", \"Rust\", \"Solidity\", \"Assembly\"]\n",
    "result = [(f, c) for f, c in zip(file_list, content_list)]\n",
    "print(result)\n",
    "with open(\"../source/26-1/파일명.txt\",'w+') as file: # w+모드는 파일 읽기 / 쓰기 모두 지원원\n",
    "    file.write('file list : '+','.join([f\"{f}:{c}\" for f,c in zip(file_list, content_list)]))\n",
    "    file.seek(0) # 파일을 쓰고 나면, 파일의 포인터가 맨뒤로 가기 때문에, 포인터를 맨앞으로 해준다.\n",
    "    text = file.read()\n",
    "    print(text)\n",
    "\n",
    "# 방법 2\n",
    "\n",
    "with open(\"../source/26-1/파일명2.txt\",'w+') as file:\n",
    "    # zip는 반복가능한 객체인 이터레이터를 반환한다. \n",
    "    # 때문에, list로 변환을 하면, zip 객체안의 데이터를 모두 꺼내 반환을 하기 때문에 값이 보인다. \n",
    "    file.writelines((str(zip(file_list,content_list)))) \n",
    "    file.seek(0)\n",
    "    text = file.read()\n",
    "    print(text)"
   ]
  },
  {
   "cell_type": "markdown",
   "id": "e48cce26",
   "metadata": {},
   "source": [
    "#### **`Hint`**"
   ]
  },
  {
   "cell_type": "markdown",
   "id": "fc2ea9eb",
   "metadata": {},
   "source": [
    "<details>\n",
    "    <summary>▶<b>여기</b>를 눌러주세요</summary>\n",
    "<div markdown=\"1\">       \n",
    "\n",
    "```python\n",
    "# 다중 리스트 형태의 파일 쓰기 패턴은 정말 많이 사용해요.\n",
    "# Python Open 함수의 쓰기 모드를 기억해야 해요.\n",
    "    \n",
    "# 'w' : Open a text file for writing text (덮어쓰기)\n",
    "# 'a' : Open a text file for appending text (추가) \n",
    "# f.write :  writes a string to a text file \n",
    "# f.writelines : write a list of strings to a file at once.\n",
    "```\n",
    "</div>\n",
    "</details>"
   ]
  },
  {
   "cell_type": "markdown",
   "id": "866ce5b7",
   "metadata": {},
   "source": [
    "***"
   ]
  }
 ],
 "metadata": {
  "kernelspec": {
   "display_name": "venv",
   "language": "python",
   "name": "python3"
  },
  "language_info": {
   "codemirror_mode": {
    "name": "ipython",
    "version": 3
   },
   "file_extension": ".py",
   "mimetype": "text/x-python",
   "name": "python",
   "nbconvert_exporter": "python",
   "pygments_lexer": "ipython3",
   "version": "3.12.6"
  },
  "toc": {
   "base_numbering": 1,
   "nav_menu": {},
   "number_sections": false,
   "sideBar": true,
   "skip_h1_title": false,
   "title_cell": "Table of Contents",
   "title_sidebar": "Contents",
   "toc_cell": false,
   "toc_position": {
    "height": "calc(100% - 180px)",
    "left": "10px",
    "top": "150px",
    "width": "318px"
   },
   "toc_section_display": true,
   "toc_window_display": false
  }
 },
 "nbformat": 4,
 "nbformat_minor": 5
}
