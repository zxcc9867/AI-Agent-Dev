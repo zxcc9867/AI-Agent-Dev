{
 "cells": [
  {
   "cell_type": "markdown",
   "id": "46e3d990",
   "metadata": {},
   "source": [
    "---\n",
    "# 파이썬 입문 : 도전! 45가지 기초 문법 실습하기 🙋🏻‍♂️\n",
    "---"
   ]
  },
  {
   "cell_type": "markdown",
   "id": "28f413a5",
   "metadata": {},
   "source": [
    "### 꼭 기억하세요 😊\n",
    "+ **시간이 다소 소요되더라도** 스스로 생각해서 프로그래밍을 해야**`실력이 향상 됩니다.`** \n",
    "+ 다양한 문제를 통해서 **`문제 해결`**능력을 향상 시켜봐요.\n",
    "+ 여러 방식으로 **`같은 결과 값`**이 나오도록 프로그래밍 해보세요.\n",
    "+ **문제 해결**에 너무 시간이 오래 걸리면 **`검색(구글링 등)`**을 통해서 해결해보세요.\n",
    "+ **`온라인 Python IDE :`** https://www.programiz.com/python-programming/online-compiler/"
   ]
  },
  {
   "cell_type": "markdown",
   "id": "c3a88b92",
   "metadata": {},
   "source": [
    "***\n",
    "## 20. Local & Global Variables💻\n",
    "***\n",
    "#### **`연습예제`** 💻"
   ]
  },
  {
   "cell_type": "markdown",
   "id": "49b428ae",
   "metadata": {},
   "source": [
    "`아래` **`함수 실행 후`** **`Step1, Step2 -> a, b, x, y`** `결과를` **`예측`** `해보세요.`\n",
    "\n",
    "\n",
    "\n",
    "```python\n",
    "def test(x, y):\n",
    "    global a\n",
    "    a = 49\n",
    "    x,y = y,x\n",
    "    b = 53\n",
    "    b = 7\n",
    "    c = 135\n",
    "    # 예상1\n",
    "    print('Step1 : ', a, b, x, y)\n",
    "\n",
    "a, b, x, y = 8, 13, 33,44 \n",
    "\n",
    "# 함수 실행\n",
    "test(23, 7)\n",
    "\n",
    "# 예상2\n",
    "print('Step2 : ', a, b, x, y)\n",
    "```"
   ]
  },
  {
   "cell_type": "markdown",
   "id": "44d53430",
   "metadata": {},
   "source": [
    "#### **`코딩영역`**"
   ]
  },
  {
   "cell_type": "code",
   "execution_count": 24,
   "id": "ca1e5a1b",
   "metadata": {},
   "outputs": [],
   "source": [
    "# 코딩 영역\n",
    "import this"
   ]
  },
  {
   "cell_type": "markdown",
   "id": "e48cce26",
   "metadata": {},
   "source": [
    "#### **`Hint`**"
   ]
  },
  {
   "cell_type": "markdown",
   "id": "fc2ea9eb",
   "metadata": {},
   "source": [
    "<details>\n",
    "    <summary>▶<b>여기</b>를 눌러주세요</summary>\n",
    "<div markdown=\"1\">       \n",
    "\n",
    "```python\n",
    "# 파이썬 변수 스코프(영역)에 대한 이해는 정말 중요해요.\n",
    "# 변수 영역에 대한 이해 부족 시 잘못된 결과값, 프로그램 종료 등 문제가 발생할 수 있어요.\n",
    "# 전역 변수 : 함수 내부가 아닌 외부에 정의되어 전체 범위를 갖는 변수(프로그램 영역 전체, 함수 내부 엑세스 가능)\n",
    "# 전역 변수의 변경, 수정(출력, 엑세스 X)이 필요한 경우는 global 키워드 사용\n",
    "```\n",
    "</div>\n",
    "</details>"
   ]
  },
  {
   "cell_type": "markdown",
   "id": "866ce5b7",
   "metadata": {},
   "source": [
    "***"
   ]
  },
  {
   "cell_type": "markdown",
   "id": "45217c6a",
   "metadata": {},
   "source": [
    "![bottom_arrow](../../img/bottom_arrow.jpg)\n",
    "![bottom_arrow](../../img/bottom_arrow.jpg)\n",
    "![bottom_arrow](../../img/bottom_arrow.jpg)"
   ]
  },
  {
   "cell_type": "markdown",
   "id": "fc473095",
   "metadata": {},
   "source": [
    "***"
   ]
  },
  {
   "cell_type": "markdown",
   "id": "d316af80",
   "metadata": {},
   "source": [
    "#### **`결과 & 보충설명`**"
   ]
  },
  {
   "cell_type": "code",
   "execution_count": 10,
   "id": "7fcea4bb",
   "metadata": {},
   "outputs": [
    {
     "name": "stdout",
     "output_type": "stream",
     "text": [
      "Ex1 결과 : (135, 7, 7, 23)\n",
      "Ex2 결과 : (135, 13, 33, 44)\n"
     ]
    }
   ],
   "source": [
    "# 20.Local & Global Variables\n",
    "\n",
    "def test(x, y):\n",
    "    global a\n",
    "    a = 49\n",
    "    x,y = y,x\n",
    "    b = 53 # global b 변경 후 테스트\n",
    "    b = 7\n",
    "    a = 135\n",
    "    # 예상1\n",
    "    print(f'Ex1 결과 : {a, b, x, y}')\n",
    "\n",
    "a, b, x, y = 8, 13, 33,44 \n",
    "\n",
    "test(23, 7)\n",
    "\n",
    "# 예상2\n",
    "print(f'Ex2 결과 : {a, b, x, y}')"
   ]
  }
 ],
 "metadata": {
  "kernelspec": {
   "display_name": "Python 3 (ipykernel)",
   "language": "python",
   "name": "python3"
  },
  "language_info": {
   "codemirror_mode": {
    "name": "ipython",
    "version": 3
   },
   "file_extension": ".py",
   "mimetype": "text/x-python",
   "name": "python",
   "nbconvert_exporter": "python",
   "pygments_lexer": "ipython3",
   "version": "3.10.5"
  },
  "toc": {
   "base_numbering": 1,
   "nav_menu": {},
   "number_sections": false,
   "sideBar": true,
   "skip_h1_title": false,
   "title_cell": "Table of Contents",
   "title_sidebar": "Contents",
   "toc_cell": false,
   "toc_position": {
    "height": "calc(100% - 180px)",
    "left": "10px",
    "top": "150px",
    "width": "318px"
   },
   "toc_section_display": true,
   "toc_window_display": false
  }
 },
 "nbformat": 4,
 "nbformat_minor": 5
}
