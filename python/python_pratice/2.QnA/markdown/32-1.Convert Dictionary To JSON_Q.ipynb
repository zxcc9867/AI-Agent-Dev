{
 "cells": [
  {
   "cell_type": "markdown",
   "id": "46e3d990",
   "metadata": {},
   "source": [
    "---\n",
    "# 파이썬 입문 : 도전! 45가지 기초 문법 실습하기 🙋🏻‍♂️\n",
    "---"
   ]
  },
  {
   "cell_type": "markdown",
   "id": "28f413a5",
   "metadata": {},
   "source": [
    "### 꼭 기억하세요 😊\n",
    "+ **시간이 다소 소요되더라도** 스스로 생각해서 프로그래밍을 해야**`실력이 향상 됩니다.`** \n",
    "+ 다양한 문제를 통해서 **`문제 해결`**능력을 향상 시켜봐요.\n",
    "+ 여러 방식으로 **`같은 결과 값`**이 나오도록 프로그래밍 해보세요.\n",
    "+ **문제 해결**에 너무 시간이 오래 걸리면 **`검색(구글링 등)`**을 통해서 해결해보세요.\n",
    "+ **`온라인 Python IDE :`** https://www.programiz.com/python-programming/online-compiler/"
   ]
  },
  {
   "cell_type": "markdown",
   "id": "c3a88b92",
   "metadata": {},
   "source": [
    "***\n",
    "## 32. Convert Dictionary To JSON💻\n",
    "***\n",
    "#### **`연습예제`** 💻"
   ]
  },
  {
   "cell_type": "markdown",
   "id": "49b428ae",
   "metadata": {},
   "source": [
    "`아래` **`딕셔너리(Dict)`** `을` **`JSON`**  **`형식`** `으로 변환하세요.` **`*힌트를 참고하세요.*`**\n",
    "\n",
    "```python\n",
    "\n",
    "# Dict 선언\n",
    "d = {\"group1\":[\n",
    "                {'name': 'Park', 'age': '32', 'sex': 'Male'},\n",
    "                {'name': 'Cho', 'age': '44', 'sex': 'Female'},\n",
    "                {'name': 'Kang', 'age': '39', 'sex': 'Female', 'married': 'No'}\n",
    "              ],\n",
    "     \"group2\":[\n",
    "                {'name': 'Kim', 'age': '23', 'sex': 'Male', 'married': 'Yes'},\n",
    "                {'name': 'Lee', 'age': '37', 'sex': 'Male', 'married': 'No'}\n",
    "              ],\n",
    "     \"type\" : {\"a\": \"employee\", \"b\": \"officer\", \"c\": \"director\", \"d\": \"manager\", \"e\": \"service provider\"}\n",
    "    }\n",
    "\n",
    "\n",
    "# 결과\n",
    "{\n",
    "    \"group1\": [\n",
    "        {\n",
    "            \"name\": \"Park\",\n",
    "            \"age\": \"32\",\n",
    "            \"sex\": \"Male\"\n",
    "        },\n",
    "        {\n",
    "            \"name\": \"Cho\",\n",
    "            \"age\": \"44\",\n",
    "            \"sex\": \"Female\"\n",
    "        },\n",
    "        {\n",
    "            \"name\": \"Kang\",\n",
    "            \"age\": \"39\",\n",
    "            \"sex\": \"Female\",\n",
    "            \"married\": \"No\"\n",
    "        }\n",
    "    ],\n",
    "    \"group2\": [\n",
    "        {\n",
    "            \"name\": \"Kim\",\n",
    "            \"age\": \"23\",\n",
    "            \"sex\": \"Male\",\n",
    "            \"married\": \"Yes\"\n",
    "        },\n",
    "        {\n",
    "            \"name\": \"Lee\",\n",
    "            \"age\": \"37\",\n",
    "            \"sex\": \"Male\",\n",
    "            \"married\": \"No\"\n",
    "        }\n",
    "    ],\n",
    "    \"type\": {\n",
    "        \"a\": \"employee\",\n",
    "        \"b\": \"officer\",\n",
    "        \"c\": \"director\",\n",
    "        \"d\": \"manager\",\n",
    "        \"e\": \"service provider\"\n",
    "    }\n",
    "}\n",
    "```"
   ]
  },
  {
   "cell_type": "markdown",
   "id": "44d53430",
   "metadata": {},
   "source": [
    "#### **`코딩영역`**"
   ]
  },
  {
   "cell_type": "code",
   "execution_count": null,
   "id": "ca1e5a1b",
   "metadata": {},
   "outputs": [
    {
     "name": "stdout",
     "output_type": "stream",
     "text": [
      "dict 데이터 {\n",
      "    \"group1\": [\n",
      "        {\n",
      "            \"name\": \"Park\",\n",
      "            \"age\": \"32\",\n",
      "            \"sex\": \"Male\"\n",
      "        },\n",
      "        {\n",
      "            \"name\": \"Cho\",\n",
      "            \"age\": \"44\",\n",
      "            \"sex\": \"Female\"\n",
      "        },\n",
      "        {\n",
      "            \"name\": \"Kang\",\n",
      "            \"age\": \"39\",\n",
      "            \"sex\": \"Female\",\n",
      "            \"married\": \"No\"\n",
      "        }\n",
      "    ],\n",
      "    \"group2\": [\n",
      "        {\n",
      "            \"name\": \"Kim\",\n",
      "            \"age\": \"23\",\n",
      "            \"sex\": \"Male\",\n",
      "            \"married\": \"Yes\"\n",
      "        },\n",
      "        {\n",
      "            \"name\": \"Lee\",\n",
      "            \"age\": \"37\",\n",
      "            \"sex\": \"Male\",\n",
      "            \"married\": \"No\"\n",
      "        }\n",
      "    ],\n",
      "    \"type\": {\n",
      "        \"a\": \"employee\",\n",
      "        \"b\": \"officer\",\n",
      "        \"c\": \"director\",\n",
      "        \"d\": \"manager\",\n",
      "        \"e\": \"service provider\"\n",
      "    }\n",
      "}\n",
      "json 데이터 {'group1': [{'name': 'Park', 'age': '32', 'sex': 'Male'}, {'name': 'Cho', 'age': '44', 'sex': 'Female'}, {'name': 'Kang', 'age': '39', 'sex': 'Female', 'married': 'No'}], 'group2': [{'name': 'Kim', 'age': '23', 'sex': 'Male', 'married': 'Yes'}, {'name': 'Lee', 'age': '37', 'sex': 'Male', 'married': 'No'}], 'type': {'a': 'employee', 'b': 'officer', 'c': 'director', 'd': 'manager', 'e': 'service provider'}}\n",
      "{'group1': [{'name': 'Park', 'age': '32', 'sex': 'Male'}, {'name': 'Cho', 'age': '44', 'sex': 'Female'}, {'name': 'Kang', 'age': '39', 'sex': 'Female', 'married': 'No'}], 'group2': [{'name': 'Kim', 'age': '23', 'sex': 'Male', 'married': 'Yes'}, {'name': 'Lee', 'age': '37', 'sex': 'Male', 'married': 'No'}], 'type': {'a': 'employee', 'b': 'officer', 'c': 'director', 'd': 'manager', 'e': 'service provider'}}\n"
     ]
    }
   ],
   "source": [
    "# 코딩 영역\n",
    "import this\n",
    "import json\n",
    "d = {\n",
    "    \"group1\": [\n",
    "        {\"name\": \"Park\", \"age\": \"32\", \"sex\": \"Male\"},\n",
    "        {\"name\": \"Cho\", \"age\": \"44\", \"sex\": \"Female\"},\n",
    "        {\"name\": \"Kang\", \"age\": \"39\", \"sex\": \"Female\", \"married\": \"No\"},\n",
    "    ],\n",
    "    \"group2\": [\n",
    "        {\"name\": \"Kim\", \"age\": \"23\", \"sex\": \"Male\", \"married\": \"Yes\"},\n",
    "        {\"name\": \"Lee\", \"age\": \"37\", \"sex\": \"Male\", \"married\": \"No\"},\n",
    "    ],\n",
    "    \"type\": {\n",
    "        \"a\": \"employee\",\n",
    "        \"b\": \"officer\",\n",
    "        \"c\": \"director\",\n",
    "        \"d\": \"manager\",\n",
    "        \"e\": \"service provider\",\n",
    "    },\n",
    "}\n",
    "\n",
    "dict_to_json = json.dumps(d,indent=4) # 파이썬 딕셔너리를 json으로 변환환\n",
    "\n",
    "json_to_dict = json.loads(dict_to_json)\n",
    "\n",
    "print(f\"dict 데이터 {dict_to_json}\")\n",
    "\n",
    "print(f\"json 데이터 {json_to_dict}\")\n",
    "\n",
    "# 파일 쓰기 ( 파이썬 딕셔너리를 json으로 파일 쓰기 )\n",
    "\n",
    "with open('../source/26-1/json_test.txt','w') as file:\n",
    "    json.dump(d, file) \n",
    "\n",
    "# 파일 읽기 \n",
    "\n",
    "with open('../source/26-1/json_test.txt','r') as file:\n",
    "    print(json.load(file)) # 파일에 작성된 json 데이터를 파이썬 딕셔너리로 읽기기"
   ]
  },
  {
   "cell_type": "markdown",
   "id": "e48cce26",
   "metadata": {},
   "source": [
    "#### **`Hint`**"
   ]
  },
  {
   "cell_type": "markdown",
   "id": "fc2ea9eb",
   "metadata": {},
   "source": [
    "<details>\n",
    "    <summary>▶<b>여기</b>를 눌러주세요</summary>\n",
    "<div markdown=\"1\">       \n",
    "\n",
    "```python\n",
    "# Dictionary 를 JSON으로 변환하는 기능은 정말 많이 사용해요.\n",
    "# 데이터 송수신 부분에서 표준화된 데이터 포멧이기 때문이예요.(JavaScript Object Notation)\n",
    "\n",
    "# json 내장 패키지를 통해 쉽게 변환 가능해요.\n",
    "# json.dumps() vs json.dump() 차이점을 꼭 이해해야 해요.\n",
    "\n",
    "# json.dumps(dict, indent)\n",
    "# json.dump(dict, file_pointer)\n",
    "    \n",
    "# 참고\n",
    "# https://docs.python.org/3/library/json.html\n",
    "```\n",
    "</div>\n",
    "</details>"
   ]
  },
  {
   "cell_type": "markdown",
   "id": "866ce5b7",
   "metadata": {},
   "source": [
    "***"
   ]
  }
 ],
 "metadata": {
  "kernelspec": {
   "display_name": "venv",
   "language": "python",
   "name": "python3"
  },
  "language_info": {
   "codemirror_mode": {
    "name": "ipython",
    "version": 3
   },
   "file_extension": ".py",
   "mimetype": "text/x-python",
   "name": "python",
   "nbconvert_exporter": "python",
   "pygments_lexer": "ipython3",
   "version": "3.12.6"
  },
  "toc": {
   "base_numbering": 1,
   "nav_menu": {},
   "number_sections": false,
   "sideBar": true,
   "skip_h1_title": false,
   "title_cell": "Table of Contents",
   "title_sidebar": "Contents",
   "toc_cell": false,
   "toc_position": {
    "height": "calc(100% - 180px)",
    "left": "10px",
    "top": "150px",
    "width": "318px"
   },
   "toc_section_display": true,
   "toc_window_display": false
  }
 },
 "nbformat": 4,
 "nbformat_minor": 5
}
