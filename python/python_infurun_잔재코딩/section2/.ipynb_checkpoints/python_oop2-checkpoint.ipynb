{
 "cells": [
  {
   "cell_type": "markdown",
   "metadata": {},
   "source": [
    "<div class=\"alert alert-block\" style=\"border: 2px solid #1976D2;background-color:#E3F2FD;padding:5px;font-size:0.9em;\">\n",
    "본 자료는 저작권법 제25조 2항에 의해 보호를 받습니다. 본 자료를 외부에 공개하지 말아주세요.<br>\n",
    "본 강의만 잘 정리하면, 데이터 분석, 데이터 과학, 풀스택(백엔드, 프론트엔드) 개발 모두 가능합니다!<br>\n",
    "</div>"
   ]
  },
  {
   "cell_type": "markdown",
   "metadata": {},
   "source": [
    "<div class=\"alert alert-block\" style=\"border: 2px solid #1976D2;background-color:#E3F2FD;padding:5px;font-size:0.9em;\">\n",
    "제 유투브 채널로 혼자서도 데이터 전과정, 풀스택 전과정을 익힐 수 있는 로드맵과 관련 커리어를  설명한 영상을 만들었는데요<br>\n",
    "꼭 한번 보시면 학습하시는데 큰 그림을 이해하실 수 있으실꺼예요. (괜찮으시면 구독과 좋아요도 부탁드립니다. ㅎ)<br>\n",
    "<b>- 데이터, AI 커리어와 데이터 전과정 학습 방법 완벽 가이드: <a href=\"https://youtu.be/vsoAyh4D-zw\">https://youtu.be/vsoAyh4D-zw</a><br>\n",
    "- 1인 창업도 가능한 가장 빠른 최신 풀스택 공부순서: <a href=\"https://youtu.be/mTouChThxzA\">https://youtu.be/mTouChThxzA</a></b><br>\n",
    "</div>"
   ]
  },
  {
   "cell_type": "markdown",
   "metadata": {},
   "source": [
    "## 예제로 이해하는 객체지향 문법 (class와 object)"
   ]
  },
  {
   "cell_type": "markdown",
   "metadata": {},
   "source": [
    "### 사각형 만들기\n",
    "\n",
    "<img src=\"https://www.fun-coding.org/00_Images/quadrangle.png\" />"
   ]
  },
  {
   "cell_type": "markdown",
   "metadata": {},
   "source": [
    "### 3.1. class 선언하기\n",
    "### 객체 생성 전에 미리 class를 선언해야 함"
   ]
  },
  {
   "cell_type": "markdown",
   "metadata": {},
   "source": [
    "## 1. 클래스를 어떻게 만드니?"
   ]
  },
  {
   "cell_type": "code",
   "execution_count": null,
   "metadata": {
    "collapsed": true
   },
   "outputs": [],
   "source": [
    "class 클래스이름:\n",
    "    attribute 선언\n",
    "    method 선언"
   ]
  },
  {
   "cell_type": "markdown",
   "metadata": {},
   "source": [
    "### 1.1 attribute 선언\n",
    "* 파이썬에서 attribute 는 attribute 값과 함께 선언이 일반적임\n",
    "  - 예: attribute1 = 0\n",
    "* 생성자 메서드 __init__ 의 인자를 활용해서 선언하는 방식이 보다 일반적임\n",
    "  - 예: __init__ 의 인자 중 하나가 width 일 경우\n",
    "  - __init__ 메서드 안에서 self.attribute1 = width 로 attribute1 선언"
   ]
  },
  {
   "cell_type": "markdown",
   "metadata": {},
   "source": [
    "### 1.2 method 선언\n",
    "* class 안에서 def 메서드(self, ...) 와 같은 방식으로 선언"
   ]
  },
  {
   "cell_type": "markdown",
   "metadata": {},
   "source": [
    "## 예제"
   ]
  },
  {
   "cell_type": "code",
   "execution_count": 1,
   "metadata": {
    "collapsed": true
   },
   "outputs": [],
   "source": [
    "class Quad:\n",
    "    height = 0\n",
    "    width = 0\n",
    "    color = ''\n",
    "    \n",
    "    def get_area(self):\n",
    "        return self.height * self.width"
   ]
  },
  {
   "cell_type": "markdown",
   "metadata": {},
   "source": [
    "### 4X3(red), 5X5(blue), 7X4(brown) 세 개 객체를 만들고, 각각의 넓이 출력"
   ]
  },
  {
   "cell_type": "code",
   "execution_count": 4,
   "metadata": {},
   "outputs": [
    {
     "data": {
      "text/plain": [
       "12"
      ]
     },
     "execution_count": 4,
     "metadata": {},
     "output_type": "execute_result"
    }
   ],
   "source": [
    "quad1 = Quad()\n",
    "quad1.height = 4\n",
    "quad1.width = 3\n",
    "quad1.color = 'red'\n",
    "quad1.get_area()"
   ]
  },
  {
   "cell_type": "code",
   "execution_count": 13,
   "metadata": {},
   "outputs": [
    {
     "data": {
      "text/plain": [
       "25"
      ]
     },
     "execution_count": 13,
     "metadata": {},
     "output_type": "execute_result"
    }
   ],
   "source": [
    "quad2 = Quad()\n",
    "quad2.height = 5\n",
    "quad2.width = 5\n",
    "quad2.color ='blue'\n",
    "quad2.get_area()"
   ]
  },
  {
   "cell_type": "markdown",
   "metadata": {},
   "source": [
    "<img src=\"https://www.fun-coding.org/00_Images/self.png\" />"
   ]
  },
  {
   "cell_type": "markdown",
   "metadata": {},
   "source": [
    "## 2. 클래스로 객체를 어떻게 만드니"
   ]
  },
  {
   "cell_type": "code",
   "execution_count": 5,
   "metadata": {
    "collapsed": true
   },
   "outputs": [],
   "source": [
    "quad1 = Quad()\n",
    "quad2 = Quad()\n",
    "quad3 = Quad()\n",
    "quad4 = Quad()"
   ]
  },
  {
   "cell_type": "markdown",
   "metadata": {},
   "source": [
    "## 3. 객체의 속성 또는 메서드를 핸들링하니?"
   ]
  },
  {
   "cell_type": "code",
   "execution_count": 6,
   "metadata": {
    "collapsed": true
   },
   "outputs": [],
   "source": [
    "class SingleWord:\n",
    "    pass"
   ]
  },
  {
   "cell_type": "code",
   "execution_count": 7,
   "metadata": {},
   "outputs": [
    {
     "data": {
      "text/plain": [
       "['__class__',\n",
       " '__delattr__',\n",
       " '__dict__',\n",
       " '__dir__',\n",
       " '__doc__',\n",
       " '__eq__',\n",
       " '__format__',\n",
       " '__ge__',\n",
       " '__getattribute__',\n",
       " '__gt__',\n",
       " '__hash__',\n",
       " '__init__',\n",
       " '__init_subclass__',\n",
       " '__le__',\n",
       " '__lt__',\n",
       " '__module__',\n",
       " '__ne__',\n",
       " '__new__',\n",
       " '__reduce__',\n",
       " '__reduce_ex__',\n",
       " '__repr__',\n",
       " '__setattr__',\n",
       " '__sizeof__',\n",
       " '__str__',\n",
       " '__subclasshook__',\n",
       " '__weakref__']"
      ]
     },
     "execution_count": 7,
     "metadata": {},
     "output_type": "execute_result"
    }
   ],
   "source": [
    "dir (SingleWord)"
   ]
  },
  {
   "cell_type": "markdown",
   "metadata": {},
   "source": [
    "* class 도 변수/함수와 마찬가지로 유일한 이름을 지어줘야 함\n",
    "* class 에 attribute/method를 아직 안넣은 상태이므로, 클래스에 내용이 없기에 임의로 pass 를 넣어 클래스 선언이 끝났음을 알려줌\n",
    "  - pass는 아무것도 수행하지 않는 문법, 임시 코드 작성시 주로 사용\n",
    "* 클래스명은 PEP Coding Convention에 가이드된 대로 각 단어의 첫 문자를 대문자로 하는 CapWords 방식을 사용"
   ]
  },
  {
   "cell_type": "markdown",
   "metadata": {},
   "source": [
    "#### 클래스명(object) 로 쓸 수도 있음, 파이썬 3에서는 클래스명: 과 동일"
   ]
  },
  {
   "cell_type": "code",
   "execution_count": 9,
   "metadata": {
    "collapsed": true
   },
   "outputs": [],
   "source": [
    "class Quadrangle(object):\n",
    "    pass"
   ]
  },
  {
   "cell_type": "code",
   "execution_count": 10,
   "metadata": {
    "scrolled": true
   },
   "outputs": [
    {
     "data": {
      "text/plain": [
       "['__class__',\n",
       " '__delattr__',\n",
       " '__dict__',\n",
       " '__dir__',\n",
       " '__doc__',\n",
       " '__eq__',\n",
       " '__format__',\n",
       " '__ge__',\n",
       " '__getattribute__',\n",
       " '__gt__',\n",
       " '__hash__',\n",
       " '__init__',\n",
       " '__init_subclass__',\n",
       " '__le__',\n",
       " '__lt__',\n",
       " '__module__',\n",
       " '__ne__',\n",
       " '__new__',\n",
       " '__reduce__',\n",
       " '__reduce_ex__',\n",
       " '__repr__',\n",
       " '__setattr__',\n",
       " '__sizeof__',\n",
       " '__str__',\n",
       " '__subclasshook__',\n",
       " '__weakref__']"
      ]
     },
     "execution_count": 10,
     "metadata": {},
     "output_type": "execute_result"
    }
   ],
   "source": [
    "dir(Quadrangle)"
   ]
  },
  {
   "cell_type": "markdown",
   "metadata": {},
   "source": [
    "### 만들어진 클래스로 객체를 만들 수 있음\n",
    "* 객체도 변수/함수/클래스와 마찬가지로 유일한 이름을 지어줘야 함\n",
    "* 함수와 마찬가지로 인수를 넣을 수 있음"
   ]
  },
  {
   "cell_type": "code",
   "execution_count": 11,
   "metadata": {
    "collapsed": true
   },
   "outputs": [],
   "source": [
    "square = Quadrangle()"
   ]
  },
  {
   "cell_type": "code",
   "execution_count": 12,
   "metadata": {
    "collapsed": true
   },
   "outputs": [],
   "source": [
    "dave = Quadrangle()"
   ]
  },
  {
   "cell_type": "code",
   "execution_count": 13,
   "metadata": {
    "collapsed": true
   },
   "outputs": [],
   "source": [
    "dave1 = Quadrangle()"
   ]
  },
  {
   "cell_type": "code",
   "execution_count": 14,
   "metadata": {},
   "outputs": [
    {
     "data": {
      "text/plain": [
       "['__class__',\n",
       " '__delattr__',\n",
       " '__dict__',\n",
       " '__dir__',\n",
       " '__doc__',\n",
       " '__eq__',\n",
       " '__format__',\n",
       " '__ge__',\n",
       " '__getattribute__',\n",
       " '__gt__',\n",
       " '__hash__',\n",
       " '__init__',\n",
       " '__init_subclass__',\n",
       " '__le__',\n",
       " '__lt__',\n",
       " '__module__',\n",
       " '__ne__',\n",
       " '__new__',\n",
       " '__reduce__',\n",
       " '__reduce_ex__',\n",
       " '__repr__',\n",
       " '__setattr__',\n",
       " '__sizeof__',\n",
       " '__str__',\n",
       " '__subclasshook__',\n",
       " '__weakref__']"
      ]
     },
     "execution_count": 14,
     "metadata": {},
     "output_type": "execute_result"
    }
   ],
   "source": [
    "dir(dave)"
   ]
  },
  {
   "cell_type": "code",
   "execution_count": 8,
   "metadata": {
    "scrolled": true
   },
   "outputs": [
    {
     "data": {
      "text/plain": [
       "__main__.Quadrangle"
      ]
     },
     "execution_count": 8,
     "metadata": {},
     "output_type": "execute_result"
    }
   ],
   "source": [
    "# 객체 square는 Quadrangle의 인스턴스\n",
    "type(square)"
   ]
  },
  {
   "cell_type": "code",
   "execution_count": 16,
   "metadata": {},
   "outputs": [
    {
     "data": {
      "text/plain": [
       "__main__.Quadrangle"
      ]
     },
     "execution_count": 16,
     "metadata": {},
     "output_type": "execute_result"
    }
   ],
   "source": [
    "type(dave)"
   ]
  },
  {
   "cell_type": "markdown",
   "metadata": {},
   "source": [
    "### 3.2. attribute 넣어보기\n",
    "* 만들고자 하는 속성 생각해보기\n",
    "  - width, height, color"
   ]
  },
  {
   "cell_type": "code",
   "execution_count": 12,
   "metadata": {
    "collapsed": true
   },
   "outputs": [],
   "source": [
    "class Quadrangle:\n",
    "    width = 0\n",
    "    height = 0\n",
    "    color = \"black\""
   ]
  },
  {
   "cell_type": "code",
   "execution_count": 10,
   "metadata": {
    "collapsed": true
   },
   "outputs": [],
   "source": [
    "class Dave:\n",
    "    data = 0\n",
    "    name = 'dave'"
   ]
  },
  {
   "cell_type": "code",
   "execution_count": 11,
   "metadata": {},
   "outputs": [
    {
     "data": {
      "text/plain": [
       "['__class__',\n",
       " '__delattr__',\n",
       " '__dict__',\n",
       " '__dir__',\n",
       " '__doc__',\n",
       " '__eq__',\n",
       " '__format__',\n",
       " '__ge__',\n",
       " '__getattribute__',\n",
       " '__gt__',\n",
       " '__hash__',\n",
       " '__init__',\n",
       " '__init_subclass__',\n",
       " '__le__',\n",
       " '__lt__',\n",
       " '__module__',\n",
       " '__ne__',\n",
       " '__new__',\n",
       " '__reduce__',\n",
       " '__reduce_ex__',\n",
       " '__repr__',\n",
       " '__setattr__',\n",
       " '__sizeof__',\n",
       " '__str__',\n",
       " '__subclasshook__',\n",
       " '__weakref__',\n",
       " 'data',\n",
       " 'name']"
      ]
     },
     "execution_count": 11,
     "metadata": {},
     "output_type": "execute_result"
    }
   ],
   "source": [
    "dir(Dave)"
   ]
  },
  {
   "cell_type": "code",
   "execution_count": 13,
   "metadata": {},
   "outputs": [
    {
     "data": {
      "text/plain": [
       "['__class__',\n",
       " '__delattr__',\n",
       " '__dict__',\n",
       " '__dir__',\n",
       " '__doc__',\n",
       " '__eq__',\n",
       " '__format__',\n",
       " '__ge__',\n",
       " '__getattribute__',\n",
       " '__gt__',\n",
       " '__hash__',\n",
       " '__init__',\n",
       " '__init_subclass__',\n",
       " '__le__',\n",
       " '__lt__',\n",
       " '__module__',\n",
       " '__ne__',\n",
       " '__new__',\n",
       " '__reduce__',\n",
       " '__reduce_ex__',\n",
       " '__repr__',\n",
       " '__setattr__',\n",
       " '__sizeof__',\n",
       " '__str__',\n",
       " '__subclasshook__',\n",
       " '__weakref__',\n",
       " 'color',\n",
       " 'height',\n",
       " 'width']"
      ]
     },
     "execution_count": 13,
     "metadata": {},
     "output_type": "execute_result"
    }
   ],
   "source": [
    "# width, height, color attribute 확인\n",
    "dir(Quadrangle)"
   ]
  },
  {
   "cell_type": "code",
   "execution_count": 23,
   "metadata": {
    "collapsed": true
   },
   "outputs": [],
   "source": [
    "square1 = Quadrangle()\n",
    "square2 = Quadrangle()"
   ]
  },
  {
   "cell_type": "code",
   "execution_count": 19,
   "metadata": {
    "collapsed": true
   },
   "outputs": [],
   "source": [
    "dave_object = Dave()"
   ]
  },
  {
   "cell_type": "markdown",
   "metadata": {},
   "source": [
    "### 객체의 attribute 접근하기\n",
    "* 객체명.attribute명"
   ]
  },
  {
   "cell_type": "code",
   "execution_count": 14,
   "metadata": {
    "collapsed": true
   },
   "outputs": [],
   "source": [
    "class Quadrangle:\n",
    "    width = 0\n",
    "    height = 0\n",
    "    color = \"black\""
   ]
  },
  {
   "cell_type": "code",
   "execution_count": 15,
   "metadata": {
    "collapsed": true
   },
   "outputs": [],
   "source": [
    "square1 = Quadrangle()\n",
    "square2 = Quadrangle()"
   ]
  },
  {
   "cell_type": "code",
   "execution_count": 16,
   "metadata": {
    "scrolled": true
   },
   "outputs": [
    {
     "data": {
      "text/plain": [
       "'black'"
      ]
     },
     "execution_count": 16,
     "metadata": {},
     "output_type": "execute_result"
    }
   ],
   "source": [
    "square1.color"
   ]
  },
  {
   "cell_type": "code",
   "execution_count": 17,
   "metadata": {
    "collapsed": true
   },
   "outputs": [],
   "source": [
    "square2.color = 'red'"
   ]
  },
  {
   "cell_type": "code",
   "execution_count": 18,
   "metadata": {},
   "outputs": [
    {
     "data": {
      "text/plain": [
       "'black'"
      ]
     },
     "execution_count": 18,
     "metadata": {},
     "output_type": "execute_result"
    }
   ],
   "source": [
    "square1.color"
   ]
  },
  {
   "cell_type": "code",
   "execution_count": 19,
   "metadata": {},
   "outputs": [
    {
     "data": {
      "text/plain": [
       "'red'"
      ]
     },
     "execution_count": 19,
     "metadata": {},
     "output_type": "execute_result"
    }
   ],
   "source": [
    "square2.color"
   ]
  },
  {
   "cell_type": "code",
   "execution_count": 20,
   "metadata": {
    "collapsed": true
   },
   "outputs": [],
   "source": [
    "square1.height = 5"
   ]
  },
  {
   "cell_type": "code",
   "execution_count": 21,
   "metadata": {
    "scrolled": true
   },
   "outputs": [
    {
     "name": "stdout",
     "output_type": "stream",
     "text": [
      "5 0\n"
     ]
    }
   ],
   "source": [
    "print (square1.height, square2.height)"
   ]
  },
  {
   "cell_type": "code",
   "execution_count": 22,
   "metadata": {},
   "outputs": [
    {
     "name": "stdout",
     "output_type": "stream",
     "text": [
      "10 5 red\n",
      "7 7 blue\n"
     ]
    }
   ],
   "source": [
    "class Quad:\n",
    "    width = 0\n",
    "    height = 0\n",
    "    color = ''\n",
    "\n",
    "quad1 = Quad()\n",
    "quad2 = Quad()\n",
    "\n",
    "quad1.width = 10\n",
    "quad1.height = 5\n",
    "quad1.color = 'red'\n",
    "\n",
    "quad2.width = 7\n",
    "quad2.height = 7\n",
    "quad2.color = 'blue'\n",
    "\n",
    "print (quad1.width, quad1.height, quad1.color)\n",
    "print (quad2.width, quad2.height, quad2.color)"
   ]
  },
  {
   "cell_type": "markdown",
   "metadata": {},
   "source": [
    "<div class=\"alert alert-block alert-success\">\n",
    "<strong><font color=\"blue\" size=\"4em\">초간단 연습1</font></strong><br>\n",
    "* width, height, color 속성을 가진 사각형 클래스를 만들고 다음 2개의 객체 만들기 (객체 속성을 바꿔주시고, 출력도 해보세요)<br>\n",
    "  - 직사각형 1개 객체 속성: width=10, height=5, color='red'<br>\n",
    "  - 정사각형 1개 객체 속성: width=7, height=7, color='blue'<br>\n",
    "</div>"
   ]
  },
  {
   "cell_type": "code",
   "execution_count": 32,
   "metadata": {},
   "outputs": [
    {
     "name": "stdout",
     "output_type": "stream",
     "text": [
      "10 5 red\n",
      "7 7 blue\n"
     ]
    }
   ],
   "source": [
    "class Dave:\n",
    "    width = 0\n",
    "    height = 0\n",
    "    color = ''\n",
    "\n",
    "square1 = Dave()\n",
    "square2 = Dave()\n",
    "\n",
    "square1.width = 10\n",
    "square1.height = 5\n",
    "square1.color = 'red'\n",
    "\n",
    "square2.width = 7\n",
    "square2.height = 7\n",
    "square2.color= 'blue'\n",
    "\n",
    "print (square1.width, square1.height, square1.color)\n",
    "print (square2.width, square2.height, square2.color)"
   ]
  },
  {
   "cell_type": "markdown",
   "metadata": {},
   "source": [
    "### 3.3 method 넣어보기\n",
    "#### 만들고자 하는 method 생각해보기1\n",
    "  - 사각형 넓이 구하기    "
   ]
  },
  {
   "cell_type": "code",
   "execution_count": 7,
   "metadata": {
    "collapsed": true
   },
   "outputs": [],
   "source": [
    "class Quadrangle:\n",
    "    width = 0\n",
    "    height = 0\n",
    "    color = \"black\"\n",
    "\n",
    "    def get_area(self):\n",
    "        return self.width * self.height"
   ]
  },
  {
   "cell_type": "markdown",
   "metadata": {},
   "source": [
    "#### 이 부분을 이해해야 함\n",
    "* 파이썬 method는 항상 첫 번째 파라미터로 self 사용\n",
    "  * 인자가 필요없을 때에도 self는 사용\n",
    "* 클래스의 attribute는 내부에서 접근시, **self.attribute명 으로 접근**"
   ]
  },
  {
   "cell_type": "markdown",
   "metadata": {},
   "source": [
    "#### 만들고자 하는 method 생각해보기2\n",
    "  - 사각형 width, height 설정하기   "
   ]
  },
  {
   "cell_type": "code",
   "execution_count": 23,
   "metadata": {
    "collapsed": true
   },
   "outputs": [],
   "source": [
    "class Quadrangle:\n",
    "    width = 0\n",
    "    height = 0\n",
    "    color = \"black\"\n",
    "\n",
    "    def get_area(self):\n",
    "        return self.width * self.height\n",
    "    \n",
    "    def set_area(self, data1, data2):\n",
    "        self.width = data1 \n",
    "        self.height = data2"
   ]
  },
  {
   "cell_type": "markdown",
   "metadata": {},
   "source": [
    "### 객체의 method 접근하기\n",
    "* 객체명.method명"
   ]
  },
  {
   "cell_type": "code",
   "execution_count": 25,
   "metadata": {
    "collapsed": true
   },
   "outputs": [],
   "source": [
    "square = Quadrangle()\n",
    "square.set_area(15, 20)"
   ]
  },
  {
   "cell_type": "code",
   "execution_count": 26,
   "metadata": {},
   "outputs": [
    {
     "data": {
      "text/plain": [
       "15"
      ]
     },
     "execution_count": 26,
     "metadata": {},
     "output_type": "execute_result"
    }
   ],
   "source": [
    "square.width"
   ]
  },
  {
   "cell_type": "markdown",
   "metadata": {},
   "source": [
    "#### method 호출시, 첫 번째 인자로 객체 자신이 넣어지기 때문에, self 를 method 첫 번째 인자로 항상 넣어야 함\n",
    "\n",
    "  <img src=\"https://www.fun-coding.org/00_Images/self.png\" />"
   ]
  },
  {
   "cell_type": "code",
   "execution_count": 38,
   "metadata": {},
   "outputs": [
    {
     "data": {
      "text/plain": [
       "25"
      ]
     },
     "execution_count": 38,
     "metadata": {},
     "output_type": "execute_result"
    }
   ],
   "source": [
    "square.get_area()"
   ]
  },
  {
   "cell_type": "code",
   "execution_count": 28,
   "metadata": {},
   "outputs": [
    {
     "name": "stdout",
     "output_type": "stream",
     "text": [
      "50\n",
      "49\n"
     ]
    }
   ],
   "source": [
    "class Quadrangle:\n",
    "    width = 0\n",
    "    height = 0\n",
    "    color = \"black\"\n",
    "\n",
    "    def get_area(self):\n",
    "        return self.width * self.height\n",
    "    \n",
    "    def set_area(self, data1, data2, colordata):\n",
    "        self.width = data1 \n",
    "        self.height = data2\n",
    "        self.color = colordata\n",
    "\n",
    "quad1 = Quadrangle()\n",
    "quad2 = Quadrangle()\n",
    "\n",
    "quad1.set_area(10, 5, 'red')\n",
    "quad2.set_area(7, 7, 'blue')\n",
    "\n",
    "print (quad1.get_area())\n",
    "print (quad2.get_area())"
   ]
  },
  {
   "cell_type": "markdown",
   "metadata": {},
   "source": [
    "<div class=\"alert alert-block alert-success\">\n",
    "<strong><font color=\"blue\" size=\"4em\">초간단 연습2</font></strong><br>\n",
    "* 위에서 작성한 Quadrangle 클래스를 기반으로 직사각형 1개 객체와 정사각형 1개 객체를 만들고, 각 사각형 너비 출력하기<br>\n",
    "  - 직사각형2개 속성: width=10, height=5, color='red'<br>\n",
    "  - 정사각형2개 속성: width=7, height=7, color='blue'<br>\n",
    "</div>"
   ]
  },
  {
   "cell_type": "code",
   "execution_count": 41,
   "metadata": {},
   "outputs": [
    {
     "name": "stdout",
     "output_type": "stream",
     "text": [
      "50\n",
      "49\n"
     ]
    }
   ],
   "source": [
    "class Quadrangle:\n",
    "    width = 0\n",
    "    height = 0\n",
    "    color = \"black\"\n",
    "\n",
    "    def get_area(self):\n",
    "        return self.width * self.height\n",
    "    \n",
    "    def set_area(self, data1, data2):\n",
    "        self.width = data1 \n",
    "        self.height = data2\n",
    "\n",
    "square1 = Quadrangle()\n",
    "square2 = Quadrangle()\n",
    "\n",
    "square1.set_area(10, 5)\n",
    "square2.set_area(7, 7)\n",
    "square1.color = 'red'\n",
    "square1.color = 'blue'\n",
    "\n",
    "print(square1.get_area())\n",
    "print(square2.get_area())\n"
   ]
  },
  {
   "cell_type": "markdown",
   "metadata": {},
   "source": [
    "<div class=\"alert alert-block alert-info\">\n",
    "<strong><font color=\"blue\" size=\"4em\">한발짝 더 나가보기!(심화 문제)</font></strong><br>\n",
    "* 위에서 작성한 Quadrangle 클래스를 기반으로 직사각형 1개 객체와 정사각형 1개 객체를 만들되, 너비(width), 높이(height), 색상(color)를 한번에 설정할 수 있는 메서드만들고, 다음 값으로 각 객체의 속성값을 변경한 후, 사각형 너비와 색상도 함께 출력하기<br>\n",
    "  - 직사각형2개 속성: width=10, height=5, color='red'<br>\n",
    "  - 정사각형2개 속성: width=7, height=7, color='blue'<br>\n",
    "</div>"
   ]
  },
  {
   "cell_type": "code",
   "execution_count": 42,
   "metadata": {},
   "outputs": [
    {
     "name": "stdout",
     "output_type": "stream",
     "text": [
      "50\n",
      "49\n"
     ]
    }
   ],
   "source": [
    "class Quadrangle:\n",
    "    width = 0\n",
    "    height = 0\n",
    "    color = \"black\"\n",
    "\n",
    "    def get_area(self):\n",
    "        return self.width * self.height\n",
    "    \n",
    "    def set_area(self, data1, data2, data3):\n",
    "        self.width = data1 \n",
    "        self.height = data2\n",
    "        self.color = data3\n",
    "\n",
    "square1 = Quadrangle()\n",
    "square2 = Quadrangle()\n",
    "\n",
    "square1.set_area(10, 5, 'red')\n",
    "square2.set_area(7, 7, 'blue')\n",
    "\n",
    "print(square1.get_area())\n",
    "print(square2.get_area())"
   ]
  },
  {
   "cell_type": "markdown",
   "metadata": {},
   "source": [
    "<div class=\"alert alert-block\" style=\"border: 2px solid #1976D2;background-color:#E3F2FD;padding:5px;font-size:0.9em;\">\n",
    "본 자료는 저작권법 제25조 2항에 의해 보호를 받습니다. 본 자료를 외부에 공개하지 말아주세요.<br>\n",
    "본 강의만 잘 정리하면, 데이터 분석, 데이터 과학, 풀스택(백엔드, 프론트엔드) 개발 모두 가능합니다!<br>\n",
    "<b><a href=\"https://school.fun-coding.org/\">잔재미코딩</a> 에서 본 강의 기반 최적화된 로드맵도 확인하실 수 있습니다</b></div>"
   ]
  }
 ],
 "metadata": {
  "kernelspec": {
   "display_name": "Python 3 (ipykernel)",
   "language": "python",
   "name": "python3"
  },
  "language_info": {
   "codemirror_mode": {
    "name": "ipython",
    "version": 3
   },
   "file_extension": ".py",
   "mimetype": "text/x-python",
   "name": "python",
   "nbconvert_exporter": "python",
   "pygments_lexer": "ipython3",
   "version": "3.11.5"
  },
  "nbTranslate": {
   "displayLangs": [
    "*"
   ],
   "hotkey": "alt-t",
   "langInMainMenu": true,
   "sourceLang": "en",
   "targetLang": "fr",
   "useGoogleTranslate": true
  }
 },
 "nbformat": 4,
 "nbformat_minor": 1
}
