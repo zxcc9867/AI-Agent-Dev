{
 "cells": [
  {
   "cell_type": "markdown",
   "metadata": {},
   "source": [
    "### 정규 표현식 \n",
    "\n",
    "- 문자열에서 특정 패턴의 값을 찾는다"
   ]
  },
  {
   "cell_type": "markdown",
   "metadata": {},
   "source": [
    "### 정규식 복습 \n",
    "\n",
    "- [abc]라면, 이 표현식의 의미는 a,b,c 중 한개의 문자와 매치를 의미한다. \n",
    "- before는 매치하지만, dude는 매치하지 않는다. \n",
    "- [a-z] 는 소문자 a부터z까지 의미한다. \n",
    "- /w라고 하면 모든문자, 숫자를 의미한다. [a-zA-Z0-9]를 의미한다. \n",
    "- \\d는 숫자와 매치된다. [0-9]\n",
    "- \\s는 화이트 스페이스 문자와 매치가 된다. [\\t\\n\\r\\f\\v]\n",
    "- . 문자는 줄바꿈 문자인 \\n을 제외한 모든 문자와 매치된다는 것을 의미한다. "
   ]
  },
  {
   "cell_type": "code",
   "execution_count": null,
   "metadata": {},
   "outputs": [],
   "source": [
    "\"\"\"\n",
    "a.b : a+모든문자+b를 의미한다. \n",
    "즉, a와b 사이에 어떠한 문자라도 들어가도 모두 매치된다라는 의미 \n",
    "\n",
    "aab , acb는 일치 , abc는 일치하지 않는다. ( a와c 사이이기 때문 )\n",
    "\"\"\""
   ]
  },
  {
   "cell_type": "markdown",
   "metadata": {},
   "source": [
    "### 메타 문자 \n",
    "\n",
    "- '*' : 이 정규식은 반복을 의미하므로, *바로 앞에 있는 문자가 0부터 무한대까지 반복된다는 의미 \n",
    "\n",
    "ca*t : a가 무한대로 반복될 수 있고, 그 뒤에 t가 온다.\n",
    "\n",
    "< 일치 패턴 >\n",
    "\n",
    "ct : 일치한다. a가 0번이상 반복하기 때문에 매치한다. \n",
    "cat : 일치한다. a가 1번이상 반복하기 때문이다. \n",
    "caat : a가 2번 반복하기 때문에 일치한다. \n",
    "ca : 매치하지 않는다. a뒤에 t가 없기 때문이다. "
   ]
  },
  {
   "cell_type": "code",
   "execution_count": 4,
   "metadata": {},
   "outputs": [
    {
     "name": "stdout",
     "output_type": "stream",
     "text": [
      "None\n"
     ]
    }
   ],
   "source": [
    "import re \n",
    "\n",
    "pattern = re.compile(r'c*t')\n",
    "\n",
    "match = re.search(pattern,'ac') # None이라고 출력된다. \n",
    "\n",
    "print(match)"
   ]
  },
  {
   "cell_type": "markdown",
   "metadata": {},
   "source": [
    "- <b>메타문자 +</b> \n",
    "\n",
    "앞의 문자가 최소 한번이상 반복될 때 사용된다. \n",
    "\n",
    "정규 표현식 = ca+t\n",
    "\n",
    "< 일치 패턴 >\n",
    "\n",
    "- cat\n",
    "- caat \n",
    "\n",
    "< 불일치 패턴 >\n",
    "\n",
    "- ct : 0번 반복되어 매치가 되지 않는다. \n",
    "\n",
    "- <b>메타문자 {} </b>\n",
    "\n",
    "반복횟수를 고정할 수 있다. {m,n} 정규식을 사용하면, 반복횟수가 m부터 n까지인 문자와 매치할 수 있다. \n",
    "\n",
    "< 예시 >\n",
    "\n",
    "- ca{2}t : caat와 매치한다. 반드시 a가 2번 반복해야 한다. \n",
    "\n",
    "- ca{1,3}t : cat, caat, caatt와 매치한다. a가 1부터 3번 반복할 수 있다.\n",
    "\n",
    "- <b>메타문자 ? </b> \n",
    "\n",
    "앞의 문자가 0번 혹은 1번 반복되는 것이 매치된다. 2번이상은 매치가 되지 않는다. \n",
    "\n",
    "< 예시 >\n",
    "\n",
    "- 패턴 : a?bc\n",
    "\n",
    "< 일치 패턴 >\n",
    "\n",
    "- bc : a가 0번 있기 때문에 매치 \n",
    "- abc : 매치한다.a가 1번 있기 때문에 \n",
    "- abccccc : 일치한다. \n",
    "- aabc : 두번째 a부터 abc로 패턴이 일치하게 된다. \n",
    "- aacbc : a가 0번있고 그 뒤에 bc가 있기 때문에 일치한다.\n",
    "\n",
    "< 불일치 패턴 >\n",
    "\n",
    "- ab : c가 없기 때문에 일치하지 않는다. \n",
    "- aabc : a가 두번있기 때문에 일치하지 않는다. \n",
    "\n",
    "\n",
    "\n",
    "\n",
    "\n"
   ]
  },
  {
   "cell_type": "code",
   "execution_count": 8,
   "metadata": {},
   "outputs": [
    {
     "name": "stdout",
     "output_type": "stream",
     "text": [
      "<re.Match object; span=(0, 2), match='bc'>\n",
      "<re.Match object; span=(1, 4), match='abc'>\n",
      "<re.Match object; span=(3, 5), match='bc'>\n",
      "None\n"
     ]
    }
   ],
   "source": [
    "\"\"\"\n",
    "메타 문자 ? 실습 \n",
    "\"\"\"\n",
    "\n",
    "import re \n",
    "\n",
    "pattern = re.compile(r'a?bc')\n",
    "\n",
    "print(re.search(pattern,'bc'))\n",
    "\n",
    "print(re.search(pattern,'aabc'))\n",
    "\n",
    "print(re.search(pattern, \"aacbc\"))\n",
    "\n",
    "print(re.search(pattern, \"ab\"))"
   ]
  },
  {
   "cell_type": "markdown",
   "metadata": {},
   "source": [
    "### 정규식을 이용한 문자열 검색 \n",
    "\n",
    "match() : 문자열의 처음부터 정규식과 매치되는지 조사한다. \n",
    "search() : 문자열 전체를 검색하여 정규식과 매치되는지 조사한다.   \n",
    "findall() : 정규식과 매치되는 모든 문자열을 리스트로 리턴한다.\n",
    "finditer() : 정규식과 매치되는 모든 문자열을 반복 가능한 객체로 리턴한다. "
   ]
  },
  {
   "cell_type": "code",
   "execution_count": 4,
   "metadata": {},
   "outputs": [
    {
     "name": "stdout",
     "output_type": "stream",
     "text": [
      "['hello', 'I', 'm', 'Wonjin']\n",
      "search result :  + <re.Match object; span=(0, 5), match='hello'>\n"
     ]
    }
   ],
   "source": [
    "\"\"\"\n",
    "findall 실습 \n",
    "\"\"\"\n",
    "import re\n",
    "text = \"hello ! I'm Wonjin !\"\n",
    "p = re.compile(r'[a-zA-Z]+') # 소문자, 대문자가 0번또는1번 이상 수행되는 패턴을 찾는다. \n",
    "result = p.findall(text) \n",
    "search_res = p.search(text)\n",
    "print(result)\n",
    "print(f\"search result :  + {search_res}\") # hello만 출력한다. \n"
   ]
  },
  {
   "cell_type": "code",
   "execution_count": 5,
   "metadata": {},
   "outputs": [
    {
     "name": "stdout",
     "output_type": "stream",
     "text": [
      "<re.Match object; span=(0, 5), match='hello'>\n",
      "<re.Match object; span=(8, 9), match='I'>\n",
      "<re.Match object; span=(10, 11), match='m'>\n",
      "<re.Match object; span=(12, 18), match='Wonjin'>\n"
     ]
    }
   ],
   "source": [
    "\"\"\"\n",
    "finditer 메서드 \n",
    "\"\"\"\n",
    "p = re.compile(r'[a-zA-Z]+') \n",
    "\n",
    "text = \"hello ! I'm Wonjin !\"\n",
    "\n",
    "result = p.finditer(text)\n",
    "\n",
    "for i in result:\n",
    "    print(i)\n",
    "\n",
    "\n",
    "# 출력 # \n",
    "\n",
    "# <re.Match object; span=(0, 5), match='hello'>\n",
    "# <re.Match object; span=(8, 9), match='I'>\n",
    "# <re.Match object; span=(10, 11), match='m'>\n",
    "# <re.Match object; span=(12, 18), match='Wonjin'>\n"
   ]
  },
  {
   "cell_type": "code",
   "execution_count": 11,
   "metadata": {},
   "outputs": [
    {
     "name": "stdout",
     "output_type": "stream",
     "text": [
      "<re.Match object; span=(0, 6), match='python'>\n"
     ]
    }
   ],
   "source": [
    "\"\"\"\n",
    "정규식 축약 표현 연습 ( 일회성으로 문자열에서 패턴을 찾을 때 사용 )\n",
    "\"\"\"\n",
    "\n",
    "import re\n",
    "\n",
    "result = re.search(r'[a-zA-Z]+','python')\n",
    "\n",
    "print(result)\n"
   ]
  },
  {
   "cell_type": "markdown",
   "metadata": {},
   "source": [
    "### 정규식 컴파일 옵션 \n",
    "\n",
    "\n"
   ]
  },
  {
   "cell_type": "markdown",
   "metadata": {},
   "source": [
    "컴파일 옵션\n",
    "정규식을 컴파일할 때 다음 옵션을 사용할 수 있다.\n",
    "\n",
    "DOTALL(S) - .(dot)이 줄바꿈 문자를 포함해 모든 문자와 매치될 수 있게 한다.\n",
    "IGNORECASE(I) - 대소문자에 관계없이 매치될 수 있게 한다.\n",
    "MULTILINE(M) - 여러 줄과 매치될 수 있게 한다. ^, $ 메타 문자 사용과 관계 있는 옵션이다.\n",
    "VERBOSE(X) - verbose 모드를 사용할 수 있게 한다. 정규식을 보기 편하게 만들 수 있고 주석 등을 사용할 수 있게 된다.\n",
    "옵션을 사용할 때는 re.DOTALL처럼 전체 옵션 이름을 써도 되고 re.S처럼 약어를 써도 된다."
   ]
  },
  {
   "cell_type": "code",
   "execution_count": 13,
   "metadata": {},
   "outputs": [
    {
     "name": "stdout",
     "output_type": "stream",
     "text": [
      "None\n",
      "re.dotall을 했을 때 <re.Match object; span=(0, 3), match='a\\nb'>\n"
     ]
    }
   ],
   "source": [
    "import re\n",
    "p = re.compile('a.b')\n",
    "m = p.match('a\\nb')\n",
    "print(m)\n",
    "\n",
    "# \\n은 . 메타 문자와 매치되지 않기 때문에 None이 출력된다. \n",
    "\n",
    "\"\"\"\n",
    "때문에 줄바꿈 문자를 포함하여, 모든 문자와 매치되는 패턴을 만들려면,아래와 같이 작성한다. \n",
    "\n",
    "보통 re.DOTALL은 여러 줄로 이루어진 문자열에서 줄바꿈 문자에 상관없이 검색할 때 사용한다. \n",
    "\"\"\"\n",
    "\n",
    "p = re.compile('a.b',re.DOTALL)\n",
    "m = p.match('a\\nb')\n",
    "print(f\"re.dotall을 했을 때 {m}\")"
   ]
  },
  {
   "cell_type": "code",
   "execution_count": 16,
   "metadata": {},
   "outputs": [
    {
     "name": "stdout",
     "output_type": "stream",
     "text": [
      "<re.Match object; span=(0, 3), match='aWb'>\n"
     ]
    }
   ],
   "source": [
    "import re \n",
    "\n",
    "p = re.compile('[a-z]+',re.IGNORECASE)\n",
    "\n",
    "m = p.search('aWb')\n",
    "\n",
    "print(m)"
   ]
  },
  {
   "cell_type": "code",
   "execution_count": 1,
   "metadata": {},
   "outputs": [
    {
     "data": {
      "text/plain": [
       "'\\n\\nMutiline\\n\\n- ^는 문자열의 처음 , $는 문자열의 마지막을 의미한다. \\n\\n- $는 문자열의 마지막을 의미한다. \\n\\nex ) ^python의 경우, 문자열의 처음은 항상 python으로 시작해야되고, 만약 정규식이 python$이라면 \\n문자열의 마지막은 항상 python으로 끝나야 한다. \\n\\n'"
      ]
     },
     "execution_count": 1,
     "metadata": {},
     "output_type": "execute_result"
    }
   ],
   "source": [
    "\"\"\"\n",
    "\n",
    "Mutiline\n",
    "\n",
    "- ^는 문자열의 처음 , $는 문자열의 마지막을 의미한다. \n",
    "\n",
    "- $는 문자열의 마지막을 의미한다. \n",
    "\n",
    "ex ) ^python의 경우, 문자열의 처음은 항상 python으로 시작해야되고, 만약 정규식이 python$이라면 \n",
    "문자열의 마지막은 항상 python으로 끝나야 한다. \n",
    "\n",
    "\"\"\""
   ]
  },
  {
   "cell_type": "code",
   "execution_count": 7,
   "metadata": {},
   "outputs": [
    {
     "name": "stdout",
     "output_type": "stream",
     "text": [
      "['python one']\n"
     ]
    }
   ],
   "source": [
    "import re \n",
    "\n",
    "# 문자열에서 python으로 시작되고, \\s을 통해 공백이 뛰어지는 것 , w+를 통해 모든 문자를 의미 \n",
    "p = re.compile('^python\\s\\w+', re.MULTILINE)\n",
    "\n",
    "data = \"\"\"python one\n",
    "life is too short\n",
    "python two\n",
    "you need python\n",
    "python three\"\"\"\n",
    "\n",
    "print(p.findall(data))"
   ]
  },
  {
   "cell_type": "code",
   "execution_count": 8,
   "metadata": {},
   "outputs": [],
   "source": [
    "\"\"\"\n",
    "VERBOSE , x \n",
    "\"\"\"\n",
    "\n",
    "import re\n",
    "\n",
    "# 아래와 같은 정규식 패턴은 한눈에 알아보기 힘들다.\n",
    "charref = re.compile(r\"&[#](0[0-7]+|[0-9]+|x[0-9a-fA-F]+);\")\n",
    "\n",
    "\n",
    "# verbose 옵션을 사용하면 주석처리를 할 수 있다.\n",
    "\n",
    "import re\n",
    "\n",
    "pattern = re.compile(\n",
    "    r\"\"\"\n",
    "    [a-zA-Z0-9._%+-]+    # 사용자 이름 부분 (문자, 숫자, '.', '_', '%', '+', '-')\n",
    "    @                   # @ 기호\n",
    "    [a-zA-Z0-9.-]+      # 도메인 이름 부분 (문자, 숫자, '.' 또는 '-')\n",
    "    \\.                  # '.' 문자\n",
    "    [a-zA-Z]{2,}        # 최상위 도메인 (예: com, org 등 두 글자 이상)\n",
    "    \"\"\",\n",
    "    re.VERBOSE,\n",
    ")"
   ]
  },
  {
   "cell_type": "code",
   "execution_count": null,
   "metadata": {},
   "outputs": [],
   "source": [
    "\"\"\"\n",
    "주민등록번호에서 추출 \n",
    "\"\"\"\n",
    "import re\n",
    "\n",
    "\n",
    "def generate_birthday(matches):\n",
    "    # matches[4] 라는 표현은 4번째 그룹을 의미한다. 때문에 현재 패턴에서는 -(\\d)여기 부분을 의미한다.\n",
    "    return f\"{'19' if matches[4] in ('1', '2') else '20'}{matches[1]}. {matches[2]}. {matches[3]}\"\n",
    "\n",
    "\n",
    "ssn = \"900101-4234567\"\n",
    "\n",
    "pattern = re.compile(r\"(\\d{2})(\\d{2})(\\d{2})-(\\d)\\d{6}\")\n",
    "# 98 06 07 18 \n",
    "result = pattern.sub(generate_birthday, ssn)\n",
    "\n",
    "print(result)"
   ]
  }
 ],
 "metadata": {
  "kernelspec": {
   "display_name": "my_env",
   "language": "python",
   "name": "python3"
  },
  "language_info": {
   "codemirror_mode": {
    "name": "ipython",
    "version": 3
   },
   "file_extension": ".py",
   "mimetype": "text/x-python",
   "name": "python",
   "nbconvert_exporter": "python",
   "pygments_lexer": "ipython3",
   "version": "3.10.9"
  }
 },
 "nbformat": 4,
 "nbformat_minor": 2
}
