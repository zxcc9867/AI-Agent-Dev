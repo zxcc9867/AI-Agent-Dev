{
 "cells": [
  {
   "cell_type": "markdown",
   "id": "46e3d990",
   "metadata": {},
   "source": [
    "---\n",
    "# 파이썬 입문 : 도전! 45가지 기초 문법 실습하기 🙋🏻‍♂️\n",
    "---"
   ]
  },
  {
   "cell_type": "markdown",
   "id": "28f413a5",
   "metadata": {},
   "source": [
    "### 꼭 기억하세요 😊\n",
    "+ **시간이 다소 소요되더라도** 스스로 생각해서 프로그래밍을 해야**`실력이 향상 됩니다.`** \n",
    "+ 다양한 문제를 통해서 **`문제 해결`**능력을 향상 시켜봐요.\n",
    "+ 여러 방식으로 **`같은 결과 값`**이 나오도록 프로그래밍 해보세요.\n",
    "+ **문제 해결**에 너무 시간이 오래 걸리면 **`검색(구글링 등)`**을 통해서 해결해보세요.\n",
    "+ **`온라인 Python IDE :`** https://www.programiz.com/python-programming/online-compiler/"
   ]
  },
  {
   "cell_type": "markdown",
   "id": "c3a88b92",
   "metadata": {},
   "source": [
    "***\n",
    "## 38. Date Time Format By Strftime💻\n",
    "***\n",
    "#### **`연습예제`** 💻"
   ]
  },
  {
   "cell_type": "markdown",
   "id": "49b428ae",
   "metadata": {},
   "source": [
    "**`datetime 패키지`** `와` **`strftime 함수`** `를 사용해서` **`하단 포멧`** `결과와 ` **`똑같이`** `출력하세요.` **`힌트 링크를 활용하세요.`**\n",
    "\n",
    "```python\n",
    "\n",
    "from datetime import datetime\n",
    "\n",
    "t = datetime.now()\n",
    "\n",
    "# 날짜 및 시간은 실행 시간에 따라 변경\n",
    "\n",
    "\n",
    "# 출력 포맷1\n",
    "# 2022-08-04 12:28:23\n",
    "\n",
    "\n",
    "# 출력 포맷2\n",
    "# 2022-08-04 12:28:23 PM Thursday August\n",
    "\n",
    "\n",
    "# 출력 포맷3\n",
    "# Thursday, August 04, 2022 12:28:57\n",
    "\n",
    "\n",
    "# 출력 포맷4\n",
    "# Thursday, Aug 08/04/22 12:28:57 PM\n",
    "\n",
    "```"
   ]
  },
  {
   "cell_type": "markdown",
   "id": "44d53430",
   "metadata": {},
   "source": [
    "#### **`코딩영역`**"
   ]
  },
  {
   "cell_type": "code",
   "execution_count": null,
   "id": "ca1e5a1b",
   "metadata": {},
   "outputs": [],
   "source": [
    "# 코딩 영역\n",
    "import this"
   ]
  },
  {
   "cell_type": "markdown",
   "id": "e48cce26",
   "metadata": {},
   "source": [
    "#### **`Hint`**"
   ]
  },
  {
   "cell_type": "markdown",
   "id": "fc2ea9eb",
   "metadata": {},
   "source": [
    "<details>\n",
    "    <summary>▶<b>여기</b>를 눌러주세요</summary>\n",
    "<div markdown=\"1\">       \n",
    "\n",
    "```python\n",
    "# 다양한 형식의 시간 관련 출력 방법은 정말 중요해요.\n",
    "# 시, 분, 초, 일, 월, 년 간의 계산 방법도 꼭 알아두셔야 합니다.\n",
    "# 날짜 계산, 수행시간 계산, 로그 출력 포멧 규정 등 프로그래밍에서 많이 활용됩니다.\n",
    "\n",
    "# UTC 기준 시간대 표현은 timezone 내장 모듈을 사용합니다.\n",
    "    \n",
    "# datetime.date.today() : 자주 사용\n",
    "# datetime.now() : 자주 사용\n",
    "\n",
    "# time.strptime(string[, format])\n",
    "    \n",
    "# 참고1\n",
    "# https://docs.python.org/3/library/time.html#time.strptime\n",
    "# https://strftime.org/\n",
    "    \n",
    "# 참고2\n",
    "# https://docs.python.org/3/library/datetime.html\n",
    "```\n",
    "</div>\n",
    "</details>"
   ]
  },
  {
   "cell_type": "markdown",
   "id": "866ce5b7",
   "metadata": {},
   "source": [
    "***"
   ]
  }
 ],
 "metadata": {
  "kernelspec": {
   "display_name": "Python 3 (ipykernel)",
   "language": "python",
   "name": "python3"
  },
  "language_info": {
   "codemirror_mode": {
    "name": "ipython",
    "version": 3
   },
   "file_extension": ".py",
   "mimetype": "text/x-python",
   "name": "python",
   "nbconvert_exporter": "python",
   "pygments_lexer": "ipython3",
   "version": "3.10.5"
  },
  "toc": {
   "base_numbering": 1,
   "nav_menu": {},
   "number_sections": false,
   "sideBar": true,
   "skip_h1_title": false,
   "title_cell": "Table of Contents",
   "title_sidebar": "Contents",
   "toc_cell": false,
   "toc_position": {
    "height": "calc(100% - 180px)",
    "left": "10px",
    "top": "150px",
    "width": "318px"
   },
   "toc_section_display": true,
   "toc_window_display": false
  }
 },
 "nbformat": 4,
 "nbformat_minor": 5
}
