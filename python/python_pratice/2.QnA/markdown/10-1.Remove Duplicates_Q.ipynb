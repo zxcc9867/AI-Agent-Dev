{
 "cells": [
  {
   "cell_type": "markdown",
   "id": "46e3d990",
   "metadata": {},
   "source": [
    "---\n",
    "# 파이썬 입문 : 도전! 45가지 기초 문법 실습하기 🙋🏻‍♂️\n",
    "---"
   ]
  },
  {
   "cell_type": "markdown",
   "id": "28f413a5",
   "metadata": {},
   "source": [
    "### 꼭 기억하세요 😊\n",
    "+ **시간이 다소 소요되더라도** 스스로 생각해서 프로그래밍을 해야**`실력이 향상 됩니다.`** \n",
    "+ 다양한 문제를 통해서 **`문제 해결`**능력을 향상 시켜봐요.\n",
    "+ 여러 방식으로 **`같은 결과 값`**이 나오도록 프로그래밍 해보세요.\n",
    "+ **문제 해결**에 너무 시간이 오래 걸리면 **`검색(구글링 등)`**을 통해서 해결해보세요.\n",
    "+ **`온라인 Python IDE :`** https://www.programiz.com/python-programming/online-compiler/"
   ]
  },
  {
   "cell_type": "markdown",
   "id": "c3a88b92",
   "metadata": {},
   "source": [
    "***\n",
    "## 10. Remove Duplicates💻\n",
    "***\n",
    "#### **`연습예제`** 💻"
   ]
  },
  {
   "cell_type": "markdown",
   "id": "49b428ae",
   "metadata": {},
   "source": [
    "`아래와 리스트에서` **`중복`** `되는` **`원소`** `를` `제거 후 출력하세요.`  **`다양한 방법`** `코딩하세요.` \n",
    "\n",
    "\n",
    "\n",
    "```python\n",
    "x = [\"a\", 1, \"b\", 2, \"a\", 3, \"b\", 4, 5, \"b\"]\n",
    "출력 결과 : [1, 2, 3, 4, 5, 'a', 'b']\n",
    "```"
   ]
  },
  {
   "cell_type": "markdown",
   "id": "44d53430",
   "metadata": {},
   "source": [
    "#### **`코딩영역`**"
   ]
  },
  {
   "cell_type": "code",
   "execution_count": 9,
   "id": "ca1e5a1b",
   "metadata": {},
   "outputs": [
    {
     "name": "stdout",
     "output_type": "stream",
     "text": [
      "{1, 2, 3, 4, 'b', 'a', 5}\n",
      "['a', 1, 'b', 2, 3, 4, 5]\n",
      "중복제거한 리스트 : ['a', 1, 'b', 2, 3, 4, 5]\n",
      "중복제거한 리스트 : ['a', 1, 'b', 2, 3, 4, 5]\n"
     ]
    }
   ],
   "source": [
    "# 코딩 영역\n",
    "import this\n",
    "\n",
    "# 중복원소를 제거하고 출력\n",
    "x = [\"a\", 1, \"b\", 2, \"a\", 3, \"b\", 4, 5, \"b\"]\n",
    "print(set(x)) # set은 중복을 제허가지만, 순서는 랜덤이다. \n",
    "\n",
    "\"\"\"\n",
    "order dict에 대해서 알아볼 것 \n",
    "\"\"\"\n",
    "\n",
    "from collections import OrderedDict\n",
    "\n",
    "print(list(OrderedDict.fromkeys(x))) # from keys는 중복을 제거하면서 순서를 유지한다. \n",
    "\n",
    "# 중복을 제거하는 방법\n",
    "\n",
    "items = []\n",
    "for item in x:\n",
    "    if items.count(item) == 0:\n",
    "        items.append(item)\n",
    "\n",
    "print(f\"중복제거한 리스트 : {items}\")\n",
    "\n",
    "item_test = []\n",
    "for i in x: \n",
    "    if i not in x:\n",
    "        item_test.append(i)\n",
    "\n",
    "print(f\"중복제거한 리스트 : {items}\")"
   ]
  },
  {
   "cell_type": "code",
   "execution_count": null,
   "id": "9c0b4d22",
   "metadata": {},
   "outputs": [],
   "source": []
  },
  {
   "cell_type": "code",
   "execution_count": null,
   "id": "c55abf8d",
   "metadata": {},
   "outputs": [],
   "source": []
  },
  {
   "cell_type": "markdown",
   "id": "e48cce26",
   "metadata": {},
   "source": [
    "#### **`Hint`**"
   ]
  },
  {
   "cell_type": "markdown",
   "id": "fc2ea9eb",
   "metadata": {},
   "source": [
    "<details>\n",
    "    <summary>▶<b>여기</b>를 눌러주세요</summary>\n",
    "<div markdown=\"1\">       \n",
    "\n",
    "```python\n",
    "# Set(집합 자료형) : 중복 허용 하지 않음, 순서 없음\n",
    "# List, Tuple : 순서 있음, 중복 허용\n",
    "# OrderedDict : Dict 순서 보장 받을 수 있음(python 3.6 부터는 기본값)\n",
    "```\n",
    "</div>\n",
    "</details>"
   ]
  }
 ],
 "metadata": {
  "kernelspec": {
   "display_name": "venv",
   "language": "python",
   "name": "python3"
  },
  "language_info": {
   "codemirror_mode": {
    "name": "ipython",
    "version": 3
   },
   "file_extension": ".py",
   "mimetype": "text/x-python",
   "name": "python",
   "nbconvert_exporter": "python",
   "pygments_lexer": "ipython3",
   "version": "3.12.6"
  },
  "toc": {
   "base_numbering": 1,
   "nav_menu": {},
   "number_sections": false,
   "sideBar": true,
   "skip_h1_title": false,
   "title_cell": "Table of Contents",
   "title_sidebar": "Contents",
   "toc_cell": false,
   "toc_position": {
    "height": "calc(100% - 180px)",
    "left": "10px",
    "top": "150px",
    "width": "318px"
   },
   "toc_section_display": true,
   "toc_window_display": false
  }
 },
 "nbformat": 4,
 "nbformat_minor": 5
}
