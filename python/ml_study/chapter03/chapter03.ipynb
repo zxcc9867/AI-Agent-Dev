{
 "cells": [
  {
   "cell_type": "markdown",
   "metadata": {},
   "source": [
    "## k-최근접 이웃 회귀 \n",
    "\n",
    "* 예측하고자 하는 데이터의 근처 데이터를 참조하고, 해당 데이터들의 평균을 구해서 예측하고자 하는 값을 출력한다. "
   ]
  },
  {
   "cell_type": "code",
   "execution_count": 2,
   "metadata": {},
   "outputs": [],
   "source": [
    "import numpy as np\n",
    "\n",
    "perch_length = np.array(\n",
    "    [\n",
    "        8.4,\n",
    "        13.7,\n",
    "        15.0,\n",
    "        16.2,\n",
    "        17.4,\n",
    "        18.0,\n",
    "        18.7,\n",
    "        19.0,\n",
    "        19.6,\n",
    "        20.0,\n",
    "        21.0,\n",
    "        21.0,\n",
    "        21.0,\n",
    "        21.3,\n",
    "        22.0,\n",
    "        22.0,\n",
    "        22.0,\n",
    "        22.0,\n",
    "        22.0,\n",
    "        22.5,\n",
    "        22.5,\n",
    "        22.7,\n",
    "        23.0,\n",
    "        23.5,\n",
    "        24.0,\n",
    "        24.0,\n",
    "        24.6,\n",
    "        25.0,\n",
    "        25.6,\n",
    "        26.5,\n",
    "        27.3,\n",
    "        27.5,\n",
    "        27.5,\n",
    "        27.5,\n",
    "        28.0,\n",
    "        28.7,\n",
    "        30.0,\n",
    "        32.8,\n",
    "        34.5,\n",
    "        35.0,\n",
    "        36.5,\n",
    "        36.0,\n",
    "        37.0,\n",
    "        37.0,\n",
    "        39.0,\n",
    "        39.0,\n",
    "        39.0,\n",
    "        40.0,\n",
    "        40.0,\n",
    "        40.0,\n",
    "        40.0,\n",
    "        42.0,\n",
    "        43.0,\n",
    "        43.0,\n",
    "        43.5,\n",
    "        44.0,\n",
    "    ]\n",
    ")\n",
    "perch_weight = np.array(\n",
    "    [\n",
    "        5.9,\n",
    "        32.0,\n",
    "        40.0,\n",
    "        51.5,\n",
    "        70.0,\n",
    "        100.0,\n",
    "        78.0,\n",
    "        80.0,\n",
    "        85.0,\n",
    "        85.0,\n",
    "        110.0,\n",
    "        115.0,\n",
    "        125.0,\n",
    "        130.0,\n",
    "        120.0,\n",
    "        120.0,\n",
    "        130.0,\n",
    "        135.0,\n",
    "        110.0,\n",
    "        130.0,\n",
    "        150.0,\n",
    "        145.0,\n",
    "        150.0,\n",
    "        170.0,\n",
    "        225.0,\n",
    "        145.0,\n",
    "        188.0,\n",
    "        180.0,\n",
    "        197.0,\n",
    "        218.0,\n",
    "        300.0,\n",
    "        260.0,\n",
    "        265.0,\n",
    "        250.0,\n",
    "        250.0,\n",
    "        300.0,\n",
    "        320.0,\n",
    "        514.0,\n",
    "        556.0,\n",
    "        840.0,\n",
    "        685.0,\n",
    "        700.0,\n",
    "        700.0,\n",
    "        690.0,\n",
    "        900.0,\n",
    "        650.0,\n",
    "        820.0,\n",
    "        850.0,\n",
    "        900.0,\n",
    "        1015.0,\n",
    "        820.0,\n",
    "        1100.0,\n",
    "        1000.0,\n",
    "        1100.0,\n",
    "        1000.0,\n",
    "        1000.0,\n",
    "    ]\n",
    ")"
   ]
  },
  {
   "cell_type": "code",
   "execution_count": 6,
   "metadata": {},
   "outputs": [
    {
     "data": {
      "image/png": "[encoded data removed]",
      "text/plain": [
       "<Figure size 640x480 with 1 Axes>"
      ]
     },
     "metadata": {},
     "output_type": "display_data"
    }
   ],
   "source": [
    "import matplotlib.pyplot as plt\n",
    "\n",
    "plt.scatter(perch_length,perch_weight)\n",
    "plt.xlabel(\"length\")\n",
    "plt.ylabel(\"weight\")\n",
    "plt.show()"
   ]
  },
  {
   "cell_type": "markdown",
   "metadata": {},
   "source": [
    "산점도를 확인해보니, 농어의 길이가 커짐에 따라 무게도 늘어난다. \n",
    "농어 데이터를 머신러닝 모델에 사용하기 전에 훈련 세트와 테스트 세트로 나누어보자."
   ]
  },
  {
   "cell_type": "code",
   "execution_count": 10,
   "metadata": {},
   "outputs": [
    {
     "name": "stdout",
     "output_type": "stream",
     "text": [
      "(42,)\n"
     ]
    }
   ],
   "source": [
    "from sklearn.model_selection import train_test_split\n",
    "\n",
    "train_input, test_input ,train_target , test_target = train_test_split(\n",
    "    perch_length, perch_weight, random_state=42\n",
    ")\n",
    "print(train_input.shape)"
   ]
  },
  {
   "cell_type": "markdown",
   "metadata": {},
   "source": [
    "사이킷런에 사용할 훈련 세트는 2차원 배열이어야 한다. \n",
    "perch_length는 1차원 배열이기 때문에, 2차원 배열로 만들어주어야한다. \n",
    "\n",
    "[1,2,3]  ( 3, )-> [[1],[2],[3]] ( 3, 1)\n",
    "\n"
   ]
  },
  {
   "cell_type": "code",
   "execution_count": 19,
   "metadata": {},
   "outputs": [
    {
     "name": "stdout",
     "output_type": "stream",
     "text": [
      "[[0 1 2 3]\n",
      " [4 5 6 7]]\n",
      "[[0 1]\n",
      " [2 3]\n",
      " [4 5]\n",
      " [6 7]]\n"
     ]
    }
   ],
   "source": [
    "test = np.arange(8)\n",
    "\n",
    "print(test.reshape(-1, 4)) # -1은 자동으로 나머지 원소 개수로 채운다. \n",
    "\n",
    "# 즉, 위의 예시로는 열을 4로 만들고, 4열에 맞도록 행의 개수를 자동으로 채우라는 의미\n",
    "\n",
    "print(test.reshape(4,-1)) "
   ]
  },
  {
   "cell_type": "code",
   "execution_count": 21,
   "metadata": {},
   "outputs": [
    {
     "name": "stdout",
     "output_type": "stream",
     "text": [
      "(42, 1) (14, 1)\n"
     ]
    }
   ],
   "source": [
    "train_input = train_input.reshape(-1,1) # 특성이 하나이므로, 열을 1로 설정 \n",
    "\n",
    "test_input = test_input.reshape(-1,1)\n",
    "print(train_input.shape , test_input.shape) # 2차원 배열로 바뀐 것을 확인할 수 있다.\n",
    "\n"
   ]
  },
  {
   "cell_type": "code",
   "execution_count": null,
   "metadata": {},
   "outputs": [
    {
     "name": "stdout",
     "output_type": "stream",
     "text": [
      "0.992809406101064\n"
     ]
    }
   ],
   "source": [
    "from sklearn.neighbors import KNeighborsRegressor\n",
    "\n",
    "knr = KNeighborsRegressor()\n",
    "\n",
    "# k 최근접 이웃 회귀 모델을 훈련한다. \n",
    "\n",
    "knr.fit(train_input, train_target)\n",
    "print(knr.score(test_input,test_target)) # 테스트 데이터에 대한 정확도확도"
   ]
  },
  {
   "cell_type": "code",
   "execution_count": 26,
   "metadata": {},
   "outputs": [
    {
     "name": "stdout",
     "output_type": "stream",
     "text": [
      "19.157142857142862\n"
     ]
    }
   ],
   "source": [
    "from sklearn.metrics import mean_absolute_error\n",
    "\n",
    "# 테스트 세트에 대한 예측을 만든다.\n",
    "\n",
    "test_predictions = knr.predict(test_input)\n",
    "\n",
    "# 테스트 세트에 대한 평균 절댓값 오차를 계산한다.\n",
    "\n",
    "mae = mean_absolute_error(test_target, test_predictions)\n",
    "\n",
    "print(mae)\n",
    "# 19.157142857142862가 출력되므로, 평균보다 19g 오차가 있다. "
   ]
  },
  {
   "cell_type": "code",
   "execution_count": 30,
   "metadata": {},
   "outputs": [
    {
     "name": "stdout",
     "output_type": "stream",
     "text": [
      "0.9698823289099254\n"
     ]
    }
   ],
   "source": [
    "print(knr.score(train_input, train_target))\n",
    "\n",
    "# 앞서, 테스트 데이터에 대한 점수를 보았을 때, 0.992809406101064인데반해\n",
    "# 훈련 데이터의 정확도는 0.9698823289099254 이다. \n",
    "\n",
    "# 원래라면, 훈련 데이터에 대해서 훈련을 했기 때문에, 훈련데이터로 스코어를 산출하면,\n",
    "# 훈련 데이터의 정확도가 높아야 하지만, 지금은 반대상황이다. 왜 그럴까 ?"
   ]
  },
  {
   "cell_type": "markdown",
   "metadata": {},
   "source": [
    "## 과대 적합\n",
    "\n",
    "- 모델이 훈련 데이터에 대해서는 잘 예측하지만, 새로운 데이터에 대해서 잘 예측하지 못하는 것\n",
    "- 즉, 모델이 훈련 데이터에 너무 편향되어 훈련이 되었다.\n",
    "\n",
    "## 과소 적합\n",
    "\n",
    "- 모델이 훈련 데이터에 대해 잘 예측하지 못하고, 테스트 데이터에 대해 훈련 데이터보다 더 높은 예측을 하거나, 훈련 데이터의 예측 스코어가 낮은 경우\n",
    "- 모델이 훈련 데이터에 대해서 잘 훈련을 하지 못했다. 일반적으로 데이터가 부족하여 발생함."
   ]
  },
  {
   "cell_type": "markdown",
   "metadata": {},
   "source": [
    "즉, 현재는 훈련 데이터의 정확도보다, 테스트 데이터의 정확도가 높게 나왔으므로, 과소 적합이 발생했다. 그럼 어떻게 과소 적합과 과대 적합되지 않은 적절한 모델을 만들 수 있을까 ?"
   ]
  },
  {
   "cell_type": "markdown",
   "metadata": {},
   "source": [
    "k값을 작게하면, 국지적인 데이터를 보고, 판단을 하기 때문에, 더욱 특성을 잘 고려할 수 있다. \n",
    "\n",
    "< 예시 >\n",
    "\n",
    "상황 설정\n",
    "평면 상에 두 개의 명확한 클러스터(군집)가 있다고 가정해봅시다.\n",
    "\n",
    "클러스터 A: 왼쪽에 몰려 있는 데이터\n",
    "클러스터 B: 오른쪽에 몰려 있는 데이터\n",
    "k가 클 때의 경우\n",
    "예측 시나리오:\n",
    "예측하려는 점이 두 클러스터의 경계 근처에 있다고 합시다.\n",
    "\n",
    "<u><b>만약 k=20이라면,</b></u> 이 예측은 양쪽 클러스터에서 20개의 데이터를 모두 고려하게 됩니다.\n",
    "결과적으로, 두 클러스터의 평균적인 특성이 혼합되어, 경계가 뚜렷하지 않은 부드러운 결정 경계가 만들어집니다.\n",
    "이는 모델이 “데이터 전체의 평균”에 가까운 예측을 내게 하여, 국소적인 차이를 반영하지 못하므로 과소적합이 발생할 수 있습니다.\n",
    "k가 작을 때의 경우\n",
    "예측 시나리오:\n",
    "같은 위치에서 <u><b>k=3으로 설정하면,</b></u> 가장 가까운 3개의 데이터만 고려하게 됩니다.\n",
    "만약 이 3개의 데이터가 클러스터 A에 속한다면, 예측은 클러스터 A의 특성을 더 반영하게 되어, 경계가 보다 명확하게 드러납니다.\n",
    "국소적인 정보를 반영하기 때문에 데이터의 복잡한 패턴을 더 잘 학습할 수 있습니다."
   ]
  },
  {
   "cell_type": "code",
   "execution_count": 33,
   "metadata": {},
   "outputs": [
    {
     "data": {
      "text/plain": [
       "0.9804899950518966"
      ]
     },
     "execution_count": 33,
     "metadata": {},
     "output_type": "execute_result"
    }
   ],
   "source": [
    "### k가 기본 5로 설정되어 있던 것을 3으로 해보자.\n",
    "\n",
    "knr = KNeighborsRegressor(n_neighbors=3)\n",
    "knr.fit(train_input,train_target)\n",
    "knr.score(train_input, train_target)  # 0.9804899950518966로 정확도가 올랐다. \n",
    "# 과소적합 방지 "
   ]
  },
  {
   "cell_type": "code",
   "execution_count": null,
   "metadata": {},
   "outputs": [
    {
     "name": "stdout",
     "output_type": "stream",
     "text": [
      "0.9746459963987609\n"
     ]
    }
   ],
   "source": [
    "print(knr.score(test_input,test_target))\n",
    "# train_input과의 점수 차이가 크지 않을 것을 보아, \n",
    "# 현재 모델은 과대적합도, 과소적합도 되지 않은것으로 알 수 있다. \n",
    "# 일반적으로, 훈련 데이터의 스코어가 높게 나온다. "
   ]
  }
 ],
 "metadata": {
  "kernelspec": {
   "display_name": "Python 3",
   "language": "python",
   "name": "python3"
  },
  "language_info": {
   "codemirror_mode": {
    "name": "ipython",
    "version": 3
   },
   "file_extension": ".py",
   "mimetype": "text/x-python",
   "name": "python",
   "nbconvert_exporter": "python",
   "pygments_lexer": "ipython3",
   "version": "3.12.6"
  }
 },
 "nbformat": 4,
 "nbformat_minor": 2
}
