{
 "cells": [
  {
   "cell_type": "code",
   "execution_count": 1,
   "id": "ecbeed43-71bd-4294-a62a-0b115c60ce1e",
   "metadata": {},
   "outputs": [
    {
     "name": "stdout",
     "output_type": "stream",
     "text": [
      "computer\n"
     ]
    }
   ],
   "source": [
    "# section2 \n",
    "\n",
    "\n",
    "some_string = \"   computer \"\n",
    "\n",
    "# 양옆 공백제거 \n",
    "\n",
    "print(some_string.strip())"
   ]
  },
  {
   "cell_type": "code",
   "execution_count": 3,
   "id": "e13c3db5-4c98-43e1-b917-0d10d21ec2d1",
   "metadata": {},
   "outputs": [
    {
     "name": "stdout",
     "output_type": "stream",
     "text": [
      "<class 'int'>\n",
      "<class 'str'>\n"
     ]
    }
   ],
   "source": [
    "\n",
    "# 타입 변환 \n",
    "\n",
    "string = \"720\"\n",
    "\n",
    "num = 720\n",
    "\n",
    "print(type(int(string)))\n",
    "\n",
    "print(type(str(num)))\n",
    "\n"
   ]
  },
  {
   "cell_type": "code",
   "execution_count": 5,
   "id": "764e6bb6-ebe6-4297-93d4-37fb2354d55f",
   "metadata": {},
   "outputs": [
    {
     "name": "stdout",
     "output_type": "stream",
     "text": [
      "Requirement already satisfied: numpy in c:\\users\\zxcc9\\appdata\\local\\programs\\python\\python310\\lib\\site-packages (2.1.0)\n",
      "Note: you may need to restart the kernel to use updated packages.\n"
     ]
    }
   ],
   "source": [
    "pip install numpy"
   ]
  },
  {
   "cell_type": "code",
   "execution_count": 27,
   "id": "c7cb944e-1dde-439e-9803-b7d7fdf0b980",
   "metadata": {},
   "outputs": [
    {
     "name": "stdout",
     "output_type": "stream",
     "text": [
      "[3 7 9]\n",
      "[[ 0  1  2]\n",
      " [ 3  4  5]\n",
      " [ 6  7  8]\n",
      " [ 9 10 11]]\n",
      "[[0. 0. 0. 0.]\n",
      " [0. 0. 0. 0.]\n",
      " [0. 0. 0. 0.]]\n",
      "30\n"
     ]
    }
   ],
   "source": [
    "import numpy as np\n",
    "\n",
    "arr = np.array([1,2,3])\n",
    "\n",
    "arr2 = np.array([2,5,6])\n",
    "\n",
    "print(arr+arr2)\n",
    "\n",
    "arr3 = np.arange(12).reshape(4,3)\n",
    "\n",
    "print(arr3)\n",
    "\n",
    "print(np.zeros([3,4])) # 2차원 형태의 zero 배열 생성\n",
    "\n",
    "# 행렬곱 \n",
    "\n",
    "print(arr@arr2) "
   ]
  },
  {
   "cell_type": "markdown",
   "id": "d3b84b32-a43b-44ee-bbc8-5d3ffcd5d878",
   "metadata": {},
   "source": [
    "## 리스트\n",
    "\n",
    "### 리스트 선언 방법 \n",
    "\n",
    "- 리스트 변수 = [ ]\n",
    "- 리스트 변수 = list()\n",
    "- 리스트 변수 = [ 데이터1, 데이터2 ]\n",
    "\n",
    "# 리스트 추가 \n",
    "\n",
    "- 리스트변수.append(데이터)\n",
    "- 리스트변수.insert(인덱스 번호, 데이터)\n",
    "\n",
    "### 리스트 삭제 \n",
    "\n",
    "- 리스트 변수.remove(데이터)\n",
    "- del 리스트변수[인덱스 번호]\n",
    "\n",
    "### 리스트 데이터 수정 \n",
    "\n",
    "- 리스트 변수[인덱스 번호] = 수정할 데이터\n"
   ]
  },
  {
   "cell_type": "code",
   "execution_count": 26,
   "id": "4668441c-9475-41ba-8f1c-acb719da65b6",
   "metadata": {},
   "outputs": [
    {
     "name": "stdout",
     "output_type": "stream",
     "text": [
      "[3, 4, 1, 2]\n",
      "[1, 2, 3, 4]\n"
     ]
    }
   ],
   "source": [
    "# 리스트 역순 정렬 \n",
    "\n",
    "numbers = [2,1,4,3]\n",
    "\n",
    "numbers.reverse() # 본래의 함수값을 바꾼다. \n",
    "\n",
    "print(numbers)\n",
    "\n",
    "# 변수 정렬 \n",
    "\n",
    "numbers.sort() # 본래의 함수 값을 바꾸기 때문에, 따로 변수에 대입해줄 필요가 없다 \n",
    "\n",
    "print(numbers)"
   ]
  },
  {
   "cell_type": "code",
   "execution_count": 21,
   "id": "a2af9738-9fcb-4e98-9a19-d84db5d58e0d",
   "metadata": {},
   "outputs": [
    {
     "name": "stdout",
     "output_type": "stream",
     "text": [
      "['python', ' is easy']\n"
     ]
    }
   ],
   "source": [
    "# 스플릿 함수 \n",
    "\n",
    "str = \"python, is easy\"\n",
    "\n",
    "print(str.split(\",\")) # ,를 기준으로 문자열을 나누겠다라는 의미 "
   ]
  },
  {
   "cell_type": "markdown",
   "id": "bdcf47cb-cfd7-41de-ae71-71a4ed0854ec",
   "metadata": {},
   "source": [
    "## IF statement\n",
    "\n",
    "if - elif - else\n",
    "\n",
    "- if condition 1 and condition 2 :\n",
    "- if condition 1 or condition 2 :\n",
    "- if not condtion\n",
    "\n",
    "\n"
   ]
  },
  {
   "cell_type": "code",
   "execution_count": 30,
   "id": "1e90d2b9-d235-4540-ab39-b7f4b6a8e7de",
   "metadata": {},
   "outputs": [
    {
     "name": "stdout",
     "output_type": "stream",
     "text": [
      "00000\t12345\n"
     ]
    }
   ],
   "source": [
    "string1 = '00000\\t12345'\n",
    "\n",
    "# \\t -> tab \n",
    "\n",
    "print(string1)"
   ]
  },
  {
   "cell_type": "code",
   "execution_count": 39,
   "id": "fbd303d4-f78a-4fdb-be15-229b012a9107",
   "metadata": {},
   "outputs": [
    {
     "name": "stdin",
     "output_type": "stream",
     "text": [
      "숫자를 입력하세요. :  20\n",
      "숫자를 입력하세요. :  30\n"
     ]
    },
    {
     "name": "stdout",
     "output_type": "stream",
     "text": [
      "max number 30\n",
      "sum number 50\n",
      "max number 30\n"
     ]
    }
   ],
   "source": [
    "# 사용자에게 데이터를 입력받았을 때 큰 숫자를 출력 \n",
    "\n",
    "\"\"\"\n",
    "1. if 문 \n",
    "2. 리스트로 만든다. \n",
    "\"\"\"\n",
    "import numpy as np\n",
    "\n",
    "list_d = []\n",
    "input_data1 = int(input(\"숫자를 입력하세요. : \"))\n",
    "input_data2 = int(input(\"숫자를 입력하세요. : \"))\n",
    "list_d.extend([input_data1,input_data2]) # append values ! \n",
    "\n",
    "# arr_numpy = np.array([])\n",
    "\n",
    "\n",
    "\n",
    "empty_arr = np.empty_like(list_d)\n",
    "empty_arr =  np.append(input_data1,input_data2)\n",
    "\n",
    "print(f\"max number {max(list_d)}\")\n",
    "print(f\"sum number {sum(list_d)}\")\n",
    "\n",
    "print(f\"max number {max(empty_arr)}\")\n"
   ]
  },
  {
   "cell_type": "markdown",
   "id": "8a46cdb8-77dd-48a9-b0aa-32842dafc48e",
   "metadata": {},
   "source": [
    "### Exercise 19. 데이터 구조 (리스트)\n",
    "* 사용자로부터 주민등록번호를 입력받아 뒷자리 맨 앞의 숫자를 출력하세요.\n",
    "  - 주민등록번호 뒷자리 맨 앞자리는 성별을 나타냄\n",
    "  - 예) 800001-1231231 주민번호를 입력받으면 1을 출력하면 됨\n",
    "  - 1은 남성을 의미, 2는 여성을 의미, 최근 아이들은 3과 4를 사용함 "
   ]
  },
  {
   "cell_type": "code",
   "execution_count": 46,
   "id": "49bedaf8-80dd-4b63-9c76-0e2eb5166e21",
   "metadata": {},
   "outputs": [
    {
     "name": "stdin",
     "output_type": "stream",
     "text": [
      "주민 번호를 입력하세요. 800001-1231231\n"
     ]
    },
    {
     "name": "stdout",
     "output_type": "stream",
     "text": [
      "1\n",
      "남자입니다.\n"
     ]
    }
   ],
   "source": [
    "\n",
    "\n",
    "num = input(\"주민 번호를 입력하세요.\").split(\"-\") # transform list \n",
    "\n",
    "# num = input(\"주민 번호를 입력하세요.\").split(\"-\")[1][0] # transform list \n",
    "\n",
    "if num[1][0] == \"1\":\n",
    "          print(num[1][0])\n",
    "          print(\"남자입니다.\")\n",
    "    \n",
    "else :\n",
    "    print(\"여자입니다.\")"
   ]
  },
  {
   "cell_type": "code",
   "execution_count": 47,
   "id": "6b6c333b-e3e5-4cff-84db-3b1a0e2280b1",
   "metadata": {},
   "outputs": [
    {
     "name": "stdout",
     "output_type": "stream",
     "text": [
      "a man goes into the room\n"
     ]
    }
   ],
   "source": [
    "# delete  \" . \"  \n",
    "\n",
    "mystr = \"a man goes into the room...\"\n",
    "\n",
    "print(mystr.strip(\".\"))"
   ]
  },
  {
   "cell_type": "markdown",
   "id": "407bb7b8-459d-4140-bb4d-4404a5f2e525",
   "metadata": {},
   "source": [
    "### Exercise 22. 문자열 다루기 (strip)\n",
    "* 주식 종목을 나타내는 종목코드에 공백과 줄바꿈 기호가 포함되어 있다. 공백과 줄바꿈 기호를 제거하고 종목코드만을 추출하라.\n",
    "```python\n",
    "code = '         000660\\n            '\n",
    "```\n",
    "출력: '000660'"
   ]
  },
  {
   "cell_type": "code",
   "execution_count": 63,
   "id": "10354f8a-8d23-433a-a000-3dbfdc460da9",
   "metadata": {},
   "outputs": [
    {
     "name": "stdout",
     "output_type": "stream",
     "text": [
      "000660\n"
     ]
    }
   ],
   "source": [
    "code = '         000660\\n #  '  \n",
    "\n",
    "print(code.strip(' \\n #')) # 공백과 # 문자 제거 "
   ]
  },
  {
   "cell_type": "markdown",
   "id": "dc5cfafa-dc63-4f1d-935f-e50202f8a045",
   "metadata": {},
   "source": [
    "### Exercise 23. 문자열 다루기 (count)\n",
    "* 다음 문자열에서 'Python' 문자열의 빈도수를 출력하라.\n",
    "```python\n",
    "python_desc = \"Python is an interpreted high-level programming language for general-purpose programming. Created by Guido van Rossum and first released in 1991, Python has a design philosophy that emphasizes code readability, notably using significant whitespace.\"\n",
    "```\n",
    "출력 예: 2"
   ]
  },
  {
   "cell_type": "code",
   "execution_count": 66,
   "id": "3a4dbdb7-418d-4ef0-b3d9-e3a01c2daa71",
   "metadata": {},
   "outputs": [
    {
     "name": "stdout",
     "output_type": "stream",
     "text": [
      "2\n"
     ]
    }
   ],
   "source": [
    "\n",
    "# Python의 문자열의 빈도를 출력 \n",
    "\n",
    "python_desc = \"Python is an interpreted high-level programming language for general-purpose programming. Created by Guido van Rossum and first released in 1991, Python has a design philosophy that emphasizes code readability, notably using significant whitespace.\"\n",
    "\n",
    "print(python_desc.count(\"Python\")) # 대소문자를 구분한다. \n",
    "\n"
   ]
  },
  {
   "cell_type": "code",
   "execution_count": 69,
   "id": "e158dce8-0372-45c2-9f1a-afdb679ee4b2",
   "metadata": {},
   "outputs": [
    {
     "name": "stdout",
     "output_type": "stream",
     "text": [
      "0\n"
     ]
    }
   ],
   "source": [
    "# 문자열 찾기 \n",
    "\n",
    "python_desc = \"Python is an interpreted high-level programming language for general-purpose programming. Created by Guido van Rossum and first released in 1991, Python has a design philosophy that emphasizes code readability, notably using significant whitespace.\"\n",
    "\n",
    "print(python_desc.find(\"Python\"))\n",
    "\n",
    "# \"If 'Python' is in python_desc, it should print 0, but if not, it should print 1.\"\n",
    "\n",
    "\n",
    "# 예제 문자열\n",
    "text = \"Hello, world!\"\n",
    "\n",
    "# 'world'라는 서브스트링을 찾기\n",
    "index = text.find(\"world\")\n",
    "print(index)  # 출력: 7 ('world'의 'w'가 문자열의 7번째 인덱스에 위치)\n",
    "\n",
    "# 존재하지 않는 서브스트링을 찾기\n",
    "index = text.find(\"Python\")\n",
    "print(index)  # 출력: -1 ('Python'은 문자열에 존재하지 않음)\n",
    "\n",
    "# 'o'를 찾기\n",
    "index = text.find(\"o\")\n",
    "print(index)  # 출력: 4 ('o'가 처음 나타나는 위치)\n",
    "\n",
    "# 특정 위치 이후에서 찾기\n",
    "index = text.find(\"o\", 5)\n",
    "print(index)  # 출력: 8 ('o'가 5번째 인덱스 이후에 나타나는 위치)\n",
    "\n",
    "# 특정 범위 내에서 찾기\n",
    "index = text.find(\"o\", 5, 7)\n",
    "print(index)  # 출력: -1 (5번째부터 7번째 인덱스 사이에 'o'가 없음)\n"
   ]
  },
  {
   "cell_type": "code",
   "execution_count": 3,
   "id": "5bc9be83-706d-44b8-b88f-a17809147500",
   "metadata": {},
   "outputs": [
    {
     "name": "stdout",
     "output_type": "stream",
     "text": [
      "['Dave', 'Kevin']\n"
     ]
    }
   ],
   "source": [
    "# split \n",
    "\n",
    "list_data = '[Dave],[Kevin]'\n",
    "\n",
    "print ( [ x[1:-1] for x in list_data.split(',')] )"
   ]
  },
  {
   "cell_type": "code",
   "execution_count": 5,
   "id": "7eebb45c-02ba-4fd2-aef5-17ed80e54c33",
   "metadata": {},
   "outputs": [
    {
     "name": "stdin",
     "output_type": "stream",
     "text": [
      "pw :  123\n"
     ]
    },
    {
     "name": "stdout",
     "output_type": "stream",
     "text": [
      "not same\n"
     ]
    },
    {
     "name": "stdin",
     "output_type": "stream",
     "text": [
      "pw :  22\n"
     ]
    },
    {
     "name": "stdout",
     "output_type": "stream",
     "text": [
      "not same\n"
     ]
    },
    {
     "name": "stdin",
     "output_type": "stream",
     "text": [
      "pw :  22\n"
     ]
    },
    {
     "name": "stdout",
     "output_type": "stream",
     "text": [
      "not same\n"
     ]
    },
    {
     "name": "stdin",
     "output_type": "stream",
     "text": [
      "pw :  33\n"
     ]
    },
    {
     "name": "stdout",
     "output_type": "stream",
     "text": [
      "not same\n"
     ]
    },
    {
     "name": "stdin",
     "output_type": "stream",
     "text": [
      "pw :  44\n"
     ]
    },
    {
     "name": "stdout",
     "output_type": "stream",
     "text": [
      "not same\n"
     ]
    },
    {
     "name": "stdin",
     "output_type": "stream",
     "text": [
      "pw :  55\n"
     ]
    },
    {
     "name": "stdout",
     "output_type": "stream",
     "text": [
      "not same\n"
     ]
    },
    {
     "name": "stdin",
     "output_type": "stream",
     "text": [
      "pw :  1234\n"
     ]
    },
    {
     "name": "stdout",
     "output_type": "stream",
     "text": [
      "okay\n"
     ]
    }
   ],
   "source": [
    "# password \n",
    "\n",
    "while 1:\n",
    "    n = int(input('pw : '))\n",
    "    if n == 1234:\n",
    "        print(\"okay\") \n",
    "        break \n",
    "    print(\"not same\")"
   ]
  },
  {
   "cell_type": "code",
   "execution_count": 8,
   "id": "a2d538e4-3cea-4151-be65-04ee91f64293",
   "metadata": {},
   "outputs": [
    {
     "name": "stdin",
     "output_type": "stream",
     "text": [
      "id :  park\n"
     ]
    },
    {
     "name": "stdout",
     "output_type": "stream",
     "text": [
      "park is god\n"
     ]
    }
   ],
   "source": [
    "# find method \n",
    "\n",
    "string = input(\"id : \")\n",
    "\n",
    "if string.find('park') == 0:\n",
    "    print(\"park is god\")\n",
    "else:\n",
    "    print(\"guess him\")"
   ]
  },
  {
   "cell_type": "code",
   "execution_count": 24,
   "id": "be261012-af35-4f47-b23c-ca13da8fff6a",
   "metadata": {},
   "outputs": [
    {
     "name": "stdout",
     "output_type": "stream",
     "text": [
      "excel2.csv\n",
      "excel3.csv\n"
     ]
    }
   ],
   "source": [
    "# 확장자 제거 \n",
    "\n",
    "list_a = ['excel.txt', 'excel2.csv', 'excel3.csv']\n",
    "\n",
    "# [print(x.split('.')[0]) for x in list_a]\n",
    "\n",
    "# print( [ x for x in list_a if x.split('.')[1] == 'csv'])\n",
    "\n",
    "for x in ( x  for x in list_a if x.split('.')[1] == 'csv') : # 제네레이터 표현식은 리턴값이 없으므로 \n",
    "\n",
    "    print(x)\n"
   ]
  },
  {
   "cell_type": "code",
   "execution_count": null,
   "id": "dae7633f-6bf0-46a6-92eb-7f72ed645d7f",
   "metadata": {},
   "outputs": [],
   "source": []
  },
  {
   "cell_type": "code",
   "execution_count": null,
   "id": "e3887e2a-0122-497e-aa79-fa951b07c11d",
   "metadata": {},
   "outputs": [],
   "source": []
  },
  {
   "cell_type": "code",
   "execution_count": null,
   "id": "7d7d0824-97db-4438-b493-04d195775008",
   "metadata": {},
   "outputs": [],
   "source": []
  }
 ],
 "metadata": {
  "kernelspec": {
   "display_name": "Python 3 (ipykernel)",
   "language": "python",
   "name": "python3"
  },
  "language_info": {
   "codemirror_mode": {
    "name": "ipython",
    "version": 3
   },
   "file_extension": ".py",
   "mimetype": "text/x-python",
   "name": "python",
   "nbconvert_exporter": "python",
   "pygments_lexer": "ipython3",
   "version": "3.10.9"
  }
 },
 "nbformat": 4,
 "nbformat_minor": 5
}
