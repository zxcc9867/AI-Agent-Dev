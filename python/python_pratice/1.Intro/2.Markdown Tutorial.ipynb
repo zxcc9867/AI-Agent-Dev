{
 "cells": [
  {
   "cell_type": "markdown",
   "id": "46e3d990",
   "metadata": {},
   "source": [
    "---\n",
    "# 파이썬 입문 : 도전! 45가지 기초 문법 실습하기 🙋🏻‍♂️\n",
    "---\n",
    "## 마크다운(Markdown) 자주 사용하는 Cheatsheet 💻\n",
    "---"
   ]
  },
  {
   "cell_type": "markdown",
   "id": "b749f3ae",
   "metadata": {},
   "source": [
    "### 0. Tips"
   ]
  },
  {
   "cell_type": "markdown",
   "id": "dd3e90fb",
   "metadata": {},
   "source": [
    "+ **`필수 단축키`**는 꼭 외웁니다. 😊\n",
    "+ **`Shift+방향키 선택`** 방법은 자주사용해요. 😊\n",
    "+ **`Help -> Keyboard Shortcuts`**에서 단축키를 확인할 수 있어요.\n",
    "+ **`간단한 코딩 및 검증, 실험`**은 Jupyter Notebook을 통해 구현 합니다.\n",
    "+ **`A`**, **`B`**, **`M`**, **`Y`**, **`D+D`**, **`Enter`**, **`ESC`**, **`F`**, **`O`**키는 외워요.\n",
    "+ **`HTML TAG`**를 공부하면 더욱 풍성하게 꾸밀 수 있어요. 😊\n",
    "+ **`문서 작성 능력`**은 엔지니어, 리서처에게 중요한 스킬입니다."
   ]
  },
  {
   "cell_type": "markdown",
   "id": "74178688",
   "metadata": {},
   "source": [
    "### 1. 줄바꿈"
   ]
  },
  {
   "cell_type": "markdown",
   "id": "bdc37429",
   "metadata": {},
   "source": [
    "#### **`방법1`**"
   ]
  },
  {
   "cell_type": "markdown",
   "id": "48cec7f9",
   "metadata": {},
   "source": [
    "안녕하세요.  \n",
    "저는 파이썬 입니다."
   ]
  },
  {
   "cell_type": "markdown",
   "id": "e483f062",
   "metadata": {},
   "source": [
    "#### **`방법2`**"
   ]
  },
  {
   "cell_type": "markdown",
   "id": "958b11c7",
   "metadata": {},
   "source": [
    "안녕하세요.<br/>저는 파이썬 입니다."
   ]
  },
  {
   "cell_type": "markdown",
   "id": "fce9fc40",
   "metadata": {},
   "source": [
    "#### **`연습1`**"
   ]
  },
  {
   "cell_type": "markdown",
   "id": "1808c95e",
   "metadata": {},
   "source": [
    "#### **`연습2`**"
   ]
  },
  {
   "cell_type": "markdown",
   "id": "74a2df1e",
   "metadata": {},
   "source": [
    "---"
   ]
  },
  {
   "cell_type": "markdown",
   "id": "26d543ba",
   "metadata": {},
   "source": [
    "### 2. 문법표시"
   ]
  },
  {
   "cell_type": "markdown",
   "id": "0bdc912c",
   "metadata": {},
   "source": [
    "#### **`예제1`**"
   ]
  },
  {
   "cell_type": "markdown",
   "id": "41070202",
   "metadata": {},
   "source": [
    "\\<u>\\<b>파이썬\\</b>\\</u>"
   ]
  },
  {
   "cell_type": "markdown",
   "id": "9c4a3c1c",
   "metadata": {},
   "source": [
    "#### **`예제2`**"
   ]
  },
  {
   "cell_type": "markdown",
   "id": "81f86cda",
   "metadata": {},
   "source": [
    "<u><b>파이썬</b></u>"
   ]
  },
  {
   "cell_type": "markdown",
   "id": "0123d5e5",
   "metadata": {},
   "source": [
    "#### **`연습1`**"
   ]
  },
  {
   "cell_type": "markdown",
   "id": "c26b68bf",
   "metadata": {},
   "source": [
    "#### **`연습2`**"
   ]
  },
  {
   "cell_type": "markdown",
   "id": "947cde5f",
   "metadata": {},
   "source": [
    "---"
   ]
  },
  {
   "cell_type": "markdown",
   "id": "1a017c38",
   "metadata": {},
   "source": [
    "### 3. 코드 & 문법 블럭"
   ]
  },
  {
   "cell_type": "markdown",
   "id": "c61e224b",
   "metadata": {},
   "source": [
    "#### **`예제1`**"
   ]
  },
  {
   "cell_type": "markdown",
   "id": "b9773ac1",
   "metadata": {},
   "source": [
    "```python\n",
    "s = \"Python syntax highlighting\"\n",
    "print s\n",
    "```"
   ]
  },
  {
   "cell_type": "markdown",
   "id": "6ed5c388",
   "metadata": {},
   "source": [
    "#### **`예제2`**"
   ]
  },
  {
   "cell_type": "markdown",
   "id": "0caa22c8",
   "metadata": {},
   "source": [
    "```javascript\n",
    "var s = \"JavaScript syntax highlighting\";\n",
    "alert(s);\n",
    "```"
   ]
  },
  {
   "cell_type": "markdown",
   "id": "41d7543d",
   "metadata": {},
   "source": [
    "#### **`예제3`**"
   ]
  },
  {
   "cell_type": "markdown",
   "id": "7b3bbc46",
   "metadata": {},
   "source": [
    "```\n",
    "No language indicated, so no syntax highlighting. \n",
    "But let's throw in a <b>tag</b>.\n",
    "```"
   ]
  },
  {
   "cell_type": "markdown",
   "id": "a5e8a2ee",
   "metadata": {},
   "source": [
    "#### **`예제4`**"
   ]
  },
  {
   "cell_type": "markdown",
   "id": "ee245314",
   "metadata": {},
   "source": [
    "```c++\n",
    "#include <iostream>\n",
    "using namespace std;\n",
    "\n",
    "int main()\n",
    "{\n",
    "cout « “Hello World !” « endl; // 안녕!\n",
    "}\n",
    "```"
   ]
  },
  {
   "cell_type": "markdown",
   "id": "e8ed7092",
   "metadata": {},
   "source": [
    "#### **`연습1`**"
   ]
  },
  {
   "cell_type": "markdown",
   "id": "d4e8cc93",
   "metadata": {},
   "source": [
    "---"
   ]
  },
  {
   "cell_type": "markdown",
   "id": "2b6c9388",
   "metadata": {},
   "source": [
    "### 4. 텍스트"
   ]
  },
  {
   "cell_type": "markdown",
   "id": "bbc9c00e",
   "metadata": {},
   "source": [
    "#### **`예제1`**"
   ]
  },
  {
   "cell_type": "markdown",
   "id": "f7e19fa9",
   "metadata": {},
   "source": [
    "*기울어진 텍스트* <br/>\n",
    "<i>기울어진 텍스트</i>"
   ]
  },
  {
   "cell_type": "markdown",
   "id": "59fa847e",
   "metadata": {},
   "source": [
    "#### **`예제2`**"
   ]
  },
  {
   "cell_type": "markdown",
   "id": "7b27f3da",
   "metadata": {},
   "source": [
    "**강조된 텍스트**<br/>\n",
    "__강조된 텍스트__"
   ]
  },
  {
   "cell_type": "markdown",
   "id": "33c37cc5",
   "metadata": {},
   "source": [
    "#### **`예제3`**"
   ]
  },
  {
   "cell_type": "markdown",
   "id": "5e1ebe01",
   "metadata": {},
   "source": [
    "~~취소된 텍스트~~ <br/>\n",
    "<del>취소된 텍스트</del>"
   ]
  },
  {
   "cell_type": "markdown",
   "id": "cb089e68",
   "metadata": {},
   "source": [
    "#### **`예제4`**"
   ]
  },
  {
   "cell_type": "markdown",
   "id": "ddce639c",
   "metadata": {},
   "source": [
    "<u>밑줄</u> 텍스트"
   ]
  },
  {
   "cell_type": "markdown",
   "id": "bc1311cd",
   "metadata": {},
   "source": [
    "#### **`연습1`**"
   ]
  },
  {
   "cell_type": "markdown",
   "id": "b5cd6ae1",
   "metadata": {},
   "source": [
    "---"
   ]
  },
  {
   "cell_type": "markdown",
   "id": "2e7ea4ae",
   "metadata": {},
   "source": [
    "### 5. Header"
   ]
  },
  {
   "cell_type": "markdown",
   "id": "92d442f7",
   "metadata": {},
   "source": [
    "#### **`예제1`**"
   ]
  },
  {
   "cell_type": "markdown",
   "id": "f62bbe0a",
   "metadata": {},
   "source": [
    "# H1\n",
    "<h1>H1</h1>"
   ]
  },
  {
   "cell_type": "markdown",
   "id": "6de8e832",
   "metadata": {},
   "source": [
    "#### **`예제2`**"
   ]
  },
  {
   "cell_type": "markdown",
   "id": "2c2713e5",
   "metadata": {},
   "source": [
    "## H2\n",
    "<h2>H2</h2>"
   ]
  },
  {
   "cell_type": "markdown",
   "id": "11cbc5e3",
   "metadata": {},
   "source": [
    "#### **`예제3`**"
   ]
  },
  {
   "cell_type": "markdown",
   "id": "e78b3ca0",
   "metadata": {},
   "source": [
    "### H3\n",
    "<h3>H3</h3>"
   ]
  },
  {
   "cell_type": "markdown",
   "id": "b20a3fb1",
   "metadata": {},
   "source": [
    "#### **`예제4`**"
   ]
  },
  {
   "cell_type": "markdown",
   "id": "aaa0ca1f",
   "metadata": {},
   "source": [
    "#### H4\n",
    "<h4>H4</h4>"
   ]
  },
  {
   "cell_type": "markdown",
   "id": "a65e8c6a",
   "metadata": {},
   "source": [
    "#### **`예제5`**"
   ]
  },
  {
   "cell_type": "markdown",
   "id": "d0866712",
   "metadata": {},
   "source": [
    "##### H5\n",
    "<h5>H5</h5>"
   ]
  },
  {
   "cell_type": "markdown",
   "id": "9a4d6f9f",
   "metadata": {},
   "source": [
    "#### **`연습1`**"
   ]
  },
  {
   "cell_type": "markdown",
   "id": "bcb2e3ec",
   "metadata": {},
   "source": [
    "***"
   ]
  },
  {
   "cell_type": "markdown",
   "id": "4429c499",
   "metadata": {},
   "source": [
    "### 6. 구분선"
   ]
  },
  {
   "cell_type": "markdown",
   "id": "70f14ebd",
   "metadata": {},
   "source": [
    "#### **`예제1`**"
   ]
  },
  {
   "cell_type": "markdown",
   "id": "e1b366a6",
   "metadata": {},
   "source": [
    "___"
   ]
  },
  {
   "cell_type": "markdown",
   "id": "c6ec126a",
   "metadata": {},
   "source": [
    "#### **`예제2`**"
   ]
  },
  {
   "cell_type": "markdown",
   "id": "e07aff3c",
   "metadata": {},
   "source": [
    "---"
   ]
  },
  {
   "cell_type": "markdown",
   "id": "3753a934",
   "metadata": {},
   "source": [
    "#### **`예제3`**"
   ]
  },
  {
   "cell_type": "markdown",
   "id": "586977cc",
   "metadata": {},
   "source": [
    "***"
   ]
  },
  {
   "cell_type": "markdown",
   "id": "0ffba054",
   "metadata": {},
   "source": [
    "#### **`연습1`**"
   ]
  },
  {
   "cell_type": "markdown",
   "id": "99c721e8",
   "metadata": {},
   "source": [
    "---"
   ]
  },
  {
   "cell_type": "markdown",
   "id": "2ac7fe7a",
   "metadata": {},
   "source": [
    "### 7. 인용문(Blockquotes)"
   ]
  },
  {
   "cell_type": "markdown",
   "id": "38382afa",
   "metadata": {},
   "source": [
    "#### **`예제1`**"
   ]
  },
  {
   "cell_type": "markdown",
   "id": "f8ca50e5",
   "metadata": {},
   "source": [
    "> Blockquotes are very handy in email to emulate reply text."
   ]
  },
  {
   "cell_type": "markdown",
   "id": "8d3bdb57",
   "metadata": {},
   "source": [
    "#### **`예제2`**"
   ]
  },
  {
   "cell_type": "markdown",
   "id": "0d85f302",
   "metadata": {},
   "source": [
    ">> This line is part of the same quote."
   ]
  },
  {
   "cell_type": "markdown",
   "id": "fff2690b",
   "metadata": {},
   "source": [
    "#### **`예제3`**"
   ]
  },
  {
   "cell_type": "markdown",
   "id": "645ab04c",
   "metadata": {},
   "source": [
    "> Blockquotes are very handy in email to emulate reply text.\n",
    ">>> This line is part of the same quote."
   ]
  },
  {
   "cell_type": "markdown",
   "id": "cfd439df",
   "metadata": {},
   "source": [
    "#### **`연습1`**"
   ]
  },
  {
   "cell_type": "markdown",
   "id": "57d9ad28",
   "metadata": {},
   "source": [
    "---"
   ]
  },
  {
   "cell_type": "markdown",
   "id": "ae01320e",
   "metadata": {},
   "source": [
    "### 8. 리스트 & 체크박스"
   ]
  },
  {
   "cell_type": "markdown",
   "id": "402873c2",
   "metadata": {},
   "source": [
    "#### **`예제1`**"
   ]
  },
  {
   "cell_type": "markdown",
   "id": "c27f63c0",
   "metadata": {},
   "source": [
    "- **파인애플**\n",
    "  * 사과\n",
    "    + 오렌지\n",
    "      - 포도\n",
    "  * 수박\n",
    "- 레몬"
   ]
  },
  {
   "cell_type": "markdown",
   "id": "a3ba0435",
   "metadata": {},
   "source": [
    "#### **`예제2`**"
   ]
  },
  {
   "cell_type": "markdown",
   "id": "e1d76bcd",
   "metadata": {},
   "source": [
    "1. 반찬\n",
    "2. 과일  \n",
    "  1. 비타민C\n",
    "    - 귤\n",
    "      - 오렌지\n",
    "        + 레몬\n",
    "  2. 씨앗\n",
    "    - 포도\n",
    "    + 사과\n",
    "3. 음료수"
   ]
  },
  {
   "cell_type": "markdown",
   "id": "e67008fb",
   "metadata": {},
   "source": [
    "#### **`예제3`**"
   ]
  },
  {
   "cell_type": "markdown",
   "id": "9bdcf996",
   "metadata": {},
   "source": [
    "- [X] 체크 완료\n",
    "- [ ] 체크 불가"
   ]
  },
  {
   "cell_type": "markdown",
   "id": "8e053b36",
   "metadata": {},
   "source": [
    "#### **`연습1`**"
   ]
  },
  {
   "cell_type": "markdown",
   "id": "5e4dc913",
   "metadata": {},
   "source": [
    "---"
   ]
  },
  {
   "cell_type": "markdown",
   "id": "b5e3ae1b",
   "metadata": {},
   "source": [
    "### 9. 테이블"
   ]
  },
  {
   "cell_type": "markdown",
   "id": "40c2649e",
   "metadata": {},
   "source": [
    "#### **`예제1`**"
   ]
  },
  {
   "cell_type": "markdown",
   "id": "cc7b3ad4",
   "metadata": {},
   "source": [
    "```\n",
    "왼쪽 정렬 |:—|\n",
    "오른쪽 정렬 |—:|\n",
    "가운데 정렬 |:—:|\n",
    "```"
   ]
  },
  {
   "cell_type": "markdown",
   "id": "a637f638",
   "metadata": {},
   "source": [
    "Markdown | Less | Pretty\n",
    ":---: | :---: | :---:\n",
    "*Still* | `renders` | **nicely**\n",
    "1 | 2 | 3"
   ]
  },
  {
   "cell_type": "markdown",
   "id": "a1b9c369",
   "metadata": {},
   "source": [
    "#### **`연습1`**"
   ]
  },
  {
   "cell_type": "markdown",
   "id": "a425dcf2",
   "metadata": {},
   "source": [
    "---"
   ]
  },
  {
   "cell_type": "markdown",
   "id": "95a61ac0",
   "metadata": {},
   "source": [
    "### 10. 링크"
   ]
  },
  {
   "cell_type": "markdown",
   "id": "4554f57d",
   "metadata": {},
   "source": [
    "#### **`예제1`**"
   ]
  },
  {
   "cell_type": "markdown",
   "id": "3f379a60",
   "metadata": {},
   "source": [
    "<https://www.google.com>"
   ]
  },
  {
   "cell_type": "markdown",
   "id": "bd08bf8e",
   "metadata": {},
   "source": [
    "[Google Link](https://www.google.com)"
   ]
  },
  {
   "cell_type": "markdown",
   "id": "cea8a257",
   "metadata": {},
   "source": [
    "[Google Link](https://www.google.com \"Google's Homepage\")"
   ]
  },
  {
   "cell_type": "markdown",
   "id": "1bab99fa",
   "metadata": {},
   "source": [
    "Autoconverted link https://google.com (enable linkify to see)"
   ]
  },
  {
   "cell_type": "markdown",
   "id": "cfd5f597",
   "metadata": {},
   "source": [
    "#### **`예제2`**"
   ]
  },
  {
   "cell_type": "markdown",
   "id": "ff0d00e7",
   "metadata": {},
   "source": [
    "`1.헤더 제목 문자열 복사`<br/>\n",
    "`2.공백 - 변경`<br/>\n",
    "`3.대문자 -> 소문자`"
   ]
  },
  {
   "cell_type": "markdown",
   "id": "bfa4cb7c",
   "metadata": {},
   "source": [
    "[문서이동 - 텍스트](#4.-텍스트)"
   ]
  },
  {
   "cell_type": "markdown",
   "id": "4ba62eb0",
   "metadata": {},
   "source": [
    "[문서이동 - 리스트 & 체크박스](#8.-리스트-&-체크박스)"
   ]
  },
  {
   "cell_type": "markdown",
   "id": "0860dabf",
   "metadata": {},
   "source": [
    "#### **`연습1`**"
   ]
  },
  {
   "cell_type": "markdown",
   "id": "e09b7d82",
   "metadata": {},
   "source": [
    "___"
   ]
  },
  {
   "cell_type": "markdown",
   "id": "95abd010",
   "metadata": {},
   "source": [
    "### 11. 이미지 & Youtube"
   ]
  },
  {
   "cell_type": "markdown",
   "id": "6bce679c",
   "metadata": {},
   "source": [
    "#### **`예제1`**"
   ]
  },
  {
   "cell_type": "markdown",
   "id": "d06b1e47",
   "metadata": {},
   "source": [
    "![SmartPhone](https://cdn.pixabay.com/photo/2019/04/04/15/17/smartphone-4103051__480.jpg)"
   ]
  },
  {
   "cell_type": "markdown",
   "id": "26b9a377",
   "metadata": {},
   "source": [
    "#### **`예제2`**"
   ]
  },
  {
   "cell_type": "markdown",
   "id": "4522d376",
   "metadata": {},
   "source": [
    "![Stormtroopocat](../img/google.jpg \"Google logo image!\")"
   ]
  },
  {
   "cell_type": "markdown",
   "id": "79182c4e",
   "metadata": {},
   "source": [
    "#### **`예제3`**"
   ]
  },
  {
   "cell_type": "markdown",
   "id": "e7dd3547",
   "metadata": {},
   "source": [
    "<a href=\"https://www.youtube.com/watch?v=iQR6TfepUzQ\" target=\"_blank\"><img src=\"data:image/png;base64,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\" \n",
    "alt=\"IMAGE ALT TEXT HERE\" width=\"240\" height=\"180\" border=\"10\" /></a>"
   ]
  },
  {
   "cell_type": "markdown",
   "id": "1ad55bac",
   "metadata": {},
   "source": [
    "#### **`연습1`**"
   ]
  },
  {
   "cell_type": "markdown",
   "id": "f7d29007",
   "metadata": {},
   "source": [
    "---"
   ]
  },
  {
   "cell_type": "markdown",
   "id": "098389c8",
   "metadata": {},
   "source": [
    "### 12. 인라인 html"
   ]
  },
  {
   "cell_type": "markdown",
   "id": "ae12ca7d",
   "metadata": {},
   "source": [
    "#### **`예제1`**"
   ]
  },
  {
   "cell_type": "markdown",
   "id": "ab245fa0",
   "metadata": {},
   "source": [
    "<details>\n",
    "<summary>이곳 클릭!</summary>\n",
    "<div markdown=\"1\">       \n",
    "\n",
    "본문 내용\n",
    "\n",
    "</div>\n",
    "</details>"
   ]
  },
  {
   "cell_type": "markdown",
   "id": "55226982",
   "metadata": {},
   "source": [
    "#### **`예제2`**"
   ]
  },
  {
   "cell_type": "markdown",
   "id": "858e5351",
   "metadata": {},
   "source": [
    "<dl>\n",
    "  <dt>정의 항목</dt>\n",
    "  <dd>내용1</dd>\n",
    "\n",
    "  <dt>정의 항목</dt>\n",
    "  <dd>내용2<em>추가</em>.</dd>\n",
    "  <dt>정의 항목</dt>\n",
    "  <dd>내용3<u>추가</u></dd>\n",
    "</dl>"
   ]
  },
  {
   "cell_type": "markdown",
   "id": "9488ae94",
   "metadata": {},
   "source": [
    "#### **`연습1`**"
   ]
  },
  {
   "cell_type": "markdown",
   "id": "aa0fabfa",
   "metadata": {},
   "source": [
    "---"
   ]
  }
 ],
 "metadata": {
  "kernelspec": {
   "display_name": "Python 3 (ipykernel)",
   "language": "python",
   "name": "python3"
  },
  "language_info": {
   "codemirror_mode": {
    "name": "ipython",
    "version": 3
   },
   "file_extension": ".py",
   "mimetype": "text/x-python",
   "name": "python",
   "nbconvert_exporter": "python",
   "pygments_lexer": "ipython3",
   "version": "3.9.12"
  },
  "toc": {
   "base_numbering": 1,
   "nav_menu": {},
   "number_sections": false,
   "sideBar": true,
   "skip_h1_title": false,
   "title_cell": "Table of Contents",
   "title_sidebar": "Contents",
   "toc_cell": false,
   "toc_position": {},
   "toc_section_display": true,
   "toc_window_display": false
  }
 },
 "nbformat": 4,
 "nbformat_minor": 5
}
