{
 "cells": [
  {
   "cell_type": "markdown",
   "metadata": {},
   "source": [
    "<div class=\"alert alert-block\" style=\"border: 2px solid #1976D2;background-color:#E3F2FD;padding:5px;font-size:0.9em;\">\n",
    "본 자료는 저작권법 제25조 2항에 의해 보호를 받습니다. 본 자료를 외부에 공개하지 말아주세요.<br>\n",
    "본 강의만 잘 정리하면, 데이터 분석, 데이터 과학, 풀스택(백엔드, 프론트엔드) 개발 모두 가능합니다!<br>\n",
    "</div>"
   ]
  },
  {
   "cell_type": "markdown",
   "metadata": {},
   "source": [
    "<div class=\"alert alert-block\" style=\"border: 2px solid #1976D2;background-color:#E3F2FD;padding:5px;font-size:0.9em;\">\n",
    "제 유투브 채널로 혼자서도 데이터 전과정, 풀스택 전과정을 익힐 수 있는 로드맵과 관련 커리어를  설명한 영상을 만들었는데요<br>\n",
    "꼭 한번 보시면 학습하시는데 큰 그림을 이해하실 수 있으실꺼예요. (괜찮으시면 구독과 좋아요도 부탁드립니다. ㅎ)<br>\n",
    "<b>- 데이터, AI 커리어와 데이터 전과정 학습 방법 완벽 가이드: <a href=\"https://youtu.be/vsoAyh4D-zw\">https://youtu.be/vsoAyh4D-zw</a><br>\n",
    "- 1인 창업도 가능한 가장 빠른 최신 풀스택 공부순서: <a href=\"https://youtu.be/mTouChThxzA\">https://youtu.be/mTouChThxzA</a></b><br>\n",
    "</div>"
   ]
  },
  {
   "cell_type": "markdown",
   "metadata": {},
   "source": [
    "# 1. 두 함수의 차이는?"
   ]
  },
  {
   "cell_type": "code",
   "execution_count": 1,
   "metadata": {},
   "outputs": [
    {
     "name": "stdout",
     "output_type": "stream",
     "text": [
      "Fun Coding\n"
     ]
    }
   ],
   "source": [
    "def print_string(data):\n",
    "    print (data)\n",
    "\n",
    "print_string(\"Fun Coding\")"
   ]
  },
  {
   "cell_type": "code",
   "execution_count": 2,
   "metadata": {
    "scrolled": true
   },
   "outputs": [
    {
     "data": {
      "text/plain": [
       "['Fun', 'Coding']"
      ]
     },
     "execution_count": 2,
     "metadata": {},
     "output_type": "execute_result"
    }
   ],
   "source": [
    "string = \"Fun Coding\" # 문자열 관련 설계도 있음 - 해당 설계도 기반 문자열1 객체가 만들어짐\n",
    "string.split() # 해당 문자열1 객체가 가지고 있는 메서드(method)"
   ]
  },
  {
   "cell_type": "markdown",
   "metadata": {
    "collapsed": true
   },
   "source": [
    "## 2. 객체지향 프로그래밍(Object Oriented Programming)"
   ]
  },
  {
   "cell_type": "markdown",
   "metadata": {},
   "source": [
    "### 절차지향과 객체지향 프로그래밍\n",
    "  * 절차지향 프로그래밍\n",
    "    * 1990년대 이전 언어는 대부분 절차지향 프로그래밍\n",
    "      - 대표적인 언어: 파스칼, 코볼, 포트란, C언어등\n",
    "    * 예: 냉장고에 코끼리2를 넣는다.\n",
    "      <img src=\"https://www.fun-coding.org/00_Images/linebyline.png\" />"
   ]
  },
  {
   "cell_type": "markdown",
   "metadata": {},
   "source": [
    "1. 코끼리라는 사물의 기능, 정보에 대한 설계도를 만든다.\n",
    "2. 이 설계도를 기반으로 코끼리1 객체를 만듭니다.\n",
    "3. 냉장고라는 사물의 기능, 정보에 대한 설계도를 만든다.\n",
    "4. 이 설계도를 기반으로 냉장고1 객체를 만듭니다.\n",
    "5. 코끼리1 의 객체의 기능을 호출해서, 냉장고1 의 객체의 문을 연다.\n",
    "6. 코끼리1 의 객체의 기능을 호출해서, 냉장고1 의 객체안으로 들어간다.\n",
    "7. 냉장고1 의 객체의 기능을 호출해서, 냉장고1 의 객체의 문을 닫는다.\n"
   ]
  },
  {
   "cell_type": "markdown",
   "metadata": {},
   "source": [
    "1. 해당 사물을 나타낼 수 있는 설계도를 만든다. (class)\n",
    "2. 해당 사물의 설계도를 기반으로 사물1 객체를 만든다. (object)\n",
    "3. 사물1 객체의 기능을 호출한다.\n",
    "   - attribute: 사물1 객체의 변수\n",
    "   - method: 사물1 객체의 함수"
   ]
  },
  {
   "cell_type": "code",
   "execution_count": 3,
   "metadata": {},
   "outputs": [
    {
     "ename": "NameError",
     "evalue": "name '사물1객체의이름' is not defined",
     "output_type": "error",
     "traceback": [
      "\u001b[0;31m---------------------------------------------------------------------------\u001b[0m",
      "\u001b[0;31mNameError\u001b[0m                                 Traceback (most recent call last)",
      "\u001b[0;32m<ipython-input-3-96fb42957bf6>\u001b[0m in \u001b[0;36m<module>\u001b[0;34m()\u001b[0m\n\u001b[0;32m----> 1\u001b[0;31m \u001b[0m사물1객체의이름\u001b[0m\u001b[0;34m.\u001b[0m\u001b[0mmethod이름\u001b[0m\u001b[0;34m(\u001b[0m\u001b[0m인자\u001b[0m\u001b[0;34m)\u001b[0m\u001b[0;34m\u001b[0m\u001b[0;34m\u001b[0m\u001b[0m\n\u001b[0m",
      "\u001b[0;31mNameError\u001b[0m: name '사물1객체의이름' is not defined"
     ]
    }
   ],
   "source": [
    "사물1객체의이름.method이름(인자)"
   ]
  },
  {
   "cell_type": "markdown",
   "metadata": {},
   "source": [
    "## 객체지향 프로그래밍 언어: JAVA, C++\n",
    "## 파이썬: 객체지향(내부), 객체지향 문법(지원) "
   ]
  },
  {
   "cell_type": "code",
   "execution_count": 4,
   "metadata": {},
   "outputs": [
    {
     "name": "stdout",
     "output_type": "stream",
     "text": [
      "1\n"
     ]
    }
   ],
   "source": [
    "data = 1\n",
    "print (data)"
   ]
  },
  {
   "cell_type": "markdown",
   "metadata": {},
   "source": [
    "* 객체지향 프로그래밍\n",
    "  * 객체(object) 단위로 데이터와 기능(함수)를 하나로 묶어서 쓰는 언어\n",
    "  <img src=\"https://www.fun-coding.org/00_Images/oop.png\" />"
   ]
  },
  {
   "cell_type": "markdown",
   "metadata": {},
   "source": [
    "### 객체지향 프로그래밍 핵심 (class와 object)\n",
    "\n",
    "#### class 란? == 예) 자동차 설계도\n",
    " + **속성(attribute)**와 **동작(method)**을 갖는 데이터 타입\n",
    " + **속성(attribute)**는 **변수**와 유사\n",
    " + **동작(method)**는 **함수**와 유사\n",
    " <img src=\"https://www.fun-coding.org/00_Images/oop2.png\" />"
   ]
  },
  {
   "cell_type": "markdown",
   "metadata": {},
   "source": [
    "## 정리: class(설계도), object(객체), attribute(변수), method(함수)"
   ]
  },
  {
   "cell_type": "markdown",
   "metadata": {},
   "source": [
    "#### object 란?  == 예) 실제 각 자동차\n",
    " + 선언된 **클래스**를 기반으로 만들어진 실체 (**객체(object)** 또는 **인스턴스(instance)**라고 함)\n",
    " + 하나의 **클래스** 설계도를 기반으로 수많은 **객체** 생성이 가능함"
   ]
  },
  {
   "cell_type": "markdown",
   "metadata": {},
   "source": [
    "### 객체지향 프로그램 작성 방법\n",
    " 1. 클래스 설계 (attribute와 method 구성)\n",
    " 2. 설계한 클래스를 기반으로 클래스를 코드로 작성\n",
    " 3. 클래스를 기반으로 필요한 객체 생성\n",
    " 4. 해당 객체의 attribute와 method를 조작하여 프로그램 수행"
   ]
  },
  {
   "cell_type": "markdown",
   "metadata": {},
   "source": [
    "<div class=\"alert alert-block\" style=\"border: 2px solid #1976D2;background-color:#E3F2FD;padding:5px;font-size:0.9em;\">\n",
    "본 자료는 저작권법 제25조 2항에 의해 보호를 받습니다. 본 자료를 외부에 공개하지 말아주세요.<br>\n",
    "본 강의만 잘 정리하면, 데이터 분석, 데이터 과학, 풀스택(백엔드, 프론트엔드) 개발 모두 가능합니다!<br>\n",
    "<b><a href=\"https://school.fun-coding.org/\">잔재미코딩</a> 에서 본 강의 기반 최적화된 로드맵도 확인하실 수 있습니다</b></div>"
   ]
  }
 ],
 "metadata": {
  "kernelspec": {
   "display_name": "Python 3 (ipykernel)",
   "language": "python",
   "name": "python3"
  },
  "language_info": {
   "codemirror_mode": {
    "name": "ipython",
    "version": 3
   },
   "file_extension": ".py",
   "mimetype": "text/x-python",
   "name": "python",
   "nbconvert_exporter": "python",
   "pygments_lexer": "ipython3",
   "version": "3.11.5"
  },
  "nbTranslate": {
   "displayLangs": [
    "*"
   ],
   "hotkey": "alt-t",
   "langInMainMenu": true,
   "sourceLang": "en",
   "targetLang": "fr",
   "useGoogleTranslate": true
  }
 },
 "nbformat": 4,
 "nbformat_minor": 1
}
