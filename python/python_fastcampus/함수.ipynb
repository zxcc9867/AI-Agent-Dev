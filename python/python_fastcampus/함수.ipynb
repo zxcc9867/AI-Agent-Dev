{
 "cells": [
  {
   "cell_type": "markdown",
   "metadata": {},
   "source": [
    "###  가변 인자 리스트 실습"
   ]
  },
  {
   "cell_type": "code",
   "execution_count": 9,
   "metadata": {},
   "outputs": [
    {
     "name": "stdout",
     "output_type": "stream",
     "text": [
      "14\n"
     ]
    }
   ],
   "source": [
    "# 가변 인자 리스트\n",
    "\n",
    "def calc_sum(name=\"Guest\",*args):\n",
    "    total = 0\n",
    "    for arg in args:\n",
    "        total += arg\n",
    "    return total\n",
    "\n",
    "# print(calc_sum(1, 2, 3, 4, 5,city='new work'))  # 가변 인자 매개변수를 가지는 함수에서 가변 인자 뒤에 오는 매개변수에 값을 전달하려면 키워드 인자로 전달해야한다.\n",
    "# print(calc_sum(10, 100, city=\"new work\"))\n",
    "print(calc_sum(1,2,3,4,5))"
   ]
  },
  {
   "cell_type": "code",
   "execution_count": 2,
   "metadata": {},
   "outputs": [
    {
     "name": "stdout",
     "output_type": "stream",
     "text": [
      "name: eve\n",
      "age: 28\n",
      "city: berlin\n",
      "name: park\n",
      "age: 26\n",
      "name: park\n",
      "age: 26\n"
     ]
    }
   ],
   "source": [
    "\"\"\"\n",
    "키워드 가변인자 리스트 \n",
    "\"\"\"\n",
    "\n",
    "def print_info(**kwargs):\n",
    "    for key,value in kwargs.items(): # items는 키와 값을 출력한다. \n",
    "        print(f\"{key}: {value}\")\n",
    "\n",
    "\n",
    "print_info(name=\"eve\",age=28,city=\"berlin\")\n",
    "\n",
    "print_info(**{'name': 'park', 'age': 26}) # 딕셔너리를 가변 인자로 전달하기 \n",
    "\n",
    "info = {\"name\": \"park\", \"age\": 26}\n",
    "\n",
    "print_info(**info) # 이렇게도 가능\n",
    "\n"
   ]
  },
  {
   "cell_type": "code",
   "execution_count": 6,
   "metadata": {},
   "outputs": [
    {
     "name": "stdout",
     "output_type": "stream",
     "text": [
      "Alice 20 newyork\n"
     ]
    }
   ],
   "source": [
    "\"\"\"\n",
    "가변 인자 복습 \n",
    "\n",
    "\"\"\"\n",
    "\n",
    "\n",
    "def dictionary(city=\"newyork\" ,** krgs):\n",
    "    ## krgs는 딕셔너리 값을 전달받고, 해당 딕셔너리 안에 있는 값을 추출할 수 있다.\n",
    "    name = krgs[\"name\"]\n",
    "    age = krgs[\"age\"]\n",
    "    print(name, age,city)\n",
    "\n",
    "\n",
    "dictionary(name=\"Alice\", age=20)"
   ]
  },
  {
   "cell_type": "code",
   "execution_count": null,
   "metadata": {},
   "outputs": [],
   "source": []
  }
 ],
 "metadata": {
  "kernelspec": {
   "display_name": "Python 3",
   "language": "python",
   "name": "python3"
  },
  "language_info": {
   "codemirror_mode": {
    "name": "ipython",
    "version": 3
   },
   "file_extension": ".py",
   "mimetype": "text/x-python",
   "name": "python",
   "nbconvert_exporter": "python",
   "pygments_lexer": "ipython3",
   "version": "3.11.4"
  }
 },
 "nbformat": 4,
 "nbformat_minor": 2
}
