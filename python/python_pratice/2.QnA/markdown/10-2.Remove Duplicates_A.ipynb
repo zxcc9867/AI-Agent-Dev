{
 "cells": [
  {
   "cell_type": "markdown",
   "id": "46e3d990",
   "metadata": {},
   "source": [
    "---\n",
    "# 파이썬 입문 : 도전! 45가지 기초 문법 실습하기 🙋🏻‍♂️\n",
    "---"
   ]
  },
  {
   "cell_type": "markdown",
   "id": "28f413a5",
   "metadata": {},
   "source": [
    "### 꼭 기억하세요 😊\n",
    "+ **시간이 다소 소요되더라도** 스스로 생각해서 프로그래밍을 해야**`실력이 향상 됩니다.`** \n",
    "+ 다양한 문제를 통해서 **`문제 해결`**능력을 향상 시켜봐요.\n",
    "+ 여러 방식으로 **`같은 결과 값`**이 나오도록 프로그래밍 해보세요.\n",
    "+ **문제 해결**에 너무 시간이 오래 걸리면 **`검색(구글링 등)`**을 통해서 해결해보세요.\n",
    "+ **`온라인 Python IDE :`** https://www.programiz.com/python-programming/online-compiler/"
   ]
  },
  {
   "cell_type": "markdown",
   "id": "c3a88b92",
   "metadata": {},
   "source": [
    "***\n",
    "## 10. Remove Duplicates💻\n",
    "***\n",
    "#### **`연습예제`** 💻"
   ]
  },
  {
   "cell_type": "markdown",
   "id": "49b428ae",
   "metadata": {},
   "source": [
    "`아래와 리스트에서` **`중복`** `되는` **`원소`** `를` `제거 후 출력하세요.`  **`다양한 방법`** `코딩하세요.` \n",
    "\n",
    "\n",
    "\n",
    "```python\n",
    "x = [\"a\", 1, \"b\", 2, \"a\", 3, \"b\", 4, 5, \"b\"]\n",
    "출력 결과 : [1, 2, 3, 4, 5, 'a', 'b']\n",
    "```"
   ]
  },
  {
   "cell_type": "markdown",
   "id": "44d53430",
   "metadata": {},
   "source": [
    "#### **`코딩영역`**"
   ]
  },
  {
   "cell_type": "code",
   "execution_count": 24,
   "id": "ca1e5a1b",
   "metadata": {},
   "outputs": [],
   "source": [
    "# 코딩 영역\n",
    "import this"
   ]
  },
  {
   "cell_type": "markdown",
   "id": "e48cce26",
   "metadata": {},
   "source": [
    "#### **`Hint`**"
   ]
  },
  {
   "cell_type": "markdown",
   "id": "fc2ea9eb",
   "metadata": {},
   "source": [
    "<details>\n",
    "    <summary>▶<b>여기</b>를 눌러주세요</summary>\n",
    "<div markdown=\"1\">       \n",
    "\n",
    "```python\n",
    "# Set(집합 자료형) : 중복 허용 하지 않음, 순서 없음\n",
    "# List, Tuple : 순서 있음, 중복 허용\n",
    "# OrderedDict : Dict 순서 보장 받을 수 있음(python 3.6 부터는 기본값)\n",
    "```\n",
    "</div>\n",
    "</details>"
   ]
  },
  {
   "cell_type": "markdown",
   "id": "866ce5b7",
   "metadata": {},
   "source": [
    "***"
   ]
  },
  {
   "cell_type": "markdown",
   "id": "45217c6a",
   "metadata": {},
   "source": [
    "![bottom_arrow](../../img/bottom_arrow.jpg)\n",
    "![bottom_arrow](../../img/bottom_arrow.jpg)\n",
    "![bottom_arrow](../../img/bottom_arrow.jpg)"
   ]
  },
  {
   "cell_type": "markdown",
   "id": "fc473095",
   "metadata": {},
   "source": [
    "***"
   ]
  },
  {
   "cell_type": "markdown",
   "id": "d316af80",
   "metadata": {},
   "source": [
    "#### **`결과 & 보충설명`**"
   ]
  },
  {
   "cell_type": "code",
   "execution_count": 1,
   "id": "7fcea4bb",
   "metadata": {},
   "outputs": [
    {
     "name": "stdout",
     "output_type": "stream",
     "text": [
      "ex1 결과 : [1, 2, 3, 4, 5, 'b', 'a']\n",
      "ex2 결과 : ['a', 1, 'b', 2, 3, 4, 5]\n",
      "ex3 결과 : ['a', 1, 'b', 2, 3, 4, 5]\n"
     ]
    }
   ],
   "source": [
    "# 10.Remove Duplicates\n",
    "\n",
    "# 방법1\n",
    "x = [\"a\", 1, \"b\", 2, \"a\", 3, \"b\", 4, 5, \"b\"]\n",
    "\n",
    "ex1 = list(set(x))\n",
    "    \n",
    "print(f'ex1 결과 : {ex1}')\n",
    "\n",
    "# 방법2(순서 유지)\n",
    "\n",
    "from collections import OrderedDict\n",
    "\n",
    "ex2 = list(OrderedDict.fromkeys(x))\n",
    "\n",
    "print(f'ex2 결과 : {ex2}')\n",
    "\n",
    "\n",
    "# 방법3(순서 유지)\n",
    "\n",
    "ex3 = []\n",
    "\n",
    "for i in x:\n",
    "    if i not in ex3:\n",
    "        ex3.append(i)\n",
    "        \n",
    "print(f'ex3 결과 : {ex3}')\n",
    "\n",
    "# 방법4\n",
    "\n",
    "# print(f'ex4 결과 : {[n for idx, n in enumerate(x) if n not in x[:idx]]}')\n",
    "\n",
    "# 방법5\n",
    "# ..."
   ]
  }
 ],
 "metadata": {
  "kernelspec": {
   "display_name": "Python 3 (ipykernel)",
   "language": "python",
   "name": "python3"
  },
  "language_info": {
   "codemirror_mode": {
    "name": "ipython",
    "version": 3
   },
   "file_extension": ".py",
   "mimetype": "text/x-python",
   "name": "python",
   "nbconvert_exporter": "python",
   "pygments_lexer": "ipython3",
   "version": "3.10.5"
  },
  "toc": {
   "base_numbering": 1,
   "nav_menu": {},
   "number_sections": false,
   "sideBar": true,
   "skip_h1_title": false,
   "title_cell": "Table of Contents",
   "title_sidebar": "Contents",
   "toc_cell": false,
   "toc_position": {
    "height": "calc(100% - 180px)",
    "left": "10px",
    "top": "150px",
    "width": "318px"
   },
   "toc_section_display": true,
   "toc_window_display": false
  }
 },
 "nbformat": 4,
 "nbformat_minor": 5
}
