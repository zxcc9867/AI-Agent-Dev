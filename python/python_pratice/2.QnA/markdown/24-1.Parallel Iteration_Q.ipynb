{
 "cells": [
  {
   "cell_type": "markdown",
   "id": "46e3d990",
   "metadata": {},
   "source": [
    "---\n",
    "# 파이썬 입문 : 도전! 45가지 기초 문법 실습하기 🙋🏻‍♂️\n",
    "---"
   ]
  },
  {
   "cell_type": "markdown",
   "id": "28f413a5",
   "metadata": {},
   "source": [
    "### 꼭 기억하세요 😊\n",
    "+ **시간이 다소 소요되더라도** 스스로 생각해서 프로그래밍을 해야**`실력이 향상 됩니다.`** \n",
    "+ 다양한 문제를 통해서 **`문제 해결`**능력을 향상 시켜봐요.\n",
    "+ 여러 방식으로 **`같은 결과 값`**이 나오도록 프로그래밍 해보세요.\n",
    "+ **문제 해결**에 너무 시간이 오래 걸리면 **`검색(구글링 등)`**을 통해서 해결해보세요.\n",
    "+ **`온라인 Python IDE :`** https://www.programiz.com/python-programming/online-compiler/"
   ]
  },
  {
   "cell_type": "markdown",
   "id": "c3a88b92",
   "metadata": {},
   "source": [
    "***\n",
    "## 24. Parallel Iteration💻\n",
    "***\n",
    "#### **`연습예제`** 💻"
   ]
  },
  {
   "cell_type": "markdown",
   "id": "49b428ae",
   "metadata": {},
   "source": [
    "아래 **`3개의 리스트`** 를 **`{key : a , value : b * c}`** `형태의 ` **`Dict(딕셔너리)`**  **`구조`** `로 변경하세요.` **`*다양한 방법 활용*`**\n",
    "\n",
    "\n",
    "```python\n",
    "# 아래 조건 참조\n",
    "\n",
    "a = [\"one\", \"two\", \"three\", \"four\"]\n",
    "b = [30, 20, 15, 75]\n",
    "c = [5.2, 7.4, 3.6, 4.2]\n",
    "\n",
    "출력 결과 : \"{'one': 156.0, 'two': 148.0, 'three': 54.0, 'four': 315.0}\"\n",
    "```"
   ]
  },
  {
   "cell_type": "code",
   "execution_count": 28,
   "id": "b320d00d",
   "metadata": {},
   "outputs": [
    {
     "name": "stdout",
     "output_type": "stream",
     "text": [
      "Collecting numpy\n",
      "  Downloading numpy-2.2.3-cp312-cp312-win_amd64.whl.metadata (60 kB)\n",
      "Downloading numpy-2.2.3-cp312-cp312-win_amd64.whl (12.6 MB)\n",
      "   ---------------------------------------- 0.0/12.6 MB ? eta -:--:--\n",
      "   ------------------ --------------------- 5.8/12.6 MB 29.4 MB/s eta 0:00:01\n",
      "   ------------------------------- -------- 10.0/12.6 MB 23.9 MB/s eta 0:00:01\n",
      "   ---------------------------------------- 12.6/12.6 MB 23.3 MB/s eta 0:00:00\n",
      "Installing collected packages: numpy\n",
      "Successfully installed numpy-2.2.3\n",
      "Note: you may need to restart the kernel to use updated packages.\n"
     ]
    }
   ],
   "source": [
    "pip install numpy"
   ]
  },
  {
   "cell_type": "markdown",
   "id": "44d53430",
   "metadata": {},
   "source": [
    "#### **`코딩영역`**"
   ]
  },
  {
   "cell_type": "code",
   "execution_count": null,
   "id": "ca1e5a1b",
   "metadata": {},
   "outputs": [
    {
     "name": "stdout",
     "output_type": "stream",
     "text": [
      "넘파이로 출력해보기 {'one': '156.0', 'two': '148.0', 'three': '54.0', 'four': '315.0'}\n",
      "넘파이로 출력해보기 개선버전 {'one': '156.0', 'two': '148.0', 'three': '54.0', 'four': '315.0'}\n",
      "{'one': 156.0, 'two': 148.0, 'three': 54.0, 'four': 315.0}\n"
     ]
    }
   ],
   "source": [
    "# 코딩 영역\n",
    "import this\n",
    "import numpy as np\n",
    "a = [\"one\", \"two\", \"three\", \"four\"]\n",
    "b = [30, 20, 15, 75]\n",
    "c = [5.2, 7.4, 3.6, 4.2]\n",
    "\n",
    "\"\"\"\n",
    "넘파이로 계산\n",
    "참고로, map을 통해 각 개별 넘파이 배열의 원소에 str로 해주지않으면, 156 , 148 ,54와 같이 합이 문자열로 되어서 \n",
    "zip을 수행할 때 , zip에서 156을 가져오는 것이 아닌, 1과 5, 6을 가져오게 됨. (문자열을 하나씩 들고옴) 때문에 \n",
    "계산에 문제가 발생 \n",
    "\"\"\"\n",
    "print(f\"넘파이로 출력해보기 {dict(zip(a,map(str,np.array(b)*np.array(c))))}\") # 출력하면, 넘파이의 float 타입이 그대로 출력 \n",
    "\n",
    "# 아래는 넘파이로 출력 시의 개선 버전 \n",
    "result_dict = {key : str(value) for key, value in zip(a,np.array(b)*np.array(c))}\n",
    "print(f\"넘파이로 출력해보기 개선버전 {result_dict}\")\n",
    "\n",
    "# zip 함수 사용\n",
    "# print(dict(a,lambda x : x[1]*x[2],zip(a,b,c)))\n",
    "\n",
    "\n",
    "# 딕셔너리 컴프리핸션\n",
    "\n",
    "print({key : value1*value2 for key,value1,value2 in zip(a,b,c)})"
   ]
  },
  {
   "cell_type": "markdown",
   "id": "e48cce26",
   "metadata": {},
   "source": [
    "#### **`Hint`**"
   ]
  },
  {
   "cell_type": "markdown",
   "id": "fc2ea9eb",
   "metadata": {},
   "source": [
    "<details>\n",
    "    <summary>▶<b>여기</b>를 눌러주세요</summary>\n",
    "<div markdown=\"1\">       \n",
    "\n",
    "```python\n",
    "# 다양한 Iterable 그룹을 묶어 연산하는 과정은 중요해요.\n",
    "# zip : 다중 그룹의 반복가능한 자료형을 묶는 기능\n",
    "# usage : zip(*iterables, strict=False) # Changed in version 3.10: Added the strict argument.\n",
    "# python string package : https://www.oulub.com/en-US/Python/library.functions-zip\n",
    "```\n",
    "</div>\n",
    "</details>"
   ]
  },
  {
   "cell_type": "markdown",
   "id": "866ce5b7",
   "metadata": {},
   "source": [
    "***"
   ]
  }
 ],
 "metadata": {
  "kernelspec": {
   "display_name": "venv",
   "language": "python",
   "name": "python3"
  },
  "language_info": {
   "codemirror_mode": {
    "name": "ipython",
    "version": 3
   },
   "file_extension": ".py",
   "mimetype": "text/x-python",
   "name": "python",
   "nbconvert_exporter": "python",
   "pygments_lexer": "ipython3",
   "version": "3.12.6"
  },
  "toc": {
   "base_numbering": 1,
   "nav_menu": {},
   "number_sections": false,
   "sideBar": true,
   "skip_h1_title": false,
   "title_cell": "Table of Contents",
   "title_sidebar": "Contents",
   "toc_cell": false,
   "toc_position": {
    "height": "calc(100% - 180px)",
    "left": "10px",
    "top": "150px",
    "width": "318px"
   },
   "toc_section_display": true,
   "toc_window_display": false
  }
 },
 "nbformat": 4,
 "nbformat_minor": 5
}
