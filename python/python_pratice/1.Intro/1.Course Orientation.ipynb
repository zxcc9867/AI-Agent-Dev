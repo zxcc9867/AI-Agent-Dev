{
 "cells": [
  {
   "cell_type": "markdown",
   "id": "46e3d990",
   "metadata": {},
   "source": [
    "---\n",
    "# 파이썬 입문 : 도전! 45가지 기초 문법 실습하기 🙋🏻‍♂️\n",
    "---"
   ]
  },
  {
   "cell_type": "markdown",
   "id": "28f413a5",
   "metadata": {},
   "source": [
    "***\n",
    "## 1.강의 소개 💻\n",
    "***\n",
    "### (1).프로그래밍 기본기를 확실히 다집니다. 😊\n",
    "+ 프로그래밍 입문서 이후에 실력을 다지기 위한 **`실습 위주`**의 수업을 진행합니다.\n",
    "+ 문법 중심이 아닌 **`실무 위주`**의 예제 코딩을 통해 숙련도를 올려봅니다.\n",
    "+ 기본 문법 베이스로 다양한 `실습`을 진행합니다.\n",
    "+ **`Markdown Editor`** 기본 지식을 학습해서 **`지식공유 및 협업 및 오픈소스, 보고서 작성 스킬`**을 향상합니다.\n",
    "+ **`75가지 다양한 파이썬 과제`**를 스스로 해결해 봅니다."
   ]
  },
  {
   "cell_type": "markdown",
   "id": "bc9d8c29",
   "metadata": {},
   "source": [
    "\n",
    "### (2).프로그래밍은 초반 기초 학습 및 실습이 중요합니다. 😊\n",
    "+ `입문 단계`에서 `점진 단계`로 나아가는 실습 예제들로 구성했습니다.\n",
    "+ 어려운 용어 및 딱딱하고 경직된 문법 베이스 수업이 아닌 **`코드와 실습 예제`**를 통해 복습합니다.\n",
    "+ 강의 중간에 필드에서 도움이 되는 **`개발지식`**을 전달드립니다.\n",
    "+ 파이썬 중급 숙련자 레벨로 가기위한 **`기초지식`**을 확실하게 전달드립니다."
   ]
  },
  {
   "cell_type": "markdown",
   "id": "4200e51c",
   "metadata": {},
   "source": [
    "***\n",
    "## 2.강의 목표 & 가이드 💻\n",
    "***\n",
    "\n",
    "### (1).강의 목표 😆\n",
    "+ 기초에서 학습한 문법을 모두 포함하고 전부 실습하는 문제 은행식 구성을 통해 **문제 해결 능력 향상**\n",
    "+ 수박 겉핡기 식이 아닌 **`파이썬 활용에 필요한 깊이 있는 지식`** 습득\n",
    "+ 구체적인 문제 해결능력 향상을 통한 **`시간 낭비 최소화`**\n",
    "+ 파이썬 프로그래밍 취업 면접에 필요한 **`기초 지식 획득`**\n",
    "+ 일반적인 파이썬 언어 활용에 포함되는 **`기술 지식 획득`**"
   ]
  },
  {
   "cell_type": "markdown",
   "id": "f289f809",
   "metadata": {},
   "source": [
    "### (2).강의 활용 가이드 😆\n",
    "+ 파이썬 입문 과정에서 **`배운 함수, 문법`**등을 사용해서 예제를 해결해보세요.\n",
    "+ 제공된 **`45가지 파이썬 예제`**를 통해 다양하게 문제 해결을 해보세요.\n",
    "+ 직접 작성한 코드와 제가 제공하는 코드를 **`비교`**해보세요.\n",
    "+ 순서는 중요하지 않아요. **`이해가 잘 안되는 부분을 반복해서 연습`**해보세요.\n",
    "+ **`학습한 내용을 여러 각도`**에서 해결 할 수 있도록 다양하게 풀어보세요.\n",
    "+ 내장 함수 등 모르는 내용은 공식 **`레퍼런스 검색`**을 통해 해결해보세요."
   ]
  },
  {
   "cell_type": "markdown",
   "id": "1d7c58e1",
   "metadata": {},
   "source": [
    "***\n",
    "## 3.강의 공부 방법 💻\n",
    "***"
   ]
  },
  {
   "cell_type": "markdown",
   "id": "0ba5746b",
   "metadata": {},
   "source": [
    "### 강의 학습 방법 😎\n",
    "\n",
    "1. **`QnA폴더`** 이동 후 번호 순서대로 예제 파일을 오픈합니다.\n",
    "2. **`연습예제`**를 정확하게 읽고 **`코딩영역`**에 **`기초 문법을 활용`**해서 코딩을 시작합니다.\n",
    "3. 해결하기 어렵거나, 내장함수 등이 기억이 나지 않으면 **`Hint 셀을 클릭`**해서 도움을 받아요.\n",
    "4. Hint를 통해 해결하기 힘들면 **`웹 검색`**을 해보거나, 해결하기 힘들면 **`강의를 끝까지`** 들어요.\n",
    "5. 결과 값을 확인하고 해당 강의를 듣고**`결과확인 및 보충 설명`**을 수강합니다.\n",
    "6. 강의 내용을 끝까지 듣고 다양한 **`해결 방법에 대해서 생각`**해 봅니다.\n",
    "7. 마지막으로 다른 방법으로 **`해결 할 수 있도록 시도`**해 봅니다.\n",
    "8. 실력 Up! 🙋🏻‍♂️🙋🏻‍♀️"
   ]
  },
  {
   "cell_type": "markdown",
   "id": "c3a88b92",
   "metadata": {},
   "source": [
    "***\n",
    "#### **`연습예제`**"
   ]
  },
  {
   "cell_type": "markdown",
   "id": "49b428ae",
   "metadata": {},
   "source": [
    "```아래 파이썬 코드의 결과 값은 뭘까요? 생각해보세요.```\n",
    "\n",
    "\n",
    "\n",
    "```python\n",
    "a = 1\n",
    "a = 2\n",
    "a = 3\n",
    "print(a)\n",
    "\n",
    "```"
   ]
  },
  {
   "cell_type": "markdown",
   "id": "44d53430",
   "metadata": {},
   "source": [
    "#### **`코딩영역`**"
   ]
  },
  {
   "cell_type": "code",
   "execution_count": 23,
   "id": "ca1e5a1b",
   "metadata": {},
   "outputs": [
    {
     "name": "stdout",
     "output_type": "stream",
     "text": [
      "Wall time: 0 ns\n",
      "Your code goes here.\n",
      "1641886494.6068203\n"
     ]
    }
   ],
   "source": [
    "import time\n",
    "%time\n",
    "print('Your code goes here.')\n",
    "print(time.time())"
   ]
  },
  {
   "cell_type": "markdown",
   "id": "e48cce26",
   "metadata": {},
   "source": [
    "#### **`Hint`**"
   ]
  },
  {
   "cell_type": "markdown",
   "id": "fc2ea9eb",
   "metadata": {},
   "source": [
    "<details>\n",
    "    <summary>▶<b>여기</b>를 눌러주세요</summary>\n",
    "<div markdown=\"1\">       \n",
    "\n",
    "```python\n",
    "# 변수 정의 방법\n",
    "# 변수, 자료형, id, type 함수\n",
    "# 자동 자료형, _ 또는 영문으로 시작\n",
    "```\n",
    "</div>\n",
    "</details>"
   ]
  },
  {
   "cell_type": "markdown",
   "id": "866ce5b7",
   "metadata": {},
   "source": [
    "***"
   ]
  },
  {
   "cell_type": "markdown",
   "id": "45217c6a",
   "metadata": {},
   "source": [
    "![bottom_arrow](../img/bottom_arrow.jpg)\n",
    "![bottom_arrow](../img/bottom_arrow.jpg)\n",
    "![bottom_arrow](../img/bottom_arrow.jpg)"
   ]
  },
  {
   "cell_type": "markdown",
   "id": "fc473095",
   "metadata": {},
   "source": [
    "***"
   ]
  },
  {
   "cell_type": "markdown",
   "id": "d316af80",
   "metadata": {},
   "source": [
    "#### **`결과 & 보충설명`**"
   ]
  },
  {
   "cell_type": "code",
   "execution_count": 37,
   "id": "7fcea4bb",
   "metadata": {},
   "outputs": [
    {
     "name": "stdout",
     "output_type": "stream",
     "text": [
      "1752267948272\n",
      "1752267948304\n",
      "1752267948336\n",
      "3\n",
      "1752273486960 1752273486960\n"
     ]
    }
   ],
   "source": [
    "# id 값 확인을 통해 할당 되는 객체의 고유값 확인\n",
    "# 예제1\n",
    "a = 1\n",
    "print(id(a))\n",
    "\n",
    "a = 2\n",
    "print(id(a))\n",
    "\n",
    "a = 3\n",
    "print(id(a))\n",
    "\n",
    "print(a)\n",
    "\n",
    "a = 'test'\n",
    "# 예제2\n",
    "b = 'test'\n",
    "\n",
    "# 동일 문자열 메모리 참조\n",
    "print(id(a), id(b))"
   ]
  }
 ],
 "metadata": {
  "kernelspec": {
   "display_name": "Python 3 (ipykernel)",
   "language": "python",
   "name": "python3"
  },
  "language_info": {
   "codemirror_mode": {
    "name": "ipython",
    "version": 3
   },
   "file_extension": ".py",
   "mimetype": "text/x-python",
   "name": "python",
   "nbconvert_exporter": "python",
   "pygments_lexer": "ipython3",
   "version": "3.9.12"
  },
  "toc": {
   "base_numbering": 1,
   "nav_menu": {},
   "number_sections": false,
   "sideBar": true,
   "skip_h1_title": false,
   "title_cell": "Table of Contents",
   "title_sidebar": "Contents",
   "toc_cell": false,
   "toc_position": {
    "height": "calc(100% - 180px)",
    "left": "10px",
    "top": "150px",
    "width": "318px"
   },
   "toc_section_display": true,
   "toc_window_display": false
  }
 },
 "nbformat": 4,
 "nbformat_minor": 5
}
