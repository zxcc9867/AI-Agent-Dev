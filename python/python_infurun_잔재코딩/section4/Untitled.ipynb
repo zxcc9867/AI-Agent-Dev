{
 "cells": [
  {
   "cell_type": "code",
   "execution_count": 26,
   "id": "5989c28d-8d6c-4360-b5a7-0ffc950e5bb3",
   "metadata": {},
   "outputs": [
    {
     "name": "stdout",
     "output_type": "stream",
     "text": [
      "\n",
      "\n",
      "기자명 \n",
      "\t\t\t\t\t김수미 기자\t\t\t\t\n",
      " 입력 2024.09.03 09:45\n",
      " 수정 2024.09.03 09:48\n",
      " 댓글 0\n",
      "\n",
      "기자명 \n",
      "\t\t\t\t\t김수미 기자\t\t\t\t\n",
      " 입력 2024.09.03 09:45\n",
      " 수정 2024.09.03 09:48\n",
      " 댓글 0\n"
     ]
    }
   ],
   "source": [
    "## 크롤링 \n",
    "\n",
    "\n",
    "import requests\n",
    "from bs4 import BeautifulSoup\n",
    "\n",
    "\n",
    "res = requests.get('https://www.nextdaily.co.kr/news/articleView.html?idxno=231287')\n",
    "\n",
    "soup = BeautifulSoup(res.content,'html.parser')\n",
    "\n",
    "mydata = soup.find('a',string='시사정치')\n",
    "mydata2 = soup.find_all('ul','infomation')\n",
    "# mydata = soup.find(h3 , attrs={'class' : 'heading' })\n",
    "\n",
    "print(mydata2[0].get_text())\n",
    "\n",
    "for item in mydata2:\n",
    "    print(item.get_text().strip())\n",
    "\n",
    "# <span class=\"service_name\">메일</span>"
   ]
  },
  {
   "cell_type": "code",
   "execution_count": 23,
   "id": "167e62ed-fb68-43a3-abb6-fd07855e3a23",
   "metadata": {},
   "outputs": [
    {
     "name": "stdout",
     "output_type": "stream",
     "text": [
      "0 '\n",
      "1 대\n",
      "2 단\n",
      "3 한\n",
      "4  \n",
      "5 아\n",
      "6 이\n",
      "7 디\n",
      "8 어\n",
      "9 '\n",
      "10  \n",
      "11 엄\n",
      "12 지\n",
      "13 척\n",
      "14  \n"
     ]
    }
   ],
   "source": [
    "\n",
    "\n",
    "# 9 / 4 \n",
    "\n",
    "# <h2 id=\"title_area\" class=\"media_end_head_headline\"><span>성심당 케이크 망가질까 걱정했는데…'대단한 아이디어' 엄지척 [이슈+]</span></h2>\n",
    "\n",
    "import requests\n",
    "from bs4 import BeautifulSoup\n",
    "\n",
    "res = requests.get('https://n.news.naver.com/article/015/0005030034?cds=news_media_pc')\n",
    "\n",
    "\n",
    "soup = BeautifulSoup(res.content , 'html.parser')\n",
    "\n",
    "text = soup.find('h2', id='title_area')\n",
    "\n",
    "# print(soup.prettify())\n",
    "\n",
    "for index,item in enumerate(text.get_text().split('[')[0].replace('…','!').split('!')[1]):\n",
    "        print(index,item)\n"
   ]
  },
  {
   "cell_type": "code",
   "execution_count": 25,
   "id": "388123ea-2dd1-4cb2-a715-75110b0324d6",
   "metadata": {},
   "outputs": [
    {
     "name": "stdout",
     "output_type": "stream",
     "text": [
      "나만의 엣지있는 블로그 사이트 만들기 (취미로 익히는 IT)\n",
      "파이썬과 데이터과학 첫걸음 (IT 기본기 익히기)\n"
     ]
    }
   ],
   "source": [
    "#title_area > span\n",
    "\n",
    "from bs4 import BeautifulStoneSoup\n",
    "import requests\n",
    "\n",
    "res = requests.get('https://davelee-fun.github.io/blog/crawl_test_css.html')\n",
    "soup = BeautifulSoup(res.content,\n",
    "'html.parser')\n",
    "items = soup.select('h3') # select는 해당 하는 모든 값을 가져온다. \n",
    "# select_one이 일치하는 데이터 하나만 가져온다. \n",
    "for item in items:\n",
    "    print (item.get_text())"
   ]
  },
  {
   "cell_type": "code",
   "execution_count": 32,
   "id": "09500d34-cc8d-4bc7-994a-8f0f819a27e4",
   "metadata": {},
   "outputs": [
    {
     "name": "stdout",
     "output_type": "stream",
     "text": [
      "(중급) - 자동으로 쿠팡파트너스 API 로 가져온 상품 정보, 네이버 블로그/트위터에 홍보하기 [412]\n"
     ]
    }
   ],
   "source": [
    "from bs4 import BeautifulStoneSoup\n",
    "import requests\n",
    "\n",
    "res = requests.get('https://davelee-fun.github.io/blog/crawl_test_css.html')\n",
    "soup = BeautifulSoup(res.content,\n",
    "'html.parser')\n",
    "items = soup.select('ul#dev_course_list > li.course.paid') # select는 해당 하는 모든 값을 가져온다. \n",
    "# select_one이 일치하는 데이터 하나만 가져온다. \n",
    "for item in items:\n",
    "    print (item.get_text())"
   ]
  },
  {
   "cell_type": "code",
   "execution_count": null,
   "id": "35952c52-ff51-4559-839e-070ffdff28f7",
   "metadata": {},
   "outputs": [],
   "source": [
    "\n",
    "from bs4 import BeautifulSoup\n",
    "import requests\n",
    "res = requests.get('https://davelee-fun.github.io/blog/crawl_test_css.html')\n",
    "soup = BeautifulSoup(res.content,\n",
    "'html.parser')\n",
    "\n",
    "# select_one은 리스트가 아니기 때문에 for문으로 리스트 안의 원소를 추출할 필요가 없다.\n",
    "item = soup.select_one('ul#dev_course_list > li.course.paid')\n",
    "print (item.get_text()\n"
   ]
  },
  {
   "cell_type": "code",
   "execution_count": 69,
   "id": "2a8fb70f-394b-4bc0-b877-0c0f7da12734",
   "metadata": {},
   "outputs": [
    {
     "name": "stdout",
     "output_type": "stream",
     "text": [
      "[<td>일정</td>, <td>커리큘럼 타이틀</td>, <td>난이도</td>]\n",
      "[<td>5.1 ~ 6.15</td>, <td>나만의 엣지있는 블로그 사이트 만들기 (취미로 익히는 IT)</td>, <td>초급</td>]\n",
      "[<td>6.16 ~ 7.31</td>, <td>파이썬과 데이터과학 첫걸음 (IT 기본기 익히기)</td>, <td>중급</td>]\n"
     ]
    }
   ],
   "source": [
    "## 테이블의 데이터를 출력해보기 \n",
    "\n",
    "from bs4 import BeautifulSoup\n",
    "import requests\n",
    "res = requests.get('https://davelee-fun.github.io/blog/crawl_html_css.html')\n",
    "soup = BeautifulSoup(res.content,\n",
    "'html.parser')\n",
    "\n",
    "\n",
    "items=soup.select('tr') # tr 태그와 함께 그 하위 태그들도 출력 \n",
    "\n",
    "# 예를 들면 , td 태그가 같이 출력된다. \n",
    "\n",
    "\n",
    "\n",
    "for item in items:\n",
    "    # print(f\"{item}\\n\")\n",
    "\n",
    "    columns = item.select('td')\n",
    "    print(columns)\n",
    "    # row_str = ''\n",
    "    # for column in columns:\n",
    "    #     row_str += ', ' + column.get_text()\n",
    "    # print(row_str[2:])"
   ]
  },
  {
   "cell_type": "code",
   "execution_count": 42,
   "id": "e5c689c3-fcce-447d-9d80-43d71e50bda3",
   "metadata": {},
   "outputs": [
    {
     "name": "stdout",
     "output_type": "stream",
     "text": [
      "일정, 커리큘럼 타이틀, 난이도\n",
      "5.1 ~ 6.15, 나만의 엣지있는 블로그 사이트 만들기 (취미로 익히는 IT), 초급\n",
      "6.16 ~ 7.31, 파이썬과 데이터과학 첫걸음 (IT 기본기 익히기), 중급\n"
     ]
    }
   ],
   "source": [
    "from bs4 import BeautifulSoup\n",
    "import requests\n",
    "\n",
    "# 페이지 요청 및 BeautifulSoup으로 파싱\n",
    "res = requests.get('https://davelee-fun.github.io/blog/crawl_html_css.html')\n",
    "soup = BeautifulSoup(res.content, 'html.parser')\n",
    "\n",
    "# <tr> 태그 선택\n",
    "items = soup.select('tr')\n",
    "\n",
    "# 각 행의 데이터를 가져옴\n",
    "for item in items:\n",
    "    columns = item.select('td')\n",
    "    row_str = ''\n",
    "    \n",
    "    # 각 열의 데이터를 가져옴\n",
    "    for column in columns:\n",
    "        row_str += ', ' + column.get_text()\n",
    "    \n",
    "    # 첫 번째 ', ' 부분을 제거하고 출력\n",
    "    print(row_str[2:])\n"
   ]
  },
  {
   "cell_type": "code",
   "execution_count": null,
   "id": "528fbebd-addd-45ed-92fb-4e0bb016adbf",
   "metadata": {},
   "outputs": [],
   "source": []
  }
 ],
 "metadata": {
  "kernelspec": {
   "display_name": "Python 3 (ipykernel)",
   "language": "python",
   "name": "python3"
  },
  "language_info": {
   "codemirror_mode": {
    "name": "ipython",
    "version": 3
   },
   "file_extension": ".py",
   "mimetype": "text/x-python",
   "name": "python",
   "nbconvert_exporter": "python",
   "pygments_lexer": "ipython3",
   "version": "3.10.9"
  }
 },
 "nbformat": 4,
 "nbformat_minor": 5
}
