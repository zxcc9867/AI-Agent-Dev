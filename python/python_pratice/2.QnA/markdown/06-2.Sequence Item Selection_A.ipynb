{
 "cells": [
  {
   "cell_type": "markdown",
   "id": "46e3d990",
   "metadata": {},
   "source": [
    "---\n",
    "# 파이썬 입문 : 도전! 45가지 기초 문법 실습하기 🙋🏻‍♂️\n",
    "---"
   ]
  },
  {
   "cell_type": "markdown",
   "id": "28f413a5",
   "metadata": {},
   "source": [
    "### 꼭 기억하세요 😊\n",
    "+ **시간이 다소 소요되더라도** 스스로 생각해서 프로그래밍을 해야**`실력이 향상 됩니다.`** \n",
    "+ 다양한 문제를 통해서 **`문제 해결`**능력을 향상 시켜봐요.\n",
    "+ 여러 방식으로 **`같은 결과 값`**이 나오도록 프로그래밍 해보세요.\n",
    "+ **문제 해결**에 너무 시간이 오래 걸리면 **`검색(구글링 등)`**을 통해서 해결해보세요.\n",
    "+ **`온라인 Python IDE :`** https://www.programiz.com/python-programming/online-compiler/"
   ]
  },
  {
   "cell_type": "markdown",
   "id": "c3a88b92",
   "metadata": {},
   "source": [
    "***\n",
    "## 6. Sequence Item Selection💻\n",
    "***\n",
    "#### **`연습예제`** 💻"
   ]
  },
  {
   "cell_type": "markdown",
   "id": "49b428ae",
   "metadata": {},
   "source": [
    "`아래 리스트(List)에서` **`apple, kiwi`** `를 추출해서` **`대문자`** `리스트로 출력하세요.` **`가능한 다양한`** `방법으로 코딩해보세요.`\n",
    "\n",
    "\n",
    "\n",
    "```python\n",
    "x = [\"grapes\", \"mango\", \"orange\", \"peach\", \"apple\", \"lime\", \"banana\", \"cherry\", \"tomato\", \"kiwi\", \"blueberry\", \"watermelon\"]\n",
    "\n",
    "출력 결과 : [APPLE, KIWI]\n",
    "```"
   ]
  },
  {
   "cell_type": "markdown",
   "id": "44d53430",
   "metadata": {},
   "source": [
    "#### **`코딩영역`**"
   ]
  },
  {
   "cell_type": "code",
   "execution_count": 24,
   "id": "ca1e5a1b",
   "metadata": {},
   "outputs": [],
   "source": [
    "# 코딩 영역\n",
    "import this"
   ]
  },
  {
   "cell_type": "markdown",
   "id": "e48cce26",
   "metadata": {},
   "source": [
    "#### **`Hint`**"
   ]
  },
  {
   "cell_type": "markdown",
   "id": "fc2ea9eb",
   "metadata": {},
   "source": [
    "<details>\n",
    "    <summary>▶<b>여기</b>를 눌러주세요</summary>\n",
    "<div markdown=\"1\">       \n",
    "\n",
    "```python\n",
    "# 파이썬에서 사용가능한 반복문(for, while)은 기억하시죠? -> (break, continue) 필수 기억!\n",
    "# 시퀀스 자료형(데이터의 값이 연속적으로 이루어진 자료구조) : List, Tuple, Str, Range..\n",
    "# filter(f, iterable) 함수는 정말 많이 사용해요.(map 함수도 중요!)\n",
    "# lambda expression(형식)은 다른 함수의 인수 전달 형태로 사용해요.\n",
    "```\n",
    "</div>\n",
    "</details>"
   ]
  },
  {
   "cell_type": "markdown",
   "id": "866ce5b7",
   "metadata": {},
   "source": [
    "***"
   ]
  },
  {
   "cell_type": "markdown",
   "id": "45217c6a",
   "metadata": {},
   "source": [
    "![bottom_arrow](../../img/bottom_arrow.jpg)\n",
    "![bottom_arrow](../../img/bottom_arrow.jpg)\n",
    "![bottom_arrow](../../img/bottom_arrow.jpg)"
   ]
  },
  {
   "cell_type": "markdown",
   "id": "fc473095",
   "metadata": {},
   "source": [
    "***"
   ]
  },
  {
   "cell_type": "markdown",
   "id": "d316af80",
   "metadata": {},
   "source": [
    "#### **`결과 & 보충설명`**"
   ]
  },
  {
   "cell_type": "code",
   "execution_count": 40,
   "id": "7fcea4bb",
   "metadata": {},
   "outputs": [
    {
     "name": "stdout",
     "output_type": "stream",
     "text": [
      "ex1 결과 : ['APPLE', 'KIWI']\n",
      "ex2 결과 : ['APPLE', 'KIWI']\n",
      "ex3 결과 : ['APPLE', 'KIWI']\n"
     ]
    }
   ],
   "source": [
    "# 6.Sequence Item Selection\n",
    "\n",
    "x = [\"grapes\", \"mango\", \"orange\", \"peach\", \"apple\", \"lime\", \"banana\", \"cherry\", \"tomato\", \"kiwi\", \"blueberry\", \"watermelon\"]\n",
    "\n",
    "# 방법1\n",
    "ex1 = []\n",
    "for i in range(len(x)):\n",
    "    if x[i] == 'apple' or x[i] == 'kiwi':\n",
    "         ex1.append(x[i].upper())\n",
    "    \n",
    "\n",
    "print(f'ex1 결과 : {ex1}')\n",
    "\n",
    "# 방법2\n",
    "ex2 = list(map(lambda b: b.upper(), filter(lambda a: a == 'apple' or a == 'kiwi', x)))\n",
    "\n",
    "print(f'ex2 결과 : {ex2}')\n",
    "\n",
    "# 방법3\n",
    "ex3 = [a.upper() for a in x if a == 'apple' or a == 'kiwi']\n",
    "\n",
    "# 방법4\n",
    "# ....\n",
    "\n",
    "print(f'ex3 결과 : {ex3}')"
   ]
  }
 ],
 "metadata": {
  "kernelspec": {
   "display_name": "Python 3 (ipykernel)",
   "language": "python",
   "name": "python3"
  },
  "language_info": {
   "codemirror_mode": {
    "name": "ipython",
    "version": 3
   },
   "file_extension": ".py",
   "mimetype": "text/x-python",
   "name": "python",
   "nbconvert_exporter": "python",
   "pygments_lexer": "ipython3",
   "version": "3.10.5"
  },
  "toc": {
   "base_numbering": 1,
   "nav_menu": {},
   "number_sections": false,
   "sideBar": true,
   "skip_h1_title": false,
   "title_cell": "Table of Contents",
   "title_sidebar": "Contents",
   "toc_cell": false,
   "toc_position": {
    "height": "calc(100% - 180px)",
    "left": "10px",
    "top": "150px",
    "width": "318px"
   },
   "toc_section_display": true,
   "toc_window_display": false
  }
 },
 "nbformat": 4,
 "nbformat_minor": 5
}
