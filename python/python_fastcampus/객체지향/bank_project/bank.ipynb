{
 "cells": [
  {
   "cell_type": "markdown",
   "metadata": {},
   "source": [
    "## 객체 지향 활용하기 은행 계좌 관리 시스템 \n",
    "\n",
    "<b> 계좌 공통</b>\n",
    "- 계좌 번호는 8자리 숫자가 랜덤으로 생성된다. \n",
    "- 초기 입금액, 소유주 명을 개설 시 전달받는다. \n",
    "\n",
    "<b> 기능 </b>\n",
    "\n",
    "- 출금은 잔액 이상 할 수없다. 잔액 이상의 출금을 시도할 경우, value error 발생\n",
    "- 출금이 성공할 경우 계좌 잔액을 반환한다. \n",
    "\n",
    "<b> 예금 계좌 </b>\n",
    "\n",
    "- 계좌 개설 시 출금은 제한된 상태이며, 이자율은 계좌 생성 시 결정된다.\n",
    "- 출금 제한 계좌에 출금을 시도할 경우, attribute error를 발생 \n",
    "- 출금 제한은 별도의 기능으로 해제할 수 있으며, 출금 제한이 해제된 경우에만 출금이 가능하다. 출금 제한 해제시 ( 잔액 * 이자율 )만큼의 금액이 계좌에 추가로 저축된다. \n",
    "- 계좌 정보 출력시 \"[예금/{계좌번호}] 진액 ${잔액} , 이율 {이자율}% , 출금 제한 여부 [true, false]로 출력 \n",
    "\n",
    "<b> 입출금 계좌 </b>\n",
    "\n",
    "- 입출금 계좌는 출금 한도를 속성으로 가진다. 계좌 생성 시 $500로 결정되며, 필요한 경우 별도의 값으로 초기 설정할 수 있다. \n",
    "- 출금 한도는 중도에 변경이 가능하다. \n",
    "- 출금 한도를 초과하여 출금하는 경우 value error를 발생시킨다. \n",
    "- 계좌 정보 출력 시 [입출금/{계좌번호}] 잔액 ${잔액}, 출금 한도 %{출금 한도}로 출력한다. \n",
    "\n",
    "\n",
    "<b> 은행 고객 </b>\n",
    "\n",
    "- 고객명, 보유 계좌 리스트, 보유 현금\n",
    "- 계좌 추가하기 : 보유 계좌 목록에 새로운 계좌 추가 \n",
    "- 계좌 목록 조회하기 : 계좌번호, 계좌 종류, 잔액 출력 \n",
    "- 현금 추가하기, 현금 차감하기 \n",
    "- 자산 조회하기 : 자산 조회 시 보유한 현금과 모든 계좌의 정보를 출력 \n",
    "\n",
    "<b> 시나리오1 </b>\n",
    "\n",
    "- 고객 A는 $ 1000의 잔액을 보유하고 있다.\n",
    "- 고객 A는 입출금 계좌에 $200을 저축하고, 예금 계좌에 $800을 저축한다. \n",
    "    <li>예금 계좌의 이율은 5%이다. </li>\n",
    "- 예금 계좌의 만기 이후, 예금 계좌에서 $400를 출금한 후 입출금 계좌로 입금한다.\n",
    "- 보유한 현금과 계좌 목록을 출력한다. "
   ]
  },
  {
   "cell_type": "markdown",
   "metadata": {},
   "source": []
  },
  {
   "cell_type": "code",
   "execution_count": null,
   "metadata": {},
   "outputs": [],
   "source": [
    "\"\"\"\n",
    "이 파일을 코드를 실행하는 main파일로 설정한다. \n",
    "\"\"\""
   ]
  },
  {
   "cell_type": "code",
   "execution_count": 24,
   "metadata": {},
   "outputs": [
    {
     "name": "stdout",
     "output_type": "stream",
     "text": [
      "계좌 번호는 : 08828925 입니다.\n"
     ]
    },
    {
     "ename": "AttributeError",
     "evalue": "type object 'Customer' has no attribute 'add_account'",
     "output_type": "error",
     "traceback": [
      "\u001b[1;31m---------------------------------------------------------------------------\u001b[0m",
      "\u001b[1;31mAttributeError\u001b[0m                            Traceback (most recent call last)",
      "Cell \u001b[1;32mIn[24], line 4\u001b[0m\n\u001b[0;32m      1\u001b[0m \u001b[38;5;28;01mfrom\u001b[39;00m \u001b[38;5;21;01mbank\u001b[39;00m \u001b[38;5;28;01mimport\u001b[39;00m BankAccount\n\u001b[0;32m      2\u001b[0m \u001b[38;5;28;01mfrom\u001b[39;00m \u001b[38;5;21;01msavings_account\u001b[39;00m \u001b[38;5;28;01mimport\u001b[39;00m Saving_account\n\u001b[1;32m----> 4\u001b[0m dave \u001b[38;5;241m=\u001b[39m \u001b[43mSaving_account\u001b[49m\u001b[43m(\u001b[49m\u001b[38;5;124;43m\"\u001b[39;49m\u001b[38;5;124;43mdave\u001b[39;49m\u001b[38;5;124;43m\"\u001b[39;49m\u001b[43m,\u001b[49m\u001b[43m \u001b[49m\u001b[38;5;241;43m500\u001b[39;49m\u001b[43m)\u001b[49m\n",
      "File \u001b[1;32mc:\\Users\\zxcc9\\OneDrive\\바탕 화면\\Study\\Python\\python\\python_fastcampus\\객체지향\\bank_project\\savings_account.py:17\u001b[0m, in \u001b[0;36mSaving_account.__init__\u001b[1;34m(self, owner_name, balance)\u001b[0m\n\u001b[0;32m     12\u001b[0m \u001b[38;5;28;01mdef\u001b[39;00m \u001b[38;5;21m__init__\u001b[39m(\n\u001b[0;32m     13\u001b[0m     \u001b[38;5;28mself\u001b[39m,\n\u001b[0;32m     14\u001b[0m     owner_name,\n\u001b[0;32m     15\u001b[0m     balance\u001b[38;5;241m=\u001b[39m\u001b[38;5;241m0\u001b[39m,\n\u001b[0;32m     16\u001b[0m ):\n\u001b[1;32m---> 17\u001b[0m     \u001b[38;5;28;43msuper\u001b[39;49m\u001b[43m(\u001b[49m\u001b[43m)\u001b[49m\u001b[38;5;241;43m.\u001b[39;49m\u001b[38;5;21;43m__init__\u001b[39;49m\u001b[43m(\u001b[49m\u001b[43mowner_name\u001b[49m\u001b[43m,\u001b[49m\u001b[43m \u001b[49m\u001b[43mbalance\u001b[49m\u001b[43m)\u001b[49m\n\u001b[0;32m     18\u001b[0m     \u001b[38;5;28mself\u001b[39m\u001b[38;5;241m.\u001b[39m__account_restriction \u001b[38;5;241m=\u001b[39m \u001b[38;5;28;01mTrue\u001b[39;00m\n",
      "File \u001b[1;32mc:\\Users\\zxcc9\\OneDrive\\바탕 화면\\Study\\Python\\python\\python_fastcampus\\객체지향\\bank_project\\bank.py:24\u001b[0m, in \u001b[0;36mBankAccount.__init__\u001b[1;34m(self, name, balance)\u001b[0m\n\u001b[0;32m     22\u001b[0m \u001b[38;5;28mself\u001b[39m\u001b[38;5;241m.\u001b[39m__account_list \u001b[38;5;241m=\u001b[39m []\n\u001b[0;32m     23\u001b[0m \u001b[38;5;28mself\u001b[39m\u001b[38;5;241m.\u001b[39m__account_list\u001b[38;5;241m.\u001b[39mappend(\u001b[38;5;28mself\u001b[39m\u001b[38;5;241m.\u001b[39m__account_number)\n\u001b[1;32m---> 24\u001b[0m \u001b[43mCustomer\u001b[49m\u001b[38;5;241;43m.\u001b[39;49m\u001b[43madd_account\u001b[49m(name, \u001b[38;5;28mself\u001b[39m\u001b[38;5;241m.\u001b[39m__account_number)\n\u001b[0;32m     25\u001b[0m \u001b[38;5;28mprint\u001b[39m(\n\u001b[0;32m     26\u001b[0m     \u001b[38;5;124mf\u001b[39m\u001b[38;5;124m\"\"\"\u001b[39m\u001b[38;5;124m계좌가 만들어졌습니다. \u001b[39m\u001b[38;5;132;01m{\u001b[39;00m\u001b[38;5;28mself\u001b[39m\u001b[38;5;241m.\u001b[39mname\u001b[38;5;132;01m}\u001b[39;00m\u001b[38;5;124m님의 \u001b[39m\u001b[38;5;132;01m{\u001b[39;00m\u001b[38;5;28mself\u001b[39m\u001b[38;5;241m.\u001b[39m__account_number\u001b[38;5;132;01m}\u001b[39;00m\u001b[38;5;124m이며,\u001b[39m\n\u001b[0;32m     27\u001b[0m \u001b[38;5;124m      현재 당신의 잔액은 \u001b[39m\u001b[38;5;132;01m{\u001b[39;00m\u001b[38;5;28mself\u001b[39m\u001b[38;5;241m.\u001b[39m__balance\u001b[38;5;132;01m}\u001b[39;00m\u001b[38;5;124m\"\"\"\u001b[39m\n\u001b[0;32m     28\u001b[0m )\n",
      "\u001b[1;31mAttributeError\u001b[0m: type object 'Customer' has no attribute 'add_account'"
     ]
    }
   ],
   "source": [
    "from bank import BankAccount\n",
    "from savings_account import Saving_account\n",
    "\n",
    "dave = Saving_account(\"dave\", 500)"
   ]
  },
  {
   "cell_type": "code",
   "execution_count": null,
   "metadata": {},
   "outputs": [],
   "source": []
  }
 ],
 "metadata": {
  "kernelspec": {
   "display_name": "my_env",
   "language": "python",
   "name": "python3"
  },
  "language_info": {
   "codemirror_mode": {
    "name": "ipython",
    "version": 3
   },
   "file_extension": ".py",
   "mimetype": "text/x-python",
   "name": "python",
   "nbconvert_exporter": "python",
   "pygments_lexer": "ipython3",
   "version": "3.10.9"
  }
 },
 "nbformat": 4,
 "nbformat_minor": 2
}
