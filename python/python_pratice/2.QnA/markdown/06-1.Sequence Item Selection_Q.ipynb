{
 "cells": [
  {
   "cell_type": "markdown",
   "id": "46e3d990",
   "metadata": {},
   "source": [
    "---\n",
    "# 파이썬 입문 : 도전! 45가지 기초 문법 실습하기 🙋🏻‍♂️\n",
    "---"
   ]
  },
  {
   "cell_type": "markdown",
   "id": "28f413a5",
   "metadata": {},
   "source": [
    "### 꼭 기억하세요 😊\n",
    "+ **시간이 다소 소요되더라도** 스스로 생각해서 프로그래밍을 해야**`실력이 향상 됩니다.`** \n",
    "+ 다양한 문제를 통해서 **`문제 해결`**능력을 향상 시켜봐요.\n",
    "+ 여러 방식으로 **`같은 결과 값`**이 나오도록 프로그래밍 해보세요.\n",
    "+ **문제 해결**에 너무 시간이 오래 걸리면 **`검색(구글링 등)`**을 통해서 해결해보세요.\n",
    "+ **`온라인 Python IDE :`** https://www.programiz.com/python-programming/online-compiler/"
   ]
  },
  {
   "cell_type": "markdown",
   "id": "c3a88b92",
   "metadata": {},
   "source": [
    "***\n",
    "## 6. Sequence Item Selection💻\n",
    "***\n",
    "#### **`연습예제`** 💻"
   ]
  },
  {
   "cell_type": "markdown",
   "id": "49b428ae",
   "metadata": {},
   "source": [
    "`아래 리스트(List)에서` **`apple, kiwi`** `를 추출해서` **`대문자`** `리스트로 출력하세요.` **`가능한 다양한`** `방법으로 코딩해보세요.`\n",
    "\n",
    "\n",
    "\n",
    "```python\n",
    "x = [\"grapes\", \"mango\", \"orange\", \"peach\", \"apple\", \"lime\", \"banana\", \"cherry\", \"tomato\", \"kiwi\", \"blueberry\", \"watermelon\"]\n",
    "\n",
    "출력 결과 : [APPLE, KIWI]\n",
    "```"
   ]
  },
  {
   "cell_type": "markdown",
   "id": "44d53430",
   "metadata": {},
   "source": [
    "#### **`코딩영역`**"
   ]
  },
  {
   "cell_type": "code",
   "execution_count": null,
   "id": "9be751a9",
   "metadata": {},
   "outputs": [
    {
     "name": "stdout",
     "output_type": "stream",
     "text": [
      "[2, 3, 4, 5, 6, 7, 8, 9, 10, 11]\n",
      "0\n",
      "1\n",
      "10\n",
      "15\n",
      "짝수\n",
      "배열의 값의 짝수 홀수는 [0, 2, 4, 6, 8]\n",
      "[1, 4, 9, 16, 25]\n"
     ]
    }
   ],
   "source": [
    "\"\"\"\n",
    "파이썬의 map, filter에 대해서 알아보기 \n",
    "\"\"\"\n",
    "\n",
    "def add_1(num):\n",
    "    return num+1\n",
    "item = [1,2,3,4,5,6,7,8,9,10]\n",
    "\n",
    "print(list(map(add_1,item)))\n",
    "# 출력 [2, 3, 4, 5, 6, 7, 8, 9, 10, 11]\n",
    "\n",
    "# 파이썬의 next 함수에 대해서\n",
    "\n",
    "# 원소의 내용을 하나씩 출력한다.\n",
    "# next를 통해서 원소를 하나씩 꺼내고, 마지막 값 이후에 next를 수행할 경우,\n",
    "# 에러를 발생시킨다.\n",
    "\n",
    "item_next_test = iter(range(10))\n",
    "\n",
    "print(next(item_next_test)) # 0 \n",
    "print(next(item_next_test)) # 1 출력한다. \n",
    "\n",
    "# 람다 함수에 대해서\n",
    "\n",
    "\"\"\"lambda -> lambda 매개변수 : 표현식\"\"\"\n",
    "\n",
    "double = lambda x : x*2\n",
    "\n",
    "print(double(5)) # 10\n",
    "\n",
    "# 두 수의 합을 구하는 람다 함수\n",
    "\n",
    "add_number = lambda x,y : x+y\n",
    "\n",
    "print(add_number(5, 10)) # 15\n",
    "\n",
    "### filter에 대해서\n",
    "\n",
    "# filter는 map함수와 사용방법이 동일하지만, true에 대한 값만 반환한다.\n",
    "\n",
    "def 짝수_홀수_체크():\n",
    "    return lambda num: num % 2 == 0 \n",
    "\n",
    "def check_number(num):\n",
    "    return lambda x : \"짝수\" if  num%2 == 0 else \"홀수\" # 람다 함수 자체를 반환 \n",
    "lambda_ = check_number(2)(0) # 함수의 반환값이 람다 함수이므로, 람다 함수의 값을 얻으려면, 함수를 실행해야한다. \n",
    "print(lambda_)\n",
    "\n",
    "# 다시 돌아와서, filter 함수를 통해 배열에서 짝수 값을 확인해보자.\n",
    "\n",
    "test=range(10)\n",
    "# filter 메서드는 true값만 반환한다. \n",
    "# 문자열은 true로 간주된다. \n",
    "print(f\"배열의 값의 짝수 홀수는 {list(filter(lambda x : x %2 == 0 ,test))}\")\n",
    "\n",
    "\n",
    "numbers = [1, 2, 3, 4, 5]\n",
    "\n",
    "# 리스트의 모든 값을 제곱\n",
    "squared = map(lambda x: x**2, numbers)\n",
    "print(list(squared))  # [1, 4, 9, 16, 25]\n",
    "\n",
    "\n",
    "\n",
    "\n"
   ]
  },
  {
   "cell_type": "code",
   "execution_count": 43,
   "id": "ca1e5a1b",
   "metadata": {},
   "outputs": [
    {
     "name": "stdout",
     "output_type": "stream",
     "text": [
      "애플과 키위를 대문자로 출력하기 ('APPLE', 'KIWI')\n",
      "애플과 키위를 대문자로 출력하기 ['APPLE', 'KIWI']\n",
      "2번째 방법 ['APPLE', 'KIWI']\n",
      "3번째 방법 ['APPLE', 'KIWI']\n",
      "map 함수를 이용해서 키위, 애플을 출력해보자. [None, None, None, None, 'APPLE', None, None, None, None, 'KIWI', None, None]\n",
      "['APPLE', 'KIWI']\n"
     ]
    }
   ],
   "source": [
    "# 코딩 영역\n",
    "import this\n",
    "\n",
    "x = [\"grapes\", \"mango\", \"orange\", \"peach\", \"apple\", \"lime\", \"banana\", \"cherry\", \"tomato\", \"kiwi\", \"blueberry\", \"watermelon\"]\n",
    "\n",
    "# 가장 간단한 방법 -> 물론, 리스트로 출력해야하므로,\n",
    "print(f\"애플과 키위를 대문자로 출력하기 {x[4].upper(), x[9].upper()}\")\n",
    "# 이게 조금 더 정확한 정답 []\n",
    "\n",
    "item = []\n",
    "\n",
    "item.append(x[4].upper())\n",
    "item.append(x[9].upper())\n",
    "\n",
    "print(f\"애플과 키위를 대문자로 출력하기 {item}\")\n",
    "\n",
    "item = [item.upper() for item in x if item in (\"apple\",\"kiwi\")]\n",
    "print(f\"2번째 방법 {item}\")\n",
    "\n",
    "item = [item.upper() for item in x if item=='apple' or item=='kiwi']\n",
    "\n",
    "print(f\"3번째 방법 {item}\") \n",
    "\n",
    "# map 함수를 이용해서 작성해보자.\n",
    "\n",
    "\"\"\"\n",
    "참고로 , map(함수,함수에 들어갈 매개변수 1, 함수에 들어갈 매개변수 2)\n",
    "매개변수로써는 반복가능한 객체여야한다.예를 들어, 리스트, 튜플이 가능하다.\n",
    "\n",
    "리스트에 있는 원소가 개별적으로 map함수의 매개변수인 함수에 들어가게 된다. \n",
    "\"\"\"\n",
    "\n",
    "def search_text(list_of_items):\n",
    "    if list_of_items in (\"apple\", \"kiwi\"):\n",
    "        return list_of_items.upper()\n",
    "\n",
    "print(f\"map 함수를 이용해서 키위, 애플을 출력해보자. {list(map(search_text,x))}\")\n",
    "\n",
    "\n",
    "# filter  , lambda, map 함수를 사용해서 리스트안에 있는 apple , kiwe를 찾고 해당 문자열을 대문자로 변경\n",
    "\n",
    "print(f\"{list(map(lambda x : x.upper(),filter(lambda x : x in ('apple', 'kiwi'),x)))}\")"
   ]
  },
  {
   "cell_type": "markdown",
   "id": "e48cce26",
   "metadata": {},
   "source": [
    "#### **`Hint`**"
   ]
  },
  {
   "cell_type": "markdown",
   "id": "fc2ea9eb",
   "metadata": {},
   "source": [
    "<details>\n",
    "    <summary>▶<b>여기</b>를 눌러주세요</summary>\n",
    "<div markdown=\"1\">       \n",
    "\n",
    "```python\n",
    "# 파이썬에서 사용가능한 반복문(for, while)은 기억하시죠? -> (break, continue) 필수 기억!\n",
    "# 시퀀스 자료형(데이터의 값이 연속적으로 이루어진 자료구조) : List, Tuple, Str, Range..\n",
    "# filter(f, iterable) 함수는 정말 많이 사용해요.(map 함수도 중요!)\n",
    "# lambda expression(형식)은 다른 함수의 인수 전달 형태로 사용해요.\n",
    "```\n",
    "</div>\n",
    "</details>"
   ]
  },
  {
   "cell_type": "markdown",
   "id": "866ce5b7",
   "metadata": {},
   "source": [
    "***"
   ]
  }
 ],
 "metadata": {
  "kernelspec": {
   "display_name": "Python 3",
   "language": "python",
   "name": "python3"
  },
  "language_info": {
   "codemirror_mode": {
    "name": "ipython",
    "version": 3
   },
   "file_extension": ".py",
   "mimetype": "text/x-python",
   "name": "python",
   "nbconvert_exporter": "python",
   "pygments_lexer": "ipython3",
   "version": "3.12.6"
  },
  "toc": {
   "base_numbering": 1,
   "nav_menu": {},
   "number_sections": false,
   "sideBar": true,
   "skip_h1_title": false,
   "title_cell": "Table of Contents",
   "title_sidebar": "Contents",
   "toc_cell": false,
   "toc_position": {
    "height": "calc(100% - 180px)",
    "left": "10px",
    "top": "150px",
    "width": "318px"
   },
   "toc_section_display": true,
   "toc_window_display": false
  }
 },
 "nbformat": 4,
 "nbformat_minor": 5
}
