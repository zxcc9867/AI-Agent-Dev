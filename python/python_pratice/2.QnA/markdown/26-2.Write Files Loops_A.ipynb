{
 "cells": [
  {
   "cell_type": "markdown",
   "id": "46e3d990",
   "metadata": {},
   "source": [
    "---\n",
    "# 파이썬 입문 : 도전! 45가지 기초 문법 실습하기 🙋🏻‍♂️\n",
    "---"
   ]
  },
  {
   "cell_type": "markdown",
   "id": "28f413a5",
   "metadata": {},
   "source": [
    "### 꼭 기억하세요 😊\n",
    "+ **시간이 다소 소요되더라도** 스스로 생각해서 프로그래밍을 해야**`실력이 향상 됩니다.`** \n",
    "+ 다양한 문제를 통해서 **`문제 해결`**능력을 향상 시켜봐요.\n",
    "+ 여러 방식으로 **`같은 결과 값`**이 나오도록 프로그래밍 해보세요.\n",
    "+ **문제 해결**에 너무 시간이 오래 걸리면 **`검색(구글링 등)`**을 통해서 해결해보세요.\n",
    "+ **`온라인 Python IDE :`** https://www.programiz.com/python-programming/online-compiler/"
   ]
  },
  {
   "cell_type": "markdown",
   "id": "c3a88b92",
   "metadata": {},
   "source": [
    "***\n",
    "## 26. Write Files Loops💻\n",
    "***\n",
    "#### **`연습예제`** 💻"
   ]
  },
  {
   "cell_type": "markdown",
   "id": "49b428ae",
   "metadata": {},
   "source": [
    "**`/source/26-1/`** `경로에서` **`아래 조건`** `으로` **`name = 파일명`**  **`contents = 내용`** `으로 파일로 쓰세요.`\n",
    "\n",
    "```python\n",
    "# 아래 조건 참조\n",
    "\n",
    "파일명 & 경로 = \"../source/26-1/파일명.txt\"\n",
    "파일명 리스트 = [\"A\", \"B\", \"C\", \"D\", \"F\", \"G\"]\n",
    "컨텐츠 리스트 = [\"Python\", \"JavaScript\", \"PHP\", \"Rust\", \"Solidity\", \"Assembly\"]\n",
    "```"
   ]
  },
  {
   "cell_type": "markdown",
   "id": "44d53430",
   "metadata": {},
   "source": [
    "#### **`코딩영역`**"
   ]
  },
  {
   "cell_type": "code",
   "execution_count": null,
   "id": "ca1e5a1b",
   "metadata": {},
   "outputs": [],
   "source": [
    "# 코딩 영역\n",
    "import this"
   ]
  },
  {
   "cell_type": "markdown",
   "id": "e48cce26",
   "metadata": {},
   "source": [
    "#### **`Hint`**"
   ]
  },
  {
   "cell_type": "markdown",
   "id": "fc2ea9eb",
   "metadata": {},
   "source": [
    "<details>\n",
    "    <summary>▶<b>여기</b>를 눌러주세요</summary>\n",
    "<div markdown=\"1\">       \n",
    "\n",
    "```python\n",
    "# 다중 리스트 형태의 파일 쓰기 패턴은 정말 많이 사용해요.\n",
    "# Python Open 함수의 쓰기 모드를 기억해야 해요.\n",
    "    \n",
    "# 'w' : Open a text file for writing text (덮어쓰기)\n",
    "# 'a' : Open a text file for appending text (추가) \n",
    "# f.write :  writes a string to a text file \n",
    "# f.writelines : write a list of strings to a file at once.\n",
    "```\n",
    "</div>\n",
    "</details>"
   ]
  },
  {
   "cell_type": "markdown",
   "id": "866ce5b7",
   "metadata": {},
   "source": [
    "***"
   ]
  },
  {
   "cell_type": "markdown",
   "id": "45217c6a",
   "metadata": {},
   "source": [
    "![bottom_arrow](../../img/bottom_arrow.jpg)\n",
    "![bottom_arrow](../../img/bottom_arrow.jpg)\n",
    "![bottom_arrow](../../img/bottom_arrow.jpg)"
   ]
  },
  {
   "cell_type": "markdown",
   "id": "fc473095",
   "metadata": {},
   "source": [
    "***"
   ]
  },
  {
   "cell_type": "markdown",
   "id": "d316af80",
   "metadata": {},
   "source": [
    "#### **`결과 & 보충설명`**"
   ]
  },
  {
   "cell_type": "code",
   "execution_count": 1,
   "id": "8f8ac30f",
   "metadata": {},
   "outputs": [],
   "source": [
    "# 26.Write Files Loops\n",
    "\n",
    "import os\n",
    "\n",
    "filenames = [\"A\", \"B\", \"C\", \"D\", \"F\", \"G\"]\n",
    "contents1 = [\"Python\", \"JavaScript\", \"PHP\", \"Rust\", \"Solidity\", \"Assembly\"]\n",
    "contents2 = [[\"Python\", \"JavaScript\", \"PHP\", \"Rust\", \"Solidity\", \"Assembly\"], [\"Python\", \"JavaScript\", \"PHP\", \"Rust\", \"Solidity\", \"Assembly\"], [\"Python\", \"JavaScript\", \"PHP\", \"Rust\", \"Solidity\", \"Assembly\"], [\"Python\", \"JavaScript\", \"PHP\", \"Rust\", \"Solidity\", \"Assembly\"], [\"Python\", \"JavaScript\", \"PHP\", \"Rust\", \"Solidity\", \"Assembly\"], [\"Python\", \"JavaScript\", \"PHP\", \"Rust\", \"Solidity\", \"Assembly\"]]\n",
    "\n",
    "\n",
    "# 방법1\n",
    "def write_contents1(filepath):\n",
    "    \n",
    "    if not os.path.exists(filepath):\n",
    "        os.makedirs(filepath)\n",
    "    \n",
    "    # loop write\n",
    "    for n, c in zip(filenames, contents1):\n",
    "        with open(filepath + n + '.txt', \"w\") as file:\n",
    "            file.write(c)\n",
    "\n",
    "# 실행1\n",
    "write_contents1(\"../source/26-1/\")\n",
    "\n",
    "\n",
    "# 방법2\n",
    "def write_contents2(filepath):\n",
    "    \n",
    "    if not os.path.exists(filepath):\n",
    "        os.makedirs(filepath)\n",
    "    \n",
    "    # loop writelines\n",
    "    for n, c in zip(filenames, contents2):\n",
    "        with open(filepath + n + '.txt', \"a\") as file: \n",
    "            # append 확인 \n",
    "            # c + '\\n' for c in c 실습\n",
    "            file.writelines(c) \n",
    "\n",
    "# 실행2\n",
    "write_contents2(\"../source/26-2/\")\n",
    "\n",
    "\n",
    "# 방법3\n",
    "# ...."
   ]
  }
 ],
 "metadata": {
  "kernelspec": {
   "display_name": "Python 3 (ipykernel)",
   "language": "python",
   "name": "python3"
  },
  "language_info": {
   "codemirror_mode": {
    "name": "ipython",
    "version": 3
   },
   "file_extension": ".py",
   "mimetype": "text/x-python",
   "name": "python",
   "nbconvert_exporter": "python",
   "pygments_lexer": "ipython3",
   "version": "3.10.5"
  },
  "toc": {
   "base_numbering": 1,
   "nav_menu": {},
   "number_sections": false,
   "sideBar": true,
   "skip_h1_title": false,
   "title_cell": "Table of Contents",
   "title_sidebar": "Contents",
   "toc_cell": false,
   "toc_position": {
    "height": "calc(100% - 180px)",
    "left": "10px",
    "top": "150px",
    "width": "318px"
   },
   "toc_section_display": true,
   "toc_window_display": false
  }
 },
 "nbformat": 4,
 "nbformat_minor": 5
}
