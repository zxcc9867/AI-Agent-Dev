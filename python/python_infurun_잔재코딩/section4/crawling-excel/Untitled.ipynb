{
 "cells": [
  {
   "cell_type": "code",
   "execution_count": 26,
   "id": "5989c28d-8d6c-4360-b5a7-0ffc950e5bb3",
   "metadata": {},
   "outputs": [
    {
     "name": "stdout",
     "output_type": "stream",
     "text": [
      "\n",
      "\n",
      "기자명 \n",
      "\t\t\t\t\t김수미 기자\t\t\t\t\n",
      " 입력 2024.09.03 09:45\n",
      " 수정 2024.09.03 09:48\n",
      " 댓글 0\n",
      "\n",
      "기자명 \n",
      "\t\t\t\t\t김수미 기자\t\t\t\t\n",
      " 입력 2024.09.03 09:45\n",
      " 수정 2024.09.03 09:48\n",
      " 댓글 0\n"
     ]
    }
   ],
   "source": [
    "## 크롤링 \n",
    "\n",
    "\n",
    "import requests\n",
    "from bs4 import BeautifulSoup\n",
    "\n",
    "\n",
    "res = requests.get('https://www.nextdaily.co.kr/news/articleView.html?idxno=231287')\n",
    "\n",
    "soup = BeautifulSoup(res.content,'html.parser')\n",
    "\n",
    "mydata = soup.find('a',string='시사정치')\n",
    "mydata2 = soup.find_all('ul','infomation')\n",
    "# mydata = soup.find(h3 , attrs={'class' : 'heading' })\n",
    "\n",
    "print(mydata2[0].get_text())\n",
    "\n",
    "for item in mydata2:\n",
    "    print(item.get_text().strip())\n",
    "\n",
    "# <span class=\"service_name\">메일</span>"
   ]
  },
  {
   "cell_type": "code",
   "execution_count": 23,
   "id": "167e62ed-fb68-43a3-abb6-fd07855e3a23",
   "metadata": {},
   "outputs": [
    {
     "name": "stdout",
     "output_type": "stream",
     "text": [
      "0 '\n",
      "1 대\n",
      "2 단\n",
      "3 한\n",
      "4  \n",
      "5 아\n",
      "6 이\n",
      "7 디\n",
      "8 어\n",
      "9 '\n",
      "10  \n",
      "11 엄\n",
      "12 지\n",
      "13 척\n",
      "14  \n"
     ]
    }
   ],
   "source": [
    "\n",
    "\n",
    "# 9 / 4 \n",
    "\n",
    "# <h2 id=\"title_area\" class=\"media_end_head_headline\"><span>성심당 케이크 망가질까 걱정했는데…'대단한 아이디어' 엄지척 [이슈+]</span></h2>\n",
    "\n",
    "import requests\n",
    "from bs4 import BeautifulSoup\n",
    "\n",
    "res = requests.get('https://n.news.naver.com/article/015/0005030034?cds=news_media_pc')\n",
    "\n",
    "\n",
    "soup = BeautifulSoup(res.content , 'html.parser')\n",
    "\n",
    "text = soup.find('h2', id='title_area')\n",
    "\n",
    "# print(soup.prettify())\n",
    "\n",
    "for index,item in enumerate(text.get_text().split('[')[0].replace('…','!').split('!')[1]):\n",
    "        print(index,item)\n"
   ]
  },
  {
   "cell_type": "code",
   "execution_count": 25,
   "id": "388123ea-2dd1-4cb2-a715-75110b0324d6",
   "metadata": {},
   "outputs": [
    {
     "name": "stdout",
     "output_type": "stream",
     "text": [
      "나만의 엣지있는 블로그 사이트 만들기 (취미로 익히는 IT)\n",
      "파이썬과 데이터과학 첫걸음 (IT 기본기 익히기)\n"
     ]
    }
   ],
   "source": [
    "#title_area > span\n",
    "\n",
    "from bs4 import BeautifulStoneSoup\n",
    "import requests\n",
    "\n",
    "res = requests.get('https://davelee-fun.github.io/blog/crawl_test_css.html')\n",
    "soup = BeautifulSoup(res.content,\n",
    "'html.parser')\n",
    "items = soup.select('h3') # select는 해당 하는 모든 값을 가져온다. \n",
    "# select_one이 일치하는 데이터 하나만 가져온다. \n",
    "for item in items:\n",
    "    print (item.get_text())"
   ]
  },
  {
   "cell_type": "code",
   "execution_count": 32,
   "id": "09500d34-cc8d-4bc7-994a-8f0f819a27e4",
   "metadata": {},
   "outputs": [
    {
     "name": "stdout",
     "output_type": "stream",
     "text": [
      "(중급) - 자동으로 쿠팡파트너스 API 로 가져온 상품 정보, 네이버 블로그/트위터에 홍보하기 [412]\n"
     ]
    }
   ],
   "source": [
    "from bs4 import BeautifulStoneSoup\n",
    "import requests\n",
    "\n",
    "res = requests.get('https://davelee-fun.github.io/blog/crawl_test_css.html')\n",
    "soup = BeautifulSoup(res.content,\n",
    "'html.parser')\n",
    "items = soup.select('ul#dev_course_list > li.course.paid') # select는 해당 하는 모든 값을 가져온다. \n",
    "# select_one이 일치하는 데이터 하나만 가져온다. \n",
    "for item in items:\n",
    "    print (item.get_text())"
   ]
  },
  {
   "cell_type": "code",
   "execution_count": null,
   "id": "35952c52-ff51-4559-839e-070ffdff28f7",
   "metadata": {},
   "outputs": [],
   "source": [
    "\n",
    "from bs4 import BeautifulSoup\n",
    "import requests\n",
    "res = requests.get('https://davelee-fun.github.io/blog/crawl_test_css.html')\n",
    "soup = BeautifulSoup(res.content,\n",
    "'html.parser')\n",
    "\n",
    "# select_one은 리스트가 아니기 때문에 for문으로 리스트 안의 원소를 추출할 필요가 없다.\n",
    "item = soup.select_one('ul#dev_course_list > li.course.paid')\n",
    "print (item.get_text()\n"
   ]
  },
  {
   "cell_type": "code",
   "execution_count": 69,
   "id": "2a8fb70f-394b-4bc0-b877-0c0f7da12734",
   "metadata": {},
   "outputs": [
    {
     "name": "stdout",
     "output_type": "stream",
     "text": [
      "[<td>일정</td>, <td>커리큘럼 타이틀</td>, <td>난이도</td>]\n",
      "[<td>5.1 ~ 6.15</td>, <td>나만의 엣지있는 블로그 사이트 만들기 (취미로 익히는 IT)</td>, <td>초급</td>]\n",
      "[<td>6.16 ~ 7.31</td>, <td>파이썬과 데이터과학 첫걸음 (IT 기본기 익히기)</td>, <td>중급</td>]\n"
     ]
    }
   ],
   "source": [
    "## 테이블의 데이터를 출력해보기 \n",
    "\n",
    "from bs4 import BeautifulSoup\n",
    "import requests\n",
    "res = requests.get('https://davelee-fun.github.io/blog/crawl_html_css.html')\n",
    "soup = BeautifulSoup(res.content,\n",
    "'html.parser')\n",
    "\n",
    "\n",
    "items=soup.select('tr') # tr 태그와 함께 그 하위 태그들도 출력 \n",
    "\n",
    "# 예를 들면 , td 태그가 같이 출력된다. \n",
    "\n",
    "\n",
    "\n",
    "for item in items:\n",
    "    # print(f\"{item}\\n\")\n",
    "\n",
    "    columns = item.select('td')\n",
    "    print(columns)\n",
    "    # row_str = ''\n",
    "    # for column in columns:\n",
    "    #     row_str += ', ' + column.get_text()\n",
    "    # print(row_str[2:])"
   ]
  },
  {
   "cell_type": "code",
   "execution_count": 42,
   "id": "e5c689c3-fcce-447d-9d80-43d71e50bda3",
   "metadata": {},
   "outputs": [
    {
     "name": "stdout",
     "output_type": "stream",
     "text": [
      "일정, 커리큘럼 타이틀, 난이도\n",
      "5.1 ~ 6.15, 나만의 엣지있는 블로그 사이트 만들기 (취미로 익히는 IT), 초급\n",
      "6.16 ~ 7.31, 파이썬과 데이터과학 첫걸음 (IT 기본기 익히기), 중급\n"
     ]
    }
   ],
   "source": [
    "from bs4 import BeautifulSoup\n",
    "import requests\n",
    "\n",
    "# 페이지 요청 및 BeautifulSoup으로 파싱\n",
    "res = requests.get('https://davelee-fun.github.io/blog/crawl_html_css.html')\n",
    "soup = BeautifulSoup(res.content, 'html.parser')\n",
    "\n",
    "# <tr> 태그 선택\n",
    "items = soup.select('tr')\n",
    "\n",
    "# 각 행의 데이터를 가져옴\n",
    "for item in items:\n",
    "    columns = item.select('td')\n",
    "    row_str = ''\n",
    "    \n",
    "    # 각 열의 데이터를 가져옴\n",
    "    for column in columns:\n",
    "        row_str += ', ' + column.get_text()\n",
    "    \n",
    "    # 첫 번째 ', ' 부분을 제거하고 출력\n",
    "    print(row_str[2:])\n"
   ]
  },
  {
   "cell_type": "code",
   "execution_count": null,
   "id": "528fbebd-addd-45ed-92fb-4e0bb016adbf",
   "metadata": {},
   "outputs": [],
   "source": [
    "\n",
    "# 9/9 \n",
    "\n",
    "# 크롤링 연습 \n",
    "\n",
    "\n",
    "import requests\n",
    "from bs4 import BeautifulSoup\n",
    "\n",
    "url = 'https://davelee-fun.github.io/'\n",
    "res = requests.get(url)\n",
    "soup = BeautifulSoup(res.content, 'html.parser')\n",
    "items = soup.select('')\n",
    "for item in items:\n",
    "    print (item.get_text())\n"
   ]
  },
  {
   "cell_type": "code",
   "execution_count": 24,
   "id": "e61232fb-7b50-4103-bc6e-dff15f435f5c",
   "metadata": {},
   "outputs": [
    {
     "name": "stdout",
     "output_type": "stream",
     "text": [
      "Blog\n"
     ]
    }
   ],
   "source": [
    "# blog 와 about 메뉴 리스트 가져와 출력하기 \n",
    "\n",
    "import requests\n",
    "from bs4 import BeautifulSoup\n",
    "\n",
    "url = 'https://davelee-fun.github.io/'\n",
    "res = requests.get(url)\n",
    "\n",
    "# print(res) # Responnse [200] 이라고 출력된다. \n",
    "\n",
    "soup = BeautifulSoup(res.content,'html.parser')\n",
    "\n",
    "\n",
    "# text = soup.select('li.nav-item') # 블로그라는클래스 \n",
    "\n",
    "text = soup.select('li.nav-item.active') # 블로그라는클래스 \n",
    "\n",
    "for item in text:\n",
    "    print(item.get_text().strip())\n"
   ]
  },
  {
   "cell_type": "code",
   "execution_count": 34,
   "id": "aafe73d3-bdd1-4abd-8e96-033bc88b8b59",
   "metadata": {},
   "outputs": [
    {
     "name": "stdout",
     "output_type": "stream",
     "text": [
      "Teddy의 선물 블로그\n"
     ]
    }
   ],
   "source": [
    "\n",
    "#'Teddy의 선물 블로그' 타이틀 가져와 출력하기'\n",
    "\n",
    "import requests\n",
    "from bs4 import BeautifulSoup\n",
    "\n",
    "url = 'https://davelee-fun.github.io/'\n",
    "res = requests.get(url)\n",
    "\n",
    "# print(res) # Responnse [200] 이라고 출력된다. \n",
    "\n",
    "soup = BeautifulSoup(res.content,'html.parser')\n",
    "\n",
    "# 'Teddy의 선물 블로그'라는 텍스트를 찾는 여러가지 방법 \n",
    "\n",
    "\n",
    "## 1 . select로 검색 \n",
    "text = soup.select('h1.sitetitle') # select \n",
    "\n",
    "## 2. find_all로 검색 , find_all은 html 태그로 찾는 방법으로, text를 직접입력하여, 검색할 수 있다. \n",
    "text = soup.find_all('h1',string='Teddy의 선물 블로그')\n",
    "\n",
    "## 3. find_all \n",
    "# 태그와 클래스로 찾기 \n",
    "text = soup.find_all('h1','sitetitle')\n",
    "\n",
    "for item in text:\n",
    "    print(item.get_text().strip())"
   ]
  },
  {
   "cell_type": "code",
   "execution_count": 38,
   "id": "e61cc8b2-1fb1-47fe-9aa4-bd524a7b47be",
   "metadata": {},
   "outputs": [
    {
     "name": "stdout",
     "output_type": "stream",
     "text": [
      "선물하기 좋은 선물을 고르고 골라서 소개하는 블로그입니다.\n"
     ]
    }
   ],
   "source": [
    "\"\"\"\n",
    "예제 사이트 크롤링 연습3\n",
    "'선물하기 좋은 선물을 고르고 골라서 소개하는 블로그입니다.' 서브타이틀 가져와 출력하기\n",
    "\"\"\"\n",
    "\n",
    "import requests\n",
    "from bs4 import BeautifulSoup\n",
    "\n",
    "url = 'https://davelee-fun.github.io/'\n",
    "res = requests.get(url)\n",
    "\n",
    "# res.content는 requests 라이브러리를 사용하여 웹 페이지에 요청을 보낸 후, \n",
    "# 서버로 부터 받은 응답의 내용 ( body )부분을 의미한다. \n",
    "soup = BeautifulSoup(res.content,'html.parser')\n",
    "text = soup.select('p.lead')\n",
    "for item in text:\n",
    "    print(item.get_text().strip())"
   ]
  },
  {
   "cell_type": "code",
   "execution_count": 49,
   "id": "355ae519-41bb-444b-b224-7df3305c4b63",
   "metadata": {},
   "outputs": [
    {
     "name": "stdout",
     "output_type": "stream",
     "text": [
      "상품명: 보몽드 순면스퀘어 솔리드 누빔매트커버, 다크블루\n",
      "상품명: 슈에뜨룸 선인장 리플 침구 세트, 베이지\n",
      "상품명: 선우랜드 레인보우 2단 문걸이용 옷걸이 _중형, 화이트, 상세페이지참조\n",
      "상품명: 보드래 헬로우 누빔 매트리스커버, 핑크\n"
     ]
    }
   ],
   "source": [
    "# Featured 에 있는 상품명 가져와 출력하기\n",
    "\n",
    "import requests\n",
    "from bs4 import BeautifulSoup\n",
    "\n",
    "url = 'https://davelee-fun.github.io/'\n",
    "res = requests.get(url)\n",
    "\n",
    "# res.content는 requests 라이브러리를 사용하여 웹 페이지에 요청을 보낸 후, \n",
    "# 서버로 부터 받은 응답의 내용 ( body )부분을 의미한다. \n",
    "soup = BeautifulSoup(res.content,'html.parser')\n",
    "### 방법 1 \n",
    "\n",
    "# section.featured-posts 안의 h4.card-text 값을 출력한다. \n",
    "# 즉, featured안에 있는 것만 출력 \n",
    "text = soup.select('section.featured-posts  h4.card-text')\n",
    "\n",
    "### 방법 2 \n",
    "\n",
    "## 먼저, 출력하고자 하는부분만 출력한다. 그 다음에, 해당 부분에 대해서 출력하고자 하는 부분에 대해 출력한다. \n",
    "\n",
    "text = soup.select('section.featured-posts') # select는 리스트로 출력되기 때문에 출력하고자 하는부분 하나만 출력\n",
    "# 하기 위해 , select_one을 사용한다. \n",
    "# select 메서드는 객체나 태그 객체에서 사용가능하지만, 리스트에서 사용할 수 없다. \n",
    "\n",
    "detailed_text = text[0].select('h4.card-text')\n",
    "\n",
    "for item in detailed_text:\n",
    "    print(item.get_text().strip())"
   ]
  },
  {
   "cell_type": "code",
   "execution_count": 50,
   "id": "47bb5f9d-48b4-4f5a-8583-d79035f222e2",
   "metadata": {},
   "outputs": [
    {
     "name": "stdout",
     "output_type": "stream",
     "text": [
      "상품명: 보드래 퍼펙트 누빔 매트리스커버, 차콜\n",
      "상품명: 피아블 클래식 방수 매트리스커버, 화이트\n",
      "상품명: 더자리 에코항균 마이크로 매트리스커버, 밀키차콜그레이\n",
      "상품명: 더자리 프레쉬 퓨어 매트리스 커버, 퓨어 차콜그레이\n",
      "상품명: 몽쉐어 알러스킨 항균 매트리스 커버, 카키그레이\n",
      "상품명: 쿠팡 브랜드 - 코멧 홈 40수 트윌 순면 100% 홑겹 매트리스커버, 그레이\n",
      "상품명: 패브릭아트 항균 마이크로 원단 매트리스 커버, 아이보리\n",
      "상품명: 바숨 순면 누빔 침대 매트리스커버, 차콜\n",
      "상품명: WEMAX 다용도 문옷걸이, 화이트, 1개\n",
      "상품명: 타카타카 프리미엄 나노 화이바 누빔 매트리스 커버, 젠틀핑핑\n",
      "상품명: 보몽드 순면스퀘어 누빔매트커버, 다크그레이\n",
      "상품명: 보드래 국내산 순면 60수 누빔 매트리스커버, 그레이\n"
     ]
    }
   ],
   "source": [
    "\"\"\"\n",
    "예제 사이트 크롤링 연습5\n",
    "All Stories 에 있는 상품명 가져와 출력하기\n",
    "\"\"\"\n",
    "\n",
    "import requests\n",
    "from bs4 import BeautifulSoup\n",
    "\n",
    "url = 'https://davelee-fun.github.io/'\n",
    "res = requests.get(url)\n",
    "\n",
    "# res.content는 requests 라이브러리를 사용하여 웹 페이지에 요청을 보낸 후, \n",
    "# 서버로 부터 받은 응답의 내용 ( body )부분을 의미한다. \n",
    "soup = BeautifulSoup(res.content,'html.parser')\n",
    "### 방법 1 \n",
    "\n",
    "# section.featured-posts 안의 h4.card-text 값을 출력한다. \n",
    "# 즉, featured안에 있는 것만 출력 \n",
    "text = soup.select('section.recent-posts  h4.card-text')\n",
    "\n",
    "for item in text:\n",
    "    print(item.get_text().strip())"
   ]
  },
  {
   "cell_type": "code",
   "execution_count": 61,
   "id": "2c8c4f9e-14f2-4801-83c9-a02aba8c4c55",
   "metadata": {},
   "outputs": [
    {
     "ename": "SyntaxError",
     "evalue": "incomplete input (3805973968.py, line 19)",
     "output_type": "error",
     "traceback": [
      "\u001b[1;36m  Cell \u001b[1;32mIn[61], line 19\u001b[1;36m\u001b[0m\n\u001b[1;33m    print(' '.join(item.get_text().strip())\u001b[0m\n\u001b[1;37m                                           ^\u001b[0m\n\u001b[1;31mSyntaxError\u001b[0m\u001b[1;31m:\u001b[0m incomplete input\n"
     ]
    }
   ],
   "source": [
    "\"\"\"\n",
    "Never miss a story from us, subscribe to our newsletter' 하단부 메세지 가져와 출력하기\n",
    "\"\"\"\n",
    "\n",
    "import requests\n",
    "from bs4 import BeautifulSoup\n",
    "\n",
    "url = 'https://davelee-fun.github.io/'\n",
    "res = requests.get(url)\n",
    "\n",
    "# res.content는 requests 라이브러리를 사용하여 웹 페이지에 요청을 보낸 후, \n",
    "# 서버로 부터 받은 응답의 내용 ( body )부분을 의미한다. \n",
    "soup = BeautifulSoup(res.content,'html.parser')\n",
    "\n",
    "# 아래의 방법 둘다 가능 \n",
    "text = soup.select('div.container > span')\n",
    "text = soup.select('div.container.text-center')\n",
    "for item in text:\n",
    "    print(' '.join(item.get_text().strip())\n"
   ]
  },
  {
   "cell_type": "code",
   "execution_count": 56,
   "id": "cf283493-e30b-4de5-b0ce-b96c66a1bc0d",
   "metadata": {},
   "outputs": [
    {
     "name": "stdout",
     "output_type": "stream",
     "text": [
      "Never miss a story from us, subscribe to our newsletter\n"
     ]
    }
   ],
   "source": [
    "\"\"\"\n",
    "urllib 라이브러리 \n",
    "\"\"\"\n",
    "\n",
    "from urllib.request import urlopen\n",
    "from bs4 import BeautifulSoup\n",
    "\n",
    "res = urlopen('https://davelee-fun.github.io/') \n",
    "soup = BeautifulSoup(res,'html.parser')\n",
    "data = soup.select('div.container.text-center')\n",
    "for item in text:\n",
    "    print(item.get_text().strip())"
   ]
  },
  {
   "cell_type": "code",
   "execution_count": 64,
   "id": "55ed1f9f-17db-4b49-a527-ac480388492a",
   "metadata": {},
   "outputs": [
    {
     "name": "stdout",
     "output_type": "stream",
     "text": [
      "페이지가 없습니다.\n"
     ]
    }
   ],
   "source": [
    "\"\"\"\n",
    "urllib 라이브러리 \n",
    "\"\"\"\n",
    "\n",
    "from urllib.request import urlopen\n",
    "from bs4 import BeautifulSoup\n",
    "import requests\n",
    "\n",
    "\n",
    "res = requests.get('https://davelee-fun.github.io/xxx')\n",
    "\n",
    "if res.status_code == 404:\n",
    "    print('페이지가 없습니다.')\n",
    "elif res.status_code == 200:\n",
    "    soup = BeautifulSoup(res.content,'html.parser')\n",
    "    print(''.join(soup.get_text().strip()))\n"
   ]
  },
  {
   "cell_type": "code",
   "execution_count": 1,
   "id": "72bcdc4d-6cbc-4873-9c64-0eeb2e0b3e50",
   "metadata": {},
   "outputs": [
    {
     "name": "stdout",
     "output_type": "stream",
     "text": [
      "상품명: 보몽드 순면스퀘어 솔리드 누빔매트커버, 다크블루\n",
      "상품명: 슈에뜨룸 선인장 리플 침구 세트, 베이지\n",
      "상품명: 선우랜드 레인보우 2단 문걸이용 옷걸이 _중형, 화이트, 상세페이지참조\n",
      "상품명: 보드래 헬로우 누빔 매트리스커버, 핑크\n",
      "상품명: 보드래 퍼펙트 누빔 매트리스커버, 차콜\n",
      "상품명: 피아블 클래식 방수 매트리스커버, 화이트\n",
      "상품명: 더자리 에코항균 마이크로 매트리스커버, 밀키차콜그레이\n",
      "상품명: 더자리 프레쉬 퓨어 매트리스 커버, 퓨어 차콜그레이\n",
      "상품명: 몽쉐어 알러스킨 항균 매트리스 커버, 카키그레이\n",
      "상품명: 쿠팡 브랜드 - 코멧 홈 40수 트윌 순면 100% 홑겹 매트리스커버, 그레이\n",
      "상품명: 패브릭아트 항균 마이크로 원단 매트리스 커버, 아이보리\n",
      "상품명: 바숨 순면 누빔 침대 매트리스커버, 차콜\n",
      "상품명: WEMAX 다용도 문옷걸이, 화이트, 1개\n",
      "상품명: 타카타카 프리미엄 나노 화이바 누빔 매트리스 커버, 젠틀핑핑\n",
      "상품명: 보몽드 순면스퀘어 누빔매트커버, 다크그레이\n",
      "상품명: 보드래 국내산 순면 60수 누빔 매트리스커버, 그레이\n",
      "상품명: 보드래 퍼펙트 누빔 매트리스커버, 베이지핑크\n",
      "상품명: 쿠팡 브랜드 - 코멧 홈 40수 순면 누빔 매트리스커버, 챠콜\n",
      "상품명: 바숨 순면 누빔 침대 매트리스커버, 화이트\n",
      "상품명: 프랑떼 항균 방수 매트리스커버, 화이트\n",
      "상품명: 보몽드 순면스퀘어 솔리드 누빔매트커버, 다크블루\n",
      "상품명: 네이쳐리빙 피아블 클래식 방수 매트리스커버, 그레이\n",
      "상품명: 쿠팡 브랜드 - 코멧 홈 순면 매트리스커버, 베이지\n",
      "상품명: 타카타카 프리미엄 나노 화이바 누빔 매트리스 커버, 프렌치불독\n",
      "상품명: 더자리 에코항균 마이크로 매트리스커버, 밀키그레이\n",
      "상품명: 보몽드 순면스퀘어 누빔매트커버, 화이트\n",
      "상품명: 피아블 클래식 방수 매트리스커버, 화이트\n",
      "상품명: 쿠팡 브랜드 - 코멧 홈 순면 매트리스커버, 차콜그레이\n",
      "상품명: 쉬즈홈 모던그리드 순면 여름이불 베개커버 패드세트, 핑크\n",
      "상품명: 스코홈 빅리플 여름 차렵이불패드 3종 세트, 마린그레이\n",
      "상품명: 아망떼 시어서커 리플 홑이불 패드세트, 웨이크\n",
      "상품명: 마이센스 무더운 여름엔 시어서커 여름이불 패드 베개 이불세트 30종, 시어서커_파스텔그레이\n",
      "상품명: 믹스앤매치 로라 프릴 시어서커 침구세트, 그레이\n",
      "상품명: 에피소드1 샤베트 프릴 시어서커 여름이불패드세트, 그레이\n",
      "상품명: 슈에뜨룸 선인장 리플 침구 세트, 베이지\n",
      "상품명: 아망떼 시어서커 리플 홑이불 패드세트, 허브티\n",
      "상품명: 지베딩 아이스베어 시어서커 여름침구 풀세트, 민트그레이\n",
      "상품명: 쁘리엘르 테스 시어서커 여름이불 패드세트, 그레이\n",
      "상품명: 쉬즈홈 시어서커 홑이불 + 토퍼 + 베개커버 세트, 나나 옐로우\n",
      "상품명: 아망떼 시어서커 리플 퀼팅 이불패드세트, 리엔나\n",
      "상품명: 바자르 트로피컬 인견 여름 이불세트 인견이불 + 베개커버 2p + 인견패드, 그린\n",
      "상품명: 바자르 라이닝 혼방 인견 여름 이불베개세트 + 패드 Q, 쿨 네이비\n",
      "상품명: 슈에뜨룸 비숑 피치스킨 침구세트, 그레이\n",
      "상품명: 스코홈 시어서커 여름 이불 패드 3종 세트, 차콜\n",
      "상품명: 스코홈 어번시리즈 순면 차렵이불 누빔 매트커버세트 S 차콜\n",
      "상품명: 쉬즈홈 루즈 시어서커 차렵이불 패드세트, 그레이\n",
      "상품명: 예가로드 메리엘 시어서커 누비이불 패드세트, 블루\n",
      "상품명: 에피소드1 샤베트 프릴 시어서커 여름이불패드세트, 화이트\n",
      "상품명: 쉬즈홈 플루 시어서커 차렵이불 패드세트, 그린\n",
      "상품명: 메종 레이스 차렵 이불 세트, 블루\n",
      "상품명: 믹스앤매치 로라 프릴 시어서커 침구세트, 그린\n",
      "상품명: 슈에뜨룸 발그레 피치 리플 침구 세트, 혼합 색상\n",
      "상품명: 보몽드 메종 레이스 차렵이불 3종 세트, 민트\n",
      "상품명: 슈에뜨룸 체크 피치스킨 침구세트, 모카\n",
      "상품명: 메리엘 시어서커 에어리플 이불세트, 그레이\n",
      "상품명: 슈에뜨룸 빠삐용 시어서커 침구세트, 네이비\n",
      "상품명: 믹스앤매치 에이프릴 리플 누비이불 패드세트, 화이트\n",
      "상품명: 쉬즈홈 시어서커 홑이불 토퍼세트, 루즈 그레이\n",
      "상품명: 이코디 5단 엔틱 도어 행거, 브라운, 1개\n",
      "상품명: 선우랜드 우드볼 도어훅 4구, 실버, 1개\n",
      "상품명: 리은상점 다용도 도어훅 문걸이 행거 모자걸이 머플러 목도리 걸이, 화이트, 5개\n",
      "상품명: 퍼니스코 다용도걸이 모자걸이 가방걸이 도어훅 도어행거 문걸이, 엔틱브라운, 1세트\n",
      "상품명: 스텐 도어후크 옷걸이/도어훅 문옷걸이 행거 바지걸이, 혼합 색상, 1개\n",
      "상품명: 디비플러스 키펙스 컬러 폭조절 오버 도어훅, 블랙, 1개\n",
      "상품명: 리빙스토리 1+1 문에 거는 문 옷걸이 음자리 도어후크 방문 행거, 음자리도어후크-로즈골드, 2개\n",
      "상품명: 나이스후크 도어행거 2개 세트 (문행거), 블랙+화이트\n",
      "상품명: 리빙파이 도어훅 옷걸이 행거 7구, 블랙, 1개\n",
      "상품명: 선우랜드 우드볼 도어훅 10구, 실버, 1개\n",
      "상품명: 웰렉스 도어행거 MH1060 신형 본사직발송 미니건조대 도어옷걸이 도어훅, 고동색, 1개\n",
      "상품명: 엔비 엔틱 7구 도어훅 옷걸이, 도어훅 1+1, 1+1\n",
      "상품명: 코시나 무타공 문걸이 후크선반 1단, 화이트, 1개\n",
      "상품명: 코시나 무타공 올스텐 문걸이행거, 혼합 색상, 1개\n",
      "상품명: [아트박스 POOM/이케아] ENUDDEN 도어 행거, 본품, 수량\n",
      "상품명: 비스비바 우드 폴 다용도걸이 3구, 혼합 색상, 1개\n",
      "상품명: 숲속애 웨이브 도어후크 5구, 블랙, 1개\n",
      "상품명: 펀타스틱 다용도 문틀걸이, 화이트, 1개\n",
      "상품명: 선우랜드 우드볼 도어훅 4구, 화이트, 1개\n",
      "상품명: 네이쳐리빙 어반모카 와이어 도어훅 옷걸이 6구, 단일 색상, 1개\n",
      "상품명: 까사마루 블랑 접이식 문걸이 건조대, 1개\n",
      "상품명: 선우랜드 우드볼 도어훅 6구, 실버, 1개\n",
      "상품명: 이케아 ENUDDEN 문걸이 행거 402.516.66, 화이트, 1개\n",
      "상품명: 선우랜드 우드볼 도어훅 10구, 화이트, 1개\n",
      "상품명: 코멧 홈 우드볼 도어행거, 6구, 혼합색상\n",
      "상품명: 선우랜드 레인보우 2단 문걸이용 옷걸이 _중형, 화이트, 상세페이지참조\n",
      "상품명: 코시나 무타공 문걸이 후크선반 2단, 화이트, 1개\n",
      "상품명: 스파이더락 도어후크 8구, 화이트, 1개\n",
      "상품명: 선우랜드 우드볼 도어훅 6구, 화이트, 1개\n",
      "상품명: 코멧 홈 우드볼 도어행거, 10구, 혼합색상\n",
      "상품명: 보드래 헬로우 누빔 매트리스커버, 핑크\n",
      "상품명: 보몽드 순면스퀘어 솔리드 누빔매트커버, 아이보리\n",
      "상품명: 더자리 에코항균 마이크로 매트리스커버, 밀키핑크\n",
      "상품명: 타카타카 프리미엄 나노 화이바 누빔 매트리스 커버, 미스밍고\n",
      "상품명: 네이쳐리빙 피아블 클래식 방수 매트리스커버, 그레이\n",
      "상품명: 프로텍트어베드 베이직 매트리스 방수커버, 그레이\n"
     ]
    }
   ],
   "source": [
    "import requests\n",
    "\n",
    "from bs4 import BeautifulSoup\n",
    "\n",
    "for page_num in range(10):\n",
    "    if page_num == 0:\n",
    "        res = requests.get('https://davelee-fun.github.io/')\n",
    "    else : \n",
    "        res =  requests.get('https://davelee-fun.github.io/page' + str(page_num+1)) # page숫자를 url에 붙인다.\n",
    "    \n",
    "    \n",
    "    data = BeautifulSoup(res.content,'html.parser')\n",
    "\n",
    "    data_detail = data.select('h4.card-text')\n",
    "    for item in data_detail:\n",
    "        print(item.get_text().strip())\n",
    "    "
   ]
  },
  {
   "cell_type": "code",
   "execution_count": 2,
   "id": "502e300a-419d-4555-8f33-9e76df5ea997",
   "metadata": {},
   "outputs": [
    {
     "name": "stdout",
     "output_type": "stream",
     "text": [
      "Collecting openpyxl\n",
      "  Downloading openpyxl-3.1.5-py2.py3-none-any.whl.metadata (2.5 kB)\n",
      "Collecting et-xmlfile (from openpyxl)\n",
      "  Downloading et_xmlfile-1.1.0-py3-none-any.whl.metadata (1.8 kB)\n",
      "Downloading openpyxl-3.1.5-py2.py3-none-any.whl (250 kB)\n",
      "Downloading et_xmlfile-1.1.0-py3-none-any.whl (4.7 kB)\n",
      "Installing collected packages: et-xmlfile, openpyxl\n",
      "Successfully installed et-xmlfile-1.1.0 openpyxl-3.1.5\n"
     ]
    }
   ],
   "source": [
    "\n",
    "## 크롤링 해서 액셀 파일로 만들기 \n",
    "\n",
    "!pip install openpyxl"
   ]
  },
  {
   "cell_type": "code",
   "execution_count": 4,
   "id": "83b6ff9b-64c2-4f7b-a1c7-e4ef5abc1431",
   "metadata": {},
   "outputs": [],
   "source": []
  },
  {
   "cell_type": "code",
   "execution_count": null,
   "id": "8739c4a8-7d4d-4ebc-bdd1-50a0fe33c645",
   "metadata": {},
   "outputs": [],
   "source": []
  }
 ],
 "metadata": {
  "kernelspec": {
   "display_name": "Python 3 (ipykernel)",
   "language": "python",
   "name": "python3"
  },
  "language_info": {
   "codemirror_mode": {
    "name": "ipython",
    "version": 3
   },
   "file_extension": ".py",
   "mimetype": "text/x-python",
   "name": "python",
   "nbconvert_exporter": "python",
   "pygments_lexer": "ipython3",
   "version": "3.10.9"
  }
 },
 "nbformat": 4,
 "nbformat_minor": 5
}
